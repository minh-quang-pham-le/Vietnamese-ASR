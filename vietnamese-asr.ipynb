{
 "cells": [
  {
   "cell_type": "code",
   "execution_count": 1,
   "id": "af90f47c",
   "metadata": {
    "execution": {
     "iopub.execute_input": "2025-06-01T07:57:51.450104Z",
     "iopub.status.busy": "2025-06-01T07:57:51.449845Z",
     "iopub.status.idle": "2025-06-01T08:01:57.833363Z",
     "shell.execute_reply": "2025-06-01T08:01:57.832313Z"
    },
    "papermill": {
     "duration": 246.39166,
     "end_time": "2025-06-01T08:01:57.835018",
     "exception": false,
     "start_time": "2025-06-01T07:57:51.443358",
     "status": "completed"
    },
    "tags": []
   },
   "outputs": [
    {
     "name": "stdout",
     "output_type": "stream",
     "text": [
      "\u001b[2K     \u001b[90m━━━━━━━━━━━━━━━━━━━━━━━━━━━━━━━━━━━━━━━━\u001b[0m \u001b[32m138.0/138.0 kB\u001b[0m \u001b[31m3.6 MB/s\u001b[0m eta \u001b[36m0:00:00\u001b[0m\r\n",
      "\u001b[2K   \u001b[90m━━━━━━━━━━━━━━━━━━━━━━━━━━━━━━━━━━━━━━━━\u001b[0m \u001b[32m9.0/9.0 MB\u001b[0m \u001b[31m77.4 MB/s\u001b[0m eta \u001b[36m0:00:00\u001b[0m\r\n",
      "\u001b[2K   \u001b[90m━━━━━━━━━━━━━━━━━━━━━━━━━━━━━━━━━━━━━━━━\u001b[0m \u001b[32m542.0/542.0 kB\u001b[0m \u001b[31m17.0 MB/s\u001b[0m eta \u001b[36m0:00:00\u001b[0m\r\n",
      "\u001b[2K   \u001b[90m━━━━━━━━━━━━━━━━━━━━━━━━━━━━━━━━━━━━━━━━\u001b[0m \u001b[32m3.3/3.3 MB\u001b[0m \u001b[31m79.8 MB/s\u001b[0m eta \u001b[36m0:00:00\u001b[0m\r\n",
      "\u001b[2K   \u001b[90m━━━━━━━━━━━━━━━━━━━━━━━━━━━━━━━━━━━━━━━━\u001b[0m \u001b[32m253.7/253.7 kB\u001b[0m \u001b[31m10.4 MB/s\u001b[0m eta \u001b[36m0:00:00\u001b[0m\r\n",
      "\u001b[2K   \u001b[90m━━━━━━━━━━━━━━━━━━━━━━━━━━━━━━━━━━━━━━━━\u001b[0m \u001b[32m1.2/1.2 MB\u001b[0m \u001b[31m51.5 MB/s\u001b[0m eta \u001b[36m0:00:00\u001b[0m\r\n",
      "\u001b[2K   \u001b[90m━━━━━━━━━━━━━━━━━━━━━━━━━━━━━━━━━━━━━━━━\u001b[0m \u001b[32m12.1/12.1 MB\u001b[0m \u001b[31m98.7 MB/s\u001b[0m eta \u001b[36m0:00:00\u001b[0m\r\n",
      "\u001b[2K   \u001b[90m━━━━━━━━━━━━━━━━━━━━━━━━━━━━━━━━━━━━━━━━\u001b[0m \u001b[32m13.0/13.0 MB\u001b[0m \u001b[31m99.7 MB/s\u001b[0m eta \u001b[36m0:00:00\u001b[0m\r\n",
      "\u001b[2K   \u001b[90m━━━━━━━━━━━━━━━━━━━━━━━━━━━━━━━━━━━━━━━━\u001b[0m \u001b[32m199.1/199.1 kB\u001b[0m \u001b[31m7.4 MB/s\u001b[0m eta \u001b[36m0:00:00\u001b[0m\r\n",
      "\u001b[2K   \u001b[90m━━━━━━━━━━━━━━━━━━━━━━━━━━━━━━━━━━━━━━━━\u001b[0m \u001b[32m755.6/755.6 MB\u001b[0m \u001b[31m2.2 MB/s\u001b[0m eta \u001b[36m0:00:00\u001b[0m\r\n",
      "\u001b[2K   \u001b[90m━━━━━━━━━━━━━━━━━━━━━━━━━━━━━━━━━━━━━━━━\u001b[0m \u001b[32m410.6/410.6 MB\u001b[0m \u001b[31m4.1 MB/s\u001b[0m eta \u001b[36m0:00:00\u001b[0m\r\n",
      "\u001b[2K   \u001b[90m━━━━━━━━━━━━━━━━━━━━━━━━━━━━━━━━━━━━━━━━\u001b[0m \u001b[32m14.1/14.1 MB\u001b[0m \u001b[31m95.7 MB/s\u001b[0m eta \u001b[36m0:00:00\u001b[0m\r\n",
      "\u001b[2K   \u001b[90m━━━━━━━━━━━━━━━━━━━━━━━━━━━━━━━━━━━━━━━━\u001b[0m \u001b[32m23.7/23.7 MB\u001b[0m \u001b[31m20.3 MB/s\u001b[0m eta \u001b[36m0:00:00\u001b[0m\r\n",
      "\u001b[2K   \u001b[90m━━━━━━━━━━━━━━━━━━━━━━━━━━━━━━━━━━━━━━━━\u001b[0m \u001b[32m823.6/823.6 kB\u001b[0m \u001b[31m960.3 kB/s\u001b[0m eta \u001b[36m0:00:00\u001b[0m\r\n",
      "\u001b[2K   \u001b[90m━━━━━━━━━━━━━━━━━━━━━━━━━━━━━━━━━━━━━━━━\u001b[0m \u001b[32m731.7/731.7 MB\u001b[0m \u001b[31m1.5 MB/s\u001b[0m eta \u001b[36m0:00:00\u001b[0m\r\n",
      "\u001b[2K   \u001b[90m━━━━━━━━━━━━━━━━━━━━━━━━━━━━━━━━━━━━━━━━\u001b[0m \u001b[32m121.6/121.6 MB\u001b[0m \u001b[31m13.9 MB/s\u001b[0m eta \u001b[36m0:00:00\u001b[0m\r\n",
      "\u001b[2K   \u001b[90m━━━━━━━━━━━━━━━━━━━━━━━━━━━━━━━━━━━━━━━━\u001b[0m \u001b[32m56.5/56.5 MB\u001b[0m \u001b[31m3.2 MB/s\u001b[0m eta \u001b[36m0:00:00\u001b[0m\r\n",
      "\u001b[2K   \u001b[90m━━━━━━━━━━━━━━━━━━━━━━━━━━━━━━━━━━━━━━━━\u001b[0m \u001b[32m124.2/124.2 MB\u001b[0m \u001b[31m4.8 MB/s\u001b[0m eta \u001b[36m0:00:00\u001b[0m\r\n",
      "\u001b[2K   \u001b[90m━━━━━━━━━━━━━━━━━━━━━━━━━━━━━━━━━━━━━━━━\u001b[0m \u001b[32m196.0/196.0 MB\u001b[0m \u001b[31m8.7 MB/s\u001b[0m eta \u001b[36m0:00:00\u001b[0m\r\n",
      "\u001b[2K   \u001b[90m━━━━━━━━━━━━━━━━━━━━━━━━━━━━━━━━━━━━━━━━\u001b[0m \u001b[32m166.0/166.0 MB\u001b[0m \u001b[31m10.1 MB/s\u001b[0m eta \u001b[36m0:00:00\u001b[0m\r\n",
      "\u001b[2K   \u001b[90m━━━━━━━━━━━━━━━━━━━━━━━━━━━━━━━━━━━━━━━━\u001b[0m \u001b[32m99.1/99.1 kB\u001b[0m \u001b[31m5.9 MB/s\u001b[0m eta \u001b[36m0:00:00\u001b[0m\r\n",
      "\u001b[2K   \u001b[90m━━━━━━━━━━━━━━━━━━━━━━━━━━━━━━━━━━━━━━━━\u001b[0m \u001b[32m167.9/167.9 MB\u001b[0m \u001b[31m10.1 MB/s\u001b[0m eta \u001b[36m0:00:00\u001b[0m\r\n",
      "\u001b[2K   \u001b[90m━━━━━━━━━━━━━━━━━━━━━━━━━━━━━━━━━━━━━━━━\u001b[0m \u001b[32m84.0/84.0 kB\u001b[0m \u001b[31m4.4 MB/s\u001b[0m eta \u001b[36m0:00:00\u001b[0m\r\n",
      "\u001b[2K   \u001b[90m━━━━━━━━━━━━━━━━━━━━━━━━━━━━━━━━━━━━━━━━\u001b[0m \u001b[32m172.0/172.0 kB\u001b[0m \u001b[31m9.6 MB/s\u001b[0m eta \u001b[36m0:00:00\u001b[0m\r\n",
      "\u001b[2K   \u001b[90m━━━━━━━━━━━━━━━━━━━━━━━━━━━━━━━━━━━━━━━━\u001b[0m \u001b[32m3.1/3.1 MB\u001b[0m \u001b[31m72.9 MB/s\u001b[0m eta \u001b[36m0:00:00\u001b[0m\r\n",
      "\u001b[2K   \u001b[90m━━━━━━━━━━━━━━━━━━━━━━━━━━━━━━━━━━━━━━━━\u001b[0m \u001b[32m3.6/3.6 MB\u001b[0m \u001b[31m86.4 MB/s\u001b[0m eta \u001b[36m0:00:00\u001b[0m\r\n",
      "\u001b[?25h\u001b[31mERROR: pip's dependency resolver does not currently take into account all the packages that are installed. This behaviour is the source of the following dependency conflicts.\r\n",
      "cesium 0.12.4 requires numpy<3.0,>=2.0, but you have numpy 1.26.4 which is incompatible.\r\n",
      "google-colab 1.0.0 requires google-auth==2.38.0, but you have google-auth 2.40.1 which is incompatible.\r\n",
      "google-colab 1.0.0 requires notebook==6.5.7, but you have notebook 6.5.4 which is incompatible.\r\n",
      "dopamine-rl 4.1.2 requires gymnasium>=1.0.0, but you have gymnasium 0.29.0 which is incompatible.\r\n",
      "sentence-transformers 3.4.1 requires transformers<5.0.0,>=4.41.0, but you have transformers 4.40.1 which is incompatible.\r\n",
      "bigframes 1.42.0 requires rich<14,>=12.4.4, but you have rich 14.0.0 which is incompatible.\r\n",
      "torchvision 0.21.0+cu124 requires torch==2.6.0, but you have torch 2.2.2 which is incompatible.\r\n",
      "gcsfs 2025.3.2 requires fsspec==2025.3.2, but you have fsspec 2024.3.1 which is incompatible.\r\n",
      "plotnine 0.14.5 requires matplotlib>=3.8.0, but you have matplotlib 3.7.2 which is incompatible.\r\n",
      "pandas-gbq 0.28.0 requires google-api-core<3.0.0dev,>=2.10.2, but you have google-api-core 1.34.1 which is incompatible.\u001b[0m\u001b[31m\r\n",
      "\u001b[0m"
     ]
    }
   ],
   "source": [
    "# Setup\n",
    "!pip install -q \\\n",
    "transformers==4.40.1 \\\n",
    "datasets==2.19.1 \\\n",
    "torchaudio==2.2.2 \\\n",
    "librosa==0.10.1 \\\n",
    "soundfile==0.12.1 \\\n",
    "scikit-learn==1.4.2 \\\n",
    "pandas==2.2.2 \\\n",
    "numpy==1.26.4 \\\n",
    "peft==0.10.0 \\\n",
    "evaluate \\\n",
    "jiwer"
   ]
  },
  {
   "cell_type": "code",
   "execution_count": 2,
   "id": "b41fa6fb",
   "metadata": {
    "execution": {
     "iopub.execute_input": "2025-06-01T08:01:57.910001Z",
     "iopub.status.busy": "2025-06-01T08:01:57.908991Z",
     "iopub.status.idle": "2025-06-01T08:02:00.321518Z",
     "shell.execute_reply": "2025-06-01T08:02:00.320774Z"
    },
    "papermill": {
     "duration": 2.451131,
     "end_time": "2025-06-01T08:02:00.322882",
     "exception": false,
     "start_time": "2025-06-01T08:01:57.871751",
     "status": "completed"
    },
    "tags": []
   },
   "outputs": [
    {
     "name": "stdout",
     "output_type": "stream",
     "text": [
      "Found existing installation: torchao 0.10.0\r\n",
      "Uninstalling torchao-0.10.0:\r\n",
      "  Successfully uninstalled torchao-0.10.0\r\n"
     ]
    }
   ],
   "source": [
    "!pip uninstall -y torchao"
   ]
  },
  {
   "cell_type": "code",
   "execution_count": 3,
   "id": "323561ea",
   "metadata": {
    "execution": {
     "iopub.execute_input": "2025-06-01T08:02:00.443486Z",
     "iopub.status.busy": "2025-06-01T08:02:00.442627Z",
     "iopub.status.idle": "2025-06-01T08:02:21.106725Z",
     "shell.execute_reply": "2025-06-01T08:02:21.105926Z"
    },
    "papermill": {
     "duration": 20.747624,
     "end_time": "2025-06-01T08:02:21.108516",
     "exception": false,
     "start_time": "2025-06-01T08:02:00.360892",
     "status": "completed"
    },
    "tags": []
   },
   "outputs": [
    {
     "name": "stdout",
     "output_type": "stream",
     "text": [
      "W: Skipping acquire of configured file 'main/source/Sources' as repository 'https://r2u.stat.illinois.edu/ubuntu jammy InRelease' does not seem to provide it (sources.list entry misspelt?)\r\n",
      "Selecting previously unselected package libao-common.\r\n",
      "(Reading database ... 129184 files and directories currently installed.)\r\n",
      "Preparing to unpack .../00-libao-common_1.2.2+20180113-1.1ubuntu3_all.deb ...\r\n",
      "Unpacking libao-common (1.2.2+20180113-1.1ubuntu3) ...\r\n",
      "Selecting previously unselected package libao4:amd64.\r\n",
      "Preparing to unpack .../01-libao4_1.2.2+20180113-1.1ubuntu3_amd64.deb ...\r\n",
      "Unpacking libao4:amd64 (1.2.2+20180113-1.1ubuntu3) ...\r\n",
      "Selecting previously unselected package libid3tag0:amd64.\r\n",
      "Preparing to unpack .../02-libid3tag0_0.15.1b-14_amd64.deb ...\r\n",
      "Unpacking libid3tag0:amd64 (0.15.1b-14) ...\r\n",
      "Selecting previously unselected package libmad0:amd64.\r\n",
      "Preparing to unpack .../03-libmad0_0.15.1b-10ubuntu1_amd64.deb ...\r\n",
      "Unpacking libmad0:amd64 (0.15.1b-10ubuntu1) ...\r\n",
      "Selecting previously unselected package libopencore-amrnb0:amd64.\r\n",
      "Preparing to unpack .../04-libopencore-amrnb0_0.1.5-1_amd64.deb ...\r\n",
      "Unpacking libopencore-amrnb0:amd64 (0.1.5-1) ...\r\n",
      "Selecting previously unselected package libopencore-amrwb0:amd64.\r\n",
      "Preparing to unpack .../05-libopencore-amrwb0_0.1.5-1_amd64.deb ...\r\n",
      "Unpacking libopencore-amrwb0:amd64 (0.1.5-1) ...\r\n",
      "Selecting previously unselected package libsox3:amd64.\r\n",
      "Preparing to unpack .../06-libsox3_14.4.2+git20190427-2+deb11u2ubuntu0.22.04.1_amd64.deb ...\r\n",
      "Unpacking libsox3:amd64 (14.4.2+git20190427-2+deb11u2ubuntu0.22.04.1) ...\r\n",
      "Selecting previously unselected package libsox-fmt-alsa:amd64.\r\n",
      "Preparing to unpack .../07-libsox-fmt-alsa_14.4.2+git20190427-2+deb11u2ubuntu0.22.04.1_amd64.deb ...\r\n",
      "Unpacking libsox-fmt-alsa:amd64 (14.4.2+git20190427-2+deb11u2ubuntu0.22.04.1) ...\r\n",
      "Selecting previously unselected package libsox-fmt-ao:amd64.\r\n",
      "Preparing to unpack .../08-libsox-fmt-ao_14.4.2+git20190427-2+deb11u2ubuntu0.22.04.1_amd64.deb ...\r\n",
      "Unpacking libsox-fmt-ao:amd64 (14.4.2+git20190427-2+deb11u2ubuntu0.22.04.1) ...\r\n",
      "Selecting previously unselected package libwavpack1:amd64.\r\n",
      "Preparing to unpack .../09-libwavpack1_5.4.0-1build2_amd64.deb ...\r\n",
      "Unpacking libwavpack1:amd64 (5.4.0-1build2) ...\r\n",
      "Selecting previously unselected package libsox-fmt-base:amd64.\r\n",
      "Preparing to unpack .../10-libsox-fmt-base_14.4.2+git20190427-2+deb11u2ubuntu0.22.04.1_amd64.deb ...\r\n",
      "Unpacking libsox-fmt-base:amd64 (14.4.2+git20190427-2+deb11u2ubuntu0.22.04.1) ...\r\n",
      "Selecting previously unselected package libsox-fmt-mp3:amd64.\r\n",
      "Preparing to unpack .../11-libsox-fmt-mp3_14.4.2+git20190427-2+deb11u2ubuntu0.22.04.1_amd64.deb ...\r\n",
      "Unpacking libsox-fmt-mp3:amd64 (14.4.2+git20190427-2+deb11u2ubuntu0.22.04.1) ...\r\n",
      "Selecting previously unselected package libsox-fmt-oss:amd64.\r\n",
      "Preparing to unpack .../12-libsox-fmt-oss_14.4.2+git20190427-2+deb11u2ubuntu0.22.04.1_amd64.deb ...\r\n",
      "Unpacking libsox-fmt-oss:amd64 (14.4.2+git20190427-2+deb11u2ubuntu0.22.04.1) ...\r\n",
      "Selecting previously unselected package libsox-fmt-pulse:amd64.\r\n",
      "Preparing to unpack .../13-libsox-fmt-pulse_14.4.2+git20190427-2+deb11u2ubuntu0.22.04.1_amd64.deb ...\r\n",
      "Unpacking libsox-fmt-pulse:amd64 (14.4.2+git20190427-2+deb11u2ubuntu0.22.04.1) ...\r\n",
      "Selecting previously unselected package libsox-fmt-all:amd64.\r\n",
      "Preparing to unpack .../14-libsox-fmt-all_14.4.2+git20190427-2+deb11u2ubuntu0.22.04.1_amd64.deb ...\r\n",
      "Unpacking libsox-fmt-all:amd64 (14.4.2+git20190427-2+deb11u2ubuntu0.22.04.1) ...\r\n",
      "Selecting previously unselected package libsox-dev:amd64.\r\n",
      "Preparing to unpack .../15-libsox-dev_14.4.2+git20190427-2+deb11u2ubuntu0.22.04.1_amd64.deb ...\r\n",
      "Unpacking libsox-dev:amd64 (14.4.2+git20190427-2+deb11u2ubuntu0.22.04.1) ...\r\n",
      "Selecting previously unselected package sox.\r\n",
      "Preparing to unpack .../16-sox_14.4.2+git20190427-2+deb11u2ubuntu0.22.04.1_amd64.deb ...\r\n",
      "Unpacking sox (14.4.2+git20190427-2+deb11u2ubuntu0.22.04.1) ...\r\n",
      "Setting up libsox3:amd64 (14.4.2+git20190427-2+deb11u2ubuntu0.22.04.1) ...\r\n",
      "Setting up libsox-fmt-oss:amd64 (14.4.2+git20190427-2+deb11u2ubuntu0.22.04.1) ...\r\n",
      "Setting up libao-common (1.2.2+20180113-1.1ubuntu3) ...\r\n",
      "Setting up libid3tag0:amd64 (0.15.1b-14) ...\r\n",
      "Setting up libopencore-amrwb0:amd64 (0.1.5-1) ...\r\n",
      "Setting up libsox-fmt-alsa:amd64 (14.4.2+git20190427-2+deb11u2ubuntu0.22.04.1) ...\r\n",
      "Setting up libao4:amd64 (1.2.2+20180113-1.1ubuntu3) ...\r\n",
      "Setting up libmad0:amd64 (0.15.1b-10ubuntu1) ...\r\n",
      "Setting up libwavpack1:amd64 (5.4.0-1build2) ...\r\n",
      "Setting up libopencore-amrnb0:amd64 (0.1.5-1) ...\r\n",
      "Setting up libsox-fmt-base:amd64 (14.4.2+git20190427-2+deb11u2ubuntu0.22.04.1) ...\r\n",
      "Setting up libsox-fmt-ao:amd64 (14.4.2+git20190427-2+deb11u2ubuntu0.22.04.1) ...\r\n",
      "Setting up libsox-fmt-mp3:amd64 (14.4.2+git20190427-2+deb11u2ubuntu0.22.04.1) ...\r\n",
      "Setting up libsox-fmt-pulse:amd64 (14.4.2+git20190427-2+deb11u2ubuntu0.22.04.1) ...\r\n",
      "Setting up sox (14.4.2+git20190427-2+deb11u2ubuntu0.22.04.1) ...\r\n",
      "Setting up libsox-fmt-all:amd64 (14.4.2+git20190427-2+deb11u2ubuntu0.22.04.1) ...\r\n",
      "Setting up libsox-dev:amd64 (14.4.2+git20190427-2+deb11u2ubuntu0.22.04.1) ...\r\n",
      "Processing triggers for libc-bin (2.35-0ubuntu3.8) ...\r\n",
      "/sbin/ldconfig.real: /usr/local/lib/libumf.so.0 is not a symbolic link\r\n",
      "\r\n",
      "/sbin/ldconfig.real: /usr/local/lib/libtcm.so.1 is not a symbolic link\r\n",
      "\r\n",
      "/sbin/ldconfig.real: /usr/local/lib/libtcm_debug.so.1 is not a symbolic link\r\n",
      "\r\n",
      "/sbin/ldconfig.real: /usr/local/lib/libhwloc.so.15 is not a symbolic link\r\n",
      "\r\n",
      "/sbin/ldconfig.real: /usr/local/lib/libur_loader.so.0 is not a symbolic link\r\n",
      "\r\n",
      "/sbin/ldconfig.real: /usr/local/lib/libur_adapter_level_zero.so.0 is not a symbolic link\r\n",
      "\r\n",
      "/sbin/ldconfig.real: /usr/local/lib/libur_adapter_opencl.so.0 is not a symbolic link\r\n",
      "\r\n",
      "/sbin/ldconfig.real: /usr/local/lib/libtbbbind_2_5.so.3 is not a symbolic link\r\n",
      "\r\n",
      "/sbin/ldconfig.real: /usr/local/lib/libtbbbind.so.3 is not a symbolic link\r\n",
      "\r\n",
      "/sbin/ldconfig.real: /usr/local/lib/libtbbbind_2_0.so.3 is not a symbolic link\r\n",
      "\r\n",
      "/sbin/ldconfig.real: /usr/local/lib/libtbb.so.12 is not a symbolic link\r\n",
      "\r\n",
      "/sbin/ldconfig.real: /usr/local/lib/libtbbmalloc_proxy.so.2 is not a symbolic link\r\n",
      "\r\n",
      "/sbin/ldconfig.real: /usr/local/lib/libtbbmalloc.so.2 is not a symbolic link\r\n",
      "\r\n",
      "Processing triggers for man-db (2.10.2-1) ...\r\n",
      "Processing triggers for mailcap (3.70+nmu1ubuntu1) ...\r\n"
     ]
    }
   ],
   "source": [
    "!apt-get update -qq > /dev/null && apt-get install -y -qq sox libsox-dev libsox-fmt-all"
   ]
  },
  {
   "cell_type": "code",
   "execution_count": 4,
   "id": "a6da17d2",
   "metadata": {
    "execution": {
     "iopub.execute_input": "2025-06-01T08:02:21.185399Z",
     "iopub.status.busy": "2025-06-01T08:02:21.185148Z",
     "iopub.status.idle": "2025-06-01T08:02:21.190451Z",
     "shell.execute_reply": "2025-06-01T08:02:21.189757Z"
    },
    "papermill": {
     "duration": 0.044515,
     "end_time": "2025-06-01T08:02:21.191526",
     "exception": false,
     "start_time": "2025-06-01T08:02:21.147011",
     "status": "completed"
    },
    "tags": []
   },
   "outputs": [],
   "source": [
    "# Display audio\n",
    "from IPython import display\n",
    "\n",
    "def listen_to_sample(dataset, index=0):\n",
    "    sample = dataset[index]\n",
    "    print(f\"Path: {sample['audio']['path']}\")\n",
    "    print(f\"Transcription: {sample['sentence']}\")\n",
    "    display.display(display.Audio(sample['audio']['array'], rate=sample['audio']['sampling_rate']))\n",
    "\n",
    "def play_audio(file_path: str):\n",
    "    try:\n",
    "        display.display(display.Audio(file_path))\n",
    "    except Exception as e:\n",
    "        print(f\"Không thể phát audio: {e}\")"
   ]
  },
  {
   "cell_type": "code",
   "execution_count": 5,
   "id": "7c188bd5",
   "metadata": {
    "execution": {
     "iopub.execute_input": "2025-06-01T08:02:21.265828Z",
     "iopub.status.busy": "2025-06-01T08:02:21.265610Z",
     "iopub.status.idle": "2025-06-01T08:02:21.270059Z",
     "shell.execute_reply": "2025-06-01T08:02:21.269553Z"
    },
    "papermill": {
     "duration": 0.042926,
     "end_time": "2025-06-01T08:02:21.271057",
     "exception": false,
     "start_time": "2025-06-01T08:02:21.228131",
     "status": "completed"
    },
    "tags": []
   },
   "outputs": [],
   "source": [
    "# Normalize transcription\n",
    "import re\n",
    "def normalize_text(text):\n",
    "    # All valid vietnamese tokens (excluding <pad>, <unk>)\n",
    "    valid_chars = set(\n",
    "        \"abcdefghijklmnopqrstuvwxyz\"\n",
    "        \"àáâãèéêìíòóôõùúý\"\n",
    "        \"ăđĩũơư\"\n",
    "        \"ạảấầẩẫậ\"\n",
    "        \"ắằẳẵặ\"\n",
    "        \"ẹẻẽếềểễệ\"\n",
    "        \"ỉịọỏốồổỗộ\"\n",
    "        \"ớờởỡợ\"\n",
    "        \"ụủứừửữự\"\n",
    "        \"ỳỵỷỹ\"\n",
    "        \" \"\n",
    "    )\n",
    "\n",
    "    text = text.lower()\n",
    "    text = re.sub(r\"[0-9]\", \"\", text)\n",
    "    text = re.sub(r\"[^\\w\\s]|_\", \" \", text)  # remove punctuation, keep spaces\n",
    "    text = re.sub(r\"\\s+\", \" \", text).strip()\n",
    "    text = \"\".join([ch for ch in text if ch in valid_chars])\n",
    "    return text"
   ]
  },
  {
   "cell_type": "code",
   "execution_count": 6,
   "id": "a07558e9",
   "metadata": {
    "execution": {
     "iopub.execute_input": "2025-06-01T08:02:21.346406Z",
     "iopub.status.busy": "2025-06-01T08:02:21.346213Z",
     "iopub.status.idle": "2025-06-01T08:02:21.350308Z",
     "shell.execute_reply": "2025-06-01T08:02:21.349607Z"
    },
    "papermill": {
     "duration": 0.042868,
     "end_time": "2025-06-01T08:02:21.351350",
     "exception": false,
     "start_time": "2025-06-01T08:02:21.308482",
     "status": "completed"
    },
    "tags": []
   },
   "outputs": [
    {
     "name": "stdout",
     "output_type": "stream",
     "text": [
      "Before: KHÁCH SẠN 123!!! Đà Lạt có mưa ☔\n",
      "After: khách sạn đà lạt có mưa\n"
     ]
    }
   ],
   "source": [
    "sample = \"KHÁCH SẠN 123!!! Đà Lạt có mưa ☔\"\n",
    "print(\"Before:\", sample)\n",
    "print(\"After:\", normalize_text(sample))"
   ]
  },
  {
   "cell_type": "code",
   "execution_count": 7,
   "id": "d2ad3deb",
   "metadata": {
    "execution": {
     "iopub.execute_input": "2025-06-01T08:02:21.485614Z",
     "iopub.status.busy": "2025-06-01T08:02:21.485352Z",
     "iopub.status.idle": "2025-06-01T08:02:21.490461Z",
     "shell.execute_reply": "2025-06-01T08:02:21.489573Z"
    },
    "papermill": {
     "duration": 0.102334,
     "end_time": "2025-06-01T08:02:21.492278",
     "exception": false,
     "start_time": "2025-06-01T08:02:21.389944",
     "status": "completed"
    },
    "tags": []
   },
   "outputs": [],
   "source": [
    "# Đường dẫn đầu vào trên Kaggle\n",
    "VIVOS_ROOT = '/kaggle/input/vivos-vietnamese/vivos'\n",
    "CV_ROOT    = '/kaggle/input/common-voice-vi-21/vi'\n",
    "NOISE_ROOT = '/kaggle/input/musan-noise/musan/noise'"
   ]
  },
  {
   "cell_type": "code",
   "execution_count": 8,
   "id": "c8ee89b1",
   "metadata": {
    "execution": {
     "iopub.execute_input": "2025-06-01T08:02:21.591914Z",
     "iopub.status.busy": "2025-06-01T08:02:21.591631Z",
     "iopub.status.idle": "2025-06-01T08:02:23.355690Z",
     "shell.execute_reply": "2025-06-01T08:02:23.354935Z"
    },
    "papermill": {
     "duration": 1.807921,
     "end_time": "2025-06-01T08:02:23.357194",
     "exception": false,
     "start_time": "2025-06-01T08:02:21.549273",
     "status": "completed"
    },
    "tags": []
   },
   "outputs": [],
   "source": [
    "# Load vivos\n",
    "import os\n",
    "from datasets import Dataset\n",
    "\n",
    "def load_vivos_dataset(vivos_root):\n",
    "    prompts_path = os.path.join(vivos_root, \"train\", \"prompts.txt\")\n",
    "    waves_root = os.path.join(vivos_root, \"train\", \"waves\")\n",
    "    \n",
    "    id2text = {}\n",
    "    with open(prompts_path, \"r\", encoding=\"utf-8\") as f:\n",
    "        for line in f:\n",
    "            audio_id, text = line.strip().split(maxsplit=1)\n",
    "            id2text[audio_id] = text\n",
    "\n",
    "    data = []\n",
    "    for spk in os.listdir(waves_root):\n",
    "        spk_dir = os.path.join(waves_root, spk)\n",
    "        for f in os.listdir(spk_dir):\n",
    "            audio_id = f.replace(\".wav\", \"\")\n",
    "            if audio_id in id2text:\n",
    "                data.append({\n",
    "                    \"audio\": os.path.join(spk_dir, f),\n",
    "                    \"sentence\": normalize_text(id2text[audio_id])\n",
    "                })\n",
    "    return Dataset.from_list(data)"
   ]
  },
  {
   "cell_type": "code",
   "execution_count": 9,
   "id": "624284f0",
   "metadata": {
    "execution": {
     "iopub.execute_input": "2025-06-01T08:02:23.436518Z",
     "iopub.status.busy": "2025-06-01T08:02:23.436180Z",
     "iopub.status.idle": "2025-06-01T08:02:24.437506Z",
     "shell.execute_reply": "2025-06-01T08:02:24.436666Z"
    },
    "papermill": {
     "duration": 1.042038,
     "end_time": "2025-06-01T08:02:24.438582",
     "exception": false,
     "start_time": "2025-06-01T08:02:23.396544",
     "status": "completed"
    },
    "tags": []
   },
   "outputs": [
    {
     "name": "stdout",
     "output_type": "stream",
     "text": [
      "Dataset({\n",
      "    features: ['audio', 'sentence'],\n",
      "    num_rows: 11660\n",
      "})\n",
      "{'audio': '/kaggle/input/vivos-vietnamese/vivos/train/waves/VIVOSSPK36/VIVOSSPK36_218.wav', 'sentence': 'hãy chọn phản ứng hóm hỉnh để chứng tỏ rằng bạn không bị lừa mà không làm căng thẳng tình hình'}\n"
     ]
    }
   ],
   "source": [
    "vivos_dataset = load_vivos_dataset(VIVOS_ROOT)\n",
    "print(vivos_dataset)\n",
    "print(vivos_dataset[0])"
   ]
  },
  {
   "cell_type": "code",
   "execution_count": 10,
   "id": "3d6ee6c6",
   "metadata": {
    "execution": {
     "iopub.execute_input": "2025-06-01T08:02:24.515251Z",
     "iopub.status.busy": "2025-06-01T08:02:24.514629Z",
     "iopub.status.idle": "2025-06-01T08:02:24.536614Z",
     "shell.execute_reply": "2025-06-01T08:02:24.536031Z"
    },
    "papermill": {
     "duration": 0.063044,
     "end_time": "2025-06-01T08:02:24.539664",
     "exception": false,
     "start_time": "2025-06-01T08:02:24.476620",
     "status": "completed"
    },
    "tags": []
   },
   "outputs": [
    {
     "data": {
      "text/html": [
       "\n",
       "                <audio  controls=\"controls\" >\n",
       "                    <source src=\"data:audio/x-wav;base64,UklGRgB9AgBXQVZFZm10IBIAAAABAAEAgD4AAAB9AAACABAAAABMSVNUGgAAAElORk9JU0ZUDgAAAExhdmY1NC42My4xMDQAZGF0Ybh8AgAAAAAAAAAAAAAAAAACAAcAEwAWABUAFAAUAA0ADAD//wAACQAHAAwACwARACAAHAAQAAkABQAHAAoABgD+/wUADAAHAAIACAANABUAGgAOAA0ACgALAAwADgATABoAHgAYABsAHgAZABQAEwARABoAGQAZAB4AJAAnACgAJgAiACoAJAAcABYAGQAYABIAAAD0//L/6//u/+//+//8//X/9P/4//r/DgASABQAFQAVABIABgAVABUAEwASAAwACwAMAAkABgAKAA4AEQAOABAAFAAOABMAFQAOAA4ADAABAPz/+v8DAAQAAQAKAAMA/f/5//r/AQD8//z/AQACAP3/+P/t//3/BQAPACEAGgAaAB0AGgAeACAAFQASABoAGgAdACIAIQAWAAsABAD9/wEACgATABcADwAEAAoADgAFAAEA/v/6//T/+v8DAA8AAwD+/wAABAD6/+3/9v/z/+f/6f/7/wgACQAJAAkADwAcABgADgASAB4AMwA4ADEALAAoACIAEwAJABMAAgD9/wAA+v8BAAUACAAEAAUABwADABQAHAAbABAADAAKAAQAAAD5/wQACwAGAAwAEQAQAP//7//p/+T/6P/p/+3/9P/y//X/7//z/+3/6v/q//P/8v/w/+j/3f/i/+H/2//S/8n/w//C/8X/yf/R/93/3//f/9//5v/z//7/AwAEAAMABQAJAAMA+P8EAAcACQANAAQA+f/1//r/AgAAAAMABQACAAgABwAOABIADwALAAMAAwAGAAMA//8FAAIA+//7//f//P8BAAEA//8IAA8ACwAEAPn/+P/6//r/7v/s//X//v8CAAMA///3//T/6v/q/+3/6//s/+n/4v/d/9//2v/a/9f/1v/Z/9X/2v/X/9j/3f/Y/9P/z//W/9H/xP+7/8T/1v/f/+T/6v/f/97/4v/o/+//7v/v/+7/9P/4//z////4/+z/6f/v//v/AwAJAAEAAQAGAAsADwANAAYABwADAP7//P/8//L/8//y//j//P/5//r/+v8AAAIADgAMAAcA9//0//X/8f/w/+r/5P/t//f//f8FAAYA+//8/wEABAAKAAwACwAHAAcAAQAHAP7/8f/x//X/7v/n//P/8v/u//L/9f/4//X/8P/r/+3/8//2//j/9v/5//r///////f/7v/n/+r/7P/z//X/9//3//D/8v/4//3/BAD//wIA//8FAAoADAAUABAADQAVAB0AHgAdACMAIAAfAB4AGQAUABYAFAAMAAQABwAGAAgADgAKAAsAAgAFAAcABAAFAAwADQAPAAAA9v/t/+X/5P/i/+H/3//Z/9n/3v/l/+X/7v/z//7//P/+//n/8v/4//r/AAAGAAgABwAFAAYACgAGAP//AAAGAAAA+/8AAAUACQAIAAgAEQAYABwAFAAVABcAFQAPABIAGQAUABYADQATABoAGAAaABIA///8//3//v8BAPv//P8BAAgABgAJAAIA/P///wMAAwAFAPz/9v/z//D/7f/j/9j/2P/a/+H/4f/m/+j/7f/q/+n/7f/s/+7/8P/v/+v/6f/u/+7/6P/s//j/BAAHAAgACgAIAAcABwAGABAAEQAUABwAFwAQABYAFAANAAwACAAEAAYA+f/w//T/9P/4/wIACQADAAUAAgD5//T/9//z//L/8P/s/+b/5P/j/9v/3f/e/+X/7v/5//f/9f/u//X/9v/3//r//P/3/+7/7v/0//r/9v/z//b/+//6/+v/4//f/+D/6v/q/+r/7v/b/93/3//d/+H/3P/g/93/4P/c/9r/4f/g/9f/2v/c/9r/2v/i/+T/5f/t//T/9f/w//r//v8AAPX//v/1/9z/5v/d//X/+f8DABUAGgAYAA0AEAAIAAgADQAMABAAFwANAO7/4v/i/+D/4v/g/93/3P/d/9j/5f/r/+n/8f/x//L/8P8FAA0AEwAXABcAHwAiAC0AJwAiABkAEAAVABIAEQAQABIAEgAZABUABwD6//z/BgAOABoAGwAcABUAFQATAAwADQAOAAgABAAJAA0ACQAEAAIAAAAFAAcAAQD3//j/+f/5//X/8v/4//T/8f/q/+H/5v/e/93/3f/j//L/AAACAP//+P/5//b/9//5//j/9v/x/+v/6f/x//X/9v/2//r/+//6//r/+v////7/+P/w/+7/6v/e/9r/4v/v//X/8//z/+r/7v/p/+f/5v/k/+D/3//d/9//3P/S/83/xv/R/9L/0P/R/9D/y//M/8v/zv/I/8j/1P/Z/+P/6v/s/+j/4P/i/+b/6P/0//D/4//W/9D/yP/D/7z/xP/J/83/yP/M/9f/2P/Z/93/5f/z/wAABAACAAYAAwAEAAQA/f///wIABQAEAPv/8v/s/+7/9f/z//T/7f/t//P/8//9/wYAAgAFAP7/9//6//n//f///wEAAgALABQAFQASABMADgAFAPX/7v/q/+T/7P/5/wEA/v/7//T/9/8BAAAABAD///////8EAP///f8DAAQACgAMAAYAAgACAAAA///6/+//7//r/+3/6v/j/+H/5P/s//P//f8BAAQADgAWABgAFgARABEACwAKAAgABwD+//X/7v/r/+7/+f/3//z/AwD9/wEA/v/+//3/BQAFAAIA///3////AQAHAAQABgAEAAcACgAJAAcACAAOABAAEwAfACQAMQA2ADQANAA8AD0APAA8ADoAOwBFAEgAUABSAE0AUwBVAFwAXABUAFoAUgBUAFwAXgBcAFcATABJAEIAOwA9AD8AQwA/AD0AOAA4ADwANwA0AC8AOQA9ADcALgAmACcALQAxACwAIAAWABEADAASABgADQAEAAYACAARAB0AIgAnACoAKwA2ADMALgAwADUANAA0AC4AKQAoAB4AHAAbABMADwALAAUABAAJAAsAFQAjADEAOQA+AEAAQABDADcAKgAkAB4AJAAmACAAEQAKAAgABAABAPj//f/3/wAAAgABAAwAEwAXAA0ADQAQAAMAAwAHAAwADAAQAB8AGwATAAwABAD5//f/9//4//b/+v/5/wMADQARABMAEQARABIACAAJAAcA/v8CAAgAAwAFAAQA/f/1/+v/6v/y/+//8v/6//n/+P/z/+n/4f/j/+r/7//2//f/7//t//H/8v/s/+3/6//i/9z/2v/Q/8n/y//P/9b/3//r/+//8P/0//j/9P/w/+//7P/s//P/+P8FAAkACAADAAEABAAOAAwAAQAJAAQA//8DAA0ACgAQAAkAAwAAAP3//v/4//L////8/wAA/f/9//3/+v/+/wAAAAD7/+z/7P/u/+3/8P/u/+//9P/7//n/+v/8//f/8v/z/+v/6v/o/+T/5P/Y/9//5f/v//X/+f/2//f/AAAAAAAAAgAJAAgACwAZABIAEwAMAAQA+//2//z/9P/0//X/9P/y/+f/4v/m/+3/9v/9//v///8EAAkAGQAcABUAGwAYABYAIgAnAB8AEQAGAP7/AwACAAoAFAAcACEAHAAVABsAKwAmACAAGwAZABwAGQAVABUAAgD8//X/9f///wIABAAMAAsAAgD///n//f8FAAAAAAALAAwACQAFAAoACgAHAAcA/P/7/wQACQAUABAAEwAJAAgADgAMABQAFwAbABgAGgATABUAFgAWABMAFAAZABwAEwAGAAIABAAKAA8AEwAaABwAFwAPAP//+v/p/+f/6v/p/+j/6//m/+P/4P/o/+v/7f/y//f/9f/z//H/9f/4//b//P8DAAoAEAAQABAAFQAMAAYA/f8AAP7/AAAMAAsACQARAAYA+v8BAPb///8IABgAHwAUAAwACwASABIAFAAWACAAIgAmACYAIgAZABYAGwAeABUAEAAGAAQABgD0//D/6f/b/9z/5//1//7/+P/1/+n/4//o/+///f8AAAEA9v/2//b/8P/2//r/9f/0//D/8//q/97/4v/o/+7/8//w/+z/7//r/+r/8//8/wEA/v/+////AgAKAAEA///6//z/+v/3//T/8f/2//n/9//z//P/7v/s/+j/6P/t/+n/7P/s/+3/9P/9/wMA8f/s/+n/7//y//T/8//u/+3/6//w/+//8//0/+v/6f/n/+X/2v/Q/9L/1//j/+P/8f/x/+z/5f/b/93/4P/j/+z/6f/l/+n/8v/x/+3/6//m/+D/2P/R/9H/1f/X/9X/1v/Y/93/5P/r/+7/7//y//j/+/8CAAQACgAWABAAEQAKAAMACAANAAsACwAHAAIACwANAAoABgD+//n//f8CAAcACwAOABIAFwAYABYACAAKAA4ACgALAAIA/P////7/+P/3//H/8P/z/+z/6v/h/+H/3//b/9j/1f/Y/+v/9P/1//b//P8DAAoABAAJAAwADAAPAAsACQAKAAQA+v/7/wMAAgALABIAFQAWAB0AJAAhAB4AHAAYABcAHgAmACoAJwAkAC4ANQA4ADoAOQA1ACwAIQAlAB4AGAARABAAEAAMAA0ACQABAPr//P8CAA0AEAAKAAkA/P/u/+7/7//4//b/+v/5//n/AgD2//j/9v/4/+z/6f/q/+3/9f///wAABgAJAAsACQATAB4AJgAgAB0AIAAWABoAGgASABcAFQASAB0AJgAfABwAFgASABEADgATAA8AAwAFAAQAAgAUABwAGgAgABoAGwAVAA4ABgD+//z/BQAKAA8ADgD6//T/9P/1//n///8AAAAA9//0//j//f8BAP////8EAAQAAQD3//r/BQABAAEAAgD+//z/+P/9/wEABQAFAPv//v8GAA0ABQD8//D/7P/5/wUADQASAA4ABAD+//X/+P/2/+//7v/0//D/7P/s/+z/6v/j/97/5f/j/+n/4f/k/+f/4f/r/+z/8v/y//D/7v/v/+z/7P/x//T/+//4//3//f/8//z///8CAP7//v/8//r//P8AAAIA///7//L/7P/l/+b/7P/o//P/9f/4//f/8P/y//r/BQAIAA0ADAALAAMA+f/+//f//f/2//H/8P/s/+r/4//m/+D/3f/h/+j/6//v//b/8f/1//f/9v/z//D/5f/g/9r/2f/b/+D/3f/T/9H/1//g/9//4f/s//P///8CAAAA9//0//n/+v/+/wIAAwD///T/+P/4//z/AgD6//L/6//v/+v/6//n//b///8DAAsADQAGAP3/+//+/wIABwAJAAoACAALAAYABwANAAIABgAGAAYADwAWABwAIAAlACgAJgAoACAAGgAaAB0AIAAdABoAFwAIAAQA/f/5//r/+f/z//b//v8KAAoAAwAGAAIABwAAAPn/9f/4/wMAAgAEAAoABAD///7///8EAAgADQASAA4AEgAVABIACgAIAAUADAARABAAEQAUAB0AGgARAA0ADAASABEADgAeACUAKAAgABQADwALAAEABAAAAPj///8CAAYA//8BAAAAAgD9//r/+P/9//b/+P/8//z//P/9/wEABgAHAAQAAQAEAAUAAwAFAAUAEAATAAsACgAGAAMAAwD8//f/8v/r/+T/5f/i/+X/7P/o/+f/6P/m/+j/6P/f/93/6f/y//f///8EAAoACgAHAAMA+//y//b/8f/v/+r/7//2//T/8//z/+//9P/n/+L/6v/o/+3/7f/q/+r/6v/m/+7/8f/w//P/9v8EABAADgAQABQAFQAJAAwACAAJAAoAEAARAAgACwAEAPn/7v/c/9r/4P/Z/9n/3v/a/+D/4//b/9r/3P/c/9b/5//z//T/8f/r/+f/6v/u//X/+f/0//n/+P////v/7v/n/+T/5//w//L//f8CAAcADwAHAAkABwD3//b/AQADAAQACQANABAACAAHAA8ACgAVABgAEQAMAAYAAQD5//b/7//p/+b/5P/r/+7/8//x/+v/7f/5/wAABAAJAAwAEAAKAAgABAABAAoABgD8//n/9f/0//X/9//3/wAACgANAAUAAQD7//v/+P/5//T/8//z//n/+//2//X/8//u/+T/4//a/9H/0P/S/9X/7v/6//r/9v/1//7/AQAKAAMA//8DAP7/+//y/+z/7v/n/+//9f/y/+7/6v/i/+b/7v/3//v/BAADAAUABAAHAAoAEQATABkAJQApAC8ALAAoACMAKwAoACUALwA1ADUALAAiACMAFQAOAA4ACwAGAAYA+//5//n/AwAGAAwAEAAGAAMACgAJAA0AEwAWABMABgAIABEADgAMAP////8FAAAABwD9//H/8f/y//P/8P/w/+f/6v/v//X/9f/1//D/9v/5/wEABAAFAAwACQAFAAoADQAUABQAEgASABUAGQAUABUAGgAdAB8AJgAnACIAIgAZABoAGwAZAB4AJgAlAB4AFwAYABQAEgASAA0AEgAiABsAHwAhABgAEwALAAAA9P/s/+v/4v/g/+H/5f/h/93/4f/r/+//6f/p/+z/8//4//n/AwAIAAEAAgABAAYACwALAAkACwAGAAsADAAEAAgABQAPABIAEQAVABsAHwAZABQADQAPABIAFwAWAA4ADgAJAAsADwANAAsAAAACAAUAAQACAAcADgAJAA0ABAAFAAUACAAGAAYABQABAAcAAwD8/wIACgAJAAEA+v/2//X/9f/s//H/6v/y//r/+f/5/+//5f/i/+D/2f/e/9//2//j/+7/9f/6//z/BwAFAAcACwAJAPz//P8EAAAAAQD//wAA+v/1//f/BAAPAA0ACAALAAYA+v/6//X/+//5//r/9v/r/+r/4f/d/97/3v/l/+3/8P/v//H/9v/q/+T/1v/X/9//4//s/+7/6v/n/+X/6v/y//T//v/5//X/9f/3//z/AgD//wEAAgABAAEAAwAEAAcAAwD9//H/7v/x/+f/6f/p//H/9v/2//L/8v/z//b//f8IAA4ABAAAAP//AQADAPz/+f/z//T/9f/1//v/AAAEAAYAEwATAB0AGwAfACgAIwAgABkAFAATABIADwAJAAkADQAJAAIA/f8FAAUAAwAFAAUADAAUABUAFAARAAwABQALAA4AFgAbACIAIgAfABwADwACAPz/9v////7/+f/8//j/9f/y//D/8v8AAAYABgD6//r/9v/5/wYACgACAAAAAQALAA8ACgAKAAgAAgAKABEADwARABIAFAANABcAHAAlACsAKQAhABwAEgAHAAQACwANABYAFgAMAAsADQANAA4ABQAGAAoACQAKAA8ACQAIAAcAAQAGAP3/+//5//D/8P/2/wAABQAFAP///P/5//n/BQAMAAoACgAGAAcABQAJAAsAFAAnACUAIwAfABsAGgAYABwAIAAaABUADgAMAAgABAAEAAgAAwD8//3/AwALABAAFgAaABsAIgAiACEAFgARABEADQAGAAMA/f/5//j/9P/w//D/7f/j/+j/8P/2//7/+f8AAPf/AAAIABAAEwAJAAIAAAABAPz/AQD4//n/+v/7//r////+/wAA9v/x//n/AgAAAAAAAQAFAAMAAgAGAAQA+//6//T//f/7//T/8//m/+H/3f/m/+f/6v/w//b/9v/5//f/8P/o/+X/4f/h/+P/5P/k/+X/6P/r/+n/2P/R/8z/zf/S/9H/0f/W/+D/4//t//P/9P/0//D/9P/5/wQADQAQAAoAAQD7//f/+f/y//X/9P/o/9b/yv/P/8//2f/c/97/6P/o/+3/6v/r/+3/8v/7//z/+P/3//r/9//0//H/9f/y/+//7v/3//v/+//v/+j/6f/t//P/8//2//n/9f/5//f/8v/n/+r/9f/z//f/8//3//z/9P/x//L//P/6//b/9v/5////BQD4//L/9f/+/wgAAQADAAEA+v8AAAEA+v/3//z/BQAHAA0ACwAMAAkAEQAUAA0ADgADAAIAAgAIABYAHQAoADAAMAAzADEAKAAiABgAFQAbAB8AGQAUABUAGAAVABcAHgAdABcAEwAUABYAHQAeABEABgACAAEAAwAAAPv/+P/5/wYACAAFAAcAAQACAAIA/v/2//T/8v/w/+3/8f/0//z//v8EAA8AGAAbABQAEgAGAAAA///+/wQACgANAAUABgAOABUAHQAlACUALwAzADoANAAnACgAIAAcABsAFQAgACAAHgAdAB0AHwAjAB0AFgARAA4ADQAKAAwAEwAUABQAGwAfABsAGAAWABUAFwAZABMABQABAP//AgD5/+z/6v/o//L//P8DAAsACwALAAMA+//1//T/+//7//P/5//k/+b/3v/b/9z/5f/w//H/+//+/wQADAANAAwADQALAAwADQASAA8ADwARAAsADQARABEAEAAVABUAGgAjAB0AIQAeABsAGgAWABgAGwAWAA4AFQALABAAFwASAA4AAgD2//f/9f/7/woACwAPABYAIQAjACQAIQAQAAwADAACAPz/8//9//7/+f/9/+3/3//e/+H/5f/w/+3/+P/0/+n/6P/v//n/9f/2//T/9P/8/wMAAQD5//b/+f/+//v//v/9//v/AQABAAMAAwACAPv/7f/0//n/AwAEAP//BAD9/wMA/P/7//r/9f/5/wkAAgD+//7//P8AAPb/9f/2//P/8f/y/+v/7P/x/+7/6f/j/+j/7P/u//P//P8FAP7/AAD//wcABgD9//v/8v/1/////P/9/wMAAwACAAMACAAJABAADgANAA0AEQAOABIAFgAQABMAFQAZAB0AFwATAA0ADAAJAAMACgAGAAUABwABAPn/9//x/+3/8P/v//H/8f/n/+3/8//1//D/6//v//D/9P/y//b/+P8BAAcABwAPAA0ACwAGAP3/AQAFAAYA+P/0/+//9v/0//T/9//0//v/+P8CAP//BwAGAAgACgAOABwAEgAOAAoABwAHAA0ADQALAAMABAAHAAsACAD6//b/AgAJAA0AEwANAA8ADwALAAwADAANAAsACwAKAAgADAAMAA4ADAAEAAUABQACAP///v8AAPn/7v/q/+f/5v/i/9v/1f/Z/93/3v/h/+L/6f/u//H/8//t//T/+P8DAAMA/P/9//j/+v/5//n/+f/2//b//f8AAA8AFAANAAUABAAJABcAHwAjACYAJAAfAB4AHQAZABUAEwAUABIAFgAUAA8AAwANAAoAAwD8//H/9//4/wQABQAHAAgADAALAAgADQAaABoAHwAkACcAJgAaAAoA/f8AAPT/+f8DAAQACQAHAAUABgAJAAwADAANAAUAAQAJAAwACgAOAAYABgAFAAgACwACAP//AgAFAAgABAABAP7/9v/y//D/6//f/9b/0//L/9H/1f/b/+D/6P/y//T/+v/8//r/+v/8/wUADgAQAAUA+v/4//T/9v/5//7/8v/1/+v/2f/W/9r/3f/g/+b/6P/s/+z/9//3//T/7//y//P/8v/y/+7/8P/x//H/5v/n/+T/5f/o/+n/7f/p/+T/5//r/+r/7v/v/+f/6f/r/+7/7P/s//j/9//9//3/9f/y/+z/8f/5/+//7//x/+z/6//i/+L/4//l/+f/5f/p//T/BQAOAAgAFwAYABUAFgAUABYAEgAOABIAFAANABIADwASABMACQAGAAkA///5//j//P8AAPz/+v/7//7//f/7/wQABgD9/wMABwAAAAEA/v/7//f/7v/d/97/1v/T/87/0v/d/+P/7f/3//7///8CAAIA/v8BAP//AQAAAAEABgAJAAMAAAACAAMACQAHAAEABQADAAYABAD///f/7f/o/+H/6P/j/+j/8f/y/wEAAgABAAEAAwAFAAUABgAKAAQA/f8AAAcAAwAJAAQAAgD///v//v8DAP7/AAAAAP7////4//T/8f/y//L/9v/9//n/9P/w/+7/8f///wMABQAIAAkADwAMAAwADwAQAAwACgADAP///f8BAP3/+/8FAAAAAAADAPn/+v8CAAsAFAAZABYAFQATAAcACgAJAAMA+f/4/wIAEQAOABEADwAMABAADAAIAAgA+P8AAAcA//8NAAoABAD+//z/CQAIAAUADAALAAoA///6//7//P/3//f/+P/+/wQA9//1//T/7v/w//7/+/8CAAEA/v8EAP7/AQD6//v/AAACAPv//P/w//H/+P/y//T/+////wMACAD///X//P/x/+r/7P/u//P//v/8/wAAAQAIAAkAAwAFAPv/7f/r/+3/7P/y//X/+P8CAAEABQACAAQABQACAAAABAABAPz/AAD8//n/9v/w/+3/6P/f/+H/5v/h/+v//P8CAP3//v8DAAoADwAOAAwADAADAAoABQD5//3/+v/9/wYADQAMAAIA/v8GAAgADwAOAAQABgAGAAYA/P/y/+7/6v/q/+v/9v/3//L/7v/v//D/6v/q/+X/6v/0//X//v8BAPr///8CABEAEwAVABMAEAAOAAsACAAJAAcACQAMAAwADwASAAoACgAQABYAEAAQAAsAAADz/+//9v/3////AAAEAP//+v/7//D/7P/q/+v/7v/y//T/9f////v/8v/v/+z/7v/0//H//f8IAAcADAALAAwACgAHAAcABQAIAAcACQAMAAsAFAAVAAsABQAMAB0AGgAVABQAEQAKAAYABwALAA8AEwAUABQAEwARABEADgAQABAAFwAaABgAFQASABQAEwATABkAGQAaABUAFAALAAgADwAWABgAGwAYABEABgAEAPb/8v/v//P/8f/5/wMAAwADAAYA+//7/wMABQANAAQABAAGAPv/9v/v//r/9v/z/+j/6P/x/+n/6P/m/+r/7P/r/+3/8P8AAPz/9P/z//T//v8FAAMACwANAA4AEgAQAAwADAAJAAYAAgABAAAA/v/6/wAAAwAAAAYACwANAAoACAAHAAQA/f/7//j/BQAKABMAEQATABcAGgAbAB8AHAAWABoAEwAQABEAFAAYABoAIQAjACcAJAAkABkADwALAAcAAgAAAAQAAgABAPz/AQACAPr/+//3/wAACQAIAA8ADAAOAAsABwAJAP3/9v8AAAEACQAHAAMAAgD7//v/9//+/woAEgAOABAADAAOAAoA///9////AQD4//P/+v//////+//5//v/+P/4//f/9//s/+f/6f/n/+P/6P/t/+//9v/+////+//4//3/CAAIAAMAAgAIAA8AEwAKAAYABAAEAAEA/v/9//T/9v/6//n/+v8DAAwACAAVABYAFgAYAAsABgD4//j/9f/6/wEAAgAKABMAFAAZABcAGgALAP7/BAAJAAoACAAAAP//9f/t/+//7//4//z/AwALAA4AGgAkACcAKQAsADEANwA7AD0APQBAAD8AOwA7ADYAOAAyACwAIgAgACQAHAAWABcAIAAaABQADgAHAAEAAQALABUAGAAkAC8AOwBCADcAMQAoAB8ADQAGAAcACQANAA4ABwD5//j/9//7//v/AgD//wMABAAFABAAFQATABMAEQAlAC4ALwAvACsAIQASAA0ADgAOAA4AAwD5/+3/7f/n/+3/6//o/+3/6P/W/87/0v/Y/+f/9f/6//H/5f/h/+L/6f/v/+7/8f/1/+j/4//q/+//8P/z//v/BQAGAAMA+/8HAAsAAQD9//b/+P/5//T/7//v/+z/7//r/+L/6P/u//r//v8JAAwADgAbAB8AIAAhABkACgAIAAIABQAHAAwAFAANAA8ADwAQAAcADAAPABAADQAJAAkA/P/4/wAAAwABAPn/8v/s//P/7v/l/+//9P/r/+X/4v/m//D/7//w//P/+f8AAPn/8v/1//r/+//+//X/9P/3//7/CgAVAB8AIAAWABAAHAAgACQAIAAmAB4AFwAWAAcAAgD//wEADQAVABgAGQAZABEA///4//j/8P/x/////f/x//D/7f/r/+T/6f/w////9P/r/+z/4f/X/9f/3//k/+T/3//Y/8j/zv/V/+H/3f/S/9b/3f/i/9z/x/+5/73/vP/F/9n/7P/o/9P/yv/A/8T/yP/G/8f/1P/W/9n/0//S/+n/+v/0/+H/2//U/9b/yf/E/9f/5f/w/+3/0/+3/7f/yP/K/8f/0//g/+H/2v/e/+L/4//t/wkAFwD9//j/CwAHAPz/AAAnADgAEgD4/wIABwDr/+7/CQAYAAsACAAcAB8ADgAJABAAFQAQABgAIQAXAAEAz//V/9f/0//b/+D/8v/j/9z/4P/U/87/6v/9//f/6f/z//D/2v+w/6j/3//j/9//5f/h/9j/2P/3//T/9//r/+T/7f/q/+H/5f///xwAGwD2/+n/6f/w/wQANwBSACMADwAYABsA/v/y/yUAVgBCAAsAFQA9ADAAIQBFAGYASgAiABgAJQAlAA0AIwBBADkANgA0ADUAHwAIABAAHwAZAAQAGwApAAkA7v8bAF4ATgApADMATAAmAAIAFQAnABoADAA2AF8AWwBDADkAOAAqAEUAXgBIAD8AQgBIAD8ALQBDAHcAhQBrAFsAXgBaAEEAPABDAGgAdABdAC8ANwBKAD0ADwAaAG0AewAyAOn/CgAXAPH/AwBaAJUAYgAzABsA+f/r/x8ASQAeAP3/HwBIAAAAvP/h/x8ANgAqADkAVQBDAA0AAQADAPn/AwAkAE8AKQD//wEACAAKAP7/8f/3/z4ALADl/6n/7P/v/8D/v//x/w8Azv+t/9L/1f+W/4z/wv/M/7P/sf/g//3/vP+U/7T/0f/C/7v/m/9e/3T/3P/r/4//Vf+f/+3/uv9s/5b/1//T/7H/m/+i/6D/if9o/1H/Qv+N/+v/2f9h/yr/d/+b/2v/YP+R/6b/jv+a/7v/nP8w/2n/9f/i/4f/p/8bAPj/kf9r/7D/8v/k/8//yv+x/7L/oP+j/6P/fP+t//T/9P+4/7T/0f/s/7z/nP+y/wcAPwAYANL/AAANAKf/y/8mAHcAJQDK//P/NgBUABsACwAqAGcAYQBJABgAEQD6/+f/2//Q/xAAVQBZACcA5v/V/wAAJQB0AF0A1v/e/zcA+f+r/+D/kgDMAP7/m/9OAHYA5P+W/xMAYQAbAPD/5////87/hf/D/0EAggANANP/BAAaAMj/8P8zAL7/m/9yAOsAJQA0/6n/qwCDANr/iP/w/00AOgAGAAIAxv+t//n/bgC9AFYAcP93/yIAUQCd/0n/TADXABsAU/+A/1YANQCu/w4AzQBwAHj/m/+MAKEAxv/Q/3YAiADT/4b/GgCdAF0AWgBFALn/aP/v/6UAsgDl/8T/UwBoAMj/lv9EAOsAXwC0//3/vwCoAI//e/8fAF0AqP9+/xcAJwBX/9z+5f9mANj/ef8YAJUAKQDW/y4AegCd/zL/9f8tAFf/zf5K/yEACQBi/wL/cP9BAGMAsP8r/5r/uADeAG3/g/5r//v/2P8BAKkADQDj/tX+5P/i/6H+1v6oAA8Bff/o/mv/OgC+/0P/tP9yALUAawAuAOD/vv/y/yQA4f9b/9T/iwCYAEQAyf9+/0v/Xv8kAKIA/f+X/+L/UAA+ABMACgAHAMP/Z/8vAHsAvv/6/pX/VACY/87+mP9LAdcAJ/+//k4ABwGqAHAA6gBkALX/DwALAWAAqv9cAHYB0gCw/s3+rABTAQsA2f5g/9wAygAPAEUA5gDIAIoA8/9HAEwAJgDJAB8B6P8L/2f/mP+f/yoAMwEGAdL/vf4L/wIAAABk/xUAnQFoAa/+o/3q//cBPwFP/7v+GADNAHcASwDF/3//S/+v/6cAtgHlAbUAv/91/5H/9v8nAPYASQHIANH/H/+x/84AZwEpAdH/fv9DAJQAfgCuAL8AZf92/h7/2//u/zUAHwE4AQsAn/4b/+kA4wDm/wAAQgHlAED/of5//y4AmQBgAOT/DwDAAKgAEv9a/mX/cAC9AH0BOQIEAQj/t/52ABIBYwBSAF4BAQIDAev+Uf7U/8gB3AFqANb/wgBaAVgAbf+I/ysAsAD3AGkB/ADL/6n+1P4gAFABRAAg/yQA6gD//oz9vv+yAdEA3//LADwBeAAY/07/4wD+AF3/Tf6w/gYAOwBn/+f/dQFFATv/MP4aAI0BiwBM/x8AfQKRASX/Lv5Z/hD/cwA/AUYA7f9g/yMAcAA1AIb/hP+8/10BQgKnAJD+lP5aAGMBwgCJ/18A7P8y/xv/rgDPAP3/U/9G/8X/AwDF/5j/WwDKAAQBUQBY/yz/XP/9/y4BPQGg/3f+CwAaAqYB//6r/TP//wEAArD/gP7Q/78ARAB5/2X/a//W/4IAQQBa/0f/+v/EAIsBnwBI/5f+5P8MATIAaP7l/ngAYAB1/67+1f7M//f/c//l/8b/DQA0AI7/Vv50/gv/EQBxALr/Rv/X/pz/pP8q/5T+LgBvAqkCWwCR/jn96P3M/y8CUgI//5X9/P7xAKwAmv+6/t/+Wf9TAEoARv9X/wYA8f/E/yMAy/83AGUB2gEOAAb+kv3A/zsC7AGg/139of0q/xEBBgLHAXEAvv5b/pD/WwEbAer/mv43/0oBqgFfAOb+Ev/R/17/b/5B/m//lv9kADkBGgGmAGX/5/41ANUBDwKKALb+kf1B/1sBnwGEAFP/Z/9uAIIBJACU/x0AVwHbAG//k/6B/4D/Wf4c/3YA+QHtARcAAv84ACoAGQDIAN4BMgLy/+b8/fzR/kUADAEFARYBKwF5ATkAWADUABsCIwHR/0f/OQDf/7X+c//hAK8Ayv8z/+YAgwKUAdz/rP+aAHsAQACn/x8AcADQAAsAz/+G/yMAgwBfAMf/hv/e/2MAQQCe/wH/GwAxASABVAAxADsAmwBKAPf+rP+/AP4AYgDi/iT+AP+CABcBOQH+/6/+7P1e/Sr+HgFhAtP/8/yQ/CUAEAPNAiMArv/LAHMBCwJfAh4BdP8b/jD+R//1AY8C+wCN//v+tQCfA7YEFwNMAcj/qv9/AC8BAwKgAvECrwJEAjABgABL/7r/3QGvARIAB/+q/y4B+ALAAhABsv8W/68AmgLaAogBH/+p/LX7fvxF/bz9Svxb+mj6uPuk/KT82vuF+0j74fq7+lP8NP3W+7n5kPl8+6b8W/wE+0f7Lfxy+0H5a/im+bH7M/1M/kz+q/1x/f/+HQFdApAC/QF2AQgC6wNLBHcEewOSAvMC1AO6A84E4waiB0UHfwV4BOAG8AolDpwOZg6zDZ0NXA4YDuoO/g0pC2QH8wNl/wv+uv4z//r+uf4z/bn9e/9V/6f+lv/W/5//v/9u/r77SPiR9an1mfaB9nL1jPPb8DrvLvBu8hT0mPM789TytvKV83b13var9z/3JfYO9S31+fUA97L3nvhE+R/5F/k9+lz8Hv72/ib/OP+i/5kAQALCA/0EFgW6BIsF1gfUCWILdgzlDO4LWQv0CjcL1QxMDpwNUQ3WDjAQkhJyFYgWtBZPGPMVQxBZDAgLlgdnA0f/yfp69gv2RPlA/Pn9uv+SAScBRgGZAoUD1ALlAUkAav12+uX4BPeL9Bz0vPXP9fz0V/Wx9kT3EPg5+B/3zPUr9N3yMfNY9B32ZvYz9BryZPKd8tn0oPh5+3f8Hfw9+xv7yvuc/Gf9cv3I/Cr8X/sv+1H8X/7QAMcCPARoBVkGGAdACHcJRQqYCrcJGQnpCMwJBgtODQgO+gzxC8sM8w+fEu4UqRVaGGEY7xhLG5keWBlDClv99PUi8cbtifKA9nf14fKR8kX0s/nCAhwJcAzsDuIN6ge4Adv/yf4C/Nv4ZvYx80rvE+3/7H/vXvNs9wP6//uT/Wf+8P5jAE0CzwKQAfL+Eftf9z3zYe/I7kHv5+7t7yXyQPKl9Ef4EfyT/gkAXf+3/p79z/x2/Mf6EvkD+Jf3Tvgo+lL8Qf4YAHoBGwMmBCQF8wWPBjsH6wdQCEUIjAjTCRAM8w7JEEkRmBLpFKYW/heZGTYczB75I08rMzSsG6nlWsUw1zfxt/qMAnD+Bea8y9bXJf2gGRYfrRvUFqwQdAqbBvYG+goHCzMEDPmy7pvjSNtU3JjoNfb3+s720/EI9BH8UwWtDVQURRQcDToF6QBE/RX5Ffe899j2XPNK7kHqYOiS6svxzvdu+pn4Yvay9Uj6fAAnBZUFYgFT/En5D/q8/AH+qvwe+s73oPa39yj6i/0WAGgBNwIbAzIEDgZ2CY8N8BBZEJwOQQ+XESQU4BeNG5wb6xvZHdYhDCb5MMs9ghaVyt+vT+L+BWsBJP2C9I7Pka8z0uwQCirFGbQP3RJLEJIJZQ0WGtUfIBf7CNP7lu7p3l7YtOCN75L1Xu6t4cnczuh5/AcKyBC4FvEVmQybB2UN6hB0CvID3AJ2/nvz1ehZ5IXlxOlv7xrylu+n6qjrB/R5AIsLxQ4DCcUBPwDCAqUFWQZvA3L90fbB8o7yNPVi+J/6Y/u3+5/8Jv6QAKgEMAmBCz0LpwmnCFAJrws4D2MTphMqEpUTJBigHGwfmCa/L849eyV93oSzmdoQDjwKVvr07xrS6qkxvxcFkifoEtkADApODXwF+QwkJPwtOCCbD9gF7/lw6KThXO3a+V72d+Sf1OrRNOBZ9U8D1gf5CSMJdgTLBwAXGCC/F+UM2AvACQr+5/Lw8CXyNfDB6yDnKuOV4G3hnOkZ+VYDoAEt/YsAJQd6CgsNHhC4Dn4GGv6p+pL64/n695f2oPWR85Tx0vNM+tMAwgO8BP0F+Af0CT4NgxK7FRoWFxURFhUYthn4GcEbVR4HJf4lIAKU1WXWFvpBA0D64Pbj6M7Lnclr8nIR8AzEAYIGLgnKAzEIFxiHIN4ZCRADCusBKPaM7xr1l/zi+FbrH+B43mDlgvHg+6z/yP6F/SD+PgSjD0cWyxEIC2EKCgqbBE4AQgDf/Sr3M/LO7yrnWt/H44DuX/Qq9gf1rvL29mQAIAi6CyIMCQmzBZUEPwUtBawC2/7N+4H57fa89Q73XvoT/e39j/66AF4E+ghNDUcRPBWzFkQXaRpoHg0gVyNAJ4AvHiEk8IXQYukJCkMCuvL36HfSkrtw1AsEMw3/+A33BgUKBUME6xXEJ2Ej8hZbFO8R7QT8+cf9qgX9/oTslN7F2/nemeYV8Zb1yvDw7JXy3f5VC58TfxSCEDMPORF6EQgQ3w+XDAgD+PiA847uMOeL4+jmvOnE5pvlnuq+8Jb1k/xQBE4IKAj0CCMMLg4BDSoLGAlyBYoAivwy+3L6Qflw+On4qvmT+z3/QAMHB2UKCQ3yEgYZ/RwaIOglsCoSNN8tcAF44J/zXhNUCbD2y+qm0mi7AtNM/ub+AOga6UL4qfeu+20TpiRvHlkXnxuXGiYOJwlcEqAXtwmU80nn3uQF5TTpFPD37LrfSdu65iH14f0eBEUHBwaAB2UPoBcLG6gZUxNDC3cGXgP9/q/4WfKt7HznmuNe4wLmIeib63nwPvRR9mL76wIHCcYLuAxnDcwMLgtLCmUKfAjRBPoBhQA5/7X+iQApAzsELAUWB2QJjw5HFfobyiCTK1Mhdvtm7JgJOx4eDWn/3/TN3LrPNexTBfv0BuLZ6SHySu0O9jALvhBuCFwKwRJCEJYJaRD5G1gZqgjt+/34YfeI9vj5aPmD64PewuLS7nzz4vMU94b3nPWK+qkFNQ0YDgIMbgpSCgwKWQhkBjUDrf5y+Xj10fOL8gLxI/GV8W3vXO5Y8Ub29Pk0/Bz+Y//VALIDlQe+CXYJBgiAB/YHmggqCXsKqAvNC1oMTQ1JDmcP4BGWGGQfJCXSDLzp9+zqD6IWTAM2+Zvp6tT53n8D3gfR7OTmqPOn86HzowWtES8JfQQ3DcEOZwbKCDkXcRlMC+b8/vmn+pD6P/6u/6nzauJE4ojv5/Va9Nj1Pfdb8jbzQv1zBE0G8QjaCfQDO/72AIAI3QrxBWn+YPeW9Yf5RfwP+zT3mvLv8HP0d/lA+9364vo++7r7wf4aA18FMgYcB8YHCQleC0IOwhBoEk0SQBFTEoAUzhiHH78mZA6J6gjw+xDIE/8AyPga5w7TKuJyA6YAhecF57rwyu6z9OQHwQ1nBFcFvQ6VDRwIhA+8GyoYYQoWAr8BQADN/5MDyf8c7yLjDuna8Q/xPu+S8KftNegG7QD5I//E/nj/XgB5/kUB4ArVD6cKygMTAvcB1QJRBFUCSvxt9gv10/bP+BT5hfjH9xD3XPed+lQAewT8BTEHxAeiCVUOUxSsF40YnxddGWobQiO+Gcn/v/xpEdwSdwC6+V7wZOKO6On61faZ48Pj2ewj7ZDwQ/vY/9D8VABECNYKTgqREAkaSxgOD6MK0QyXDJAK3An1AyD3F/C+8/n1svB57ADruuZg4zHppfDT8VTyYfRU9ab2ivyrBM4IVQcHBR0FGgYFCQsLxwghBOAAg/9h/7f/L/8F/TL7nfse/fr+LAFpAxEFhgcuCzYOtxLfFzEcpg+sAWAJmhgrFqkLTQXg+Wb04v4cBZf5aO0b78XvOO5E8h/2K/RC87n3pPp3++b+CQYVCmQHSQVuCI8MAA5xDhcNBAciAhUEPAeeBJ/+rPpX9270d/Ic8hvy7/Bk7nnsnux57ivzqPd692L12/ag+9b/9gKkBEwEpgMaBccHDQiPBooFfgWzBFkDKgPRA8cDswM+BIQFWAZuB7YJxQ2sENkTjQW7+7UKGhmwDiUEaAKH+ST6nwh8Bw/2OO+I9772WPUc+aX4kvNy9EX5YfuU/Of/XgTzBDsAvQDcB6QLUgqWCcoHUwJhAv4HpwjBAln+f/vp9wv35vdA9wf1+PFd7xrwnvIG9Fj1q/Wh9Hz1bPnj/FP9zf1W/40AlgGsA4oEmQNpA68EjwWZBZkFHAaLBhUH5Ac+CjUM0AuoC0QNaw/fFiMNE/y+A7gULg3HAL4B8flS9YACugU69TTtX/Zt9k30i/nx+ZT0qvXK+RL7jf0kAQADRgOc/+b/dgeuC88H2AXDBokD3QL5BwAIEQJt/6H+Ffto+iD89Pkz9cXzPvQE9FT0SvQ+80zzsPUX93v3ivg++Zb5fPvJ/qoAowCPAN4AGwIGBQsIyAjDB7wHYwmLCyAO2w8dD90O2REHF5QYiAPB+wURqhrHBrf+xAHE9sr5YAijAKnuJPK/+VTx9vGr+q33OPL38yT24PdG/hoAgv0a/M389QLmCC4GjgGeAywGgwW0CN4J0ATQAVMCfAHFAIkC7P6++LT3Gvkd+c73lvXK8ubxrfOj9Uv1EfR09Hn1T/dd+rn7sfu5/K7+HwFhA8cFtAbGBaQGggrtDCAOBg+3DvsNgxBAFNAYDBPa/iQGpRvTFJn/xwTBBiv7YwNgCo/5jvFC/af6ue5u9y79N/Ie7VXyXfRQ9nP6d/j+9Ab2BfvmAd8BH/6VALYE0wKoA6EIZwb+AtEE4QQ2AqYCcgIr/cP6y/w0/ZH5kPdE93f1uvXJ9xH37/XU9s32lfb8+Un85Puo+1b9/v59APYC4gOXA4IEZQdxCdgJHQyaDYcOJxBiFj0SjgMnD8EeXhDXAGsQwhDr/2kH3A5r/uH4SAQO/lfyW/0X//HvzO2799T2SvIK9QH2hvMD89D27/vE+Z335frH+/z5xf7fAZn8b/wSAXsAT/9dAXUAN/2l/o4B9QCk/jb+zfzO+7z+DgBA/fH7jvzj+0D8uf4u/2v9KP3Q/zMBeAEMA7sDrQP2BR8KuQsTCxgC2gXOEgcOEQLbChMQkQLoA30OGwdn/6gEgQSq/SoCAQW4/Gj6NP8j/ur6nvxV/Rf7kPm7+dv84fwD+XT5JfsE+Tv6Dv3e+UT49/vB+/L5kvvk+6/5qPql/TX9t/o5+8j8s/xL/Yf+Rv1F/HH9N/5y/k//fP8O/6z/WgFgAp8CRANVBBcFnAVLB60HBgphBuQDOAxrDSAEBQUzDmkGWQEpCt8JjQA/AZEGuQFh/wIELgFh/BL+6v8x/bb9Bf9z/DX7GPyT/ZH9kvtJ++j8rPxz+7f92v3k+rj7a/53/cX77vx1/c78fP1l/gL+Wf3N/e794/1C/jD+ZP0j/cv93/2+/eH9pf0e/WT98f6m/+3+zv68/+f/qP8HAQgCgwE4AYUCvAKEAkMD0QNHAh0DwgQRBLEChAQaBfwC2ANuBbEDmQIWBIcEnAPIAxUDvwHhAXgC5wGKAXsBogD3/zgAFgCS/1D/R//j/lL+D/5b/nb+Kv7t/SX+UP4T/tP9bP3n/PD8cP0z/af84vwh/ev8p/yp/Kb8p/wE/YD9cP0M/UD9sv33/S/+cv6h/s/+6/4C/1v/r/+h/27/oP8jADEAIwBwANcA9wASAbgBdgKpAs8CPAO0AwEEYwSnBIUEOgR7BP8EngS2A1cDawMzAyMDHQNCAv8AdwDXAAkBkAD5/57/YP8y/2f/x/+J/9b+rP4e/3b/OP+q/ln+Of4Q/g/+Af6Q/Sz9Ev3H/Gj8h/yq/GH8L/yF/LL8hvzY/Ib9xf2p/dH9If5L/r/+hf/y/6D/Pv9U/4T/y/8+AHIAOwBJAHsAWgBdANgAVwGMAc4B+wE+AqAC1QL1AnkD/QPKA2gDhwO6A6kDjwNdA+0ChgKNAqsCXQKKAcoAqQDQAJYAHAC5/4P/W/9P/xL/mv56/vD+Mv/w/pP+CP7Q/TX+jP5K/vP9s/1x/Wv9uP32/dj9t/26/ej9C/4u/nT+uf6o/ov+1P4j/wn/A/9W/3r/Rf9c/4f/dP+P//7/DQC6/wwAsQDTALYA3wALARkBkQH/AbsBXQGqAf8B4wHwAQoC5QHWARQCMQIPAiQCWwI7AvgBEgI7At0BcQFzAUABvwBlAEQA9//D/4b/8P5//mD+Zv6v/uf+lf40/kz+l/68/uz++/6u/lz+pP4A/8/+hv6p/vH+8/4F/zr/Of/z/uj+YP/2/xIA2v/A/9//8f8rAKsADQHgAIoAeACSALoAHAFfAS4BrQAvACUAggDUAOwAzgCTAEAADAArAJMA4gD2AAcB2gCRAKoAFAF4AZgBaQELAcgA1AC7AHcAfAC0AIAAr/8W/93+yf4P/1T/GP+d/pf+t/7J/vX+IP86/4v/xP+F/3X/u//G/8D/8//n/3n/RP9x/4v/hv96/0v/Sv+D/7n/wP+//6b/pP/n/0oAXwAxAEAAqwC/AGQAWACDAG4ARAB6ALMApgBxAFUATgB3AJ0AdQAyADkANwAKAA4AQgA4APP/CABBADUABwADANz/3v9DAHUAFwC//+X/IwAxAC8AOAAQAOb/2P/a/7j/dv8+/1X/g/9h/xD/6P4R/0D/Sv9J/1T/Uf9M/1n/k//A/9b/+f80ADcAHQAiADkAQgBbAIMAbAA7ABYA5P+7/+v/9v+k/4f/qP91/z//iP/D/63/0P9CADwACABsAMUAggBfAKUAdgAGAEUAigAEAGf/kf/Y/5j/ZP+P/4H/OP9g/9D/2f+z/9X//f8KACcAOAAWABAARQBtAFsAOAAWAOL/sv+g/4//gf+B/3//Zv8p//b+C/9c/4P/l/+i/43/j//B/+r/AwBfAKEAdgA8AFgAbwBBAFUAjgBpADwALgAGAOn/PQB6AGEAFADV/+j/OABtAGYAfACpAM4AuACZAI0AjgCEAIIAlwB1ACQA+P/8/+D/sP+8/9f/0f+1/5T/i/+w/+//8P/E/8j/8//Q/5X/wf///+H/z/8JAP//vv+x//T/8f/d/+3/BwDy/+T/HAAnAPz/CQA2ABcA7v8dADoAGQAjADIA/P/V/wQAMAA2ADwAAwC//+n/UQBwAEcASwBMADUAOwB8AKMAhwCDAJIAXAAUAC8ATwA/AE0AdAA7AOH/6v8bABgAKgBCAAwA5f8CACgAOwBRADwAHQA9AFwATgAwABsA5v/M//3/+f+3/5T/p/+u/5X/mf+//87/zP/n/w4ADAAFAE0AjwBdACQASQBiADEAGgA1ACMA9f/o/+7/0/+t/5L/qv/V/+L/0P/q/+r/w//l/2IAmwBOAPb/6P8PADIAPQAeANj/dv+W/7v/xv9e/7r/Cv9Z/YsB0AJ1/d38RgIfAvL99P4lAhgBOP8/AD0BUgD//54AdADp/z8AXADO/6f/BQDu/23/bP/J//7/7P/z//D/0//u/04AmQCUAEMAKQA2ACgAHAAoAE4AKgC9/3b/nP/Z/83/sf+o/5L/j//A//L/5v/w/wcA9P/P/9f////n/7r/uf/c//X/9f/V/9L/3//r/+D/0f/N/97/7v/z/yEANQAPAPr/DgAdACcAPgASAMT/sf/Z//b/8v/X/8f/x/+8/9P///8IAOT/9/8kAAoA5//2/xoAKAA/ACgA2f+1/9z/CQAfABcA5P+6/9n/AwAgAD4AKQABAAMAKQAKAPH/IwBHACYA/f8BABcAKwAGAOX/7P/i/7//qf+t/6b/sv+x/5v/j/+a/5v/lf+2/9D/yv/C/9H/4P/2/xcAHAAJAAYA+f/n/+b/EABAAFAANwD9/9D/+P8fAAAA4v/8////7//3//z/8f/y/xMAKQAyAB8AFAAnAFYAYAA6ABAACwAXACcAIQAXAAQA7P8AADQAKQALADcAfQBqAFwAdgBKAAkALABlADgAIQBfAF8AJgAcACoALQBHAGMAQQDv/7//sv/Q/woAKgASAAAA5v/D/9D/EwBhAF0AGQDf/97/9f/z/xAAKwAEAOH//P8GAM//4v8+AEgAIQAsADwAMABLAH8AaABGAEcADgDT/wAANAABANf/1f/Q/9H/2v/S/97///////b/+P/o/8z/BABBAC0AHQAlABMAFgBbAFkAHwAWACYAFgAKABUA+f+//73/9f8LAPz/6v/a//D/HwBEADsAIAAkADoAVgBaADkA/f/w/yoAPgAsAAIA5v/i//j/+//t/9T/3//0/w4ABgDq/9P/2P8MADMAIgD6/xUAIAASABcAAwDv/6T/0P/d/7D/YP+i/6P+nPs2AN8CC/uR+80BwwGd/bj9JQGIAa7+av5KAeAALf+f/9EA0AC+/yv/YADhACL/sP7m/wIAoP5Z/Fn+3gDw/73+SQASAvAAn//Z/zkBlgCX//D/7ACTAH7/rv8TAE0Al/8B/wQAVQA3/wf/Z/8aAGz+Ov4XAK0A4v9A/94AkACH/4EA3ACHAD0A9gDdADIAcf+CALcA9/9iAMoAjQBUAO7+yv8LAR8A1/8BAVABEwDd/z0A1QC1/0X/JwDBAOr/zP8KATEAsv/D//H/nQDj/8D+qv+RACQALQDgABMBbgFrAY8BxgJ3AhwCyQKqAhoBvwDqAVEBlQCLADUAggDR/zH/of+d/xn/yf6I/8X/gv/v/97/ZQC4AEkAxwDnAbkAWQD6AF8ANAFHASkAov8yADsAdf9T/3j+Uf/h/oz9ov4z/u38sP3j/jf+OP4t/gL/J/8B/xwAdQBE/9f/GgEtAH0A8ACXALkAkwDMAL0AMgDOAMEApgB5ACEAuQC4AFYAHgH7ADYBPAFCADYAYQGfAbAAmwCqAIgAawAWALr/uv9u/wv/TP7t/a79qv0U/V/8A/x3+3D74/o6+iH6BvoY+j36JfoN+sX6Q/tC+0P72vv//G39hv2A/Tj+7/7B/xMAJgAbAWQCJQM1A+8DbQWUBnEHLwiQCMYJFgzZDPsNdhAMFJ0WkhqCGP4BB/1aE+Ac9gQS/4wFivcB8nX9FfuV7X3zQ/fg6JTjUe8g+A/25/WA9M7xt/hsAmwHiwfdB/cGgQm1C9YKaA8wFHcPrga/BP0EmwPNBUUFePxJ8oHwcvCg71nx6/Hu7W/ogegG7RbyL/Ut+AT5y/b8+KT/4gTzBjAIoQdWBU4F0AclCnQJIQeYBIMBGACjAc0DnwOYAmUCtQLvA8gGnwkHDXYP8hKVFi4fhBu+BkQDixSrGWkJkwgcBzj4s/Fu+zv6dOzR7rf2Me/M5BPqG/N09G35IP6z+2X56/7ZCFQOgQ4ADD0N4g1oCm4JiQwhC4ADNACh/lb34fEi9S73Q/CE6//rU+we7KPv2/Kl8ZDxGPa0+7n81v1OAdQDXQNyBBsGbQRBA0kEQAOl/w79MfzD+jT51PcJ9731TPX59gH4R/hy+aX7fv1t/zQCkQRTB5IJjgtLDTYOsQ3nD7QSkxPEFewXIRpqHLUh/g6x9lz2tgSYAQ/7b/3G7xfd8Nym6svqauk78/f32PAQ77/5QQF9BlkP0RQOFAgPCA1iDr0Q1w6wCz4KkAPX91/xI/Ik7+jpz+vZ7QXpSuay67/vcPBH9iT/LwNkA2UGkwm5CD4HWArTDe4K3geIA37+evk29lT2ovOM8A/vVO9s70XxMPTP9xf5kfoi/YP/cAJQBlgJSAoEChIJ1AcBBoQEFAX4BLwEjgTuBEgELgWSB4UJKwupDGIPCBK7FFgZoSKIJyARTPgj9uD/yPms/W4Gm/au4JDhZexR68Putfp9/4v6uP0dCP8IxQZwDeIVchgvFYUPgwhvA/39Xv3z/+n7cfEN65Lrf+lg59jt6/Ql9R33VP/NAv8AaAQaCx8PIhG9E10RWgqFAvT8avxu+HnzHvFc8ObqUeqo7PXs7u/u9Mv6G/+mAfADugeNCNMITQvLCbgGnQTXAp8AmP7B/Bz7ZfkA+LP5dPsp/fv/ygKdBBYHJgqBDfUQmRQCF3MYYRgAGvgbjx5uIR8omScjBcHkvOFe6jTjrO79/PLwFd415bXzZ+3r7dICpROqE+8b+iaWHAoLygf4C5oJ0AV+Be4Ag/Zm66Pl/ODK3s7guuo2+JD+k/4rAQMFJgVHCfISvRbIEnMQJxDyCRcBAvyS9jTuLOt+7xPx+O616zvsaO1774X2xwBbBaEHLw2aDeoIiQWjApn/Hf7i/Zj9Cftx9vDzI/Od8rH1Sfoq/kACigWHBrQG4gVtBVwFOgUHBj8HRAdjB6MHpgeTCMkKAA45EpUVShcfGdkZchvEH64qdRmK8fLcR+LY3OTaK/KT+27uZOYy9eT3FfF4+ZAPERa0FqsiDiiQHNsPYwYh+qHvkvCo9MD0rfE77hbm7d+c5JXtZfRh/NYGeg+3FGAXGRevEgIKygHg/qX/4v7F+qj3QPQu7F/lR+e57BrwUfbkADcJEQuGC+cMYQqxBasDkf+i+y76lff19JH1YvNR7+XuEvF89gD9HwMJCKAJbgd2Bq0FzALr/0j9y/t9/Mf8Nfzn+yH7W/r8+x4A5QVyCmkN/A/iEBwQ3A6cDqgOxw/VEHgTChZlGOMalCMuKewJZd8m0DfVR87F18/0wgbL/ef3eQf0ERoIUP+RCI4R2RO5GWQkuCNyC1PuJePr46jePNtQ5XvyVfVb9XQA+Qq6BoP9e/+NCOUPtBR8GDEYNA8QAADz3+t151zjSONo63/2Jv2GAW4GaQdpA1YBgQV2C4UODg+iDrQLfgWO/Wr1uu285M7gOuXH693ybfsUAJ0BVARzBigINwi+Bb4ERwSBAdj+M/xY96XybPCl8ub3Evx5AC4GVQlUCmYLFQu7COAE2wE9AUoBHAGaAmIEJAbPCJYMCxEjFccXuxqKHnElMi+RH/v4PN0H2ZrSGcxu2MbvlPml9IwA7hkQHvMKqwROEKsT1AvKEOEfRxrT/kjvvvBO6j/ZpdPU3cnn9+3j+3MQoBoaFj4P3Q0XDrwKMAbRBOoEkgFv+4r2lPN87nfmiuLW52/xsPlGAtgMERWdFs8UHxMdD6MGxP3X+Bj3IPZN9dj0OfQ388/yhfN89RH4XfuD/uYBKwcqCRgHlAOT/+z6kPdS9Qf1XvbH9lD4avzr/z0BjAHKAaQCMAOrA6gEggRyAnUAtv42/UL8wvsI/Bb+lgH6BU4KYQ3RD1sRjxFzEcYR6BGXEe0RIxXoG58nVSM6A6fhGNfb1OTJE8r03/X28/ptBNQjpzeRJyARyQ9ZEWsCjvYmAOwJ8fzi7RT0xPzm8L7d2ds95l/ruO9TAZwXLSBYHJ4atRz5FuYFUPWX7p3s9eiF56Dt3PWS95T1JvmLAGECJf/AALMIbA5QDxYRtBNXEIQG5fyB9ibwsuhW5DTmq+yT9HT8OQQ9ChIM2AoECREHFwQ+/xj5GvUz9Knz//K88y72kfg8+lX9gwILBoIGGQeYCNUIVQZ9AhX/w/tN+IP2NfcV+U/7LP6cAjEIcAxUDv8OIw8TDioMPQs7C0ULBguUDKUPihPBGG8iJynZFZnyVN833qPU5sfR0abqAva6+bESuTK+MXMZJxKNF/ILKvM27wz84PnH6y7xigRKBCPxHulM8fvzJexw7gkADQ54EIoThh1qIaMU1QFQ+Hj0qeqY3vzdN+gL8e31NwAiDpAS3AxvCZALGgoDAjz8uP1cAID/vP5OAIf/5/nm81XyffOt8xj0d/i2AKkIcQ1pD74PDgzlA5r6nfMM78Hqyuhx7Gz0wvsuAdsFTQlhCacGXgQyA4IAtPyL+ob6N/tX+677ifxk/Rn+s/+eAtYFjQh8CgcMVA0LDTALwAn9CKUIsAiKCbYL3Q8TFWoc1iLiFcH60exk7D3gu84B1DzpoPO++NQScC+0Lb0chh4HIxwO5O/56CDv3ueD3r/qQ/4XANP6vAEwDMUHofl79C37of86/br+fwgVD+MKiAUsB1gF7vb352PmK+tK66zsJPi5BrQN3Q8BFCwWbg89A5T67vac8uvsRuwc86D6H/5AAYcGMwl9BiID+gELAOv7Tfns+bP6PPqR+d/5Dfth+yv6ivnD+tf85P6xAOsCMwUcBmEFpwR0A7AAjfw7+Q/4Dfhb+MP5kfyp/2EC1QRYBzoJhAkUCUwJ4AkWCmYKeAtCDUEPHBFrE8oWHRxGFrEAc/Fz8enogNTz0t7koO/t8mIHyCL5J9sfWCUvKwIZiP6B9Kvz0ulR4IzlNvLI90T6YwJqCz8LVwI6/In+ov+p+A319/wTBTUEzAOPCVkKxQD499/1WfL96gvoDO3r9Cj7uAB/CJ8Q4RJyDrkJXAb6/sT08u/l8G7w6++r9Ov7sf8BAfcC3gRZBPsAd/6+/bb8V/vB+1L9gv7W/iH/yP+H/1f+8v2d/oX/5ABsAu0D6QT/BCUEeQIxANn9uvvk+bf56Ps3/7oC6wacCyEPBRFoEmoT4RIOEdsP9Q8dEj0SOQie+1L4t/Xl6EPgS+ac7XjvGPf7BzMSzBNBGbsh1R1FEdUIzwQ0/bbyteyx7G/vePCs8yH6LwDkAPj/QQNdBW0A5vrD/Eb/Mv3w+8r/UgOBAjoB9wAm/7v6ePZf9F70f/SE9Lr30/1JAsoDmAV8B+kFjAHT/Sz73PeJ9HvzKPWx9zn6KP7CAisGxAfFB1AGrwMqAF78b/mi9wn3c/ca+Uj8HgAvA54FkwcrCBEHLgVPA4QBzP/O/k7/mADMAesCQQS3BbcGLQfPB98IpwlvCtsLWw7JESMVGRQiDdYGCgMX+7fvrer46rvqOuzd87X9CwU0DDoUIximFaIRlg0iCJAA+fj6883yO/OI8wP2ePp0/f/9O/8WAK39MvpM+UL5NPgt+GX6jf2OAPoCUASuBNwDnQHH/kD8VPkf9oX0/fTj9dr2G/la/Pj+EABbAJ4AXQAR/639avxm+2z7bfwN/h0AHwKHA3QE0ARbBJ8C0P9F/Rn7Bvnn93X4W/rN/Hz/twI2Bt4IOQprCoQJigclBRoDrwG6AKkAyQGnA6EFoweGCdgKzgvkDDkOhA1gCQcF3AGu/GL25fN29Ar1wfYJ+zIA/AQHCg4OtQ7eDMkKlAc1A+D+Gfvq90f2N/YS9xf5pvuw/ST/fQCIAFj/Wf45/fv63fg8+FX4Dvm7+p38Uv4kAJ8BIAK4AU8Azv0Q+x/5sffW9i33M/ib+Yf7ff0q/2sA5wDcAEoAR/+W/gj+U/02/bT9jP6Q/5kArQGRAu0C/QK6AssBbgAY/+b99fxk/Lf8Av6z/74BMASXBmgIcAmiCS4JIgjnBgMGawXFBHEE7wQxBvwHKAo9CxgKPgi2BSABLPx8+Qn44Pbq9lz4RPuW/1wE+gcRCkILigtTCj0IQAVzAeD9EPuJ+KH2RvYL93/4Tfoy/HH9hv6c/7n/hf7//Lj7evrM+f75sfrI+0z92v4QANkAFQHOAK7/ev37+vD4ZPdr9lT2PffA+JT64fxo/10BhgIEA9oC8QGjAJ//Mf/4/sX+x/4x/+X/gADbABEBNwEcAcsAtQANAXEBogH3AbUCbAPwA44EYAUYBnUG4gbRB8AIDglBCXUJVAngCKAInAfvBaUETgLw/tn8S/xk+6P67/ob/Of9fQD3Ah4E+gQ6BrIGCQYyBcsD/gFcAJL+ZfzQ+jv6v/n4+JT4zfhX+Sz6xvo/+9L7Wvx8/IL8p/yQ/IX8Hv3N/Y/9Tv3p/X3+Hv5N/aX82/vv+lH6Qvpu+qf6G/vC+2j8Hf3h/d/+rf82AL0AQAFkAVsBWQE6AQoB8QD5ANkA1gDvAP0A+gAWAUUBiAHFAewBIwKzAq0DlwRYBUQGQQfrB2AIuAihCGcISAiCCLoI5Qc1Bw4G8QJ0/+f9Rf0I/Pr6j/pJ++78Q/+7AAUCEwS9BUQGWQYxBkgF0QOkARD/jfwR+7n5SPiK94f3//c++Y36Cvth+xn8jPxO/GD8rvyy/ND8Nf0i/Qj9Zv1s/e78j/xJ/MP7Nfvz+g77F/sx+437zPsP/Lj8tf10/tv+bf9gAO8AAgF6AQYC7QGFAXwBmAFmATEBRQFwAYABggGmASMCvgIlA6kDdgQXBUAFbQXcBSsGKAZZBvUG0AebCIYJBgqxCQoJ0AZNA6IAc/8d/kj8WPtu+wf8RP0I//j/+ACbAuQDEAQdBFgEJwRNAwACTAB8/j/9u/sD+rD4Ovhq+B358/nC+pX7TPyG/Dn8LfxY/H/8gvxO/P779fsv/Cf8HfxQ/IL8o/zB/Pn8Qv2R/c39vv2J/YX9nP2a/Z39xP0K/m/+7f55/xsAzQBOAZsB4AEiAj0CagK3AvQCBQMXA1kDlAOGA2ADeQOlA7ADBQTGBKIFYwY9BzMI8ggyCW0JEQlOCGQHAAU4AsQAjAAQAD7/2P7Y/hH/kv/5/+X/LAC7AD4BgQEsAt8CTwPnAs4BbAAv/xL+VPye+n75LPk/+X75ofki+uX6Vvsv+2L79/sY/PL7JPxw/Fv8gPy8/L/8jvxz/I38ifxa/B78IvyO/AL9Lf1+/Rv+g/58/l7+df5z/kL+Wf70/tz/qQBWAQgCggKtAsAC1ALoAvsCDAMrA2cDwAMXBFwEnwThBPsE+AQdBW0FxgX4BW4GYQd9COEIOwlUCbUHZQX+A2oDFQJFAPP+Y/4K/tX9h/18/Rb+uP4h/8P/MAFwAjEDOwPzAi4COwH+/zj+Rfxx+j35p/hW+PH3/veI+O74FfmZ+X76SPvl+4P8Fv2N/dH9uv1Z/Qz9vPz7+zv7wPqJ+rT6U/sG/Lr8pf2N/vr+5v7P/uv+4f6g/m/+i/77/pP/QwD/ALgBVgLIAgwDYwOyA/MDOgSLBMEE2AT+BD4FggWnBeAFJwZaBkYGWwbqBvEHkwgcCWkJLAhHBhsFlgROA1ABj/+p/lr+L/7C/Xv9BP6E/rv+BP8cABkB0QEOAgoC1QGOAcYAQ/+i/TX8zfpg+Wz4yPd893n30fcQ+Fb47vjR+XT6rPrs+mb7FfyJ/Nf8Wv20/Yj9NP0F/fz8s/wr/L77qvvV+w/8W/zc/Hv9Af6b/lb/7P9kANkAYQHQASsCsgI9A3QDewPDAz8EewSBBLcEOgXBBVsG6wZZB6EHyQfSB/AHHQhaCI8I9wj3CLkHSgasBVYFTwTpAtQBHwGRABsAev/U/o7+b/5Q/lT+2/6H/xEALAAKAJ//Tf8W/3L+bP2X/Ab8e/vq+mz65vlF+Z34EPjG99z3MfiM+Pb4bPkG+s/6cfve+y/8c/yn/Mv8A/0q/T79Qv0o/Rv9J/08/Uv9Xf2U/Qv+o/5B/+f/dwAHAcgBRAJ3ArMCMgOdA70D+gNhBLkEAgU+BagF/gUWBj8GkAbCBtwG2AbYBhcHawf2B3YIxQh7CMkHDgc5BkQFVwR+A68CEAJ4AfAATACe/xz/rv46/tj9x/3o/RX+Gv4j/hf++v23/Xf9Gv11/PD7qftx+yz78vrZ+uj6xvpe+vP5svmD+T35PPmU+Rz6kfrn+jz7lfvh+xT8TfyU/Nr8+fws/Xz9wP3i/f79Kv5Q/nH+sv4j/4n/9f+tAC8BqgFMApwC+gJZA54DswPaAyUEWQSfBP4ELQVDBXoF8gUjBjAGYwacBrgGygYKB0oHTQctB+kGfwb1BVUFxQQeBGUD5wKRAksC2gEuAZYA5f8v/3n+/v3d/c79rv2S/bL90f2a/Sv95vyo/Fv8GPzn+8T7qPuf+4X7Xfsx++j6hvos+tf5c/kz+Sf5Pflv+cz5TvrO+kH7rPse/ID81Pwa/TX9Lv1O/Xn9wv0g/n7+r/7z/n7/4v9IAM8AUQH/AWwCzAIsA1cDzQMsBCsEUwSABK4EEAUnBToFmwWyBeIFIAY4BloGXQZiBmMGZAZ3BmsGRwYgBu8FmwUeBXIEpwP8AlYClQHBADcA7/+w/2v/Ov8D/6X+VP4X/q/9Nv3U/IX8H/zX+637k/t2+1L7LfsJ++D6o/pi+jD6Nfo1+gf64vno+fr5APoq+pH69voz+2r7q/v7+yr8RvxP/I/80/wn/dP9uf49/6P/HQBoAK0A1gAqAYABUwGnAQ0CcQISA40D5gMCBHEE5AQyBUcFXQWeBWkFRwVHBT8FNwUzBXcFkAVgBU4FegV9BWgFMgUKBe4EqQRoBB4ElQP3AnACzQFDAe4AlAAXALP/e/9X/wb/qP5t/jn+5v17/Sb91fxo/Ar8vvuH+0f7Fvv++uH6y/q9+rj60vrV+sL6sfq1+u76QPtt+4b7wvsn/FL8R/yE/KP8ifzU/E/9Qv1H/az9Sv7d/jP/GgCHAB4BQQFVAasBLgJsAnECnQJzAqwC9ALgAt0CdwMsBHgEvQTIBIIEQwSCBBoEzgPgAx4E+AMDBCwEggScBHAELASbAykDEgPlAnYCGALdAYcBhgFtAT0BQAEdAbIAVgAlANX/dP8K/7/+ZP4J/rv9ev1g/Rr97/yl/Gz8Qvzv+6z7s/uq+5P7+PsI/P37H/z3+xX8h/yE/BT8ZPwJ/Sj9T/1O/V/9Wv0Y/if+Fv5w/nv+a/6E/v/+z/6A/5YA2f/IAKQB2gHEAVgB0AIDAj0C4gGDASoCPAL7AXUB+QGdAVcCSwINAoYBBAIjAroCpgKQAsgCugJDAqUCRAJUAdcA4gFsAa4A6ADyAPUAWwBWAHEA0/8nANL/h/+B/7L+E/8F/0v/Ov/k/jf/cv5T/4T+Jf6q/kf+Wf0s/eH8tv1U/rD98v3d/d39NP7B/Xr+j/6X/VL9cv5//hj+B/99/wz/zP+W/xQA/v9KAA4A6f9XAGgA2/+DAKoArACKAMAAOQGwAN8AiQDPAHgBzwB+AaABpgKfAXMBngGUARgCRgEIARABpQE/AawAEwGkAKwABgEcAY4AAwEKAWAAagA3AKIA6gChABcAJQADAF4Aif+z//z/rv90/2P/Z/8z/9f/8v8o/9H+zf4l/+T+Xv7r/r7+6/5A/9D+mf+O/0z/iv+T//L+TP9J/zX/2P4x/yD/3/5y/3L/dv9r/+H/0f/u/1f/7P82ACYA2/9tAOsA8gDEAOYAPgHYAEcAJQGvAJkAdwHuAMb/JAEbAZYBuQDXAPQAVwDDAIcA/wA/ANEAFgF7AMgA7wCNAEsACAFGAAwAagBDAZIAQQCDAOX/6f/KAB0Aqf/RAHQALQA5ALz/Pf8vAH//Lv+i/yD/j/+N/3H/nf/T/z7/Ov84/0r/FP/9/hQANv/H/zYAl/8X/7//Fv82/o/+w/4I/1n/Uf9L/8T//v+7//7/HwCB/1n/bAA6/xr/Nv+p/7j/+v+ZANb/FQA7AMz/CgAyAH0ASgBGAJ8AQQC4AMwAeAC7AI8AqAD+ANgAPgCKAHoAvgAKAdEAjADmAFEAqwCIAF0ANQBRAJkAlQDNAOr/KgAHAYT/q/8kAL3/NAAgAJX/UQAgAIr/nv+e/6b/mP+//5T/Pf8zAI3/0v9q/9P/3//E/13/lv+o/k7/XP8H/4D/tP+3/wEA2P9B/9X/T/+G/7v/jf+z/zIA0v/G/+3/rf+F/3L/AADs/wgAIQBdADoAdQBUAKYAYgDDAIAA4f8XAacAKQAXASYAEABNANUACgCNAOMAfQCDAC4AEgB2AKMAdwCaADQAuQCYADAAoABBADQAsgBBAFIAjwB5AEQAQAAyAMn/x/9i/yQABv/y/14Apf8WAPz/t/8ZABwAqP83/0j/lv+Y/97/4v97/4L/xv/6/sf/Qf+N/2//hf/n/5z/6/87AAwA/f+Q/54AZf+Y/4MAEQAtACQA7f8uAHQAwP/z/4sASAD8/8cAqACr/4sAMAHE/+cAHgEPAMX/twDKADEArgC2AIgA3QCyALcAlQCWAFQA0QD6/4MAfAAxAFwAIADa/7X/4AAFAQgBnwCbAIP/QwATAdz/qP/EADMA/P9jAFMAc//k/wEAmP8A/+v/cgCP/3r/TgAPAMv/NgAK/yD/1P+o/yb/yf8KAJv//P+//wgAIADA/7X/df/C/4r/6f8JAB4AKwCsABgA4//x/yYATQD0/0AARACDAEMAOAB5AAAAswCPAJoA//9TANEA9f+QAKYACAA/AHsAqgBoAH0AswCHALgA4QCrAGcAlwBYADgAQABcAGkAlgAMAO//RwB3AB8Auv9IAH0ARQDV/zwARQCg/7f//v/G/5T/kv+Q/3r/T/8v/1H/yP9k/57/JQDp/9P/8P80//P+b/+v/5f/nf9X/1f/rf8SAKP/W//P/5r/gf9h/1f/t/9TAGYAdv+a/8r/7P9UAKT/P/+B/8H/0f/S/6j/EQBGAJEAJABgAHUANgDf/wYAdgCq/6D/HgApABQAVQB5ANH/NwBPAEoAEAAVAGEArf/L/5z/z/8HAEUAPAA/AEAAuP+T/33/ZP+l/7v/rf/2/57/UP9s/0X/VP+O/9f/lf9O/4X/nv9I/3D/uv8z/27/qf8F/w//0f9o/0L/gf+I/+L/tf8q/yf/v//8/5f/f//7/5f/iv/l/37/x/8pAML/5v/g/+D/AwAkAPf/PAAjABEAKgCxAH4A5f9oAO7/DAApALv/DABbAHEAQABDAOb/9/9tAND/5v/b//v/HgB3/ycA2v/b/0EAigAkAM7/XgAxAMz/Yf/0/xcAZP/w/jH/HAB6/6//q/8n/x3/f/9h/4n/9QCo/xf/r/9b////AAD7/6//Z/+J/9/+Lf83ABQA+v8q/8n+vf6I/r7/vf8p//f/aADf/8j+MP8//yn/Zv9tAKwAKgD2AKoAa/8dAZQBYQFTAa4A3/8JAFYA5v9hAZUB9AHbASkAQf+m/zcA2gDOAHoAGgGoABsAegDfAFEBwwDU/yEAVwBJAPwAeQBuABYAmACTAGD/JgByAFsAHwBAAOP/RwA/AFQA1/+C/8n/1v8yAH4AmQB3AC4AagAgAIQAhAC0AO4B6QDXABkBGAHrAPwAZgF+AWMBmQFbAU8ATQBeAIsAFwDzAGwBFgELAdUAqQAvAAcAQQBWADAAfgBsAP7/JQDs/7j/kP+O/5P/av+a/4H/cv9N/zn/Ov8Y/3P/u/+h/3v/oP+V/9n/gv/i/pv+yP63/lT+Sv6R/p/+nf7X/h3/Bv8S/8f+sv5R/jf+Nv4U/vH9oP3n/Q7+9v3h/UD+V/59/jf+T/52/nb+qv4b/ur93P2X/bz9r/3H/Rv+Qv6P/qH+Jv78/W/+n/7P/gz/gf+W/1T/Lf/j/hj/4/67/v3+Uf+j/0D/H/8Z/xv/M/+J/+v/fwDGACcBUgFsASEBjQBsAKAAgABmANIAJAEfAe4AugAGAXEBoQGeAakBnQGmAWoBMQFQAQ0B+gCwAa8COAMvAz4DWAPdAs4BUgGzAe0B4gEAAkgCrAKvAp0C8QIjA98C1AJiA5wDZgPqApwCdQIdAt0BCQLuAcIBPgKMAqMCrQJ3AmQCqgIsA3EDvgP2AzAE4wQvBdkEhAQ4BLEDfAPiAlgC+wEPAW4A8gChAfcBCgI+AqACrQJ2Av4CzQOkA+8CtgIvAzsDXgIiAZQASwBv/8H+yf6t/gn+jv3y/QD/+/50/n7+7P7U/oj+Xf5+/jv+/vyI/Bj9Xf1y/HT7ffsa/Fb8Mvzr/Ib9kP2E/Qv+yf6j/sT9Sv3v/Sv+xP2c/d79kf7h/nn/QACrAHsAqACKAf4BIAIVAmQCfQI6AU//gf5U/7f/Zv9t/9wA0wL7A/gEzAZBCCII1gavBREF4gOSAtICWQRkBbAF9wYoCU8LMwudCPQFFgOU/9P7t/rN+s36mPqG+8z95P0y/Z/7+Poj+jL5IPk0+lL7zPkb+d74I/gZ93r1NfQ/8xfyb/Hm8oD0a/Wh9nH3aPgf+Q75Kvkp+X/4zveb92f3efen99b3u/iy+Xz6ovu4/Kb9jf43/5//9//E/3L/Rv8H/+H+3v4Z/6X/ewBeAY4CkQPRAwIELAQHBMED2QNwBMEEyQTmBGEF3gWHBeAEaARgBE0FrQYeCA0JTgkNCRMJ1Qk9CZwIfgdeBogFNwSYAhMAwf3Y+r346Pe39474/fhI+hf8rP3U/k7/d/96/qz9ffz0+1j7MPpr+aX4Gvhk90r36/ZM9q71vvV/9sv2aPYa9jH2bfaV9yH5ivoq+xH70vrr+rT6DvoX+lv6BfsD/DL9X/7d/qT+VP6T/tr+U//8/8IAiAFPAuQCaAO/A9oDTQQGBR8GaQeJCEAJgQl2CQsJiQg9CAQICQgSCAEIXwhUCSYK7wrzC90M9w2uDv0O3Q8nEWUSFhO1ExcTlxCnC3IF7ADi/bz7b/qL+n77jvw0/nUAnAL3ApQCswINA7YD6QNiAzQC8wAY/2/9Xfwl+6n5jfik+Lb5J/ue/HL9jv0U/eL8iPsm+gz6t/lh+Q35XPlk+BH3/vVB9pv3qvhc+gn8if1H/pD+gP7w/ej8bfsf+5n7PPym/EX98f19/iT/DABdASsCvQJ5A0AE1ATdBEEEjAMgA/0CiAPKBFoGpweiCD8JEQnqCPUI7wjWCKgJHgo/CjgLQAvPC20MLA2eDpcQOhOnFnMZlRVtDZMDmPgz753qT+oH6/ju2/T2+1QCYQYYB1oFKgN/AU0BgAISBNwDEwJkAPr9Ifru9VDyf++o7pvwtPSW+bL9TwCPAXMBOQCT/rD8/vp7+Vb4D/hr+OH3cvZ79bP0RPTx9Kr2IflR+139MP8XADb/R/1V+4/5pPin+Kz5T/u8/O/9Bv/b//j/lf9W/6z/XwAIAcIBLwLvAWEBBgE8Af4B/wKIBLQG5AiHCn8LmwsNC4sKQgrjCTwKxQoiCzMMUQ0FDigQpBJdFaAZsR9+InsW4QH38O3kOdqX2WnjWOsi8Vv5rgRhC5wKjgaVA20CCwOrBsoLWg86DcoFlv+p+nHy7ujT4/7j+uYr7aT2zf9iBP4E4gSBBLIDcgIPASEBdgL5AokBs/5O+q7z6+0/7Nntde/g8eH2efwGAaoDUARVAjP+jPpR+b/5u/p++xr8oPwd/Zb8q/vj+hD6e/qj/P7/pQJ5A+ICkwGy/7H9Y/yo+7b7Nv0zAPcDlgchCgML1wqoCoAKmAqoCt8KFwvnCy4NQQ7mDm8OJQ8wEeAUEBoyIAQnJxkL/PzqE+U12VPUCePY6k/rO/RdBpENdQchA6EDYgN/BloOERRFFRkTaAszBPv/VfXx5e/dZOAM5YzphvIH/F/+WP45AlMFKgR6AjMDvQYUCygNcgqaBHj9g/a58EHunu477gPvK/RT++X/rQB1ACkAUv8y/tD9w/0M/cP8X/2d/tH+YfxF+Sz4AvkT+kr7p/0aAKsBEwI5AgABBP5A+336qPv5/D3+DgBBAsMDcATWBAIFyASOBLUFSQdLCA4J5QmdCscL5wvQCnALUgzZDfEQ4xWWGpggExZC/KnwBO+S45XcT+ye9TP2IAM6FtwUbwd0BroIsgKIAAUHpQeJBrwKgAorAsv66fIR6Ynn/u4c8/byO/vcBvwIkQZGBn8CQfp5+I38kf+L/2IAFwKyAd7+F/qa9UDz9POm9Yv5Jf/kAmcE6wTfA+D/BPoH9Zb1wPfS+EL8+wDCAvUCFwPUAAD+r/vT+/j9pf93AIgBrwGMAKb+evt++UX5ffop/a0AWwNBBacG8gZsBk4EYgL6AXoCVAOlBCUGZgcWCKsHIgfvBqQG9Ac/CtkLMQ7+EfMWBxXaBV77TPpj8zrqXPG6+Ej3SP+2DB4MxwKABPkHeALU/l0EdAUVBKEJTgxrBdr+6PtW9nLyHvOF88vzJPmjAB4CHAGbATgADP0n/NX8evyx/WkA5QKZAtH/Ev2/+0f6F/hZ94/40PqD/UEA9gDB/pr8Vfu5+R/4yPYl+K774/7pANICkAJPAfoAlf/Q/ZP8+fzH/jQA+P8PAIP/HP4c/fX7Ufv4+5399/+JAtYDwgTWBeYFRgUUBKMDmgTuBfAGaQgDCfMIoAmUCXwJiQmgCnAMsA+XCZD/fv8Y/uH0R/KL+lj5kPkGBNAIiQFjAYgJnwbR/xIC5AVIAsQDNwggBaP/Iv8w/rH55Pbt9Rz2kvj/+uL73vy1/n3+l/23/bD8Ovw2/hYA3//t/7v/BP+f/l/9tPra+QD7O/ur+z79cP0w/IP8TPye+oD5iPmF+lj8T/3d/mgBxgFWAb8BJAG0/5b/xf/g/6z/u/+9ALYAU/+X/kH+n/3C/Sz+8v4vACsBmQLeAwoEygMwBG4EIgReBMoEhAXrBRkGXwbDBh4GfQXuBSYGqwaWCCAHewFIAcQAE/vc+BL9bPw6+1MBeQOd/54AgQWkAqb+KwE1A6AAlwF5BJcCbAAbAXAAb/3K+x37Jvt7+wD7QPvp/Hb9qfzE/B39PPyS/Fr+tv53/nf/CgCM/0L/Xv6F/aT9Yv1n/Ib8p/wp/Hf8TPym+wH7h/tI/GH8lPzK/X//SwATAYwBgAFHAVMBHwHBAGoAgwDEAGcAFQD+/xEAuv+N/67/PgDmAJIBaQJKA+oDuwRdBa8F8QUaBsQG3QZ7BlAGjwY6BpMFtQS3Aj0BNgC6/rn9Fv50/rj+hv8bAFoAtgBoAWoBFwFWARQCYAI7AhUCYQGBALP/2/7G/bn8QPxC/Bz87/tW/M/84Pzk/C39Vf2P/Sj+tP4O/1j/gv9D/+z+pv4x/v799/3K/aP9xP3R/Wj9PP1P/b38s/wk/QX97/yr/Rz+MP7r/ln/mv8NAJcAvQDcAAkBegGJATIBQwEqAckAkAC5AHgARABhAKIAAAFEAfYB8gJ6AwAE4gReBa0FGAY3Br8FbgUoBWcEvAPeAvEB7AARAGz/1P6X/lL+MP5B/qj+Mf/g/3oACQGNAf4BOAIqAvkBYAHjAE8As/8d/4z++f0m/Xr88/uc+2/7U/ti+7b7RvwQ/dP9SP7J/kn/kP+T/5z/c/8e/xj/n/7c/f/8bvzi+1T7b/uV+8P7P/z9/Gr9A/7J/ib/Nv+E/+H/3//P/x8AeQB+AO4AiAE0AsMCcAMBBHEE4QRbBQMGBwcKCBYJVgnwBzAG4AQbA83/Gf9h/6f+8P7XAMYA2/9yAcIBQwBAAKwBWAHFAQcDbwP0AvwClwIVAe3/tf77/RX9EPwx+1v7G/sd+gz6KfrA+Rz6Sfub+//7Fv3b/QT+Yv66/hn/3P8YAOn/8//e/0P/1/5e/mb9v/y6/Iz8efwN/aP9C/6q/iv/h/8jAKgACwGsAUUCxQJtA7gDYgMGA8QCQwLAAY0BcwFkAWoBawEvAeQAegAaAOb/yP+m/+L/TQBoAMIADAFUAUgBMgH8ANEA0ACmAJEATAAXALP/Nf+Y/hj+RP3P/KT8h/yp/Dn9uP0N/sL+CP82/2v/kv+a/+f/JgBzAL0A3gAYATQBKAEGAc4AiACYAM8A5AAlAXUBmAHSASQCUwJfAl8CggKyAscCFwNiA5gDnQPLA7gDiwNhAx0D9wLLAq0CAgJKAbYADgBX/xv/Df/F/vP+LP8S/xn/UP8Q/9P+mv5e/mv+S/71/eP9sv1g/Vf9Hf2Y/F78VPw6/DX8Nfxt/Mv8Cv1N/aD90P03/vX+kP8qALkARAGkAQwCtAIyA5wD9gOSBJkEbwQ0BLUD1AKwASQBeAAaAP7/cQB4ANQAdAGwAd8BLgJVAioCvQLvAgMD8QIHA84ClAI5ApMBGwFVALz/K/+h/sr9Nf2r/C/86Puv+3/7fPu1+/37aPzr/Fb9nf3x/T7+av6R/rL+pP6G/l3+F/7Q/Y39Sf0J/dr8xPzc/B/9c/3I/Rf+Xf7d/l3/uv8QAJYABAFnAfABSwJ/ApkCrwKfAnACPAIqAgACnwEsAe4ArwAOAGv/Yv8h/8r+Kv9x/2v/v/9jAFgAXQCUALYAowCnANkA7gAAATgBigFkAU8BbgFSASwBgQGBAYoBEQJ3ArYCRQIbAfwAgQDe/oj+vP7Z/QP+VP+k/nb+uv/n/33/hACsAHkAuAEmAvcBYwJvAvUBJwKdAdkA2QCUALX/oP9F/1H+af6G/tH9c/21/Y39u/1B/lD+bf4H/2b/ov8lAEwAUwDEAAIBxgCvAG4A8P+n/0j/wf5+/kb+4v3X/d39i/2A/bT9mf2z/Sn+gv7r/pT/8/85ALEABQE2AWQBcQF4AX8BUQESAeEAmAA6ABoA5v+J/1//a/9n/37/0v8dAGoApwDkAAwBIQEdATwBZgFvAYABugG2AZoBkgFBAbMAVwD6/2n/B//a/qT+kP6w/pf+mP61/p7+vf7R/uH+8/4i/13/XP+R/73/9P/7/0QAVwBHAD4AJwAKAMD/1//V/83/vP/X/+P/xv+q/6//p/+f/9b/FgAuAGUArwDdAAMBNAFYAWcBdwGIAY0BpgGhAbABswGIAV8BOAEbAeoA3gCiAIsAdACKAHIAWABHADQAIgD8/wIAAAD3/+b/EQAPAMz/tv+R/07/Pv9b/2r/e/+z/6z/vP/O//X/3/+9/9b//P/9/w8AaACRAK8AAwFrAWwBkQG2AZ4BlgGjAYwBZwGAAZoB1gHlAcoBcwFPAGD/JP+B/sT9Ff5d/gf+ov4J/5v+ov4e/97+9f61/+//QwDeAPAAmwB1AJz/9/7k/tn9B/02/bz86Ps6/Nj7I/ti+737z/tP/DH9GP4Y/+v/sACDASkCngKgAxoEpQSTBTsGTwamBoYGmQXLBGgDCALgABsAZv4o/Rz9M/xY+6P7qvu6+tn7Nv0n/QH+DwATAcwBqANdBGIE7wQ4BcoErwQMBC0DzQLHAVQAe/9L/rD8Mfyq+4n6V/rQ+rL6CPvt+zz8rPzD/YL+Pf9FAAoBngFzAtsCzQLfApgC3gE+AYIAkf+0/vn9Fv0t/Db7DvqG+Xn5Jvkw+Tf6dvok+6f8yP0z/mj/lAAGAbMBgQL1AgYDfAOxA7kDcgOxA9QD8wPxA0MEpQTzBIgFTgbmBsAGoQY0BdIDqwJYATQA1f9e/4H+rv4+/mz9Gf0e/YX82/wa/q/+T/+9AKEB4wGSAsgCjgJqAowCVwIyAsIBGgGUAMX/kP6Z/cr81vtg+137Sftn++f7LPxj/OD8Xv3M/Zn+cP8xAAkBxgEaAjsCLwK3ASEBkgASAIL/3P6P/rX90/tb+6L7dPoH+vP6cfpu+jb8zvzA/N39L//F/8IApQEmAp0CUQPuAzIEHgQ5BNsELQVaBaMFtwXBBZUGOgecB1EIpgimCNEHcwWlAxkCuf97/pX+Dv0D/An9d/zk+hL7CPvD+ev65vxX/Zb+CwHvAbUC6gPCA0EDngOaAzQDXwO9AsIBWAFMAGD+/vzC+0n61/n7+aX52/nX+l/7y/un/Db9iv28/v//rQCFAXECjQKCApQCWwG5/+j9ufz0+x37lfp0+l/6Ufr5+vf6q/ol+yn8F/1L/sv/CQH1ASADKAR9BN0EtwWsBkkHLgj7CHgJ4QnbCi0L1ArRCvQKOgprBxwEWQEk/4D8GPtc+vH4PfhV+Xr5MvhW+F355PmF+5f+RgDIAXwEpAYKBx0H1AbIBUAF8wQOBLoCbAEHAKf+/vyo+pL4X/el9of2JPfe96T4Lfry+w79AP4+/28A3wGZA8QEUgXMBf4FbgVJBNYCwADI/jT9ivpT+AP4I/dP9TD11/U/9fv1+vfz+P75gPzT/iwAzwFQA/gDawQiBYMFbAU8BYIFxwWyBXoFxgWJBUQFVgXVBfIFIAaJB0EI0Ah8CSwK2AjtBmwEpwH7/37+Hf2P/If8v/u/+7r7dPr5+GH59vlz+mD8rP4WALMB9gNcBPUDAATYA0kDNAMxA2ICvgEvARQAb/6o/ND6Ufm3+Iv4n/ge+dD5ffo6+/X7KPx1/CX97v0F/if+h//D/8j+i/7t/oP9uPwi/V38ifs//NT8WfyN/An9CP0Q/cD9Qf6x/lL/mQDeAdsCBwRfBYkGPwdECEAJEApQC3sMaA1FDnAOsg3GDSsO2AzEBq0AOwFB/9H4Gvhy+pz1oPNw+Qz45vHD9N/5jffm+GQAawEAAHUGsgpVB6wGOwmxB5UF+gbeBXQCJAGGACD+SPuu+M71yPTj9Dz0Z/So9Tb2Dfd4+d/54PfN+QL9ufxa/cUALgGTAOwCRQO7APL/FwDm/mD+O/7B/Ur9S/00/QL9TvzL+7H87/0F/6IAzAKHBD4GNghaCbEJDAsmDb8OwhBuE7cUzxWgF3UYzQ7QAzcDqwBA94X0GPn88gXvsfYD94Hs2usF8wfxRfCG+pr/4v3JBVQPnw0ECmkNGQ1/CfAKwAvmBy0FxwWbA7z+P/rr9PTwDvBy70vuKO/28LDxofPv9Dj0KPXY9/n5DP10AGUCxQQ3B5EHqAaRBRsDogF7AUQA0P6X/mv+SP2U/Nr7QvpY+VX64PtJ/Wf/EwJPBHMG7wjJCg4MZw5AEfkTHxdxGY0alhyqHMYQ3wb5BvYBa/b19Pr49PBx7Qv1W/Pc52joxu+z7MvrNvfT/N37rgQuD3oNKQoeD+4PWgyaDWQP9AsQCRAKrQeAAUz85/bY8XXv4u2M6+bqoetA69jsH+/T7cDuLvS+9/r5Jv9aA10EVAfmCYgIrAYcBokFfwR3A34CRgHi/4P+kv38+//56vls++H8P/6xANcDUAa1CQoNTw8fEjEVWBhBG6keRB/6FAQNBQ2zCK39pPnd+zz0RfCZ9XzzuOj35jztYeuw6J7wWfaT9on9aAiACSoGSQvnDkgN3Q1lEMYOLAzKDUUNkQcSAqr9GPmO9RHzf++u7JTsUut66r/q4+kT6gLuIPJL9Dz46vya/7wC7AVYBqgFDgYiB+QGDQY7BYgEWwO4AZ4A8P7X/Hn89P3e/jz/XgHMA2IFUwiUC7cNxg9CE3kX8BquHyYbZA9fDS8OCgZj/Ar/Z/1X9MT2Qvs98uTnr+s67/zo/+mz8iL0KfU8/4QHUAObAoQJAwuACRMMnQ4oDFcMxQ/ADcwHpwP1//n7Evm79pny9O9h7+3tIezq6jHqqOq97RTxVfMH9vb5S/0wAGICPANUA3wEWAadBg0GuwWABZ8EsAO3Au8AY//Z/0kBzAEvAg8ECAaJB+gJ7At2DZYPbRM6F44bohu9EF8LWg3SCUT/xP0kAc35FPfe/AT6lO1F62bxmu5/6bjv9vRj9PL4JgPxA7L+FwNnCKkHQwcYC7wLTQo0DQUPlQqSBakCiP9C/NL5uvbY8QXxu/C67mbtduwK7Cztv/Ax8gvzm/YV+qP8mP8VASgB6wE4BFMF7wTeBAQFiwVFBfIEbQRDA2MDNgUHBgQG2gY7Ca4K7wsIDmwPUxGsE3sY+xmID3cIiQqdCen/xfzTAR/8hfeZ/Pb8t/Fk7ELyIPKa7OLvy/XU9YD39v9CA6D98/6PBHkFcASCB44JKAhFCuAMEAoRBRQCFwCb/cn63vcq9KfyA/Nf8hnwSO5L7gfvtvBC8s7ygPQ++J/7n/3q/rb/WgArAtMDtwOSA3UEqgUXBhQG3QWWBSEGWAcfCFoIuQhrClcMow3WDmMQXBIvFTMZkhHZB1UIygmJAv/7iQEQ/5P4N/yN/wX2pO1A8jD0Xe6M7wz2HfZh9pP94QIb/Rn8IAKQA78BugRzCEAGWQfZC8gJpQOvAXMA+ftv+Fb4JPaw87b0Y/Xh8lzwxfBA8RHxOvIn9Oz1h/jA+yL+eP6u/o7/wgB9AeYB1QIJBG4FcwYMB4EH1AfoB4QIjAnyCUAKMwxuDmQPnBBNE/wVzBedD1QIHAmZCKwBCf2jAuD+JPqh/t//sPX372r1ifRg7o3xdfcl9pj3KP82Amv7PvxFAo4BAf/5AtAGxANlBUMK2AdkAV8AR//Y+u/39/hr97z0UvZN98v0N/H98XXyVPEh8rz0bfYr+Lz7Uf4o/vT9VP88AN0APAHVAmEEDgaZB+YInQksCTgJUQqMCmQKUwt5DWUPphCBE5MW5xXnC5EIRApQB4D/Lf92BAD/mP35AQAACvXJ87/4vvRP71/06vjV9oX5VwC8/yf5Ov1HAqn/YP0TA4sF+QHsBJwIggMM/dz+5P48+Vz3a/qt+DH2XvjF+LLzI/Eu9N7zs/Eh8472VfcV+c78lv0l/Cv9p//4/+f/mAH8A40F3AfMCQ4KiglOCgQLrArSCoYLxwzIDtsRlhMmFaEQNgsrCxYKnAXu/4ADQwMIAGkBLwJx/JX2kfkI+V3z3/Kb9/L3NfiM/Ev/APv/+sT/av9K/A/+hALwAFIBBgXdA4L+h/7i/5X7rPeT+f757PbV90H5dvY584L1FPY48/3y+PUs9133N/ov/Or7t/xs/xYAkP+wAIUDTQXDBoYIuQl4CicLOgzkC8MLjAwNDhAQrRFlE04OeQtVDNMJRgSkACkENQGH/7oBTAHi+xv6wv2B+sn1h/fF+nD5t/on/6//JvxB/6ECBABs/ZwAmwJF/2EAzgK9/+/7Hf7g/Tr4OPYI+X33d/Tw9ZL2tfMO8x72UfX18on0qPfv9z74vvpa/GL83/32/zkARQBUAiwFHAbGBlgI4QkXCmIKCQsPCxULuAxLDiMQug2WCqwLngpWB3kCzQTrAyMB8gHCAub/OPzR/z//qPq/+Xv9bf1j/JL/wgHk/n3/bgN5At7+6/8oAygA8f6sAGn/dPuy+8H8Nvhb9f/2T/d09J/09fV+9KfzkPUk9oD0bfUj+An5B/ni+tn8Vv0s/rf/NwAvALUBzQN1BKYENgZrB60H0QdnCMoIIQmkCvkLZA2/CjsKJAsXChMH+QSEB10FUQR3BN8E5AHgAD4D/gAJ/mn+oQAW/8j+AQEvASn//AC1AtoAA/85Ab4BpP6R/lP/Rf3Y+vj7+vpk9/X2gvje9mj0K/WF9dLzyfNp9Rn1j/Sc9qD4avj2+Bb7bPyn/Lz9Lv/X/7wAtAISBE8ERQWjBtkGegYFB8YHKwjZCMoJJgswCkAJ9Qm4CKYGmQSCBvsF0gT5BF0FlARMAygFuAOSAUcBWgOsAqgB6QJkAyACPAJUA5oBzf9tABwBQv5G/aD9gfxi+jv6vvkQ95z2ePfB9sH0evVS9nL1KvUY9k72DvZr95b4efj7+KL6tfvF+1r8rP1n/kD/bwB7AQQC/wI7BLoE6QS5BbwGaAcqCGEJrgqzCQ8KOQoaCfgGpQbnB1kGiwVNBbkFIgQUBG4EzgKxAWsCZwMFAk8CXgOuA8kCfgNxAy8C6QGCAmcBLf8s/4D+3fxq++f6N/md94f32/Y59Wj0GPXA9OrzWvQp9ZL1H/ZH9/P3dfi2+QH7fvvs+0P9cP79/nr/ZgAnAbIBLQKPAsYCQQP4A6kESwVNBpgH4wcwCJYIIQgqBwwHGwjaB0oHXQfOB1cH9wYFB+8FBAXfBP0E0AOCAwoE6QPxAqUCgAKOATwBIwEsAJn+TP7n/b38s/sw+3P6mPlZ+dj4yPdR94X3Jvdg9jv2i/aw9ub2YPfY9wr4hfgI+WT5p/lX+iX7oPs6/HP9oP5G/w4AEAERArcCigNPBCIFTgZ+B+UHfAjBCDAIYgeYBy8IpQcOBwgHWQcFBw0H1AYgBqEFqgVmBcsE3AQqBSoFhgR4BCIEqwMlA2cCMgHd//f+8P3P/JT7xPr5+VL5jfi69xf3tvZv9uv1wPXl9V72vPYy99P3Z/jZ+Bb5X/m4+TP6yPpQ++b73PzE/WL+1/5m/xoAnQAjAcoB2QIZBF0FYQZdBwAIwQdWB28HEAgrCNwH1QcuCF8IVAgQCIUHDAe6BlkGxgV5BYYFiQUVBZIEMwS6AzQDbAJ8AWIAav+2/ur93vwA/Eb7ZvqD+c34TPjJ94P3Jfes9oH2sfbE9of2uvY993f3lPfs93n48PiQ+T363/qP+5f8i/09/gr/FgDsAHsBZQKbA8IE1gX4BtoHJAjtB6UHkQfFB8YHigdlB5oH2QfDB4wHTAfsBl4G5wWZBY0FtAXFBX4FHQXpBKcEAQT7AtoBqgC4/9r+qf2T/M378/rH+cn4G/iM9yD30/Z79kL2evba9uj26/Zc99z34/f895j4S/m8+Vr6IPvA+0r8E/3C/Sv+0v6//3IAFwFGApcDcgROBWYG+ga1Bp0G/AZNB3wHwQcHCDEIgAi0CGoI3geIBy4HpwZCBkwGXQYKBrsFegUNBUgEagNrAj4BLwBn/4D+X/19/BL8Z/tv+sL5Q/nO+FH49Pei93H3evdx9zz3QveZ97L3mPfP91r45Pht+f35sfpH+wb8w/xa/Qn+Bv8TAO8A5wEdA1kEZwVUBgcHQQcYB+8GBQc1BxwHAQdGB6YHnQc3B/YG1waLBgcGrAWfBbEF4gXVBWsFFwWyBMYDbwJMAXwAWv9B/oj97/w3/GL7q/r5+Ur5tfgn+M73zff399T3q/ft9zj4M/hQ+J74/fh++TT61/pH+777Xvzs/Fv9+/2j/kb/EQAmAT8CMgMiBAAFwQUaBgIGxwXJBSwGeAZ/Bo0GywYhB/IGjAY7BhgGywVwBUsFawVrBSoFpQToAxsDTAJQATIAIv9U/r/9Cf1Y/M/7g/sK+z76k/lr+VX5Ffnn+AP5Hfke+Sr5bfmo+er5S/qZ+uD6W/vp+0X8mfwo/cL9Kv67/n3/UgAMAe4B+wLuA6QETwXJBdYFlAWJBbcF5wX9BQAGCgYJBgUGuAVSBRwF3gSGBD4ESQRDBOQDQAOqAvsBLgFtAHT/uf5J/uz9bv30/Iv8J/x5+9L6Wvrh+ab5e/li+XD5mPm8+Qb6S/rU+jn7hfvh+2D89fxz/dn9V/7s/nz/FgCuAFsBEALRAooDQQTiBIsF2gWmBVoFSQVFBRoF+AQOBTUFLAUYBQAFvQRoBNwDWgPjAnUC7AFUAbsASwCq/xb/xP5x/tT9KP3T/Jz8VPzm+637bPs4++76nfpj+lX6Tfpv+rr6O/vE+yX8evze/En9oP0A/m/+/v6Q/x0AuABtASICtAItA7EDLgSmBCIFjQWBBUMFNAU7BRIF0QSpBKcEmARhBDoEEAT3A7YDGAMrAncBEgGhAPj/dv9C//b+gf4N/qr9QP2p/Ar8f/s7+xL73fqU+mj6Yfpe+lr6lvr9+l/7qPv7+3X8A/2V/fP9Of6l/kH/vf8iALIAgQEnArgCZgMZBJwEAgVkBagFtQWFBU4FQQVYBVsFKwXqBN4EvARnBP4DkAMCAyECZgHfAHIAIQCu/xr/qP5A/sv9P/2s/EH87PuH+yL76/q8+nD6IPri+bf5tPnv+Uz6tPoO+3L7xPs4/Lb8M/2U/QD+mP40/8//dwA6AeMBhAIiA7ADNASjBB4FcwWmBccF1gXIBb0FsgWPBVsFNQUQBegErgRSBNIDHQN9AgQCqAE2AcoAQQCx/0L/2P5D/qz9I/2Z/AT8jPtJ++D6hfok+t35t/nL+ej5EfpK+qX66vo++6v7J/ym/Bz9jP0B/pz+Of/m/4UAEgGoAUsC8wJ8AwAEfATdBCYFVAV/BZwFoAWTBYsFewVoBV4FKwXEBFcE9gOMA/kCgQJCAu8BYAHHAGQACQB6/9L+Wf7c/WH93fxn/Pj7kfso+7n6avpK+kz6PPpN+nv6uvrj+hX7b/vW+z78mfz7/HX9Av56/vb+g/8VAKsAJAGfATICtwI3A6UD4gMXBIYE2wQIBTAFRAVOBUYFNwUbBbkESATjA34DEwO5AmUCAgKhATgBvABDAMv/Rf/Q/lz+8/2E/TX97/yG/CL8yvty+xH73Pq9+qX6r/q6+r762frt+hv7Uvuy+yj8jfwO/Z79H/6j/jn/z/9mAPMAfQEUAooC6AJSA5cD8AMuBGkEmgTABPkEFAUaBRgFDQXzBLkEgAQnBOADnwNPA+0ChgIfArsBQQHSAHUA/f+W/xf/p/4r/rP9Nf3J/Gz8CPzT+5f7Uvsh+yr7RPtG+1z7k/us+7T73/s//Jv8/vx9/ej9N/6b/j3/of/q/2gA5ABAAbsBSQKxAuoCOAORA8cDAgRSBJkErwTTBPQE8gT/BBQF9wS/BIsESATiA0wD6gKiAkECyQF1ASkBygBaANf/WP/X/nP+B/6F/UX9Cv28/Gn8PfwM/ML7n/uk+637rvvN+/X78/sR/ED8XPyE/N78Uv1v/d/9l/zB/Mj9iv3e/hEAswHfAQIDKwMwA+ECigIaA8wCiAMTBBIFAwWIBYQF4wRSBNoDpgOuAsoCpQK2Aq0ClQJDAqkBSQFsAPX/cf8//wT/7P7c/tP+i/7R/YD9+Pxm/NP73/vV+6H78/sl/Dr8LPxK/EL8Kvwt/F38ofzs/IT9C/6G/tj+Kv9r/5f/2v80AMEAPwGvASsCtQITA0ADgwN/A54DwgPsAyUEOQRWBGUESwQyBAgEzgN/A04DDwOHAkoC/wGnAVoBEwHIAF8AEADi/3T/EP/W/oT+Hv7R/ZX9Qf3I/G38KPzV+5T7X/tz+2P7ffvN+/b7Dfw+/Iv8iPy1/Pn8V/3C/Tb+iP7X/jP/Zf+5//z/PwCoADMBnwEVAnMCpgK8AhcDPwNLA6YD3wP2A/0DEgQVBBIE8APRA8UDYwMhAx4DkQLOAWwBAQEnAMn/wf9M/wL/2f6h/mL+RP4J/sX9k/1u/TX9+Py6/Hj8OPwi/Or7z/vJ+9/76/s4+0T7V/sZ+5L7SPzT/Fz9+v01/pj+pP6W/tr+h/8OAMgAAgKUAk0D+QN7BHgEZwSeBKYE+QT+BGsFwwW2BZIFggVRBboEoAR5BOUDwAPRA7QDQQP0AmMCpwEWATIArv+D//D+bP6Q/jz+u/3J/aD9+/zV/Nb8R/z8+9T7dPsS++b6vPq1+tP6/vpw+7r75PtI/Nz8Ff1X/Q7+gv66/jX/uf/Z/xcAYgCGAN0ASwHGAXcCMAPXA0oEfgSzBOMEqQR+BN4EHQUNBSIFdwUYBaEEaQTwA2sD+gKbAkIC9QFiAV8BQgFoANH/s//5/gr+tv1h/fz88Pzh/J/8aPxW/OX7EPvd+vL6QPqS+jv7//rh+jj7N/sI+zf7evsM/K78N/3f/a/+9f5H/7X//P9MAKEANQGrAUQClwJAA9sDBASQBAgFcgW8Bc4FzAUYBiwGDAZKBpYGogZkBr0FBAVHBMYDGgNTAmgClAI5AmsCTAIJARQAav9J/if9x/yQ/Kb80PyN/Kf8vPwA/Mb7w/tG++j6LPsh+6X6mfoo+tf55vlA+pj6I/vd+1v8yPz9/A/9bv0z/pH+5P6f/0IAhgDQAO0AFAE7AYABMAKvAosDBQRKBEYE+wP3A9sDZwOZA2oEugTwBAUFPQXbBDcEAANyAiwCwwGQAZQB4QGwASUBhgDZ/3z+dv0g/Rj9zvz0/Lf9F/7w/SP96fzf/ET8g/s++4v7qvtf+4X7/vse/PX7Dvxi/DD8R/y6/Pr8N/2g/fr9av7j/tj+WP/x/xwAlAALATMBgAHwAekBuQG8AdwBWQKRAg0DuAMYBI0ExASWBNsDYwNtA14DcwPIA7cEfAUkBbwE6QQbBJ4CmQFoAUUBwgByAKUAlQBDAAMA5f99/1H/lv+G/xL/yf7L/gr/o/7z/bf90/2r/Uz9x/yT/OL8+/wO/UL9PP1s/fb9G/7U/Qn+cP6X/qr+6v4s/4z/EgBiAJAAugDfAHcB+QHxAekBUgLkAkADtgMOBIkEmQSdBHIEBwRoA9cDjgRBBCUE0gRRBR8FcQS7AxsE1wNOAyIDwwIqAvsBpwH0AJIAPgAyAE4AuP9w/0b/rP5p/hX+dv1P/fz8Qfx6/LP8qvzV/M38w/yC/Av8SPsU+8P6rvoF+0P7uPsw/Hv84Pwa/dP89fxb/Vb9Z/2y/eT9pf7F/z8AWQDKAPIA2QDyAAcBSAHuAWkCwwLHAkEDHAQwBHkDdANwA+ACfAIyAmwCzwLWAgcDtgPnA60DWgNsAvMBhAEhAN/+T/6Y/sL+VP7R/ZP+/f4u/lr9Jv0V/Yn8vfvP+1n8ZvwV/Ln7fPuQ+zL7lPqH+sH6x/rZ+kv7vPv4+yH8Ofxk/HD8rvwh/YD92v09/vD9yP1K/ij/JAC5AFQB2gFAAlQC7QGFANAASwKFApcCrgMfBYEFAAVrBGAEfAS5A2MDLgSwBDAEcQQnBTQFogRxA8QCrwIbAtMARwCGANQAyAAKAD//2/6X/gH+q/2c/X39Ov35/Bz9Ef1M/JH7k/vF+577S/uE++/75/vP+6v7C/yg/FX8T/zB/J78i/y0/Pj8mf1q/uP+WP/7/x0ADAAvAKoA5wBiAeYBOwKVAoECZgKcAgADBwMdA44DiATZBGcEhwScBH4EIwSvA3MD8wNGBBcEtwOeA5UDnwMMA7wCyALkAlwCgQGZAIL/fv62/fD81vwj/a79cP5V/rX98/26/Yz8j/ti++D7Avw/+zv77/s5/Mb7fvt6+4v7gft6+1X7ZPvS+0L8B/2H/cv9P/6p/vP+Bv/l/rv+BP+I/xgAWwD8AAQCbgIOAt0BoQJrAmUB4ABuARwCYQK+ApIDhQRlBNgDZgS6BAMERAMOAyQD6gKuAsAC5AKNAm8CqAJNAlkBRgAIAOb/PP/d/bX9dv6z/jT+Bf4c/rz9zvxW/Iz8lfz8+8r7mvw5/Xj8c/ua+5r8RPxw+5/7jfwf/bn8nfwR/RL9mvyT/DT90P2e/k//9P+VAMQAbwCYAOcA6AAbAYsB4AHUAUkC7wJFA0sDZAO0A2EEMgRuA6wDIQRLBL8DZwNtBHkFQQV5BCIEUQSNBFQEfQOXA7kDMwM2AlYBYQDv/1j/y/6F/qX+d/4//hX+Rv6L/i/+W/3t/NP8xPz/+8b6dfoa+3v7YvuE++r7WvyO/EP86vsM/DP8Qfwz/EH80/xW/Y/97f2h/kb/rv+K/3b/ef/d/1sAkgBZATsC0AJjA04DHwNoA9ID1gPzA3oEbQQOBAMESQQJBdQFeQbhBhUHCQeDBo0F2QR1BIsE+wRfBXYF8gQXBBMDJAIfAez/R/8H/4T+mv0m/RP9hP3j/eT9DP4V/hX9lvyg/Cz8cfvW+vX60PvN+4X70vtm/Jf8aPxf/J/8mPxU/Gv8+/xB/Wn9Sf6R/68A+AClAL8AEgGBAcMBuQEAAmkCywK6AzgEWgTeBFsFKAalBrEFMwWyBQoGAAbDBd4FvwbNB1IIfQgZCLQHxwcICLYHhwY2BWsE9APrAiwBrv/0/h//Ef87/vX9/P3I/YX9Qf3P/Fr8rvuC+8v7t/v2+lX6Q/pe+i761vnu+Sr6WPpQ+in6/PnL+fv5h/o+++H7lPxv/Tz+6/5X/zT/H/9Y/5z/dwByARsCxAJlA9wDewQkBW0F1AVgBrMGxwZBBgsGZQZFB1UIFQkCCrYKkApgCsEJzAgXCCYHiQbPBVgEMwLqAOH/8/4v/kT9g/zt+w77/vp1+2z7fPuv+w/8O/xE+yb6ufk1+SD4SPfs9g/3/PZx9oz2W/d592P37vfb+NL51fm0+Yv6zvuV/PH8o/2m/hf/Gv+M/80ArgHhAUYC5wKyA1QEtgS5BbEGrwbEBoAHPwgpCUgJJwk1CoYKsQoMC6sKGAuECxELfQuoC+YIGQVdAkIA//63/c38i/0n/pT9Hf0k/OX6pvll+UX6AvvX+lz6H/rA+Z74Jvf69UL1/PQ29e/1ZvZB9vL17PWB9tX2yfb+9qD3nviL+UH62Ppt+wv82fwY/jr/CgDcAL0BzQJ0A28DvwMZBN0EFQbyBiwIrAmkCtQK6woICzYL0wtaDNwMNg2uDSEORQ5DDZAKYQdlBOoAOP7E/Lz7VPyL/Sj+vf9YAfAAeQC//j77Vvj19UD0RvQU9fz1a/eA+ND4/vhT+Pn2pfU49DHz//Lj8oXzpvSz9df2Bfgj+Ub6AftF+177dfuq+0D8UP3K/jkAVgGyAkAEXQU6BtsG9AbqBgYHjgfaCD8KjgtNDRwP8hCjEsQT8BOZE9QRlg4NC2IGpgFB/sv7M/th/H39V/9wAm0FzgapBmMFywNeAY79dvpi+DD2CvRe8vzxEPIw8ofz2PUe+Ez5EvmX+FT3NfX78nfxDvFZ8X7ys/Rq9535yPpS+6v7z/u0+3z74fvB/Kr9yf4GAJABQwPhBJcGUQhxCQIKOQqXCtQK/woLDK0NMBAHFEIYoRvQHAcbyhX/DZQFU/0S9nrxhfAF88D4LgBAB2gNaREjEhIQ6wv9BZH/8Pmo9Rjzt/KT8z31dPev+G/48/ZR9AzymvAx8BXxqfJP9Nf1G/fi9xL4k/eb9gb22PUO9pT2Zvdo+Hr5hvrO+0791/4vAF8BqALIA2IEjQTJBO4F1wfLCYMMVw9kEZ8StxO2FXgYERsNHrkf+hsEFEwKmf6h8+Drn+eI6JPuh/f5AhMPPBjUHNkcvxhpEaMHeP0e9XvvDO3H7QrxavVu+V38jv3o/I/69/YV85DvQu1B7GLsXu6W8YP1Mvmb+6X8Evw3+tj3y/Vm9MTz+/M89ZL3cvoL/Sj/wgC3ASwCdQL5AtwDoQRjBVkG1gceChYNQRBoEywWXRg7GnccVx9yJFonYh4BDrf+EPFd4x3aTdnx3xjrIPpfDasgKSy3LXkoLCCvE4ECY/Ev5hnhFuBm49rrd/bg/mYDmAXnBQADYfx/9dbx4vAC77Hs8+yE73zyovQc9635NPqb+L73APkU+h35d/cP9wv4//iP+dX6s/zj/Yb+q/+bAdkC4wIKA3gEhQYnCH4JYwsvDvYQORMCFu0YqBt0Hp0hqCfJLJsg0wWX8WfmZdZ0x13K/9p465X9KBgLMw0/NDthMPojjRKL+Z7gdNP80fnTJNmh5+r6xQd0DM4PORLFDRgCkfZh8XbwV+4Y7J3uZ/OW9HvzyfQ899n28PPq89f4pv3X/oH/DQE7AUb/lfz7+gH6B/it9lT45PvC/iMAdwHVA8IFMgabBk8IRgrUC8UNuhB3E9QU7hTIFXQYfxxyIZsqZinuDNHuw+Qu213GSsEq1L3nTfarDoIvhEKVP2QzayaWFnn/guNTz5rMEtIi1jDh7vfPCloQ4hEaFnIUVAiT+TLxm+837wPswuvZ8tL4TPg3+GX70fuK9+vzvPZy/W4ATQBPAkEETgN+AL799fvC+bj2SPaz+b79NADUAS0E/gadB3AG/AUUBvIF8wZOCUcM6g26DmkPSBGIEzIWPxpnIngq9xpU/irwfulD1drEB84230np0/hBF54xnzd1Mlcr/yCAD+r2D9+61LfVXNYE2m/ragA4ChUNfRMhF5QPCAIu+PHzxPEN7ojr0O9v9pv42/nd/T8AkP0m+Xz4+vtp/hn+Vf8AAj4D1AK6AQsAvP2b+pL4APnN+qf8fP6VAIIDsQUTBtQFfAX1BCsF7wYTCRoLcw3mD2MR1hKYE9gVYRnqIGgerQPe7fHqdOP00FvR0+Pf7xv4DwxzJiYxYCt1ItMaOBDr/uzo3dui3U/hB+FH6kT93AiYCYMLVBFTDwsDQvfK84j0MvK/7evu5vV6+oz7tP7iAkMCgvwI+Tz7cv3m+5T6s/zu/zkB5AC+AEQAI/7g+0f70fu9/Or8p/04ADwDjQQDBRoGmwdrCZQLYA24DvMPUg9uDuAPqhNJF14fVB7LCAT4I/Ur63jVrNB63O7jLept/zMb/idaKf4p7iggIFIOhvcX6OHihN5t2dTf3e/Z+uj+XwfrEZYRawh+AX3+avtA9p7wTe9Z8jX14/a3+gX/I/+9+1P6avz+/cr8cvs6/WwAuAF7Af0A9P/8/aP71fn0+e36FPsp/Kr/fANdBa0FXgbeB/4IlglwCoMLKw0yDyERWRORFlQaYCAJI74OIfZh7qrnntLWyazXFuOS6t3+pRx9Lbkvoi3rKscidhG2+ADnieHT3SLYjt2w7q76XP7iBR8RqRFBB5b+xftc+VzzS+237gP1IPhm+vj/OASvAo39R/r++tz64/dA9wv7rf4RAKUBOwO4AgIAI/0L+zT65fm6+Uv7Tf9MA0EGzgjyC2sPmBHkEjEUMBZmF/oZLh53Jk4nhA8R+aPyz+ZazJTEHs/H1JXd7vfTFmQoKzHNNg85ZjOKIcIGSPSF6rDej9PV1xPkWurS7+/9sAorC8UFKwOgAmgAB/on9GT1Pvji9yn6E/98AIX9ifkE+Bb5ofe49FP2CPsC/sD/3AGMAxwD7QDX/jT9g/uj+d/4mvrs/aUA3QLWBbMJMA1rDxwRMRNYFJ4UVRWPF9caQSB+HJUIt/pv9lLpd9VU07zZQtwo5U76Kg9kHC0lwCvqL2YsAx3fCV//kva06Ene5uAB5knna+zE9y3+Af3T+oD7C/5A/bz4XfiZ/C7+Uf5gABYC7QDL/JD4SvdP9oLz3vI69kz6//wZ/5sBhANPA8wBSADN/hj9QPxF/UgARwRGCFMMShGcFpMaLB27IEQk6SgaI8gPUQLf+yPshtjP1bTXGtdC3g7wHAAeDDwWUx98JtgnYR8hFfUQKwuI/7727PVY80juFO7i8cTxQ+606wjsZe767rXt/fDW99L8gQFsBzULpQsWCR4FuAH8/FD2K/KN8cbxX/Id9FX3DPut/fz+NADUAGwAEwDIAFUC/wOUBd8HOQtODi0QBRJpFJEWDxjUGd4aIBS8Ck0FFAD09ZjukOzX6mPrlO8R9YT6CQGFBi8L0g6dDzgNMAz4C6gJMwaGBHYDZQEZAIT/Yv1n+c31vfI/8M/touun6q3rl+2J8Lj0ufj2+9T+EgFbAvcC7AKCAkcCGQJFAUMA0/+i/xD/dv4w/hf+Gf5X/gH/7f/zABoCkgMyBeUGoQh4CnQMkw55DzwOkgzjCjcItwSdAhwB4/+l/+b/FwBVAUEDugMQA1UCdQHS/1X+Lv05/Hz7jPsi/EL9lf5V/3z/yf8UAHz/Qf7a/If7ZPqU+TH5G/lU+bT5KfqR+tv6u/oh+sT50Pnm+cP5xPkf+sn6Rft0+4r73Psz/FH8k/xA/QX+av7E/lH/5v8iAA0AEABQAJkA1ACEAfUCmwQMBlUHEQjVB+0GSgYeBvIFSgWPBFAE6QQJBjMHewcUB3AG0wUGBdsDIwJ6APv+Cf6W/ZT9lP3J/U3+7/58//P/EACj/8j+tf2Z/D778vkx+R/5VfmL+e35qvp7++n7C/xF/Gz8B/yz++j7EPwP/F78Iv3w/Y7+9v6A/1gA4wADAUkB/wHXArsDzwTyBRUHrQdMB8sGsQYfB4gH9QdyCLsIDgmkCSoK6QmtCAAHigWPBJEDhwLWAbAB/gGgAjQDLQOlAi8CbQExAPn+CP4i/WH8Jvwe/Lr7dvvK+xz82Ptz+xz7lPrS+Sv51viw+Fb4J/if+CP5IflO+ST63foe+4f7Rfz0/I39Lv7l/p3/bwAVAdAB2QK0AxoE4QTMBZIF/QT5BPMFFgcMCKcI2Ag7CfwJjArgCUIIyQaUBXwEnQMoA5cC5wHVAVwCbQLuAXoBTgG+AN//Dv+Q/jz+3v1z/fb8X/yo+xH7jvqq+b34OfgU+O736fcX+Iv4CvlU+Xv5sPmR+Vv5gvm8+dX5E/qX+l37Vvwl/cL9fv6W/+8AUwKYA8YE4gXxBVQF+wQXBVAFkQXzBTMGgQZMBzkIoAgbCH4HBwe0Bh0GZQW0BDYEtAN8AwsDFALdABoAqv8l/5j+df7T/hP/4/5g/p/9sPzT+yb7cPrS+WT5Yfnc+VD6T/rz+Y359vg6+Gr3yfbK9mD3KPhL+c36afzB/c7+ov8xAIMApQDWAC8BsgFWAmwCZQLpAhYEXwV8BlsHqQfkB3kI5giLCEQHMAaWBT0FlwT8A4sDKQPXAscCrAJoAgACzAG6AcgBrgF+AUQB3gApABX/yP13/GT7dfqS+TX5j/n5+TL6mfox+1X79vqj+lz6vfkf+Rf5e/m8+Sv6FftJ/Dz98v2v/nT/EABzACgBOAJoAukBCAIvA1cE2AQwBY8F9gWXBigHGwdVBuMFngVJBd8EgAT6A4MDEQOFApcBwQCSAP0ARgH7AJQAxQAEAZkA1f8x/4H+pv0d/d/8l/w+/BX8C/z/+7/7VfsB++H6kfrY+Vb5dfn5+V/64vrg+0792v4dADkBMgK3AvEC4gLZAYAA4v9oAFoBGgLkAr4D6wQqBroGNQYPBTgEtwMOA2ACIgIsAkYCMQIYAs0BoAGHAVoB0wAYAI//n/94/8/+Lv7y/cf9g/0t/c/8mvzD/Nz8rvyS/Kj8uvyY/If8dPxP/Gr83vxS/ZL9B/7g/s//iQA7AeYBcgKdAsYBtQBfAN0AkwEQAqACOgMwBFsF9QWaBfUEjAQPBC4DKwJSAW0Avf9r/yL/0v7b/jP/S/8G//P+Af8V/7z+NP7L/X79Mf39/PL88vzr/On81vyQ/Ev8L/w4/Fv8ivy6/CD9zP2Y/jD/zf+TAGwBOgLdAnkDKgQrBCwDawJ8AucCBgMkA3QD1ANYBO4EIgWuBC8E8QNmA18ChQHJAAEAO//E/l/+GP46/ov+kP5x/oH+mP5+/vn9hP0K/Yj84Ps8+7n6SvoN+k76t/ob+6/7c/wg/bD9Q/6q/i3/wf86AH8A/gC2AVECyAJOA8EDYgO1AsUCbgMABD8EfwTlBHAF4gXqBW4FtwQMBJUDwwLZAUMB7ACZABYAaP/X/n3+R/7//af9fP2J/cT95P3X/cD9bf3d/Dr8k/sD+6P6kfqP+mr6svqI+1j8Bv20/Wf+Bf99//v/YQDBADsBygF1Au8C0AJ0An4CDwO0AyQEXASRBPsEiQW5BU8FhQTaAxUD+wEiAdcA0QCnADoA7v/l/xUADgC5/zL/0P6P/jP+v/1O/dv8YPzz+6H7jvv1+5P8C/0L/dj8tvzX/Bz9c/3C/SH+r/5g/y4A+QCeAScClALpAt8CawLaAXcBhgHxAXIC4QJAA8IDPARjBBYEkgPIAhUCfgE3ARMBpQAPAKD/X/8+//v+gP4W/sf9pv2e/bH9rP1y/T39+fym/Hv8nvzq/B79Y/3G/RD+af7I/h//bf/C/wYARAChABoBigEGAooC8wJyA6oDgQM1A/wCHwNSA4cDqAOjA5oDjAMoA24C0wFwAS4BzwBoACcA5/+F/+n+Gf5u/er8dPwO/AP8Ovx7/KH8kvx4/HP8a/xb/G/8o/zt/FH9wv38/Sn+cv6y/uP+R//O/2EAxAAuAcwBXwLrAmQDwwP5AwEE5wPgA+oDCQQuBEIEQQQYBNMDZwPwAoECJgLPAXgBFQGgADIAwv8C/yP+Zf3P/E384fux+7f70vv9+zL8Xvyg/M/87Pza/Mf8ufzF/O78H/1O/bn9Fv56/hv/6f96AOgAYAHUASwChgLVAvUCAgMkA2EDqAMFBGMEkgS1BJ8ESQTnA4gDEwOTAiACtAFAAb0ARwDh/2T/uf4p/uL9rf1V/Qf93vzE/JP8cPx0/If8i/xx/FD8Uvx+/Kf83/w2/XD9ov3t/Tj+Yv6W/gv/kP/+/2QA3wChAWgCAANiA4wDmgOcA8UD7APQA2gDHAMIA+8C5wLjAsICrQKDAj0C1QFnAdIAHQB4/wL/p/5s/lL+TP5K/kj+G/6//WX9J/3m/Jb8T/wk/Br8M/yK/Pn8Ov1T/YT91v0T/k7+of4L/4//EgC2AGcBBAJ8AtICDwNCA2kDggOpA7wDvgOuA8EDrgNyAzYDHwMHA8kCnAKJAkkC4AF5AREBuQBHALv/P//l/nD+4f1i/RD9rvwz/Of75Pv2+wn8G/w5/Ez8S/xN/IH80Pz//D79iv3v/Vf+rv76/mL/8v90APQAXQHFAQUCKwJnAqYC7AIvA3EDvgMmBGYEQQQwBEEEIQTJA50DpgN+AyADswJnAgECWAGkABwAnf/9/mj+B/6u/Tv91fx3/Dz8IPwC/A78Nvxa/Ef8MfxC/Ez8Mfw0/HD8sfwF/Yz9Dv6E/vH+Nf9y/7L/8/89AJMAEQGNAQACfAIeA7MDGARWBIMEpASzBIsETAQBBKcDbgM4AzEDLgMSA90ChQIQAoMB5QA1AIj/6/5t/gv+x/2U/WH9Rv0Y/fT80Pye/Jr8dfxR/B381/vA+9f7+vs0/I78Cf2P/Qn+Zv6g/sT+Bf9D/5j/GgCxAFcB5AF4AgoDcQPQAxgERQRTBHAEkgR5BDwE+gOSAxADaALlAWIB+gC9AIYARAD//+j/2P+z/4b/bv9X/wj/gP7s/VX9sPxL/Ab8yfvQ+/T7L/x1/IH8hfyY/Kz8uvy0/N/8Sf2k/Qv+lf5D/8T/UQDsAIkBGQKaAhwDqgNVBCAFlgUEBl4GfAY9BrcFHQVCBFkDoQLFAegAXQA9ABQAIAA7AIQA3ADNAHYAKADy/4D/5P5H/q39Xv3u/FP80vtZ+9P6avpY+or6HPvL+2H84fxf/az9yP3M/bL9sP3A/Qb+qv6K/14AbgGmAuQDuQR9BT4GnAbiBtcGpgaLBj4G8AVjBSoF8wTxBI0EAgRhA6YCrgGyAOf/cP9m/4z/sf/Y//7/HwADAGv/of7P/e38C/wN+0D6vPlw+Tn5GflA+cL5Y/r1+kv7i/uq+6H7kPtb+3T70/uT/Gz9K/4o/0oAegEuAt4CqQN9BCoFzwUTBpQGawfVB5YHdgeVB0oHmwahBVQFRQUABVIE1wNyA/AC+gGkAOr/t/96/zf/PP9d/zT/2v4t/oP9evx++9n6VvqU+Rf5KvkB+a/4Sfgf+E34t/gy+a75HfqF+r/6y/rP+vv6iPs2/C39ff6o/4gAoQGpAh4DeQMaBAcFFQaQBnAGFwcKCC8I3wejB88HLwj3B/sGbAZoBvIF9QQVBMEDeQPZAuIBUwHfAEIAZf/E/v/9GP2c/C78oftT+5P7U/vP+lb61PlE+Yv48PeL90b3CPcy97n3ifiH+TT6vvpq+9f7Fvwm/H/8Kv3u/eb+LQBkAXQCwgNUBHcEDAXaBXQG9AZQB54HUwi4CM4IgAi/CAgJzwivB0YH0AaKBQEFWAR6Ax0CUgHIAKYA9v+3//n///8v//f95fwg/Ev7JPqQ+bv5t/mf+Yf5dfnp+Cf4eff89o/2tPaW9434RPkg+tj6efsK/Bb8EvxA/M/8wf3J/r7/pwAEAlEDoQSgBRUG7AaTB2kHawdbB6EHdQgWCTgJCgrMCkMKNAoeCUIHcQYoBisFqwRFBKcDVAPYAb7/Zv4z/ar8XP2x/Vn9sP0w/nX9p/v6+eD48fco9w/3eff79z/4K/iR94v23vXK9X32hPfF+C76p/vA/Lf8avxh/IH84/zE/Tj/tgBgArQDbwT5BPMFwwZ1B/8HXQgcCTMJHQnOCMYINgn1CWEKXAprC/oLHgu7CWkIiwaMA/wBcQHBAGEAXADU/0P/Y/5V/aD8LvzN+8v7h/sg+8P6Bvqz+OT38/ZE9jD2WvaZ9tD2GvcK9672pfYQ93b3CfhM+YD6ZPsI/L/8Xf2O/fT9yf6o/3kAagHMAhQE0wTSBVUHbQgmCdQJdQo/CuwJDApGChsK4AoADO8LJwsIC60K2gjtB0QHjAZ+BfsE7wMfAk4BJABY/nP9Lf13/H38lfwF/Ef6l/hB+Mn33/bq9rb3cvd99933/PbJ9Vf1UPUF9bn0U/Xg9uz3Bfkn+pL63PqK+yr8ZPyu/L799v7j/xsB4wHAAmQDTASZBegGBwhKCekKwAv3C+QL3AvOC6MLDgsGC4AKJwptCowKVAqbCV0JSwlJCD8G1QPnAewA6/5Q/Sr9rf15/dj8P/zh+3n7fvo4+Ur43feK92r3lvdT94v2vfWI9ev00vN+83X0KfU09Q72H/el9xT4v/iO+Vb67/oH/Ez9FP6P/kf/uP/F/40ALAJlA08EJQZECNAJdwo6C+wLvwwPDUMNQw3CDAoNvwxRC0EKlQr/Cn4LbAsqC6sKOAmtBvsDmAGx/s3+xf7m/OP8Gf2l/E/8Pvyj+tX5Gfl7+Lr32PXg9BL17vQv9Bv0TfTZ9HD1VfVW9SH1/fS+9T/2Cvau9hD4DvkS+s/61fvV/Gr9Zv6E//P/WwCFAYwCBAN/A6AEXAbmBzUJ+wqNDLcNFg+nDw4POw6TDjMO9gzbDEcN0AwJDPALMAzlC1oKNAhpBkUDzQDQ/xL+HPzX+1v84PvB+q76n/rf+YX5SPmD+Kj3QPcL97b1TPRM8ybzTfNA84DzOvSu9Pf0a/VA9er0KPWF9Vz2bfdb+Er6/fsc/eT9Nf55/tH+wf+4AKoBYwIpA94EMAYpB3sI+gioCdsKggzZDRwNIA6fD/oPAhB9EEoRuRAlD0IOCg7yC6AIsQg6CMQEmwFbADn/1f1I/fX9of73/Pb7pftt+gb5uPik95D2g/aY9v/2Dvfz9fD0qfSn9JH0DPRE9HP04fOV87fzdPNH82r0D/b19hz4vvkM+0X89/yE/cL9aP3p/c/+NwA9ASQC6wNYBdcGbQhnCR8KfQr2CpQL7QvbC5IM9A1BD58Q/xF1EuESxBNsE+sPxwv1CbIIVwhuCMEHwAWlAHn8e/x0+r32gvc1+gj68Psd/iP9X/qt+BT4pvZ/9Ofzq/Sq9BL0bvSK83DyTvIM87nzm/Ox84X0VPWr9W/1RPX89Nj1GPct+Pj5r/uo/VD/6f/K/77/4f+HAIYBmAK0A3MF/QZ0CMEJhQpVC+sMZw9LENoP2A+kDiANvg0GDysRMhS/FjMYjRenElYMAQopCMEE8AKFAgcAPP3J+x37ePgr9yb5Dvw7+Rj5xfso/NH6u/fd9aD08/J58v/yXvJy8Rnzq/RN9BbzE/Jh8qTyFfLK8rrzffQC9nX3qvfb9uj2Wfg0+nL7s/yO/kUAEwHGAX0CdwI4AvoClASWBeYGNAiGCUYLygw8DrIPMBCnEZ0Rjw8kD1APBA2gDS4RdBMiF3MZzxijFpAR8gySCgQH2AGQ/Hz4Rvfc+Oj40/kB+7P7fvzj/Aj7gPY29cn1Z/UV9cn0dfSQ8lfxLfEp8Ortgu7i8mP1I/bz9Qb1PfNR8VrxCfJR8vnzsPcZ+kn6FfoF+hn6e/rd+6H9Hf/OAOMCvQP1AmcBgABQATUDuQUnCIIKowx8DvwOow45DnYOrA8WEPYQMRJcE2kTABFwD2oRTRLPEQkT2hQzFB0QNwsdCRoEjvsD+Wf3DfUD9q73UvjY+539nv7C/3f8gPqs/PD7Jfo3+q32c++R7DXsT+nN6WPrJO+X8qH1UveW95b2N/Zi93P3hvc5+B33vPb49Wb0uPPA9DL3bPob/Vz/twDSAKYA1gAuAMj/nwDPAaoCWAMABLgESQWvBlEIOArJC78NrRCFEkETNRR2E98SYxK0EncSiBEWECUPUhEyEzcTDROWEA4LYAZDAr77evfW9hv1ifUB9ir4vPkA+y37lP3Q/vj+HwEzAhcByP99/SD6LPcp9GjxBPBg7gTpb+YH6TXpXOxu8fv0fPcI+4v8h/zv+9P6l/uw+2r6OPpN+Lr16/QH9PHzofUp+GT74f6hAAcBzQAPACIAuQCbAUoD3wQYBjAHZQdXB70H0gfpCIsKEAzbDb8POREjE9gTRhPTE0IUaxXPFTAVihMkEhcTqhTJEg0MAAZGAY77hPhD9RvxufAH9An4NPtN+3D71f0NAN8B/QPoA5sD8QS0BEoCCv4J+eP1ZPRe8zjyVfEb8X3xw/IG8y3yuu3r6+Pu9/E09fL4m/o1+0n8gvt3+ZL3CPcr+Vf72vuV+8b5dvea9gn2vPUn97/5Rv1VAEoB1gAoAIUA+QGqA0cFGQenCPgJRAssC80JuQhoCdEKSgypDS0PJxJsFBsXGRcnFxUWrBbnFwIYiRd0GNMZ5hvUFhcK/Pqb75joNual6CPrE+9S9IX6+/qQ+Pr3ePsOAQEKXhCDEqQRyg5NCXoCCPo183DxRfIY8zvzq/Cf7KvqcurE6wnvbPNF+R0A9QMPBBIA6vqG+Tn3T/W79cr1PfXA9i32YfJo8JPwaPIe9or5Yftp/JL8fv0r/bn7+vtI/Rv/JgE9Am0BdQDKAKUBvAI2BPAFhwc6CYYKsgrOCdYJDQsTDXcONg+bESwVHxYlF/wXARhyGesb+xzOHL0bGBtPHJgg4hyf/WDowujP5qPb3ujx7VfkR+1L/ELx1urz9DH7uwQ+FekbpRafFYoTQQwbBGL9cPce9vr4GPhL8D3oEeJ53rTfUORM6VHwvPiKAJoGIAckBN4EHgcLBaEEdQWwARv9bP3T93vth+id6TbqluyK8BPzqPT790H76vxh/cb/oQPeBUkGlwWzA/sBqwESAbb/3/65/sz+T/8d/xH+nP60AAwDhgW9B0wJnQobDKENYQ8+EQ4TQhY3GEQZmBm+GCcYBRnWGTEZIBqUGl0bLh0pHQ0DbudO42Pqc99Q37/tBey+5WrxBvSC44jmc/mgBCcMDRpTG3AV5hSIEhYIxgEBAmoCSwLkAAP4Auv04jnfiNyk3SDkvurg8FT3CPtf+lD6SP4ZBbYK1w30D4YQnAtMB6QEof7Z9oj2lPeE80Xveu4p7GLqJuw870/yX/ao++f/3QFKAqsDEwZ6B2wIqQkrCfYGGwXyAoX/A/08/Cz8D/wm/MT8Yf3g/fb+iQG3BDgIAAwEEMwSfhTDFV4WwBYtGA4a3ho1GpEZWxlOGUUZCRnZGWkZdwfQ7Grjqeos6cjhh+iW7E/mUeWa65DkluD37hEC4QjRDggVbxNQED4RLBB4CwwMXxAxEZcLJQJR9gjsd+Vu5HLj3ePv56fqc+ru6QfrZ+vM7wH58AHmBfEJmw4QD9wKjQa+BrUHBQecB/MFx/97+XH2QvLC6w/uM/EY80fzAfYZ9SDy4PZZ+wz9AgGrCMwIngYRDGcIIAPEBTkI4werBoMGNQUHAo7/2f7A/1//0AEWBVwGpQVYBs4H2wi+CwUPBhJ/FNIWTxfVFwYZcRrtGy0f1SB9GrMJsfou9Zz0YPC57ZbuOuyw6KLmqOGZ2i7dkec88U/3m/7/AdoCwwS+BxAIPAojEb8XnhnEFkQR8QkLAyj+l/sb+Y73tPai9ILvwekE5j3kSuXw6FbtyvDw9Ir4jPpt+m77lv2cAf8G2AswDQQLAAl1B5UF1QLgAcQBqQFIAOP9lvmB9dzzXfQT9QT2L/jQ+Xv6t/pE+4v7Vv2tAHkErQbuB30IdggRCC4IBwk7CrMLsAy1DH4L7gnOCPsIdgkOCrAKPwtAC1wLqAvqC7EM6g6IEJ4Pegq0A/D/XwBXAXYAev9G/qv8BPra9lLyWPDO8e70H/ZZ9pT2c/Ya9v31d/ZX90r6df6kARQCcwFcAML/0P9SAMMAigH3Aq4D3QIzAbT/VP7a/ez97/1r/Wz9o/1a/a/8DfxT+/36ZPss/JT8vPws/V79a/2b/fn9Nv6c/iP/T/8u/zj/E/9//h7+//3v/cj9mf2O/Xb9j/3m/U7+Z/6O/t3+Cf8c/0b/ev+8/xcAhQDKAPEAHgF9AboB2AE9ApwCzAIMAzoD5wKgAqYCuQLxAoAD8QMOBFgEpgTSBOIE9AT1BA8FaQWzBcYFtAWWBVUF/wS/BH0EPwT2A1sDvAJZAgQChgEkAdYAPAC8/1H/kv7t/eH96P2r/ZP9jv0G/WP8KfwJ/LH7qfvt+wv8BPwM/PT7nPtW+0T7RftR+3H7ePtn+zL75/q/+rL68PpH+9D7d/z1/FH9mf3i/Sv+bv60/if/pv/q/x0AcwCpAJQApgDXAOIA9wAWAfoA1AAZAZUB4AExAp4C8wI4A5UD0QPSAxgEgATNBP0ECwX0BLAErwTfBNoE/QRmBdAF1wXHBbgFnwWaBacFzgXPBboFiAVBBcYEGQRvA9QCPgKyATcBjACo/+T+PP6k/VX9TP06/Sj9Ev3H/GD8Nfwy/Bj8+Pvx+877avsj++L6a/ru+cf53/nS+an5t/nX+QP6UfqT+qb6+fqc+0v8u/wF/UH9sf0y/rL++f4H/yP/SP9g/2b/Uv82/0L/av+a/7L/0/8bAI0A+ABKAXwB4QE7AoQCyQLkAuYC/wIGA8gClwKXAoECTwI8AhECFQJEAosCrQKWApQCoQKcAo0ClQKNApoC4AIdAw8D7ALhAgADLgNZA4gDlgOhA7kD1QPCA04DqgIsAs8BYgH/AIwADgDA/43/Uv/s/pH+Vv5w/pn+j/6E/p3+pv6B/k7+//2B/Rz9+fzX/JD8TPwZ/Nz7ffsy+yb7L/tJ+5n7GfyI/OX8If1F/Ur9WP2o/Sn+h/7h/jP/Uv9U/1v/Q/8P/w7/KP8+/1j/jv+y/8b/5f8RAP3/0v/2/1gAsQADATMBNgE7AWQBagFfAXQBlgGxAbwBxAG3AaoBwwHPAdABvAGZAYgBbwFnAUEBNQEzAVEBcAGUAbYBywH+ASkCUQKVAtQC9AINA0YDbQNaAzUDAAO/AqUCqQKXAmkCPQIfAugBkgE3AeYAqgB/AGQAYQBLAPD/nv9b/xf/t/5c/iL+/P3L/ZX9R/3g/Gn8L/wY/Pb7CPxR/ID8dfx3/If8p/zZ/Cf9pv0I/iv+S/5d/kn+Nf5M/mX+hP6j/r3+5f4G/xP/Dv8J/yj/Q/89/1T/hv+l/8r/HgBaAG4AqgDsAOUAxwDXAMgApgCJAHkAfQCeAKgAmwB+AFAAJwApADgAKAAsAEUAXgByAH8AlACwAN8AHAE3AUYBSgFNAUcBXAFyAY0BrwHBAdMBzwHbAfUBEwJEAnMCkwKsAsQC0wL8AiUDKQMbAxgDEgPOAocCPALwAZEBNgHYAF8A3v9i//j+hf43/h/+/v3o/dz9vf2S/Wn9Yf1w/Y39sP3O/dv90f3H/cH9z/3u/fP9/f0E/gf+AP7q/eb9zv2y/Y/9iP2R/Y39if2g/cj97/0o/nr+yf4F/1j/lP+4/7n/t//I/+z/FAAKAAUAFwARAPz/BwAUAPL/xv/T//D/AAAyAF4AZwB7AL4A+gAhAS4BKgE4AYQBwgH/AToCSwIxAg0CAwLiAdAB/QFPAnUCjwKGAnACUwJqAsUCFQNtA7IDxgO5A54DiAObA4ADUAMKA84CpwI+AscBVAHBADcA6f+t/1X/2/6G/j3+C/4A/u792f2//Zn9fP1l/VL9aP2P/a/9qf2g/bL9t/2a/W39U/1a/WT9fv2g/Y39b/1n/Wb9Zv1g/Xr9uv37/Sv+Mf4V/gn+F/41/l3+df6C/o7+pv7J/t3+Cf8g/0//lv/N/wYAPwBRAEAAUQBgAGIAiwC/AL8AtgC+AMEA3QAEASgBTQGOAcoB3AHsARcCUwKWAtIC/AIgA2MDqAPUA+kD+wM8BJwE6wQXBTQF+QSJBBsE4wMXBPMDsQNCA9ECkQI2ArIBJAGOAC8A9v+q/1r/uf5P/gr+wf15/Sz9CP38/Pb84vyR/EL8efyi/Kn8qPzH/Ov84vzs/MP8hfyT/OD8EP0h/RD9CP0Q/Qz9/fy9/KL81Pz4/Pb82vzK/N78IP1u/ar90v0b/oX+2P4W/y7/Xv/L/z0AmQDoACsBYQF8AZkBeQFNAVABWgFHAT0BLQEZATsBbAFrAX8BywERAk8CrQL7AjkDpAMbBGoEmwTzBDkFgAXaBTMGYAanBnUGpAXEBFkEewQvBKEDAQNkAkACFAJsAbcA0v9R/zH/+P61/hf+/v0I/uD9jv05/Sv9Pf01/QP90Py4/AX9Lf0A/Zz8Ufxh/IP8cPwp/AL8MPyP/Jz8gvxf/Hn8uvzs/Nj8ivyb/PT8If0O/QX9IP1m/cf9//3k/fH9Vf6p/sH+zf7z/lj/8f9TAFcAYwCyAB4BZgGAAYIBtAH9ARgC/QHCAacBxAH2Af0B8gERAk4CbAKGAqICzAJLA+sDXASFBNoEdAUDBowGEwcEB1sG9gXIBekFrgX5BCIEXAPoApACwwHtABEAd/8v/5P+HP65/aj93f3D/aP9e/16/az91f2n/Xf9Yv3K/RH+2f1u/Rf97fzL/Jz8NPzT+6X72/vl+7z7hvuD+7n75/vY+6v7rfv1+2D8mPy0/OX8Vv2v/fD9Jv5c/qL+7v5I/2T/e//E/wMAIgAoADYARwBhAJIAoACSAMAAFAFSAWEBfwG8AfQBJgJkAqwCAAOBAwEEYwSvBBgFawWXBcYFKgabBvAGUQfkBuYFIwUNBT0F4AQwBJoDAAPWAqQCxQHEAOP/n/9A/8H+if4n/iD+OP4U/rv9iP2U/bb9c/0Y/dX81/wu/Un99vyF/HH8cfxR/Nz7lfuB+8r7KPwc/Pb74vsO/DX8Lvz0+9n7IPyr/NH8u/y7/O/8SP19/bL91P0g/pL+6f7j/tL+Ev+X/wMAPgBzAJ0A6wA2AU0BOwFYAb8BGwJBAkkCWQJzApYCxwK1AvACZQMXBIYEuATYBFsF8wV5BtQGXgcdB3sGLAYrBiEGnwUMBYwEsgNGA/QCJAIpASoAs/8m/3z+Nf7P/az9qf2H/VT9J/0Z/Tf9Dv3l/Oz8G/17/Y79Yv0K/dD8svye/Ez8Hvz/+wj8Ifzc+5b7fPui+6L7kvtx+2n7mvsF/BX8Efw9/Lf8L/2b/RT+VP6i/gD/Rv9H/1//vf8UAFQAcQBdAFQAcQCFAJMArAAFAYAB9wFNAoYCvAIVA4kD7QNgBN0EgQX5BVoGugYMB2QH2AeFB6cGIwY2BncGGgZQBaUE+QPeA9kDDQMPAjEB6wB1AJ3/Ff+X/oL+jP5s/vv9k/2B/aT9Tv3e/I/8p/wW/UP9+/yF/Dr8BPzf+3L7Dfvl+jf7hPtg+yX7Bvsh+zX7P/sj+w/7Vfv1+zX8M/xQ/L38Kf1X/Yz9vv35/U/+vf7s/gr/Zf/T/yEAVQCJAMIAFQFtAaIBvAELAn4C2AImA3UDxAMtBKEE+gQ9BYIFCQaZBjcHrQdDCEQIpwcCB8gG8wbJBjUGnwXhBF4EHARmA4kCmgE/AegAMADJ/1L/+v7E/qb+ZP4K/tL9+v22/TH9uPyq/PH87vzN/HL8C/y1+5H7NPvS+pf6yfoF++b6u/qY+pP6gvqq+sD6rfq3+jn7b/tv+5j7Bfxo/KP8F/1i/ZL96f1a/ov+y/4q/8H/KQB0AK0AvgDvADIBgAHSAVQC3gJXA7YDBARNBL8EVgXJBU4G+ga+B2EIFAkGCUcIqgenB+YHqQcPB2AGkAUDBbsE9QMBAzMC6QGIAbgAMwDE/3f/Sv9C/wn/vP6R/oH+8P1B/br8qvz4/AH93vxt/Az8nfs2+8n6WvoT+kr6nvp0+jP6Cfr/+e35E/ot+i/6Y/rp+hL7Dvss+4v76fs3/Kj86vwr/YL92P39/Tr+tP5M/73/IgBsAJIA2AA0AZMB8QFxAgEDfwPeAzkEmgQbBZ0FNQbNBnUHBwiUCFAIqQc8B2QHxQeVBwEHZga/BYoFRwWPBLAD9wLnApAC4AFGAaIAWAA5ACAAyP9T/yH/G/+P/un9P/0i/VH9Pv0B/ZP8JPzF+5T7QvvO+oD61foH++P6lPpI+iD6Cvov+hz68vkl+p36ovqF+nr6wfoX+2/74/sX/F381Pw//Wn9rf0x/uL+Z//R/wsAQwCzADQBuQEuAqsCPwPNA0cErAT/BJQFPAbkBmoH7wf4B74HlAehB8QHmwdMB+sGWwYGBssFJwV0BMADWAPWAlAC7wFsAQgBygCXAFQA9P+w/4r/G/+y/jj+9/3s/df9uf11/Q/9nfxS/PX7ffsW+xv7Efvs+sz6nPpL+hP6H/oM+uX59fk2+kn6WvqD+rz68fpS+8X7/vtF/Jv89/wx/Xz9zf0z/qD+HP+A/9L/NACzAD4BygFUAtMCVQPZA1wE3ASEBSkG1AaEB7oHfgddB4UH4AfSB5UHOAe7BokGbAbXBR4FZAQVBJwD+QKDAgUCrAFsATAB2wBZAA4A8f+V/yX/sf6M/oL+V/4r/sb9Vv0C/d/8qPw4/Nv70Pu9+3n7Nvvt+rD6g/qZ+mf6B/rv+Rr6OfpL+ln6ffqm+uP6Q/tk+6r7EfyO/OP8P/2k/f39X/7W/j7/if/9/4IAFwGVASMCqwIzA7sDQATUBHEFEwbTBvUG3gbXBiAHkweUB1MH8gaIBmMGWQblBUQFlwRQBMoDMgOzAh8CtwGGAW0BHgGXAEoAIAC8/1P/1P6h/qH+p/6O/h3+vP1o/Tz9/fyR/Db8F/wG/M37f/sh+836jfqj+nj6O/oX+ij6KfpB+k/6YvqT+vb6U/uD+8P7HPyW/Oj8Ov2d/SD+mP4Z/1j/h//s/34AEQGIAfoBZALWAmQDBASkBEgFEgZ1BmYGXQZ6BtoGCQf5BqYGUAYsBi4GvAUkBVME7gOPAyUDtAItAskBhgFtASUBpgBGABgA3v+e/zr/Cv/x/ur+9f6T/iD+z/2t/Yn9IP3K/Jz8cPxA/A78sPtg+yH7LfsM+936ufqy+qL6tfq++sD62/oj+377qPvi+y/8lfzx/FH9o/37/W3+7/5V/7f/JQCnACoBnAEEAmEC0wJyAw8EqARBBdUF4gX2BfYFSwZ9Bo8GfgZVBhAGBgbaBXkF8wRhBPUDcAP9AncC/gGXAVYBGQHGAF0ACgC8/27/IP/U/sj+t/7F/qz+Zv4f/vP95v23/X39Sf0Q/dD8o/xW/Ar8wfu/+8b7nPt0+0X7HfsS+zP7Qvts+677/vs0/F/8hvy//B39i/37/VH+uP4i/4//3v82AIcA+wCEARACcgLVAlkD7gN/BBMFkwWeBbwFzwU7BlcGYAYVBs8FjAWJBVEFCwV7BAMEnwMZA5oCFwKwAVEBGAHuAJwAOADz/6//Xv8O/8b+qv6G/oP+VP4D/rj9kP1+/Tr9Dv3k/Lv8g/xS/B38APzU+9L7xvuj+377XvtM+037bvuD+5z7y/sF/Cr8ZvyY/PD8Vf3L/TH+gv7q/lP/v/8lAJ8ADAGRARYClwLiAlgD4ANuBPMEhQXZBfIFFgYzBoUGhgaLBj0G+QW5BaEFTAX2BGIE+gN9AwYDegLmAXgBFAHQAHwAGQCu/1v/A/+l/kL+/f3Q/aX9if1H/Qf9xPyl/I38cfxg/EL8J/wG/Pn74/vF+6z7wfu4+6X7i/t/+3/7f/uO+5H7vPvk+xf8O/xw/JX81/wv/Zb9+/1e/sP+Nf+y/yoAogAbAaQBKQKlAgcDfwP1A4ME+wRuBZcFwAXtBT0GbgaDBnAGRgYXBvgF0QV5BRoFngRJBLcDPwO8Ak0C3gGCASkB0ABXAN7/dP8N/63+Tv4N/tX9rv12/Sr92PyV/HL8Rvwu/BL89vvK+6j7iftv+237d/uQ+5z7nPuO+5P7ovu2+9L79fsN/D38ZPyY/Mj8Bv1W/bH9DP5a/rr+Df9u/83/NQCVAAMBdAHnAUYCqgImA60DNASxBP8EQwWPBd4FOQZzBpoGkgZ4BlQGMQbvBbUFYgUMBZ8EKwSmAy8DzAJoAggCrgFWAekAdgAGAJj/Ov/q/p7+TP77/af9U/38/Lf8cPw8/B/8+fvJ+5z7eftX+0X7RvtU+1n7Yfto+3T7iPug+7/77fsX/DX8YPx8/Kr84/wo/W39uv0P/l/+sv4F/1f/r/8GAGsA4ABVAcsBKQKVAhsDmQMOBHUEywQiBX4F0AUZBkIGWgZWBlMGMwbxBbQFgwVIBQAFmAQlBLADSwPrAosCQQL8AbEBTgHkAHoAEQC1/2b/H//a/pD+Mf7b/YD9JP3U/Jz8bPxB/Bn86Pu6+5v7i/tt+2P7Yfti+2P7Z/to+3L7kfup+8X74vv++xj8Nvxo/KL84PwY/WH9q/3x/T3+fP7L/ij/iv8CAG4A7gBdAb4BTwLXAlgDzwNCBLAEGAVxBcgFDQY2BkYGUwZHBhgG7gXKBZcFTAX2BJgEMgTAA2sDEwPKAoECQwL0AZgBNgHRAGoAEgDD/3b/Hv+//l7++P2i/Vv9I/3t/LP8hfxP/Bf85/vJ+8D7tvu5+6b7ivt++3n7cftj+277hPuX+7L7yvvh+/T7Efwt/Fr8l/za/Bz9Yv2m/dT9EP5m/tL+MP+M//D/WwDEACoBnwE6As0CSwO3AxEEdgToBGcF2AUbBkIGXAZfBjMGAgbdBbcFjAVSBfoEjwQeBMADaAMKA78CfgI4AusBkgEiAacAQgD6/7T/av8c/8P+Yv77/aD9Tf0N/eD8vfye/G38N/wU/Ab8+fvy++b74vvm++z78vvj+9373/vx+/37BPwE/Pr7+vsS/Cz8R/x8/LL8+Pw1/XH9mv3S/SH+gf7f/kH/qP8IAHAAzAAhAagBVwIHA5kDBQRhBL8EOAXABUMGjQa3Bs4G4gbKBn8GSQY7BhUG6gWkBS8FsAQ9BNoDawMBA68CZgIZArcBOAGkACAAyP+c/2f/Gv+8/ln+9/2P/S/94fy3/K38lvxb/B788/vY+8v70PvJ+9P72Pvb+9L7vvuu+6f7wPvZ+9/74fvu+/77EPwi/ED8bvys/PP8Nv1n/ZP9xP0R/mb+s/4T/23/yP8sAJMA8wBeAdEBcQIsA8oDSgS2BBMFdwX8BYoGCQdOB3sHmQeQB0kH4watBo0GWgYWBpYF7ARIBM0DUAPPAmkCJALgAYEBDAFsANX/Vf8N/+L+r/5x/i3+z/1W/eL8e/w7/Cb8Mfwq/Pj7v/uL+2f7VPtH+0z7XfuG+537kvt6+3D7i/uu+9P78vsQ/CX8Mvw6/DT8P/xo/Kv85vwg/UP9Wf1//cP9Ev5d/sD+I/+B/9r/LQB9AO8AgQEWApsCMgP7A7kESAWYBcwFJQbMBnoHBggwCBwIDwgHCK0HHAfEBpoGbAYtBsAF4QQFBHMDBAN+AgQCvgGPAV4B/QBUAH7/yf5x/ln+L/7Z/YP9NP3M/FP80fti+zT7V/t7+037/vrE+p36lfqh+qL6tPoE+1/7gPtk+y77I/th+7v79fsY/D38Y/x1/Fr8PfxS/Kb8F/19/aH9m/2y/eX9I/5W/qX+Af+C/wsAWwBpAJkACQGmAVQC6gJ7A+0DoASGBVkGoAaKBs4GwQcaDG4N+wqGCDwKiA3REzoUSgtZBtsJ5wvEB3YCBAL5AwYCW/xN+Dv4B/sfAd8CiPwO9GzxJvMp9fj2hvcK9+b4Z/v/94PxWfBm9fj7MAGKAer9d/tH/Y//jv8L/zIC8AewC24J6QLM/HH8YQIHB0YFQQDx+1D4yPWw9PDxK/Hk9ZL6MfdQ8Fvs4u1m88X5y/vs+uP7xf6W/wH+o/2wAWgI4Qx/DPQIEgaFBzoNdRJlFA0WRhn0Gi0azRrJHP8jESGeDnD/xQZtDyAFI/up/Bj66exm6KzlcOA/4A7tu/O27RnlbOcu8Lb2lvy6A+UHcgp9ER4Uwg3/Cm4UAxqoF6wU2g8+BqoBcgLW/Un26PNf9D3wvOpL5A7hGeOh6nnvru/O7trx0PeJ/J8AcwVoCgAPrhTTFacRYA+OElgTMxD1DCsIpgGQ/jP7d/JV6wzsM+2X6annq+cF5xLoOe7i8mr0Evjr/1QF5AbRCHoMVQ9FEaQTNhPlDzsOuw5EDDIHdwTXA7oBQQBgAMv/dv6o/1MDVAUABwwKTQ/yE3EcJyA5DPH55wCHFb4NggOkAwcCrfJH7wjyEOr55kXzPv5Q9Hfq9unO8/H5rwFEBqMGbAVlCzYQoQtzCHwMCBF/DgcM7gQj/R37v/33+ePzGvIt8FLvavDG7yjrre3I9fr67/pr/ND+qQB9BJMGSQW0AvEFkQmxCBMDcQD0/8H9Svvd+tT4w/RE9gz5OPao8Rn0dvdI+MD6sP3y/BT9zwGDBHIDcAMxBigIEAhgB10GWwW/BU4IXQr/CQEKLwxPDiAPvQ+HEp0UqxfuGZ4c0RuhFkULe/rw9pL80//W9dTxA+7g5bPf0OP95tjmMvCt+lb8cPdl+/gBcAnoD/UVMhaRE/ES9xKtD80J9gZoBEUA/fkk9Pzt2Om16GTou+ec5w/p2+t48L70nffa+/UCJwnlDKUP1RF4EuISQxJADrEHTwDh/xX+Avj48drv4uvL5z7pU+nu6OHs2fME9hH4O/tw/18D6QiRDJYNfg5OD0gPgQ0MCyEJ6AedBcoCXf/l+9H5Tfrk+if7Sfw2/ocAuwN0B1kM9hCbFdoaFB9aIkclCCnnH7sGyPwNBrAIOvpR9S/zL+RD2o/fHuCG2O7gk/E79FHu+/JS+ysCigt5FlcZABe/GIIc1xp5FEgQbw02CRIDF/zm8yjt4Ojn5ifl9+Le4SzkXulN7V7vj/Mh+x8DfwnQDi4S7hPLFOgWihUsDzcJrwdCBrf+qPkK9fnuROn+6bPpv+Yt6PvtPPDA8K/0i/k3/S4CcwjYCl0Lwww+D7sOhg23DLELuQjSBZgDfACU/TL9Wf5Z/oL+tf9uApwE4AhsDeUQQBTKGE0eRSLJJGYdaQlC/nEFMgqyAe/5N/cq66DhwuLf48zei+PF8KXzdu6K74r2KP1uBsYPAxOgEasTExcxF20TZhDNDoUMDQhtATz6RPQ28IztY+uN6HLmJedQ6l7sIe3R78X1o/yZAi8HdQqUDN8Ojw//D/ANpwslCTIIxAT7/h37rfZr8gvwNPBR7QbsJO7s74jvpfFC9T/43PvCAOoDhwR2BlkJcgskCy8LFQspCqkIHgcQBZwCFQLsAucCegK6AlUE3wXcCA0MsA53EZoUehgEHP0fPhz+DPX8GAE8CQ8GKPxi+QPyhOZ05QHpVOar5D7vhPWZ8PDsc/OG+sMBKwrYDk8Nbg2oEUcUChOYEL8Pkw58C/MF7v/7+q33r/Qe8uruVut36R/r6uyB7NvszvAS9nb6e/7yAVYDcANfBqYJZQntBiIJ8AqKBwMDtwAl/sj6b/q9+X/2ZfOQ86nzQvLq8bHzlPUj92P5ZPuU/AX+vAB/A54EhgUOBxwILQhdCOgIDQnkCSgL3gsWDCYMbw0tD2IQixKXE0AVFxbEGPAaOhbvCZv6e/3jBNcEcPrx9FrwJOgM5/7qbuvM6GLvufWY8tft2/O1/CQDrAheDB8LPAqlDgYT+BLDEJMPLg6jCtUFiAFc/iv8IvlY9czwKe1G61Lso+3l7OPr/u1K8m31jvjA+NH4bvzyAMQDrQMaBcQFaQdaBxkFbANPA5gCKAHT/yn9P/qU+SH6ufeO9ez1Gvfe9pT3xfjR+Mv5hvzG/nP/igBEA94FUQcMCR8LtAyFDtcQLhL9Ek8UNxdpGF8YBBkxGokaahxeHMoSYP/i+qUFSgiH/OfyyvHl6RfkZed76nXlcOYv72Lvpedh6v72H//PAdEEcgYTBpAKlBJIFgIUNBICE+URZA3NCdoI4AdtA3j96vcL84zvve988CDteOfF5nLpZeps6qnq9O7c8mP1efdP+j/8C/+tBGcHfgUFBuIJAwtrCWUIaQfqBAQEOgRyAZr9mvwY/Rn7Pfgp90L3w/fW+BP6aPpI+/n9pQFZBOIGxQlqDFUPaxLaFZMY1xo8HUgexh/+IHUlwR9JDMIELA9+FuQIjfvX+UL0kOs46w3uQefz4cznf+gl3jHdGeru8orxOvHH9J73Cv31BUgM2wtsC0oPHBLhEKYQeRS4FnESowtGCPgGZAXyA+UBh/sS8zrvh+/07eDqyOjH6JLm0ePT5YvqI+0A7hvxwfN89Oj3j/66AigDRgSEBhMHpwfgCrgM7gqzCBgIyQY1BWIFZgUzA5UANADRAFkBJwLXA3kE5ASsBm4JsQuVDRsRYhOlFWAXEh36HSMK4gZBFTUgNg+6AHEIZAf7+3j4hf7x+D3w/fKw82/mFORz8Uj2lOvz5XvtE/GW8Xf0VPpp+p35Kv39AKgAXAOQCh4NQAcOA20Ibg2eDKMJ6QkMCBUDygHyAi8C0f7p/JX5Z/Rt8ITydvZf8/Tsletf7uztte308S/0JfIP8g/1E/eD+ZH+SAHY/k3+SwKYBQsGSAchCRYIGgbFBnMIPwmWCsYKNggzBkgIIQtAC/wKGwwNDS0NJQ76D3kS6RQsGSgZbQVlBUUWcR7qC0z/6wsFDD3+x/ocBLMBKPcA9DT0p+xA7x/4SvTW6BPoHvE+8H7taPFL+O32d/IW86b5Df5lAM0A9v8I/3MAXAVtB+gGIwbfBscElQAbAqkHUwddAR39PP5v/v37RPxv/Xz7ivZa9Sj2Vfbh9v335PXb8izzjPar91H34viq+aT4Cvna/Gf/lf85AJ0BBQIfA9IFJQiMCFIIdAg1CQAKbQv4C6kLbwvVCwwMlgsoDIYNVw3fDTYP3xFlCeEEbw4cE5wKNQJ/CvQMvAIs/7UG5wbx/QH6Sv1K/EX4zvg99+301/NZ9C7yp/F89En1H/Jb8SX07va89nb24/iG+pT6Z/rz/Lz/BAC8/hr/HAG2AUkAXAEhA9EBjP/E/zcBRQBL/63/4v7+/Df9Hf6//dX8T/3m/PL78vwV/qr97fzM/Zv+Lf6E/sj/mgBpAAwA3gBtAdcB4wIsA/sCxgK1AnUDDQTrA4ME7wOIA3sE4wM/BMcEdgQOBf0ETARWBRYEsQPKBJME9wPSAycEdQMBA/cCygI6AtABywHUAW0B4ACPABQA4v9l/xT/0f6F/kT++f2+/Wn9LP0w/Qb9AP23/KH8yfzJ/A79R/2S/db95f3g/c39//2i/vz+o/5//rr+3f6b/n3+Z/7K/S79TP2L/Sz9rPyu/MX8hvyS/MP83vwQ/aD9F/4I/iX+rf4p/5f/RQD7AFQBhQHlAWACsQLNAh8DpwPmA9UDrQO/A/ID8AP2A+MDwwO/A9sDrQNuAwUDWgOuAyoDLQMyAxIDsALJAukC3ALyAicDAwNZAtgBHgI+AskBNwETAf4ArwBAAL7/Vv/q/oL+Bv6i/Xj9O/3o/JL8MfwE/Pz7GPwz/DP8Pvw1/A/8HvyN/Cf9f/1J/TH9ev27/c79+v1E/in+2v3Y/dH9uv25/bL9dv0Q/Sf9U/0//Qr9Nv1+/Z795f1P/qr+GP+m/wMAHQBrAAQBhAHcAQkCQgKHAr0CwQKdAsMC/QLwAsMCvwLiAtwC0wLhArYCqQLXAtkCmwJyAn8CeAJMAjQCNQIfAhsCHwLjAWkBMQFrAX0BKwH2AAYB0gBdABgAJQBCAAsAzv+3/4z/OP+3/nX+gv6O/n/+O/7s/aP9bv1o/VP9Ov1G/UH9F/36/B79W/2N/bv90P0J/lT+kv6x/uH+Iv9L/2n/Xv9T/yL/Nv9K/wr/oP5g/lP+Vv5q/nr+Yv4t/iD+Uf65/hb/Z/+8/wIAVwDCACsBXQF1AbgBJwJvAnICWgJWAj4CBQL8ASoCDgKfAV0BWQE+AeMAowCSAJEApgCvAIEAVwCEANsA+ADLALsABAEZAdUArgC8AKwAiwCnAM0AnQA3ABEAFADv/7H/vv8UADAA9f+7/5X/lP+L/5n/sf/A/6T/Sf8B/wb/Iv8Q/+/+yv6Z/nT+a/5z/mr+fv65/sv+4f4K/1P/cf93/4//k/+w//T/OQBDAB4A7//c/+L/2f/b//T/FgD8/+P/5f/3/zsAkQDiAOIA0gAPAYoB4wHaAc0B+AEUAhoCIwIIAs4BhQF5AVAB6gCkAJUAdwANAMf/r/94/zT/VP+z/7v/k/+a/8P/wf/V/zcAZAAoAAkAPAAbALb/mP/h/+7/mP9r/27/YP86/zD/QP8v/x//U/+h/7T/hv95/5z/wf/L/9f/2//d/83/sP+M/2j/df+m/8z/qv+Y/9X/9P/h/+D/KAB4AIQAnQDTAOcAyADOAOcA5QDWAM4AwwCHAFsASgAmAOH/5f8bAC8A6/+o/8b/HgBiAHYAfACcAMgAyQDQAP0AJgEfAQoB5QCWAGUAdwBwABYA4v/S/4P/Ev8o/2r/P//g/tf+A//t/vb+L/95/4T/fv+T/5//wv/i/+b/wf+n/5r/of+3/7j/l/98/57/rP+d/6T/yP/d/+T///8JAB4AfQDYAMMAgwCUAMUAzwDSAN8A3wCwAJoAkQBSACYASQB7AFQABQDq/+z/5v8EAD4AXwBiAHEAggBoAGUAnACrAIwAWgBFACcA/f/d/83/tP+d/6L/h/9y/4X/qP+g/4b/p//p/w0ADgAdAEUAbAB9AHEARgAqACwAIwABAO7/6f+6/2n/S/9D/zH/Ef8Y/y//Hv/+/v7+Mv9p/33/iv/F//z////v//v/DwAVACIAUABYACMAIgAxACwAQQBvAHoAXwBiAIQAjACDAJsAxADKAKEAnACwAK0AlQB+AHoAcwBQAD4ALAAcAOX/o/+Q/6X/sf+X/4T/gf91/3P/mf/D/+X/EwA7AC8AAwDz/xgAQgBNACgA7v/Q/9P/1//P/8H/ov+b/6L/nv+U/5z/v//K/8j/z//l/wwALwBOAFgARwAyACwAIAAdACoADwDQ/5z/k/+W/3b/Xv9U/0f/O/8//1n/Yv9i/2r/gP+X/7D/5v8PADgAQgBCADwAQQBiAH0AdQBZAEcATwBbAFwAXQBrAGMAUQBNAFkAgACgAKkAhgBZAC4AMwBaAGEAPQDo/8T/0P/M/7X/n/+j/6H/jf+H/5r/s//G/9L/yP/U/wQAOAA4ADUAQgBJADAAFAAbACkAHAD8/+7/8v/k/8L/sP+i/5n/p/+5/6j/rP/X/+z/6P/Z/wcARQBxAHgAeABhAEcATgBSAEEAJAA0ADQA9f+t/6T/sv+r/6b/mv+F/3H/gv+Q/4f/nv++/8n/xf/c//j/EAA6AFUATwBCAE4AUgA+AEAAbgB6AFMAUABmAGYAMQAnAB8AJQAEAPX/3P/A/y//b/unASMAg/0+AL8AY//G/lsAmP9n/8T/s//u/1oAzP+5////DwCqAG0AKABjAHIA0v83AEAAHQAuANT/7/8KAPH/0v+q/73/l/91/6/+gv7J/o39+f6c/xv+ef3dALX/C/4uAF0AhP+o/eX/9f3s/wgBqfweADkCyv8A/vAAawFOAPT/CABxAfoA6f+9//D/OQE/AdT+1P4bAtX/aP7z/6r/3QCFADn/pADSAbMALP8AAQQCoQBzAX8B8AEhAgkCkAHrAfACSwKpAWAC6QEMAooBfwCOAcUB+P+0AOEAbQAt/0YALgCF/0D+UP9K/wv+EP8Z/vP+hP6r/r//4f6e/6j+O/8HAB3/qf5H/xcApf8d/sH+cv9KAGb+8f10/xn/Ev+J/t3+nf5q/sL/wv6r/ggAgv/O/6L/OwCUADkAtwFkAN4A9wHcAH8B+wEaAXQCpgI8AQgCKAJzAfUBLQIzARoB+AE4Ab8ApgHTACAAvwDr/8cAcwCA//v/4v+7/+f/yf9y/+H/GAB+/w7/if7C/yoAe/6d/qj/A//B/v/9Yv4t/3X+Sf6T/gz/uP5M/uL+uP4u/+j+pP7t/mP+OP/C/o39CP9//5f+Ef5T/2v/ZP8rAFH/HAB+AXcBHQGJAD8CtAP3AokC1gNlBIsE4QM/BZkEvQV7BqwETAbxBh4H6QakBTIHkgVvBcwG9QWHBI8DdgPGAkgCkQHJAEMA+/4c/2z+U/1a/rT90vuP+5X69Ptp/Dv7P/sz+y77o/vS+4H8mfyC/H/83fzB/e79qv6A/uL9e/9YADz/PgA3AbUAdQHkAdICSAMuA4ADLgSDBIMFxQUmBmQGcwcoCOsIDAp4ClMMvwVKAqIINw7WCf0BPQEGBGMCowIwA+j+cPpF+Vj9k/xT+F74Xvih9gP1Y/XP+KX4ofZW9pn28vZ0+Bz8Af2s+Rb5hPtS/uj+Jv9k/0D+M/3W/r8Apf+r/Vb9Bv0L/KT7Vvxq/Mz5WPiI+Nv4/PiV+JT4uvet9tX3XflU+u75ufm1+pD8i/61/6AAwAD+AIMDyAWZBewGOQhJCOkJ7AvBDVMNggakBssKuQ6DCzMFhQREBPsC2wW5BJn/8PpE+x3+V/yL+p35l/eH9ov26vc9+c73nffo9z348fim+vL8+Pxl+2T7ifwZ/ioANACj/nP99P3d/o3/l/8G/i38dPw8/RX98fwv/Kr63/n0+rz7k/tr+3X7qvu1/FL+yP+6APsAZAGKAj4ETwbxB/gI0wipCqAM/g8aD9UFxQZADCERMwx6BrwFyAFzAfQH0was/tf3q/mG/aH87PsQ+Uz0U/Ta9gn6HPrr9jH2kfev+S77IPxL/X38evwh/xwAPP/r/0oBbwJ/AK7/5P8yAKwAbwAE/4H9o/zR/B79nfxp+9T5yPlY+o/6yPp7+on67fps/Br+7v7d/zoBRQK1A0IFBgdTCLUJLAvxDNkNxxDiDsQH5wiDDbMQGwxJCNEG4wLJAhQIiQaW/y36tPqR/SH9PP2Q+lX1IfX393X7+vqO+MX31fiu+iv9Zv5T/tD89v0eAccAUgAvAYoC7gGoAe8BpQDn/wkB7ACa/2r+rP3s/DH9yf2W/Bf7OfsQ+0/7Zvy6/FX80Pyq/gwA6AClAm4D+AM8BdcGDAkeCUAKZgw1DSAPTgo5ByEJaQwmDSUJ1wZABCcBIwRNBhUCYv35+i/8Tf2T/cT9nvlf96D4Cfsu/eH7JvsA+/b73P1r/yH/KP4+/koATwCm/7j/RwC6/4r///92/v38kv20/Qr9Uvz0+9n6rvoC/CT8Uvuo+4z7rfuQ/PT9If5p/vL/5QB9AbYCYQMNBLcEDQamBhoH2gfXCI8J5wq3CIAEQwVVB8YIUgaOBKoCAAAiAf0DAgJe/iX9UP6y/iv/r/+X/az7XP0C/xQAwP47/uD+kP+CAMgABwCs/lP+OwBG/379yfzp/Cn8Dfxn/LT6pviQ+Tj6s/mr+ff5d/nA+Tz7lvsV+0D8B/1G/S3+6v4F/wUAlAEkAiUC7gIpA2gDdQT/BMcEKAUABuEGcge9CCYH3QNuBAMGBwdHBaAEkAPTAbwCBAR6Am8ABQAiAVEBSQFKARIAKP9dADsBOwEUAFIATAFYASgBrgDl/x3/XP8dADb+1/yV/Hb8dfsw+8L6ePnw+O75WPmb+Ov4dvnM+Vv6zfqZ+u36kfz+/E39g/3g/bX+AgCwANIA9wCdAfIBmgInAzcDqANUBDQF7AWKBrgGYQR3BGUFCwYKBX8EoASHAwsDAQRRAyIC9gHYAqkCQQJTAkEChwHxAToCDwKMAR8CuQI2AlsBFQGmAPT/m/9A/9f9/fzU/CP8Pvux+jr6Q/nm+CL5rfhs+MD47vhC+Yr52fkw+pT6JPto+wb8uPwo/cP9P/7J/jr/xP8jAK8ARQHAAUoCBgOJA4EERAX9BTgFigUcBkEGkAWIBfYFgAX8BEAFvAQPBPQDfwQJBH8DSANaAwUDBQMdAw8DzwLsAgoDzgKGAjoCpAHbAE8AEAB2/+f+E/4K/S38pfsk+2n6mvkP+Zf4c/iY+Kz4q/jA+Of4OPmH+fz5j/oK+3D7sfsn/Lf8N/3W/XP+5f5l/wgA2wCkASYC7AKrA5QEUQW0BWoGNAbXBaIFLAaTBjQG+wW2BXUFeQWhBXwFxARTBGoEZwQaBOADowOoA48D6gOlA/ACfQIRAp8BAgFAAML/9f58/rr95fwW/EH7gfq5+Un5A/mn+Fj4HPgU+Ev4qPjI+Nf4x/gf+YH5Avpj+sP6Rful+0T87/yR/T/+9P6S/yoA2wCgAYACUANJBPsExgUgBtEFjwXXBXkGjwYfBuoF5gUNBjEGBAZsBe4E+gQeBb4EXQQ+BFcEaAQwBN0DUgMXA/kCbgJ+AaIAUgAGAGr/j/5u/X384/tI+5H60/lv+Qb5aPj499z3FvhG+CT49ffz93H44Pj0+CH5f/kq+rH6Ifuz+1j8Ff3T/W7+H//l/8IApAGJAo4DiwRwBfoF0gWHBawFRQaSBlUGIgZDBogGnAZHBtEFjAWyBcIFYgUCBf4ELQU0BecEfwQkBO0DuwMpA1ECqQESAXsAqv/K/tP9v/zX+yT7Rvqc+Tb5xvg3+Lj3tPfr99D3qPe79/r3Qfho+JH4x/gx+c75S/q4+j37APzJ/F397v26/pn/agBGAUkCVwNhBEQFpgVuBRoFdgUQBkYGKAYmBkcGdQaABjwGuQWBBYoFcgUaBesEFAVKBR4FrgRJBAYE3QNyA8EC9wFhAdMAQwBe/2X+ef2l/M771PoW+of5Gvmj+EL4K/hE+Dj4L/g5+Er4hPim+NX48vhV+ez5Y/rN+kL7xPtw/Bj9u/1m/g3/v/9wAGUBlwKYA1YEugScBHsEvwRBBZAFcQWVBfYFTQZLBg0GvAWRBZQFmAVEBfsEDQVIBVkFAQWsBG0ELwTEAxEDUgKjARUBVgB9/5T+vP0D/UD8UPtR+qP5TPkB+b34dvhe+H34hfh/+IL4l/jO+OP48vhB+fH5tvo8+4/79Puc/HP9KP67/lf/NABHAVcCOwMBBIAElARbBFcEyQRABXUFdwWZBe0FMgYsBtQFgQV3BaEFggVJBT8FcgV9BUUF6wR/BEAE7AM8AzoCagHgACsAJv8X/lb9vvwH/CH7U/rY+bf5k/lT+RX5JvlS+Uf5L/kv+Wb5ofnE+ej5UPr1+pz7APw+/K38Xv0S/oH+Af/L/9AA6gHbAp4DNQRuBDAE+wM8BNAEEwUBBegEFwVsBY4FWgXxBKQEuQTZBOUE5QTsBBoFMwUZBcIEbwQJBGQDeQKUAcMA9P9M/8f+CP4C/SD8d/sJ+6H6WfoN+uX55/kG+h/6Ivo9+mD6e/qN+tT6O/uv+xz8gfzz/Fj90P1S/tv+bf8UAMYAkAFYAigD0wP3A6QDYgOxAzQEZgRGBEwEfgS9BLsEmARqBEsETgQuBCEEKgRjBJwEjgQzBMoDhAMqA5MCnAGWAPD/d//3/ij+Lv1y/AD8k/sO+4X6d/qE+nD6Yfpb+o36ofqt+t36Hvuk+yX8nvzj/EX9uv02/pD+A/+R/zIA2QChAWEC+wKhAwIE4wOCA34D7gM5BCcE7QPfAx4ESAQUBKUDXgNnA2gDUAMyA0gDggOcA2MDwwIwAt4BiAG4ALj/Bv+V/g7+Wv21/Df83vuB+wj7p/qC+ob6gfpj+nr6u/r7+if7YPvP+2H86PxD/Yf9//2r/jj/mf/r/4MAQQHqAXUC6gKTAyMEOwTtA44DtAMTBCYE4AOeA6ED2QPHA3sDLAMVAyIDHgP7AuUCAAMeA9MCSAKiATsB0wA1AIH/y/4h/oz9Bv2O/AX8ePsH+636gvps+n76oPqs+sX61foG+1b70PtV/Nz8UP2+/Tf+yP5N/8f/KQCNACMB1gF6AgEDkwMXBDwEEATDA7QDBAQ6BDEEHAQKBCkELQQOBKYDQwMnAwQD3AK+AqUCiwJHAswBPgGuADoAw/8X/0X+if0N/cH8Zfzf+1b79fq7+on6WvpY+mf6kfq2+uj6Pvus+yv8s/wt/az9QP7J/lP/2/9ZAOkAfwEAAoMCFAO3A00EiARvBDMEJQRbBIcEZgQtBAQEFQQxBB8E0AOWA28DWAMxAwEDwAKNAjQCwgE2AZoAJgC1/wX/Pf6V/R79uPxU/Mb7MfvS+pb6aPo6+hn6JfpQ+qn6Cvt5+/X7cPzv/GT9AP6k/i3/nf8rAL4AVwHiAXYC+QJcA88DLgQwBOsD2AP+AykELAQdBAAE8QMHBBIE9AOmA2MDRgMvA+oCmwJNAg8CsQE+Ac0ASgC8/w7/bP7U/Vf9+PyZ/DD8xPtw+x771vqG+mv6cPqy+gj7a/vH+yX8qvw1/cH9KP6U/hL/m/8cAKAAFgGIAQkCgQL2Aj4DXQNjA30DmQO4A8IDtwOxA7UDwQOwA4kDTAMfAw4D4AKKAkMC/gHOAZIBKwGyAD0A2v9m/+j+b/4I/qL9P/3u/LD8dPwv/AH8yPul+577uPva+wf8MPxx/Mj8Nf2m/er9Rf60/if/k/8FAHgA9wB9AfYBdgLTAhcDRANnA3ADiQOgA44DcgNVA0EDIgPvArUCdQJCAv4B0QGmAX8BTQEBAbgAXgAhAOP/nv9M/+j+kv5D/vX9uP15/SH90/yL/Gf8P/wu/DH8Pfxh/Ir8uvzp/C/9kf32/Uj+lv7y/kr/wf8vAJgA/ABfAd0BTwK1AvECGgM9A2ADbAN3A3cDYANDAyMDDgPkApUCOQLkAZoBRgH/AMMAjwBQACUA8f/B/3v/Sv80/wj/1/6R/lv+Mv4H/s79lv1h/Tz9JP01/UD9Pf0t/T/9bf2R/cL97v1D/o3+4v4n/2r/uf/x/ygAcQC4AM4ALAF4AbwBAwI9Am8ChQKbAqICuQLEAr8CuAKjAp0CeQI+AgICxQF/AUIBCAHFAIMAVAAxAAEAzf+Y/1X/Hv/o/rH+jv52/mj+aP54/p3+q/7G/sT+x/7M/tL+5f73/g3/HP8n/zH/Of9F/0//XP9p/3n/h/+Z/6r/yf/Z/97/8v/t/xkAQABYAF4AagCCAJcAtwDXAOgA6wD4APsADAERAf0A3QDDAKwAmQCMAH4AbABdAFwAVwBXAFIATgBNAE0APwBAAFAAXQBrAF4ATABCAEoAOgAvAB4AFgAPAAoACwAGAAIA7//i/+j/3P/O/67/tf+U/6v/qP+L/3T/WP9e/0z/Yf9Q/0v/Ov88/1D/Wf9c/1r/Yv9p/3n/lP+f/6v/s//E/9f/5P/4/+b/2v/i/+z/AQASACEAOgBSAGgAeQCEAJEAnwCkAL4AvwDGAMsAvAC5ALMAuAC0ALIArACcAI4AfQBzAGAAUwA8AC0AHgAOAAEA8v/S/6//nv+V/4f/d/9g/1H/Qv87/0L/Nv82/zz/Ov8+/0b/SP9N/1P/aP9z/3P/d/+D/5b/m/+o/7f/wv/F/9D/6v/v//j/EQAhADUATABaAG4AfQCAAIUAjACPAI0AhQCLAIwAjgCOAIQAkACaAJcAkQCMAIgAegBpAGIAUQA/ADIAHQD6/+v/0//A/6z/i/97/23/Zf9e/1r/XP9c/1j/Zf9z/3f/d/9+/4r/mP+X/5v/pP+5/8j/y//N/8//1//r////EAAbABsAFwAjADMAOgBHAEsATgBVAFcAXgBhAGcAdQByAHEAbwBnAF8AXwBfAFMASQBCADAAJAAbAAQA7f/Y/83/zf/H/77/tf+1/63/tP+5/7r/vP++/8r/z//J/8T/yv/P/8//1//Y/+H/5//m/+z/7P/v/+//5//t//L//P8QABwAJQAvAEAATABNAEoAQQA1ADcAPQA/AEYAOwAwADMANQAzACIAEwAUABoAHwAeACoAKgAmACgAHwAaAB8AGAATAA0ACwALABoAGAD+//z/9//0/+7/9f/8/w0AFwAiADEAOQBDAEsATgBIAEQAOwA+ADoAPgBDAD8AQgBDAEwATgBIAD0AOQA0ACwAHgAVAB4AIQAhACsAJAAQAAsACwAAAP3/+f/z//r//v8HAP3/6v/j/+T/6P/f/+D/3//R/9b/4f/d/9z/zf/N/9L/1P/X/+D/6f/v//X/9v8EABYAHgAdACcANgA+AEkAVwBZAFUAXgBqAHQAeABzAG4AaABrAHMAcQBsAGwAawBeAEoAOgAkABsAFQANAAcA+f/n/+H/zf/C/77/vv+//6z/oP+c/6L/m/+X/5T/kf+V/5v/p/+t/6z/rP+1/7//x//M/87/1f/b//H//f/+//T/8f/8/w0AHQAeACoAOQBLAGEAagBmAF8AXgBdAGYAYgBiAGcAWQBNAD0ANgA7ADUALAAhABkAEgANAAMA//8DAPb/6P/b/9n/zP+4/6P/lf+b/5P/gv90/2z/av9v/2//bf9p/2n/e/99/3z/hv+U/53/qP+1/8H/0v/b/+X/+P8EABEAIwAoACYALwA1AEQASwBaAGQAVgBQAFYAYABVAEsASQBDAEQARQBDADIAJQAaAB8AFwALAAYA9f/w/+f/5P/e/9f/1P/O/8D/vP+1/67/o/+a/5f/mf+Z/5j/k/+f/7L/tv+u/6j/pP+o/6r/uv/N/9H/2v/Y/97/7f/s//L/4v/9/wkADwAkACsAMgAxADcAOQA9AD4ARgBQAFgAXwBKAD8AQAA7ADIAGQANAAwABQD5/+v/3P/V/9D/zP/J/73/sf+s/6v/rf+r/6b/sP+0/63/rf+t/67/t//B/87/0v/a/+n/6f/y//P/9P/3////BwAOABYAFgAbACcAMwBAAEgASgBQAFAARwBLAEkAQwBGAEcAPwA2ADsAPQA3ADoANAAkAA4ABAAFAPj/7f/e/9j/0v/W/9f/zf/b/97/2P/n/+b/4//j/9n/5v/Y/9r/2f/Q/83/v/+//97/9f8DAAIACAAnACYANgA0ADYAKgAjACQADwA7ADsARABAAFYAQgBBAD4AEAAgABMAJwAhAB4A5v///6T//v+R/f79DgGO/87/nP+6/2n/6f5K/+f+If9I/zj/3P4T/U38Jf2k/er9F/8+AfABEAITAksBlADZ/rv+D/8h//8AsQGTAdgAMgDy/0v/ef/F/y0AjwCWAD4A9P+o/3T/nP/A/wIAQQCZAEwAAgD3/4v/pf90/6//Xf5Y/YD9Pv24/AX9ev62/k7+bP7E/lb+cP8EADcAFgH4AZYBPQFjAV0BDwFiAZYBrgFTAcMB3wCrAEAA5gAUAacBTAKHAmYCnAIXA7kDpgPaBIsF5gRCBRgFNwWnBEoF8QS3BFQEdwTXA5EDfQPDAh0CZAHlABgAyf8e/5b+AP6U/Rn95vyn/Ob8wfwK/VD9zf09/pH+7/4q/yv/QP8G/5v+9v2b/Tv9rfxC/Af80/ur+8/7/fsX/Jf8Z/1C/in/OQCLAesCrARHBqEHkQiuCf8KXQyPDaIPQhHIE6kV4xrRHnkmMBp3+RzpL+l13FPPqeI76VDfa+yBCDf9n+zK+igG5f1rB4wdUR5QGB4gQCD3DGT7U/NX60rkVeNB5b7nV+ma6rLsYu3c6tXs2PRs/ewFeQ7FE7kTiw6oBX39jfeB8yjymfNJ9R32Cve09/T10vPw9MT4kfz0AGYFEghBCOcG7QMRABr9ufz7/ooCGgd9C6QOYBEHE2sTKhPnFaYZliJZKowVkvvT8tjr29KO0g7jzOLq3cX3qw5hBs//4AyoDosEOQ7hH9wc+xMQGHYYjQhb907tnOIt2mzco+W/7IvyPvk5ATUH9gfTBqAIAQv9DGMS8RacEqIIZQCB+OHtEOWl4S/gaOCn6XL2VP7qArUHQwoUCi8JHwnEBw8ESALsAtv/DPr89QLz7PAG8i/2YPuL/1kEzwmIDM0LvAn/BqADSgGSABUA1f+UANQCcwawCRAN9hDvE2YWaRleHX8gQiflHEcAyO7U65vctdKR36fo4eSK8N8KABKGCC4LtRPCDrELVBaFGvoQnQo+C9oEyPWQ6Zbib91v3Y/lEfG7+k8BqAg/EY0U7BAtDUMLjAfDBMwFFAWV/fL0wfD/7ETo/Od160jupvIY/dgHewwvDXkN8wq0BY0BDP/9+nf2gvUR9+j28vWg9h/4lfkx/XkCjAZyCKcJUAr5CGcFYgGW/Uf65vhI+nL9yACXBGcJQg5VEl4VuxaaF6kXqxjlG68kjSrCEDLtOOL83APIpcgF3kvmOeeRAr8jTSWgGPcccR2LDJUGVhCCDCP9kvr2/xn4kOrK5Afg8dim3XTuuvyNBokSMh7iIlEgoBltD6QBrPVy8e3xqvBK7fvsge928GDxMPZG+uf6T/9kCj4TVBUUFXkTPQwhAgn7zPRZ7JzmNud663nwNfap+un8UP5RAQoF6QaHB+0HaQYNBI8BSv2E98Hy0vD/8Yr1kvrW/2sEJggBC2UMyAshCZYFpgIOARQA0/+lAEQCnQQQCPIMghH+FKIYKx3eIyovPypmCVTsR+Sn11PGn8vq3jrm6uv4BnQj3CQsGgkaNRjFCxYF0gcABjr+qPpW+2r55/OJ66Dh9N3x5Ijt+PT/ApQTpxq2G3IfZh7OD/r9T/Vx8ETpYuaL6r3uJPGH9mv+gQMLBEkDQASWB4gLvg3zDf4M4QkXBJP9s/fr8GHpfeXU5y3u+PVP/HACuQnvDNAMHw1lCRoCWvwq+Bf2sPW59Ij01fXu9/76Lv4wAaIEpgbAB0oKswt3CbcF1AGZ/Vr5uvbK9sn3CflN/dsDIgr2Do0SwhRaFPYSAxJsEB4PoRCaGEkkHhvl+zjmxOFu1BXG6M154fXrXvWOEFUwnDX7KC8ioh50DpX6W/Ki8jPtk+R46K32Pvum9OvwYfWA+Ab3hPq9BokQdRKNFD0arxrADz4AgfUl7n7lKN/C4DHoYvDh+IEEzBBnFg4UbxDODmYLYgR0/pz8XvtH+MH2Rvh3+F71XfKy8nP1uPgC/XwCyQi/DdgPVQ4qC7gGv/7O9qrxKOyw6Nvoo+xM9DP8KgLLB+sLfg2/DFsKmwaWAnr98fgw93D2kPUZ9tn3dfqL/XkBFwYKCqIMaA4GDz4OsAxQCiMH8wT8A1IEtAYHC3MQZhekHnAfnxMJ/szqkd+K12fSUNfn5Ovy8gDlE6Qm8SwHJTEazhGKBvz3U+/T7s7uE+398Er7jAGl/hL6Jfkr+Jz1dfYZ/TQFzAo/D2kUbhfoEz0KJ/+99dPstOSG4U3lauxp9Jr+VQrKEv8UHxPiD0wLlwR7/e/4O/eJ9qL20vj9+yD9zPtd+ij6GfrW+VP7iv5mATwEiQf8B9QFjQND/6/4svMx8Nvtc+4A8vn3WP+NBMkHswpTC8QIXQWyAQP+aPrI94v3Pvmu+gv8Mv69AA4DLQUlB0kJ1ApjC7ILFwzBC6UKNAm6CDwJCwppDMsRBRlcHW4Y7AfW9CjoR9+01mnUz9yN6e/0TQQaGlcqxSo6I8cd7RUlBqz24u/t7ILnceUn7Ub4Sf11/fT+IgHT/5D8Qvz8/50DBAUYB0EMqRAyDwcJ7wK+/Inzrek95drmaepW75H49AQkD3oUjBZ+FrISXgqsACL5+fPd7//tE/Bu9Rj61vyF/yACHgPaAa0AagE0AqkCCASbBgQIXQZSA9UAb/wW9g7xLu4h7Ersie8w9Vz8CAO7CKYNaQ+TDdIJ8AT4/hv5kvRL8kryEPSD9/f8tQKdB5MLTA5jD1gOoAtZCPoE0QGK/9n+8f+QAjYGAQtKEDkVlxmoHdYdIBgxD/IAK+4W4M3aj9gL2K7eH+3F/AYJyRUbI2EneSA7GHQSXQlN/HLyOe/+7RPsbu2v8xD5/fl/+cz6wvxq/ZX9MQALBWEJugvDDSEQNxBXC7oDsfwL9mzuHujS5grqtu6v9Fj9Pwe2DmwSwBMeEzYPIwh+AIn67vVL8uHwmPJK9vr5QP1sAKYCBwOLAR7/+/w0+9b5ifny+aX6bfuY+8f7VPxL/OP7GPw1/bH+ZwBAAvcDrATxA4YC2gDI/tr8efv9+qH7Of2S/4wCowVsCK0KNAwVDZgN+A3/De8NJw4JDygROBUeGs4aCxHc/zLxqOYP25XREtLf2ujjlu5QAsIaKimFK40rwyquIJIOPP/+9Z3rz9+72zHi+Or08Mn2Yv5lBOwF5QT/BGgGVQYtBLkDjAfsC0oMEQqMCHUFQP0E823sROk35v7k4OnH8yb+XAeAEFoYlxtEGaUTzQyEBJ/6dvEq7L/qQOuk7QDz+vnN/4wDOAbyB6gHTQXlAS3/6P2d/BL7Dvvd+837z/rp+dD5rvnq+Er5fPtC/ogAugINBcYGNQbVAxsBM/7L+uH3kvZZ93z5aPxSABMFMQmNC4QMvgzwC/0JdwdTBdYDjQO5BCMHdApYDnIS1RauG8UfGR1IDvP7OfAd5qDYQtHI1gTgDuaL8asInR3eIwYkHydvJUoY3wiv/1D4+OzT4zbk6uqP8ET0a/id/SwB5gDP/pD/JQL9AUUARANNChcOEQ1aDA8M8AYL/Tf0xe5A6mvmlOZA7Af1xf30BWMOehXGFxYVgRAkC6ADv/oA9KfwAe+17i7xGvYS+63+aAGjA+cEIQQlAtcAC/9y/DD7OPt6+1X7VPqr+Xf5ofhu+M/5dfsp/XD/PQLzBIUGkwbJBc4D5wAw/t/7Cvpp+fT5ovuF/ikC5AVHCQQM+A3CDpsOEg79DLcL+golC5IMJw82EykZGB0xFuwFavhO7/nhrdMn0WbYm90p5BL4CBOdIs4m1CvNL2gn5hVnBx39pO9b4bTbDuCR5/rtHvSW+xMDiQYHBYsDzQQ0BBMA8v5CBJwJiQq6CqgM3AszBRv8x/TG7rroh+R65cfrRPTS/HIG4BAaGIEZNhdWE6IM1AJY+anyJO6K6zbsMfDE9TX7gP/GAtEEOAT6AML9zPsG+tL4WvlF+0H9bf6e/9AAgwCB/nP8GPts+oD6m/vy/c4A/wJiBB8FEwW1A/8AHP4l/D77IvuZ/PP/XgS8CNAMwxAJFIAVIhXCE3kSCBEhEG4RmhUcFrwKrvr18TTssd/o1DzXAt7h3zPn2/1VFcoexCIJK9IubiUuF8AM+gHs8WzjEd5e4EHkFOgb7Vr1NP6dAiUD2wWGCecHWwNGBJMJoAslCmoKrwvMCKQBJPrj86ftWOeH417lAuyv8337swWIEB4X3xjFGCYW5A4bBS38n/Ql7rTpiudV6OjrefCC9Vz7lQAxBLQGawjLCLQHPAVMAif/8vsG+ev2jvU89ez18fcN+6j+MAJzBTcILQoICzkKMAiNBW4Csf8o/uf9LP8FAlEGAgzhETUXuxvVHucgzSK+I50ZuANl8Wzo/tykz+TOedil3Z/iFvXkDu0bfB5yI6soTCMKGIYPBQlL/l/youve60/uLe/17bjuD/OV9SL0wPVt/JEABwF1Bd4OExWmFdoUHhTBD+UGOfzy8snr/+XW4bjidul18RL4aQC/CqUReRO2ExQTGQ+mCJgClv0a+Rn19PAn7vbtsu6C7zbyVfZB+vb9OwLXBjUK3wraCQUIxAQvAJD7qve59KTyfPL/9Cj5o/0qAl8G0AnHC9kLmgpjCBYFoQE9/2b+Lv+1AcQFCAu2EBEWYxqoHQIgFSK9Ii4XBAHN8ALpr9x60GjSf9vn3snl4vrcEToayRyMIsckZR13FMsNtAaU/Hzz2u4j8KTyBvIJ7/Tvf/Pj8r/w4/QZ+7z8//4xBy4QfRT9FVEWcRT+DlgG0/vI8gbssuXB4enkNew48qn4QwIUC0kPzhBQEQ4P2wlYBOP/N/yB+K/0J/LR8WbyJvOP9Ln22fga+yD+DgJFBbUG9AZxBr4EGQLe/qn7nfhf9sb1KfcI+p/9MAGOBJAHegm6CeYIWAfRBAUCUQAaAAUBUgM3Bx8M8xCuFcgZZh07IKMjBR4fCuf2SO4q44fUDNJA2oTdJeJg9CQMQxeHGrUfOCJBHFQUbQ04Bjn+rPbJ8S7zl/dX943zPfOs9Sjz6u7h8Ir1bvaV+c4CxQzxEsUWGBjpFuUSrAr9/uH0d+0m5pfhzuT16z/xtvfEAWUKXg4gEEQQrg0ICfEDg/98/LX5afZV9Hv0GfVa9Q72b/cK+ZX6wfxCAMMDUAW+BTIGygWIAzkAHf0x+nP3APaV9pD4HPsO/nUBNgUyCKgJEAqVCSAIcwYQBUwEUwQ1BQAHtwkXDYoQCBQcFxobph3CEzcByfUg7/Th19ic3K3hf+Je7JkASRBAFeEZCB7VGz0Vtw8ZCTUCcvvi9Y70tvhh+j/3WPUD97b1WvEV8Y/0t/WA99n+BQjzDucTXxbtFZETmg2nA8X5YvIr69Pl3+ZY7Nfw1vXG/RgF9wgXC6QLpAnKBUcBxP00/IP6h/g3+Bv5i/n6+WL6WPoZ+gn6Avtn/cz/kgFEA5kE4wQNBGwCMgAw/UX6+PgP+fD55/ug/pUBnAQaB9kIEAonCjcJfQhdCE0IhghUCdIK7gx5D6ESvBbYGo4V2AXf+Fzy9+Z33CDdk+FR4m7qM/w1DI4TyxhpHM4aQBWtD7cIjwGl+2T2tfSi+Cv7ufhs92v4UvY88u3xvfMV9Df2TP2oBcUMlhKQFSUV9RK9DdcEzPsz9MTsHOh36RnuffKi90r+5wNAB7MItQd7BHIA5vwf+zn7fvsC/D79Tf7q/hj/1/2r+7f5Yvhv+Cr6pPxq/wIC9QNeBZ0FXQTjAaD+pvsY+rj5efqJ/Ej/MgJbBVEIsQoTDCsMmAv5CnwKWAqfChULXgzFDu4SvhasEZUEj/qk823o+OD34V7j7eN87cf88ghIEDIWchiVFhgT9A4kCVsDE/5v+QD5FfwA/Az5PPjx9rvyJvDb8A7xuvFR9sj9jAXtDGkSwxTDFHUS9QzbBbP+1vYD8JrtwO5u8PnynPaT+bP7Vf0K/gD+if2s/EX90P9MAtoDLAWSBYYEmQIYADb9QPqL90X2Bffi+Cn7kP3U/6QBqQLzAsYCCgLiAC8AJQCaALcBPgO4BGUGeAhICoMLbww9DXgNVg3xDW4PDxIcE4MMOAFI+d7ywelp5Y7mL+dB6QTzrf55B9ENCxKUEmoRTA/VC+gHbASXAPT9p/6r/1v9M/o2+M70uvCI7yvwqvCd8+P58ADCB9INLBHREcUQaA3/B1oCcvyU9hnzz/K387709vUC95X3LPjw+LH5b/p1+6n9AwE2BHYGeAekBokE/QEm/0j80fkF+L73Rvm5+1P+yQCCAikDKQPDAvEB3wDl/9n/2QCWAuMEeAesCZwLQw1IDnQOGg53DUcNFw5JEE8O4wVS/Cz3S/G966fqcOtU6xPwHvmdAE4G5ArbC+QKKguiCs4IUweWBVgDZQMjBEECav67+ib2ePFO717vp+9v8Sj2U/yUAm8IZgxvDc0MEgsjCM4EJwEL/f/5d/h49+725fbK9Vn08/N09K/1p/de+h79qQB3BAcHiwi3ByMFlQJtAG79e/uQ+ub5DfqZ+3n9BP8bAK4AbQG6Ah4EggUcB4UI0QlfCwANSA7hDt4O9g4MECoSbhT8D5QEVPmg88PsM+iT6NzpQ+oo8qr8LwPrBwUM0go0CfMKaAvECT4JLAgSBtwGjAbIAaj7XvaI7wzrF+sS7C7tvvG1+D3/9QVcCy8NoQzQCxQKCQgQBu8Cr/4G/KL6DPn+9oz06vDm7ebtF/Da8kH2aPrO/rgDzAcOCiIKiAiiBSwDcwGl/4H98vvZ+l36zfph+5X79/tL/Zz/9AKmBrgJBQzjDaEPERHREbgR0xFrEmYUphZ+ERkESvfv8M3ppeVG5o/nQuiS8fT7pgFQBgALwAjtBpMKPA0EDecNww2UCygMgApNAzb7uvSC7Mjn5Oij6h3sePEG+Ez9KQOUB9cH+QayB5EH8Qa9BpkFTwOiAcL/c/yW+A30UO8X7TvusvAe9EX4/Pt3/zUDWwVVBXAEDQObAUEBswGaAfQACAAG/2f+OP7S/ar9+P6lAeUEbwjNC10OMxDhES8TVRSrFf8XehrJFJgGr/jv8e/qZefo5vbmoudg8dv5Vv03AZQFGAMqAuAHrgxFD6USsxPKEaESaRCBB5P9YPYY7ijpoekd6zPsavDC9Mb35vuh/4//wP6/AMwDEwcECmAKDQjmBTEDGv/m+hT3JvNL8S3yXfQd98P5aPp5+vr7C/4I/8b/gwA2AVAClgPlA1YDdAJUAdkAMwLtBLIHIwrfC/0MEQ7+Du4OJA64DpUQaRQ1FL4L1v3S9N3vl+1g7YDtTu0I8nX5Gf1V/+kBygHa/84BEgZXC4kQ9hLsED4PsQ1LCQwC2frg84PvJe+q8DXyffSE9jr2GvUl9ST2Yfd8+cH7Lf5CAfYDBASbAgABb/8Z/mn96vwL/e/9bv4f/qH9yPxn+1L6/Ple+tX7P/6pAAoDswVNCGEKTAzGDeoOHxDWESATaxT2FVAYkhoAFhQJBvnc7lzp3eln62rsSe1N87X41fq4+mP7RvsD/RcByAZnDR8VGRlgF8QSQw2eBu//kPq49TvzRPM19Gb02vSf9CXzA/HG70zwCvQq+hQA1wPfBf0FiQSLAuMAjv/O/lP+4P3e/Sv+rf3T+zX5hPbd9DP1V/cZ+u78g/8uAbsBvAGcAf8BUwNvBcAHRAq6DKoO8A+lEJEQ0RBFEskVwxmdF0AN3P78833umu7V8OLxCPIi9Gf2dPXw89nzOfXy+HD+qQNvCAMPSBQ1FWQSRw1SBwwDuwHWAA4ATv/x/Sb7kPcf8yHuzOrF6YrqPu3p8UP3AfyA/3wAu/8S/+D/tAEPBA8GzwaCBisFogJG/yj8wPmH+Mz42flN+yP9/v40AN0AuAHcAp8EGgfaCUgMfg5qEEEScBQiF14Z0hcwEcEG+Pwu9pT0nfZd+TH7kPuI+Zr0fO8Z7NPr3u8T9wP+4wJ/Bm8IyghDCAoHdAX6BFUG/QeOCVgKbwmcBtsCOf7z+Jj0TPIj8nHzH/Ul9hD2YvU59DDzf/PX9c75Zv54AqwE6gQIBPQC3wEAAYYAswCUAWgCmAIcAnUB3ACiAAcBywGmAlYDwAPFA7sDjgOPA0cEzQUPCJwKtQw3DXkL7wesAzoA5/5l/0oBdwPEBD0EzgH8/RP6QPd29o/3+PmG/Ef+yf5o/n/9mvwo/If80v3S//EBfgMRBH0DCgIhAGX+Ev1S/FD8xfxb/cD92v1a/U78W/u7+rr6i/v//HD+e/8HAAYAcf+g/v39tP3p/Zr+ev8gAEsA9f+B/y3/Jv+A//YAWAIwA9sDxQM8A1ICYwKWAr0CPgPqAwgEmQOPA78DQQTDBOIEnASyA50CMQJ3AhMD7QOhBLIExQMXAhcAT/48/dr85Pzs/LT8O/yr+0z7TPuI+xX8rPwj/VL9X/1l/ZL9B/6t/ln/5P8/ADUAwP8M/1z+zf1c/RH99vwT/UL9Zv2t/RD+bv6L/p7+tP7n/u3+mf9/AEMB7AEeAkcCXAKDAoECawJTAlwCbQKFArQC2ALTAk8D+wOpBBgFOAXpBHAE5QO3Aw8ElQSdBB8ELwOmAfn/rP7h/YX9g/2k/aH9aP0J/Zz8P/wv/Fn81/yn/Zv+Wf+c/4L/+P4v/lr95/zE/NH8Bf1O/Y79uf3J/bH9nv2G/YX9tf3v/TL+Zf6L/pn+hv6G/on+v/7w/i//hP+J/+P/SADZACsB6gAQAUoB8QGUAgwDcQPcAwIEPwSVBI0EdwSDBFwEDgSvA34DggObA50DcAPVAtsBvgDM/y7/xP61/gz/iv+i/yf/dv61/Q79qfyt/Bf95v3f/qD/6v+E/47+fv3N/LL8F/3B/Xr+6P7c/l/+w/1a/Ub9ZP16/Y/9a/0b/aT8UvxQ/In8f/2B/iX/YP+E/3D/af8RAHIBGAJQAloCAwK8AdQBHwJoAuACFAMQA/QCAAMjA58DPwTPBLkEBgRnAwIDDgNkA6wDvwNmA70CuwG5AOn/cP8w/yL/Hv/X/lD+3v2Z/Zj93/1I/tz+R/97/5L/bv8W/4n+Nv5Q/on+mf5s/iT+0P2T/V79SP1D/SL9Hv0S/c/8Xvw5/KL8j/02/sj+9v4l//b+Dv9z/9f/vQBRAFQAzwA8Ad4BuAEzAukBIAJxAvgCZQOkA+0D6QMEBGkE0wTaBFkEkwO/Ah0C+wEiAlUCFwJZAWkAmv8b//b+Hf+H/8z/6P/S/5L/YP8+/xb/+/7o/tD+yf68/pP+Hf6I/SP97vzn/Ar9O/1T/YH90f0Y/lX+e/6I/ob+df5W/kP+If5h/mr+gf5H/tL9cP2o/ZT+Ov/s/wsAHgA/AFIAEABlAFwBFwIpAloCOwJiAq8CLQPPA+cDJwQqBBUEfgPWAooCPgJKAoICxgKvAhMCNAFnAMn/Vv8G//3+MP9+/7D/x/+0/2X/9P6Z/nX+o/4A/3n/zP/E/z//mv4n/vH91v3P/bf9l/19/WP9Pv0z/Tb9af2l/Qn+Rf5l/lT+aP63/gv/R/8K/xz/Lv+f/7v/BgDC/3v/nv9R/2f/4P8eAGwA+QCcARACUgKZAikD+gOlBDMFPAXsBDYEcgOnAl8CVgIuAgkCtQEoAWsAtf8K/5X+cf6+/kr/7f9YAEQABADn/+b/6f/9/yEAOgAoAOz/Zf+6/mH+Z/6W/q/+lv42/uj94P3l/fD9zP2+/cT9BP5G/nb+fP59/tj+M/9Q/0//Xv+C/7T/yf8MAG0AcQBgAEoApAADAeMAmgCgAK8ADQGwAWgCIQOpA+cDLQR8BGkEzgPcAhsC7gEtApICaAKrAasAe/9k/t/90f0J/oH+F/+M/6v/iv9t/3L/mv/S/ywAjAC1AFcAe/9k/pf9X/2+/WL+x/51/p795vyi/Ab9nP0M/jj+Zv4g/qf9mf2d/dz9R/63/in/m//4/wgA+v9kAPQAlgHlAQoCMgIaAiIC9gHwARsCnQJbA+oDOwRbBKMEWgXiBXUFHwRNAgEBqQBCAfMB4QErATQAFP/6/Sr90vzt/K/9tf5r/8X/1//C/8X/6/9OALIAHQG3ARwC4wHGAAv/zf2b/UH+Rf8gAEAAjv85/uP8O/yh/JX9jf7+/sX+Pv7k/eb92v3g/S7+ov4D/z7/X/88//T+Cv8LAHUBeQK3ApUC2wJdAmQCfwMSBZ4FhAYvB2wH9AfOCC8J0QfZBKwByv+N/4AABQE4AFP+G/wh+s34Sfig+Kz5P/u4/HX9jP11/cr9xv5HANQBUwPABL8FywXDBNwCugA3/zn+cP12/FL7IPpR+fL4l/g8+PD33vc0+Ef5uPoQ/Ef9Jf6V/pb+kP5W/hT+V/60/un+GP9g//z/OQGjAvEDQQX8BcsFeAXzBTgHvAg1ClgL8QzIDjwQPhF3D3cJbQLq/db8Bv6c/1D/PfwZ+BX0rvD17nvvBvL29Wn6dv1L/sf9Wv0I/hQA6AL0Bd8I7QosCzQJvAW8AbL+cv2P/ZD9X/zT+Q72yvH27bfr9OvD7obycPWh9o72gPa39476MP7fAbEE7gVpBXUD2ACb/sD9Jf4E/1T/sP6a/Tb9A/7A/zUC5QRrB38JWQsCDaoOHhGGFFIZ1RzaGg0SHAe//t/6Qft4/UX+1vtV973xaewM6UTpe+2p9KL8TwLIBMMELQRkBPwFnwjnCysPNxHaED8NCwcMAFn6Tfex9vv2aPZ59KHxre417KrqAOvO7bfyIfil/A3/df8Y/y7/MgAHAhMEWgUTBQgDj/+1++j4APjD+GX6p/sK/PX7Pfzn/UQBfAVmCU8McQ78D64R8hMaFwQcOyJwJ4omzxobByb2g+3P7DTxy/Z695bznO5x6UXlLebW7RH6pAeAEhEX3RVREiUPjA3fDckOEg+BDg8M5AUp/GDxyei65LjlGer07iHy2PPk9M/12PbY+Mj8QgJYByIK2QnJBm8Csv5n/Bb7afoa+pf5Rvg49g70/fJA9MT3KPzf/8oBzAEzASUBFAJZBCMIDQySDmIPTw9qD+cQGBSEGJMdkSMMKf0jSA7g8ljj2t9P44DsWfZD98fy0u6G6iznNuz4+e4KxxoNJIAi5RnjEOAJuQXBBB4EKgLp/0f8p/QZ6sLgKdyI3t7nMPQM/pADqgXJBY4EsQL8AakDXAaGByoG6wEn+1L0hPAJ8L7x8PRb+IP6nPvD+yX7P/s//T4ATAM0BX8EJQGh/ar7tfsF/lcCsweTDIAPIhASENoQOBO8FrsbjCFQKJEvQyo2Dsfq6Nh11RHXxOLC9Ez6D/Yx9UL0s++p88ADXxapJgww9CsyHgkQAQNo+B/0UPNw8drw3PEf7/LnG+Jy4WvnRPRxBDERRxepFxwULw4zB4f/ZflQ9h31wfOq8ovwqe2a7H3v2fTM+8IC4wdKCsEJBgYDAU/9Q/tp+sP6zvoA+bn2hvbL+Ej9SwM/CeINVBHCErIRkA9ODmgO7g/0EkEXTx0BJkkyRC3ZB4Pa/8mAyb/LFuHlA8INUQSWAwsD6fbl9MYGeRoPKLcuZijJFhkDy+9o4aje9uK65wTw3Pob/xv6C/QE89X3hgEtD/QaWx4OGUIPXgM/96fu3uiC44Ti6Ofx7ZHyHvlT/kYAugLoB4oL/QvlCaoFfP+C+C7yAO+v7yHybPWk+Uv9xf92Ah4Gewm0C3gLKwlSBj4EugJPAqsDdQbaCZcN+RJwGe0g2CgDNZQzPhEu5JfTGNCTyDDYG/5qCV/8JP+gBdb5hvQBB54ZViEZJSwlLRstCKTzYeWf3XrctOIf7nX5iQBUAA38RPuj/lEDEAy8FbkXgRPVDGgBRfRH7JHnnOOQ4jDmS+2c9S39OwTCCHEIZge3CDwIFwTM/yP71vRy74Dtiu4l8tv2J/t//5EDIgYhCL8JGQkPBuYBwv2g+qT4Yvg0+3cABQYXDPcRERbnFzMZjRrnHbEizS00NgkfsvC51FDJ6rTtuAPmwQYCBBgIqhe/Em8E0guNHMscoRbGG2kc1Asa9nPnwdfWyufOIt4Z8P0CHRKzFS8Sqw1PCqUJgwu6C0AKPgZw/cXybup15DTe+trE37fsovvqCAgVRRnJEX0HIwFA/Fv47fYM9gDzAe8p7TbvnfOv+Pf++gT8CI0LawxuCi0GnADJ+kT2nPS09cb4Gv0cAtoGIgtPDzsT4hURFrAUyRIAEbARMBcpIfYubiVL/aTa7c2wvk+9yOSADEQShg5EF8IVUwa5AoUPOxSnDOoNMhL5CU/6TvDs4//Ve9R64aDyGQSXFHwb+RXuC9sEfAAO/r790v6a/on7avcL9V3zNe/g6NLo1/EG/fcGABEVFA4LJ/5J9Vzxl/CG8+n43vz0/Ab9GP76/ZX9cf7+/jj/VwBuAS4Bk/+J/Uz75PnP+pT+zgKfBSQH5QZ3BV8EnARJBh4JeAtIDFYNIg4zD7IQWhUgG6Ym5x8p+t/YldI9zBzKjPEaHR0kixqeIU0eIAf59gL9/f9v+Kz9PAtaC0b/3fiJ75DjUeMA8xkDCQ+uGN8ZRw73/SzzDu1P6vzrK/Ns/JsD0gYPB24E9Ppy7i3qTe+E9uL+NAhsCjsED/x195r1Y/Wg9+37wP2F/NT7Svt3+X34afpz/QYBkgWrCQAKvQZLAn39K/mt94n5LPyl/i0BcwM6BQoHnQnTDPgOsg/cDpMOGA6kDVwN4hCRFYkfFiVWCXXi/dW910XMDOEhEtgn6hlDG0UlJxSF+Uv2QP8q90vzuAC/C8ECIPrV9XHsK+Zt7iP9aAZ3D6sU6w/EAob4/PEe7cfqhe2L9cf+6ASIBmUGbAGe9O/p3eo88nn5lgJmCmgKtwMf/eT5tvfH9Zv2qfnZ+pH7cP3K/Qv8bPsN/af/WgNxB5EJwAfuAj/9I/hC9br1XfkM/pECWwa0CS0Maw2yDZgNzA1pDQ8N0QyBDYwNzQ7/Ek4ccCQWDr3o6tli31vVJ95SCEoh4BR/ESMhyxj8/vH1pAAS/ZH24//SDLIGzPo29gXvhOi/6zv3Cv/ABzgOag04Bbn84fWc8Cvua+6I9Cz+QAUZBtgFUwLe9oXrTOq28Bn3Sv5rBakIYAWq/+f77Ph+9dPzvvXh9yz6+Pzm/n7+/v28/uf/fQHUAxcGagVwAg//ifxg+rz5P/u9/SEA7wJlBmkJ0QsGDaEMNgsNC7sL2ww8DjMPhg9AEOMSqxmLIC0MUuum4Inn6t0947IHZRtbDxoO3h9vGFwAGfe0/xT8QPY3/uwI8ARy+1v4jPI87mvv3fVQ+0YFcwz2CuUE4P7T9zHxyO9k8Hf0+fs6AscCFwJy///2MO086/7wdff+/KIDDQkbCKMCGf7u+qT2RfOx8972kvq1/V3/2v9mAEoAj//4/9ABngIZAu0B9wGyALv+tf2S/e/9h/+GAnYF8wflCbIKMgrhCVgKVQqyCiYMZw1oDfUNng//EW4U9xltE2b6Wuk27tztM+Tp9GwNmwwZBE8SexmFB+74U/5mA2f9f/4XBvcIcgLy/UT5wfTg8Z7wrvG8+IkBlwAv/Zb90fwA92r1ZvcZ+Nv6gP8rAWkBrwFW+y/yl+/+8dLz1va6/DUCMwT3Ab3/iv71+r71lPQ/97z5rvtd/oIBHgNOAoAA3v/u/63/VgBuAjgEHAQUAywClgEhAbQAKAEXA4IFBgf4CHAL+QwJDeUMIA3qDOkMzQ3VEN0TyhgdFhcF3/XP9fvzWeim7m0BrwW5ACoLNRQXCvv+iAGTBd0AQP96AjsGPQU9Aon86Pci9QfxUu6K8mz6bvqs+Jz8NQDf+7r3d/iv+L74FvtL/cL9bf47/Fz3YvX+9Tr1U/WZ+bH+PAEoAYQA4v+c/VX5gvYP90n4V/kU/D8AMAOUA6MCRwJmAnIBPQADAesCVwPeAlgDswOzAhABEgDq/0IAwwBMAoYFuQhiCiILuQsuC8wJ3AgRCaEJbAqUCysNwQ5MECoNzQLI+qX6mviH8Zv10wGYBE4BlgZKC04EWP7VABgCv/0S/U0AVAM8BGkC4v3e+hz6zfat8/P1vvk1+BD3LPvX/R/7uvh5+X75pPh++IT5t/tZ/Vj8Evsz/HD8Bvol+Un7j/zs+1L8/v2E/vH8Cftn+rv6t/r6+iX9IADQASACjwLrAkgC8gB5AEsB7gHrAaQCUQTuBC8EowP/AzAEUwRTBdMGBQjECHoJ+QkSCmoJtwiFCM0IuAknDE8OTgsrBhgEeAIt++H3RP4LAr7+rf9nBmsFDAGTAqYEw/+n/Gn/cwGsATMCNwEt/sj9m/yC+Mz2Gflg+Cv1rvbD+cn4T/e4+ST7qfkz+Rv6gvoN+2D7L/po+hf8jPsz+o37v/wA+/75GPu1+0P7fftu/Nn8f/xI/Ib9nv/NABoB5wGLAv0BOwFmAdABxgHqAbMCjgMCBDkEvgQ4BUIFzgR8BG4EcwS4BGYFJwaaBs0GrgahBtcGTQeqByQIvwgxCbkJmwr7CukIkgUaAxcBJP1Q+2f+kQC8/kz+kwHDAcD/gACqAb7+0fwk/24Alv/c/54A8P6A/W38tfms9+b4ivmk99j3KPpA+hj5N/rM+rr4w/ct+cX5JfmC+UL67vrx+7z87vyS/Rv+QP0+/A383ftW++n7Wv0N/vP9Vf7u/sf+s/5//3AA3gA0AeIBkAImA7YDEQQgBBEEAQT2AxgEEQS8A7QDIQQlBCkEFgU/Bq0G8AZdB1QH/AZAB/AHQQhmCBgJ+QmWCVYIpwZ9BFkB6/6C/34AWP+4/d/+ewCYAMsAKgHh/4P+h/8pADb/8P4aAAgAb/99/2n+uPvh+dv4fvbE9Oj1yPdm+Gj5nPok+lP5pfld+fL3KPgM+mj7TPyu/fX9CP2u/Ir8rvv0+nv7NPyf/An9bP16/aH9Bf4s/gn+V/4o/8n/bgBIARYCvQKvA4oEzgS+BNUEoATwA1oDWwOLA7wDLgRsBC4E7gM2BJ8EEAWuBSEGIQY4BmAGSgY6BpoGUgchCCkJ/AlzCYUG4wJAAGT/Ov+G/ir+k/7i/+IAbAHGAOP+eP23/WX+Zv7h/iMAugDn//X+1v1c/Dn7ufoH+gT5ofg2+b/5zPl7+QH50vgf+cr5Ifqw+pH77Pu7++f7aPx9/J78Pv2b/UX9M/3F/dD97vyM/Az9WP1n/RL++P5j/9b/sQBdAZwB0gH2ARUCZQLCAhkDkgMQBDUEPgRmBFoE3wOXA30DSgM8A2sDiAOPA+MDUQRhBEEEwgSaBU8GBgehB98H1gfFB+MHMgj5BowDdAD1/8oAHwDh/pv+5v43/9z/tAAJABD/hv8lAOn+tf1Z/nz/bf/p/r/+Nv6H/fr8//sk+q/4qfg++Vv5SvmI+RL6ffqi+sT6FvuX++f7+PsK/Gz84vxC/aT9lv0c/fn8fP2c/R79EP2j/fr9/P16/kj/rv8JAJwA2ACxAMMAMAFpAbQBPALAAuUCBQNAA2ADdwOWA40DbAN9A3gDMgP3AsgCpgLZAp8DVATEBE4FvAXEBXwFcQWSBcUFKAbnBuQHcAjsBqAD7AA/AJUAwf/B/lL+l/48/wEANQA1/+P+vf9FAGL/Kf/+/1UAZ/9H/oj94fy//H38gvtv+iv6c/pk+kf6LPr2+Sf6c/p4+nH6zPpz+8f76fsX/Ij8Bv1i/aH9hv1H/XH9Bf71/bH9OP7r/rj+Gf4q/jP+wv3C/dH+s/8FALoA1wF4Ar8CWwPoA88DVQP8ArgCWgLdAYsBxgFBAnICkQLsAg4DxAK5Ag8DUAOiA28EQwWlBdsFDQbOBUcFLwWNBTAGOgdsBwQFsgFPAAEBkwDr/jf+vP7J/5cACgEQAAT/Rf/B/+X+N/4k/wsAsv/X/mD+l/0Z/QP9gvxT+3X6ofoK+/v6nPpN+ob6v/ou+on51Pm9+lv72fuT/Bf9gP3i/Rj+5P2m/dD9EP4Q/uf9LP6P/qP+f/58/qD+p/7d/k3/xf8nAJQA8wAiAUIBpQELAiACNQKTAikDsgP4A+kDqQM0A4UC4gGTAYABhAHhAZwCKQNvA/wDnwS2BLEELgWkBZAFpAU1BsIGOgekBwIGxgK0AAABRAGk/2L+QP7w/rP/hAA9AEf/b/8gAMT/3/50/4EA1ABaAMD/rv7X/Xr9mPws+3n6n/rr+v367fqf+nf6+voV+7X6Avsh/Nj8vPzZ/AH9B/1z/Rr+I/7W/fv9Kv7Q/Uv9XP3C/f39H/5W/pz+yv7x/h3/Qf9r/8f/UgDdADIBlgEMAj4CAALgAScCcgKLAp8CvQK3AoYCfAKFAl0CSAJcAnMChALNAngDEQRcBKUEBQVTBWEFpwUhBngGBwcJCCcHBATMATMCzQImAY//9P7s/jn/2P+e/z3+9f3D/uP+Ef5g/pL/SAAoACEAIwAuADUAlP8L/nX8mPta+0r7+/p6+iD6UvoJ+jf55/hs+Qv6cvps+7P8wv3Q/sv/DQBd/9n++f79/qP+gP7R/vT+lv4Q/rb9cf1H/Xr9/v2p/i7/sP8eAE8AnwARAWIBlwHkAUECkAK6AsgCtgKaAqACvwLQAp0CTQI+AmACZwKEAvgCgAOfA7EDIwSRBI8EoQQxBdgFfwaZB0UHxgRxAk8CDgMiAsYAIQD7/yQAgwBeAO7+Ef5Y/oH+Kf7T/hgAjgAaAK//O//t/vj+ef5W/Ur85vuw+537bvsh+wP7bft5+/L65/p9+9b78Pta/Mn8CP2k/Wr+jf4t/hb+Kv69/Ub9V/2i/cX91v07/qb+z/6k/n7+bf5e/pD+C/+Y//D/gAAaAWsBegGWAbMBwAHoAQwCAgLxAQYCBAL6AesB8AH7AeYB1QEeApAC5gJHA+EDiQTsBB8FUQWBBZwF2wXVBlEHwgWdA9MCaAMEA8sB1QAiAMf/KgAnARIBGgCF/2P/Iv87/6D/dv8W/1//+//2/6T/Kf+a/uv9Kf0e/Jj7pfu1+2j7W/tS+9n6tPoe+0/7BftZ+0L84vxd/RP+mf6u/p7+if4a/rP9l/2k/bL9tP3H/dr9+v0b/kL+av6R/tv+Wv/q/0EAhwDrADMBTgF/AbsBvQG3AdoB5AG1AaYBzQEDAhkCLAI6AjQCNQJYAqgC9AIzA7MDhAQqBWIFmwX1BSYGqQZ0B9cG8AQ7AwgDGwPCAiUCIQErAEIAMgFfATUAHv+t/rj+EP+v/6z/M/8+/+D/CADE/yv/r/4l/ur9lP0O/Wz8/PvW+9L7kvvn+oP6kfq9+sr63voD+077+/sX/QP+fP6w/tH+xf6C/kL+A/7n/db9/P1J/o7+h/5j/m7+fP6F/qn+9/49/5f//v9bAJwA6ABQAbcBEAJPAkwCHAICAhECEgL4Ad4B7QHpAdwB7wEUAhYCCgIuAowC8AJZA+gDQwSSBO4EMwWfBVAGPQYvBdgDgAN4A0wDrQKiAWsAt//9/3cAHwAu/zv+3v3//Yr+yP6E/gz+Rv7y/p3/rv9Z/77+Wf5N/mj+Ef5D/af8WvxC/BP85Pud+3T7hfvU+/L79/vx+xr8vPyk/R/+Hf4W/hr+Of5s/or+S/70/fX9OP5l/nr+e/5m/nH+xP44/2z/kP/G////JgBTAIQApwDJAAUBUQF1AYQBuAH2AQoC8AHrAfgBBgIpAnMCsQKwArACCANzA68D3QNKBMkEIQXBBWUGUgZ3BZYEWQQ8BAoEXQOPArIBRAFGAX4BLgFVAID/H/8X/x3///6Z/g7+2v0X/pD+cf4G/mn9AP2u/Lr85/zc/Lr8w/zz/Pz87fzN/Iv8RfxA/GT8ifym/OL8Lf2Q/QT+N/40/jD+Vv52/ob+f/5e/kT+X/6P/sv+A/8h/x3/Jv93/8r/1v/H/9r/BgAnAGQAyQAYASYBLQFSAU8BHwEcATsBRAEXAQ8BTwGNAa4BxwHlAQMCJQJUAowCswLWAvcCMQOdAw4EcwTABP4E8gSwBHcEUwQPBKMDUwMnA+QCogJwAhUCkgENAa0AUwDm/3r/D/+Z/iz+/v36/d79pP12/V/9M/0M/eb8t/yI/G/8aPx3/Jz8svys/Kj8vvzR/OL8+/wb/TT9YP2N/cb9Av4Z/gf+Hf5K/mD+Tf5i/qT+0/7v/h7/Sv84/xf/OP97/6L/yf/7/ygAPgBIAEQAJgAPABcASACqAA4BUwFuAYQBsgHUAeIB6wEZAmACvQIpA44DBwR4BNMELgWPBeUF9AXnBfoF/gW9BUwF+ASbBC0ExQOLA0sDyQIjApkBJAGVAP7/ZP/R/kz+C/7b/Yj9Gv29/Fv81PuG+3P7YPtK+3H7xvvg+9H7yfu7+4/7b/uc+8L7x/vO+wz8cPyp/Mv8/Pwn/Uv9eP3W/Tb+a/6j/vD+G/8T/w3/Of89/x7/Nf9k/3P/aP9+/4v/kf+r/+X/LABoAKEAxwDqAPwABgEYAS4BQAFXAX8BqAHmARsCSwJ5AsQCDQNdA/wDqAQeBXgFzAUMBgoGAAYuBkcGDga4BZUFbgUEBY8EUQTtAzoDjAL9AW4B0AA2AKP/9v5I/t39ev0H/YP8J/z/++X71fvT+8f7ovuF+3/7ePtX+yv7HvsI+/X6CPsz+137ivvR+yj8efzD/AT9PP14/aX95/0j/kT+WP54/o7+nv7B/uv+Bv8M/yL/Uv9q/2X/gP+a/7X/3P8hAFUAWABjAIMAlgCzANUA+QAhAVEBngHaAQwCRwKKAt0CRQOtAwgEoARgBecFXwbrBkEHKQfoBv8GJQcWB+oGwAZ+BhgGvAVqBfAEKARYA6YCIAKIAb0A3//6/g7+QP3V/K/8cvwm/Pj76Pu2+4n7cPs0+9n6j/p9+mb6MfoI+u/58PkC+kL6o/oK+3X73PtG/Jb8z/wC/Sf9MP0//WX9q/3x/Sn+a/6n/uL+JP9d/3v/h/+j/8T/xP/F/7X/mf95/4X/w/8DAEoAhQCtAMoA5QAIATIBWAF6AaQB6QE4AoQC2AI6A8ADOQR8BA8F6QVvBs8GUwfTB+0HpAeSB8IHqAdUBywHMgcTB78GawYLBkkFHAT7AhYCSAFPAG//yf4J/kP93PzG/IT8APyh+4L7SPsO++D6hfrm+VT5Evnx+PT4FvlQ+Yz5z/kr+pX6/PpK+377sPvf+/r7G/xt/Lv86vxB/br9Nf6k/g7/ev+y/7b/yf/O/7L/hf9r/1v/Qv9D/2X/lP/K/wAAMQBYAIAAngClAKEApgDAANkACwFPAaMBCwJlAqkC6AI3A44D+ANSBOoEAAYEB5AH0wc6CH0IFwjEBw4IWAgoCOcH7AflB30H3gZpBsEFnwRFAywCZQGDAIv/m/7g/TT9jvxL/E78IfyL+wX7pfoy+sL5ffk8+eH4k/iA+J/41vgS+UD5dfm1+d75Gvpr+qP6vPrN+gL7XfvW+2r88fxf/c39Of6U/uH+L/9W/1z/P/8v/yv/QP9b/4L/pP+t/8f///8lACIAIgAoACgAOQBkAJMAwgDzACUBXQGcAckB+QExAoYC7wJqAwIEtgQ6BZkFXwZ7Bz4IdwiXCOII5ghACP0HXAijCGgINwhwCH4I9QcmB30GiAXlAyQC3wAFAAr/Ov62/Un91fxk/EH8Ifyw+wD7X/rw+Un5pvhv+DH4g/fd9jX3X/ht+aP6Ufwp/V/89vsI/BT7Nvr++Xb69vr9+1P+WgHRAgwEHwTvAhYAmvwV+zf6r/jJ9/T49Pqc/IT9hv4I/3D9Ovt8+tv5ufjE+F76jvz8/tAB/wRfB7wHWgcxB4UG5gXLBvUIHgupDdgQHBQGF1kZkxvMHcIfeiRyKqIfBwYO9bfu79zazFLVSuUg48TcMe1WBTsJWAOAD40ZhAkA+REDDhFnDWQJdhGJFIEGTPno+UH2EuTg1pHXU9cw18XkvvneBVYIFgz8EYIRVwsUC8MNCggV/zT/lAXeB7IEvwBw/OLxLOQl4Inm7uu+7wX5lASFC9APIRaQGrMVUwvKBEwBcfyI+8EAEQNX/iv5ufbG8h/tRetE7jXwU/Hi+O8E5wztD68RYA9+B1f/XvwE/Zn8EfwL/p3/ov16/Pr98f1o+5D6K/2sAPkDHwj1CzYLWQbOAd7+B/yZ+l78B//mAFcC4gRFB/kHcwc7B+wGlwVgBfYGOggKCFQI2AgfCdEJSgwqEDQV6xsrJL4fpgm48hfnJNv60f7dBvbYAOD9jAOmDiENjAJABfUNWgm0AfMJMBYtFFoLkwXx+sTnBtzK4HTpzu6w+KUFcAm9BkQJYQ1gCcYBFgEVBKEDxQKuBbwEJfrJ7Onkm+Oa5jXuq/m/AyoH6wZfBrcDh/84/Zz7nPmg+e374/0u/WH6tPdi9dLzjPb//QYFdAgkCXoHfQOu/k/7KPoV+j76V/tQ/T//NQHcAsADCQXCB0kL4A5+EkYV6RU3FGUR9A9qEEkTtBj2JcQvGBTV4ZHGGsdnvJHAKu6eHnod2gYbDWMc4A78+TAKgh8iFvkEsQ6qFyMEdudn2zDVispz0ADvdwrxEQsUqRcEEKYBPgBFCzsOdAZfBF4IqwPC9bPt9enk4GXYD+B09HoG2BGTGe4ZUQ/fA4oBNgQxBMMDyAQMAQ33Uu4V6a/kG+GU4rnr8vnxBdoOwBSUEj8JigDI+9X5y/pm/DX8Xvm29E7xPvEJ8x/3Sv4gBUUJLgyHDaQLkAa1AFH8GPoq+U36bP3j/wIA9f8dAvcFhgpuD0AURRY5FXwR1w7+Da4N0Q5REj8Y3R/5K4ghb/Z5zXbFLsbNxPziPRc/LT4UPQEzCEAKufl4/TQb5Sa/FQwKGg6IBFfqytj/1x/Yh9pf7scJQRRLDkAJYgUL/DX5GQfnF1wYVA5bB3oAtvEv5MPiEubR5fro8PZDBhkN2Q3IDE8Hlf9p/4YHKg3OC4AHvP8h8ebj2uGk5tfpMO7Q9/f/6wL3BP4IhQk7BeMB1gIfBLUCWgAq/Vr3uPDD7pTy1Pg9/yQFjQhhCA0H6AbzBvcFhgROA1kBXv6h/DH9Rf7C/90C9gfIDbkSQhYWGA4YExcRF0sYmBsKIY4rGCtxBvnSmL3Rwtq/0s25/iYlDRVY9oP5xQmBBBIBdh69NxcqYRBrDA0I9e4211LVBNr02R3kpPuACL8Bu/oW/W79ZP4fDkMknyi9GYILnwIz9TPmZeSO6yzsMug47Rr4yvzE/Mn/ZwOjAz4HZBIuG+AYBRCXBZH2+OYO43LqHO977hPxfvRU8zvzdftiBRQK+AoBDXUN/AiOAoj9M/hN8mbwN/O695H7Yv5Q/2f+av4EAmEHwwrHCxMLewdQAUf8aPvj/Dz+3/8oA74GuwnLDMMQIxRQFXcWlxnUG0UcJh5XIkkooCSqAn3UdMKsyUPJttVYARAedwYo5mTtkAHkAuYJWy19Qj8sVQ8zC3UF/O3w33fmLelN4uHmQvVD9Ujp6ug784T4ugCCGCgsACbhEoAJuwR1+hX1Gv3kAVf2Tuj+5djn8OZH6432Q/4RATMIQxJzE0wN9wn4Bg7+m/i+/TEAzvf17q7s3+m2553tZvqeAs0DygMpBS8ExAF7Au0DWwKO/0z+Gfzz+Fb3wPf+9wr57PwxAusEdwVuBjsHtAVJBMgFygeuB4sGYgaXBm0HWwo2D7cThRYGGawZMxk/Gngg+ScdKOYLhuDuzfDWnthK3aoACBa0+FTUVd8U+CL98wdjLDI9ZSKOCL8M0A7Y/Un39/8a/Gnsi+rx75PnBdsG337pC+7m+NEQFR08EmwGMwlJDCYJLA18F3gTef5Q7gbs7uu26avtBPTh8lzuAPIF+br6YP3KA9gEkwFkBiwNyQnpAcf+//t09bTyR/cA/CT5//PB8yD2e/fa+u0AGQRlA90BrgC7/ywAEAHdAEsAoABAAXkA3f6M/rD/8f8oAO4CNwY5B0gHUQh7CbAKwwzVD9wS6xS6Fh8Z/hqAHA8fZSR0Jb0b9f4d3cvR9ttq5KLrvwFbBSvodtFi4sj4jgDXEN4qDCxiEhQGtw7xEOkHggjyC5gA6vD97RrsG+Il3QfkpumB7LT2EQNhAoP6Q/2uCMQPPBO8GsIcCRB0/pf42/qQ+i34Wvh99ePr/uRu52Dty/Aw80n2BPl2+4MAbgZECCIGtQVsBVoD4AJrBFQCkvyS+GD3AfeS9jT3ZPji+N74kfo5/tsAMwKVA54ElATgBEMF2AQkBIEDqQJlAlsDjQT6BAUFCAZ+B8gIiQrwDcURWhOHFL0W2RjhGZEd/iAvGzgG0Oh122Hj5e7T8p3+hANO7lza/+cGAJwG6w6yH40fZwvPAjQLhwwsBNICbwTL++XxWPI78ano5eVv7UTzFveX/54FhwCP+e/8bAXBCc4KewyhCD/96/MQ9Vj6avta+nz60vg+9JzzrPhr/B/8Tvxr/bf8s/zu/m3/kP1o/Yv+y/06/UP/4gB2/zT+g/+cAFv/Yf4Y/4z+MPzE+kb79PsH/Ff8Gv1v/oj/pgBmApwEuwV6BYEFAgZmBgUGfgXGBPcDeQNnBOUFowceCQsLCAxdDW0QHhOZFRIZoRiUDdj5Le0N8B766/1SAcoERvlY6DTsSf81BcEF1w5sEp4GNABgBz4KTAR6Ai0FWQGo+mj5eviH8jzvaPN/9l/2mfiH+235wPas+u8AZQPiAqADKAPu/uf6t/t4/rn96Psw/In7zvfA9cv3aPk5+W35nPqZ+mX6E/sh/BD9//0v/5v/TgBnASsCiAEyAY0BAAGt/xv/dP+t/lv9DP2w/YX9vvzp/AD+MP8mAOMBZANKBG0EcwT+BBQGJAcFB+YGrAYYB3YH/QeACMQJJQu7CsoLsg0nD/sPIxHuC4v8+PH+9Lf92P9EAnwF7fw/8I/zKQLBBE8DHgoaDXcDzv6/BLgEYf6c/mEDmgGL/Sn9YPux9mX1YPkw+0H6PfpX+iP4B/eq+nT+K/+w/qP/Rv9R/Lz6r/zc/p3+Nv+7APv+ivo8+dj6tPqj+Xj5Fvmi9+v34vl7+wj8Gvyx/NL9xP+YAdECugI2AhEC3QFLAcoAFABH/sz8rPwl/ST9C/18/Wf+dP8sACUBggKNA4IDygPZBLoFuwX4BQ8H+wd0COYItQkvCsEKfAssDHwMCw3tDvgNzQRt92/1GvzS/tn9jAOyAsz18PKeABEGTAB2BdgNZgfv/+oFUgj2/yz+HAT6AuL8XvwS/Kr2UPT29zj6UfhX+DL6fvr3+Rv8Cf8G/8b9m/72/zP+ifui+3L8fft7++T9zf0O+ov4mfo1++P5ofqa+8n6gPpe/Fv9A/3o/Pr8UP2F/tP/3v/q/5IAGQEYATEBcAFXAQIBCAExAc4AuP/8/sv+yf79/gsAGQFTAXQBLgIbA5MDWASiBUIHQwheCKcIYgm3CYIJQgqhC/AL/wvgDQwNXAP2+Jn6bAAg/vH8KQMm/83zMvjKBPcA0vthBjcL+gBPAAIJtwTB/PcC6wipAoP+kQDB/OD29PiZ/OP5T/fa+C/5bfcJ+Ij64/pN+nv89P8yAEr+Y/6Z//T+3v4SAeMA9vxz+hP72/pS+Zb5L/pN+dn4NfrM+oD6QvvI/Dn+FwCxAcUBlAEtAn8CSgJpAmUCSgE+ABgA+f8a/2H+Wv6a/uD+a/8rALYAOQHeAb4CoQO1BMIFxgbVB3oI/wfwBuUGgAfqBzkIFQnWCbcKhAr7BO79+f0QAo3/bP1SAg8Ba/jm+i0E6/9o+jED4wdU/9X+MAYNAgL8TAObCCgCwP/jAtT+bvkp/ED+//m0+HT7Avu1+Hf5XPrY+PH4D/wE/sj85fsL/aD9Lf28/g0B7/9Q/Sr9rP2B/Av8yPxD/DL7g/vX+0j7ZfsB/Ef8IP1K/ib+1/0O/1UAmQBHAUkC+gFtAS0C7QJ1AtQBtwElAXoAjQDgAMkArADCAJ0AiQAYAdUBaAJ7A8YEZwWrBaEGgQfAB6AHEQiGCJYJyAmpBU8BNgEuAjX+lf0tATn/afpq/oICP/2W/L4E2ASC/qYB1QUAADL+lQX6BS7/9P+dAo3+w/tM/sP8ePje+Rv9d/zM+wD9o/sj+fH5HvwT/Fv7ZPxQ/b78nvz//UT+JP1//Z7+fv3z+638V/2p/Ej9Zf4p/cL7c/z2/Pn8K/4U/2P+u/5QAHMADQAiAaQBfQB/AKwBQgFaAAwBpQHFAGsA+wDeAHwAJQHWAbsB4wG3Am4DGwQKBZQFmgXTBR8G/gUFBpsGXwfHBTYEpAROBeMCIwHdAkQC8/5O/7MBLgDG/5MErAXeAKT/mQH0/3P/TAM2BHMAEgCaAc7/Vf4S/5X97/rT+1n9/vvq+ov74Pre+eL68vta+736g/sY/Ar8lvxq/Z/9vf1a/jH+sfyw++L7//s7/Cn9d/2P/FT8EP0V/df8W/2a/U/9Gf6Q//b/AwCWAKkA8f/g/4EA3AB9AY0C5wJdAkMCkAJxAj4CTwIrAt4BMAL6AoUD+QOIBAMFQQWxBTwGrgY9B/sHTgijCD0InAahBNYDBQShA+oC4AFrAKf/zwBXAqcB+/8u/67+Zf6O/7wAMABM/wIA3wDMAFoAHv9B/Q78/fsE/AL8Ifzl+z/72fow+vn4dPjs+HL5zflc+q/6ovr/+vv7sfy6/KT8+vxD/TP9Tv1u/Tr9Ff1Y/az9of1d/Uf9M/0S/Sr9w/2o/n7/LwCcAOEAEgF9AQkChALoAi0DeQP+A40EwQTGBK0EkwSeBBQFqQUNBmYGywbSBqQG3gZ/BxcImwg3CLYG4gTVA/4DSATzA84C1wHGAVkC5gKmAocBEwA+/4T/FQABALH/Wv8+/wz/tP7x/Yz8hftJ+2/7Nfu/+mL6FvrA+Xv5IPnJ+K349PiT+Rb6GPrS+bv5C/qu+kD7hvud+5X7S/v9+jn7wvsW/EL8hPys/JP8ifz6/KL9HP6I/lj/dAAhATABPAGEAdUBDAKLAlQD4wMeBEoEggS/BNcECgV7BfUFLAY1BlQGTgZSBpMG/QZ+ByEIyQgdCcEIAwjyBrYF9gSkBPQD0AIeAiUCawJ5AgYCDwEFAFz/c/+9/4r/FP+e/nf+dv5G/of9mfwY/Nj7efsJ+7/6X/rr+bX5zPmy+Yn5ivmM+UL5rfhT+Fb4v/h7+Sf6cvqh+ub6HPsV+x77X/vF+138L/3t/Sr+EP4J/iv+JP4p/pT+Uf/6/4MABwF4AbkBFAK2AlsD5QN3BB4FdwVyBZAFAAYlBgEGFwZ+BqgGdwaGBp8GMwaYBb4FdAYLB4kHuQcuB0UGawXhBIcESATkA1cD1AJuAgMCdgHOADwA2P+y/53/i/9+/1P/GP/e/pD+Hv52/RT94vyT/AL8ifsr+8P6Vvot+h/62/mb+Y75n/lf+Sf5Wvm9+QD6S/q6+gf7Lftk+7T7xfu6+7n75fsi/HH84/x1/fj9Y/6z/uT+Af8s/7n/WgDTADABrwEuApUC7QI5A2YDpQMeBJsE7gQcBU8FewWaBZ8FvQXXBdUF3gXiBcsFkgWiBQ0GZgaYBrsGjAbeBQQFiQSQBGcE3wNMA9ECSwLLAYYBewElAYcAPQAkAND/W/8o/9T+Yv4r/jL+5f05/ZX87fsw+6X6evpS+hf67PnH+Z75gflc+S75C/kq+XP5yvkr+mn6i/qc+s768PoC+yf7mPsU/F38i/zm/E/9v/1Y/gD/Z/+O/9D/NQC1AEMBzwEfAkwCgQLbAigDmwMqBH0EkwSUBLAE6gQeBTgFYwVqBT0FBgUFBQkF+QTqBMMEsgSqBNIEBQUzBW0FOQW6BDcE7wOUAygD2AJ4AtYBWQEEAdMAngBEABIAzf9t/xf/2v6P/jH+5v3E/ZX9U/3x/GT82/to+xT70vrF+tP6uvqL+pD6r/qb+oL6s/rV+rD6s/ry+iD7OvuC+8/79PsY/Hb82fwK/VX94P1Z/qr+Of/c/ywAUQCPALcAvgDqAEgBngHLAf4BSgKVAugCYAPeAzkEXgRWBFIESQRCBEoEbgRpBDUE+QPtA/QD5QPtA+QDmQNjA18DZQNyA2kDNwPcAoACTQIkAgYC7AGfASkBxAB2ABEA2P+6/3z/QP8m/xT/yv5d/hf+0P1n/Q399/z2/LL8Z/w//BH84fvp+//7EPw2/H38kfxo/Hj8nvya/JX8wvzt/NT8vfzv/B39Yv3X/VT+bv6I/uT+NP9w/9b/ZQCkALMA2gD7APsAEwFkAZgBvwHmAQYCDwI4Ao0CpwKYAtACEgP+AtsCBwMdA/MC/QIqAxsD3QK0ArUCaQIsAh0CBgLNAYoBcQE9AQMBBQECAb4AfQBoAHgAVwAdABIA6v+m/3H/bv9T/wX/yP6s/pH+Yv5I/jv+Qv42/iv+G/4K/gn+Df4Z/hr+D/4o/k7+Xf6Q/qL+e/5U/lH+b/6G/qr+yf6+/rP+1/4C/xj/P/+C/8f/7P8vAFsAWgBXAGoAdgBsAIoAsACxAIwAmQC8AMEAwQDhACABQQFpAY8BqAGeAYcBaAFMASgB/gDeAM0AvgCnAI4AfQBwAF4AVAA/AD4AYABtAFAAPgA8AAgAxf+4/8z/pf9l/0D/Lv/+/r/+rv6//q7+pv64/uP+3P6//sv+5P7b/sf+0f7a/tj+6f4J/wb/4f7Y/tn+wf6y/s7+7f4L/zD/TP9U/0//S/9Z/3z/of+6/8H/yv/K/8P/x//W//T/GAAyAEAAYgB6AJUAoACzANEA4gDYANUA2gDhANMAygDkAO0ABQENARwBFAEaAfgA9AAUASIBHwHuAOsAxACxAK4AuACvAJMAmwCOAG4ASQBCACQAAQDt/+P/yv/I/8n/qf+F/3//iv91/2r/bP9Z/0P/Pf9d/3P/Yf9M/0X/P/8y/xX//P70/vP+Bv8e/zv/Qv81/0P/aP+N/7X/4P/y/9P/q/+o/6n/tP/H/+P/3P+1/7H/yv/s/xsAVQCAAKcAxwDTANsA4QDeANAA2gDwAPAA4gDmAN4AvgC7ANgA4wDeAOQA6ADoAPcADQEdASABJAEvATgBJgENAdsAsgCiAJIAgwBpAHAAZAAzABUAEQABAOf/AwA0ACwACwAQAPv/tP+P/7X/1//J/77/yv+c/2P/WP9o/1n/Q/9L/0X/Ov88/1D/af+H/53/kP9+/3v/gv+S/7v/+/8WAA4AEwALANv/wP/f/wQACAAeAEMALAABABcAQQBQAF4AgACoALwAzgDfAPkABQHwAM0AugDAAMcAzwDuAAsBBgHrAOQA0wDBANAA5gDwAPYA+QDgALYAlwCBAGIAUgA+ACYAJAAzADoANwApAA0A///y//L//v8BAPL/6P/k/8P/h/9b/0v/PP8g/xL/Hv8W//j+Af8t/0T/Sf9Z/3b/Yf9V/x7/8f6U/tj8qv08AJMBpgABAlEBBP9V/tX8uPxK+3j8B/8X/0MBqgLiAvIBxwB8/+z95f2C/5P/Kf5F/jYArP+k/bn+Vv2Q/gwBWgGoAukC9gLXASAA3v4g/mL/oQCpAZ8CgwIPAvsABgB6/yj/MwB2AFgBpQEkAcr/wP2Y/YP9zf2P/88BvwLyA4gD4gFIAI//2/6D/kv/QQDcAUACaAJsAfv+pvvW+f76Tvyc/Rv/QAEeAigBhADy/4f/5//pAFMBHgHYAXABrQDw/4f/Yf8bANAAOwFlAXQBhQBQANf/YP9g/+f/XQCpADgB9gCuAFgAif8Y/9v+3/4W/+X+i/7K/ED9RP2F/cf+KgDtANwBVAIYAQEBMwE6AOUATgFyAd0BPwKtAR8AfQBDAOT/RgAXATABiAEwAlQBHwGLASQBtAFEAtMCzAJQAwMDsQF/AQkB+ACQABABUAHGABABjgACAKb/fv/G/5D/SAAYAWMBgwFIAaoAVAAGAAAAx/94AL8A4QDhAD8Azv+m/r7+Q/6Y/oL/3v///93/rQAEADz/ZP8bAJP/nv+1ACcAHQDA/ygAh/9c/yP/qf50/uL+aP/n/uv+Lf9L/83+Jv8Z/0D+l/4h/0j/Nf9S/w4Aev9p/iz+VP6k/bT9Of6P/af96v3p/WL9C/5d/pX9o/2q/cP9GP2U/WH+Ff7E/bT9h/1m/Vr+Qf7B/PP86/zH/MT8X/5J/23/BAG7AKkA1v+n/zr/Xv/4/+n/RAHMACUB6QCpAML/if9EADkAOQGiAfkBxQG2AW4B3gByAJMARAHhATEDTgPOAmoCtAHQANb/ZADTAA4B6gF5AkYCDQE4AXYBfgCzAFEB/QEvAvsB9QEXAgoBUwBeAb4BawHlASICVQEzAQEBEwGZAYEB6gDkAKUBIwH7AH8BcwH5/4T/zv8MAAsAAgCn/2wA/QDpAEsBewH8AAUAXQAWAI0AmwC8AHIAjQCoAB0ACAAPAG8AFADu/1L/2P7V/rv+8/6U/oT+Tf8R/x//u/9hAAEATf8IADP/C/9v//P/agBrAN7/gv9zAGwA5//x/pn/lACp//3/BAHgABj/xP6x/6//sf9eAN4AwwDzAK4A9AB9AekAjQBIAQoC8ADVAIYBfgBWADMAI/8v/gb+iv47ALIB+gGfAmwCgQEbAcIB7AAlAIkAMAC//1cASgH6AIn/YP9vAIwBiAGsAIgAnP8d/4L/wv/f/gj/iADhAEYBMQGtABQAkP+v/0EA/P9H/x3/tP/a/ygAmQAmATQB6AAYAUsBTAB9/zcAFADb/+//uAC4AIMAAwFqAv0BbQBJAJoAuf8T/47/wf/B/+b+Pv94/9D/EgC0/1QAPAGBAOL/pQCUABL/lf3W/dj95/0H/9H/6/+8/+0ACwG//5z+Bv5P/sX9ff16/j8AfwCo//7+tv7D/qX9d/2N/y4BUAGqAZACGwJrAIL+sv0g/uv8h/zY/lgBawEyAfMCswItAen/8f7a/gX/Uv9cACACUQKZAYYBSQHqAMsA3wC3AfQBUAHeAOEAfgBzAJkAzv+M/+YALgLyAegANP+4/b7+Hv/U/SD+sP8v/1P+Nf+4/6P+YfxO+6b7Hvxh+gv6eft3+2P6Pvnu+Zn6iPkj+Hz45PmK+c34fvic+Fr5VPhx91L4IfkU+VD5lPoY+7X6v/lX+ST6e/rc+Rv50/kO+xj89/z2/Uf/e/+t/o3+Nf8H/+H+9P5i/84AHQHjADsBXAJwAn8CxwNnBFQEDwSlBP0FyQVYBPgEfgZ0Bi8GKwd9CHIH1AMkAH/9NPuA+Aj3ivgf+nX5Evlj+lD6s/ib9+r3Xvqj+877TP3D/bv7H/kt+If4cvjx9/74vvv1/Df83/s0/Fn8P/uA+rn7MP3L/dz9h/5u/47/oP9AAFACwAMHBPIEowV2BYsEjAPkAwIFfQW6BRoH4gicCbsJmAn0CZwKAQrgCT8LhQyyDOYM6w0wDzwQhQ+7DsoOug3eCr0G7APyAWL/X/3M/DP+Jv9W/nD+qP7D/Zj8rvq5+dz53PmM+pz7xfw+/dP8G/xl+yj7avoD+nj60Prd+gD6ifng+SD6JfpC+sb7NP3y/Un+d/4Z/+z+cf7Q/sX/7gC1AeYBKgKjAkYCBgLBAsIDRwS3BKEF1ga4B60H2wcBCOgHFAhzCIwJbwqFCx4N4A55D7QONw5FDS8LUgmYBsgDuQFzAF3/uP7d/gb+4/xl/U3+Jv/O/04AVgCE/7D+Y/1P+0f5TPfh9Yn1Z/bO9zz5a/pG+/T7xPxY/TD9aPzC+/H6zfn6+OP44fg3+RD68fsh/tz/BQEEAp4CtwIjApcBPQGYAP3/WQAoARoCEQPHA5sEIwY+BxQIsgj4CIcJ0AkLCr8KYQshDBQNYA66Dz8REBK5EPsNPwqbBScBG/17+YP2qvUI9mX3PPqh/SgA6AGoA8EEnARYA6kBwf87/bH6HPkm+E72wfPs8tPy0fL089/1tvgu+3r8E/5s/wH/a/1s+775ffg993D2IveO+Nr58/u+/kEBJwPuAzwEKARJA/cBwwCu//H+3v47/+0AMQOMBeAHwgnlClQL4gsXDCkMWgxaDXMPQREJEx8WpRimFe8P/wrsA7f6Q/N27hnrmemj6sLvH/fy/bYD1gjIDD0OnwySCY8G/AFS/GD4cfZJ9SD1i/V09jv3IvZJ9HXzk/PB8470sfZz+dv7nv1T/z8AWP/g/F/6rvim9+j2Uvc8+Xv7g/3y/4oCNwSJBOsD+gIrAhcBBQDN/z0AOwEaA80F+QgCDD0Opw+tEBoR1xEsE3oVhBh8HMEdjhgWEkUKr/5H8vfoDOJ53Fbb2N5d507ytP2sB8cQuRd0GqQYDhWHD+UGDP569/zyr/D57/jvrvHi9O322/fC+Pn3ZvVj87PyL/Ov9Kr25vhH+0r9HP7P/fb82fuU+hr6h/rp+oL7hfww/bv9Yf5U/sr9Tf0m/aL97v6NAD4CWwTuBtgJ8AyKD6oR4xKbE70U+xUNGM8aTR8vI3MeyBIhCNb8h+xh3QPVAc/DynDN3dk862j8MQvEGN8kMCxxK9wlOB9LFOEE3/eH8MXr4edA5gzoEOxy7z7xGfMO9dv0e/Kh8Sr0yvcm+/H+VQP9BrMHcQVtAgX/MPoC9R/yxPG/8pv0GPjA/OUAKwPMA58D0ALwAMf+3v1o/qP/nQHcBJYJzw7+EswW/Bk6HKod/B6BIXMlHydyG6EJH/9V9K3g79AnzmvKg8XJyynfNvJjAacPkB6ZKywynS+AKYEkDBnVBs/5L/U777jmFuMd5h/qZ+v867LuJvI98vDvLfHc9p76JvzwAGkIZg2CDSIL7wkVCCACDfsj96v0NvHP7mLw9fRk+O35bfwZAJQCxwLNAdsBGgLdAGUA0gJTBucIZAsOD74TlhfZGeEbeR4pIUIksydnHkILQQA6+ATmj9TL0fLNDsbvyCHbieyR+BMGPxXhInQrEy19KZcn9h8WEEoDcgC++lHvneh06hTu/+u6607uNPAZ7+HrJOx58Crz5vIR+FQCYAnrCkQM9w46EDkMzQVxAsT+7fe88d7w5/Id81DyAvV4+lX+3f9MAdoDSQUmBAYD7ATjBscGUAd6CqIOVxEiE8kV7Rn2HIMfKh45FHYKkQO0+LjpOuGl3ITVItNS2mHmFO+7+boGXhQ9HjMkGyXIJDUiVRkgDmoGrP8q9SrsA+oz62DqtelX7efxXPQa9Qz2hffG+Nj3Ifhk/EAAEgE+ArwF7wh3CdgHswbdBaYCpv2I+iL5uvbJ8x7zSfVw95H4cfrq/TEBwwJhAxwFDAefB9wHkwn5C6INqQ6HEDYTqRVzFx0aKBkoEugL2gYY/gDyleol5aDextsF3xnl0urz81D/5gpJFE4bTR94IsUiux0dFmoPvQcR/RP0Me8o60nmauQC513q5uyt7zPzCvfj+U/7lf3UADkCFgJUAz0FqQWwBOsDDQR2A/wAV/4G/bD7MvlF9/b2Cvey9uj2ovgK+9n8Yv6UAEwDRgWwBqAISQt+DQgPxhDcErEU7hXNFy8ZQhZbEYsNaQjx/8z3uPLD7FXn2uSa5T3ntuqi8J/3rP5/BYQLQxG/FnYZNBkAGHIWWBJgDAEHtAEw+8/0yvA+7r3rw+lB6fvpe+vt7A/vXfKp9U/4K/ui/mcBTAMIBeAGNghQCHoHzAbmBR0EywHl/y/+EvwN+sv4T/ju98j3W/i8+WT7Pv2w/8wC7gXfCMILrg6FEdwT6xUDGMEYRRc9FZ0SMQ5pCL4Db/95+gH23vLF8LTvOvCJ8Q7zKvUJ+Bz72/6eAkgFMgdHCQALXwswC4oK+AivBpIEiAJFAA/+/vsO+kL4kvbb9MPzRfPR8lvyP/Jz8try5fOB9Wn3YvmP+8/9HQAeAoADbATuBAkFjgSrA8sC/QEoAW0A1v9R//n+6f41/8b/VQAVATQCWANgBF0FSgYkB+YHiAj/CD4JTQhvBpMElAPRAp0BmgDh/2P/nP+cACYB6QB4AIoAvwDKAJwACgBY/+T+s/4c/hr9IvxU+8r6cfo2+hf6Wvrp+mX7n/vL+/H7G/xa/HP8Gvx/+w775vq7+m76LPol+jz6R/p2+t/6TfuJ+777+/sK/Ab8Hfx5/NT8Df1d/f/9zP6O/xwAnABEAeUBfAIjA7MDIQScBAsFUAWkBewFIAaZBgIHMQaGBLgDPATFBKwEjQS1BDIFOgZLB1wHmwYmBjkG1gUPBSkEOwN3AtsBTQFfAGT/xP5Q/t39E/1e/B78qvwv/fv8wvzk/O/8wfyV/Gr8Cfy6+8776vuq+3b73/t3/Jv8d/xV/D/8Bfyh+077/Pq6+tP6aPsG/Iz8df26/t3/qQCHAYUCVwMVBNEEZQWzBe8FRAZqBmAGbga2BjYHzQeQBxwG+gRHBRIGBAaPBY0F6AWPBpEHAwhMB6kGuAaTBpcFuQREBMwDMwNeAmMBXgDp/03/Nv4d/Xb8NfxY/KT8U/y4+5L7sPtE+476IPre+bP5vfni+fL5QPrk+m77kPtH+/f6tfpx+t/5YflJ+Wf5cfnY+a/6dftT/Gf9e/5B//7/zABuAdcBSQLvAowDBwRmBLcEBwVPBbQFLAa/BrQHYghdB68FkAXJBv8G9gWNBe0FQQarBvEGEQbRBKkExwTVA8ECrALQAqYCGgJJAWAAEQDa/9D+e/20/HL8PvwT/ID7pfpM+lD6wfkg+Q75Lvk6+YD5BvpO+p36Lvt7+xr7f/ox+uD5NvmC+DL4T/iT+N/4fPmF+pL7fvyE/WT+8/53/y0AqwDsAHIBFwJ+AtoCTAO+AwkEKgRnBOkEjAVLBnQHuQiBCB4H2AbhBzoIIwcsBvIF5wUABg0GYQVTBCUEdQTyAwkD8QIuAxADhwLyAT4BxwBxAGT/AP7z/Gr8/fuN++L6JPrs+T36Ivq++fH5avqZ+pL6tfq1+nb6VvpE+sj5NPkC+QD5y/iR+Lb4Rvnl+WD6/PrT+5T8GP21/Vv+1v5C/9n/bwDPAG0BQwLVAh4DbwPUAycEUwR+BAUF3gXWBhYIlgmhCUQIigcjCF0IJwcDBrcFowWpBdcFgwW+BK4E+wSRBKoDmgPrA7cD7gIIAiABYADS/7D+K/3z+2j7KvsA+8X6lPrc+lb7X/vv+t36+vqj+gb6o/lL+eH4wPjx+OL4v/gQ+YL5pPmp+fz5d/q9+sf69vpx+/n7Xvz5/ND9e/4V/87/dwD/AI4BKwKYAt8CIwONAwcEfQTqBJ4FmwarB70I6AkrCv0I9QcNCCMIIQfyBaEFuQXYBSIGJAaoBYsF8QWyBaMEFAQEBJMDiQJtAYkArP/3/v790PwP/Nj73fvf+9v7svul+8r7nfvk+kf6DPp8+bn4Sfgp+Cz4VfjM+Cr5XvnV+VP6SPoA+hL6ZfqK+oH6r/o5+977Z/wP/eD9p/5P/8//OACbABQBigHgAUkC5AKfA1oEIQXPBWQGLQcpCCAJBgpZCm8JLAjZBzEIxwekBvsFFwZwBuMGGQevBg0G8AW0BaQElAM/A/YCJAIgAW0A8P+l/0v/d/6Q/R397Pyt/Dj8mfv3+pP6Rvqb+eP4qfiZ+E/4JPhK+JX43/ha+bL5wfnt+Uf6WPoQ+vn5Pvp8+of6q/oe+8r7gfw2/br9MP6t/hn/Uf+K/xsAzwBmAQUCzgKuA2wEEgWmBRIGjwY+BxEI3gihCaIJzQgYCFEIpggiCFEH9QYOByoHJwfRBgMGXQUcBaoEqwMKA+kCywJOAr0BPAHKAIAA4v/B/qP9/fxt/Mn7CPtY+t35ufmW+RT5qfi6+On42fjV+OT4Eflg+cD5y/mZ+bD54/nI+Y75j/nP+QT6MPpw+rX6Pfvf+2H8yPxc/SD+wf4+/8n/kwBsATcC3gKOA0AE2QRUBbsFCgZnBhsH6QewCHoJ0QllCdUI2wgjCacIugcqBxgHGwccB94GQwa+BZsFWAWhBBQEyANxA8kC/wEiATgAgv+s/oX9Qvx5+wT7rPo2+qH5Tfl7+bH5gvlW+Xj5t/m8+Zb5Wfky+VL5fflw+T/5Qflj+Xf5cPlc+V35kvnf+QX6RvrM+pL7XPwQ/cL9hf5M//3/dwDfAG4BBgKIAg0DkAPpA0kE0wQ5BZMFJgbuBsoHswihCcgJNwnPCBUJQwnACAQIoge8B+cH8geUB/UGbgY4Br4FvgTgAzcDsgLjAf4A/P8Q/1r+lv2A/F37sPpo+lv6Jvr5+en5H/pR+jX69vnN+an5a/kw+fH41vjb+BT5M/kN+d/49vgO+eX4u/jR+CX5jfkQ+rn6ffte/Dv99/2K/hb/iv/2/1oAwwArAaUBUQL3AnoD3wNgBPQEaQXCBTMG5ga6B7sIuQkECsEJjQnUCRAKwAksCcQIngiXCIYIEgg+B3sG6AU8BU0EWwOEAsEB8AAfACH/S/6v/Sv9i/zb+1D7DvsE+/P6rfpI+ir6N/pC+hz60PmT+YT5d/kq+b/4jPiT+JP4gvh2+I74zvg4+aX55fkf+ob6F/uT+wr8gfzy/HX9/v12/uH+TP+6/zQAoAADAW4B6gFUAr0CMwOpAy8E1ASFBTkGBAcOCCsJOQq4CpEKKgouCm4KVArECRkJuwiECFEI3wf3BtoFEgWCBM8D/QI3ArABPgHdAEwAjP/R/i3+eP2T/LX79fp/+kX6Hfrh+bT5mPma+ar5kPlM+fn4zvjC+LH4lPim+N/4Avkf+S/5Qvll+Zr51PkO+kn6r/o8+9f7cPzx/HH96P1R/qL+2P4N/1b/u/8bAJMANAH3AakCSwPoA3ME8wRzBfAFdAYSB8kHogiOCSMKMArvCdwJCArdCVsJuAgrCNgHrQeCBwEHLwZ+BQ4FsgQoBFUDcQKsAQwBXwB+/5T+v/0J/VP8ofv5+nr6Jfrr+b/5g/lX+WD5mvnO+dr5sfmR+XT5RvkO+dn4qviQ+J/4zfgA+Tr5ffnR+Tf6lPrx+jz7iPve+0D8pfwJ/XT98P16/un+VP/T/zwAoAD2AF0BwQEkAp4CGAOPAwsEmgQxBaQFGwauBkcH+AezCCoJWQlmCY0JwAnKCZ4JOgnICGsIEwi5By0HYAaLBesEbgTaAw8DNgJ3AbcA6v8f/1f+hv3U/Fj8Avyn+0L79/rY+rL6bvoa+tn5r/mH+W75W/k/+Q/57fjw+Pf48/jJ+Kj4pviz+Nv4Cvlg+cL5M/q/+kz7yvtE/MP8PP2g/fP9Lv5i/qv++/40/2z/x/83AKcADAFzAeoBZwLvAosDQAT8BJ0FLAa5Bj8HygdVCMQIFglJCWoJWAlYCVYJKwnZCHQIJwjbB3UH9QZbBqkF6wRRBOEDagPZAi4ChgH2AFwAl//D/gf+VP2r/Dn83vtz+xf77frH+qn6dfoq+t75rfl/+VH5Gvnr+Mj4vvjH+Nj47/gR+UL5c/m1+Qn6UvqS+sz6A/ss+3X71fsd/Fb8k/zc/CT9c/3B/S3+pP4o/6T/LwC5ADcBsQEgAo0C8AJPA8wDSgS+BDMFpwUNBmsG/QaHB+4HSQifCOYICAkYCTkJYQlSCRMJ0gifCEAIpwcbB5EG1wUMBWAE1QMxA3EC3gFNAZEAx/8O/3T+v/36/FX84Pt9+w77vvqP+mn6M/r7+b35j/lk+Uv5RPku+Q75+Pj4+Pf48Pjg+OD4Afkr+WL5ovnj+Rv6Xfqt+vH6QPuU++H7HPxn/NP8Lf15/dX9Q/65/i7/qv88AMMAKQGPAf8BXQKaAtwCJgOBA9wDOQS3BDUFogULBpMGQQfsB4oICAl6CdQJ+wkHCiAKKwrjCWwJHQnOCD8IgQfYBh8GVAWABNUDTAOkAt4BHAFwALz/+P4+/o795PxN/OL7hfsr+8f6fvpF+v/5t/lq+Rz51Pik+Jf4cvgw+PP33/fn9+T39fco+FD4cfix+Cf5jfnH+QL6VPqb+sL6DPtl+7X7EvyH/A39jP0E/nv++v5y/+f/YADeAEgBogETAnwCtwLkAjADiwPMAyIEogQbBX8F/gWVBgwHhwdJCBMJuwkeCnwK2QrxCrAKoArBCncK2Ql4CUYJxggDCGYH2gYABg0FTgSuA8ECpwGyAOX/Bf8M/kr9q/z4+zb7v/p++iD6tvlk+TT55fh/+Db48feD9xv3+vb29sf2hfaP9rf20Pbu9k33wvf59z74w/hV+Z75zfku+oL6tvoV+5/7D/xp/PL8rP1S/tf+bP8BAH8A0gBAAcEBDAI8AowC/QJHA3MDsQMWBHAEugQsBa0FHgZ/Bg0HsAcsCJoIZAlECuQKRQuJC9AL1wt3CxML/wqwCgMKcQkoCaIIygcRB4sGvQWvBNMDIwNdAjgBIQBH/2n+Zv1w/LT77voo+o35Ovns+Ib4Ivj198P3Wvf49sb2g/Yi9gT2H/Yh9gr2HvZv9rz2/vZj9+b3OPhu+Mr4P/mM+bH5Afpx+tH6KvvI+3r89/x2/Rn+v/48/67/NwCrAOsAQgHIASkCZAK/AksDnQPFA0kE/AQzBUEF7wW+BisHkAd6CGMJXgkMCa8J6goMDPsMdA0NDUEN6Q2LDqkOyAx4DOYKIAmSCVAKmgeNBcAG1gbTBIUCjQF6AM/97/qj+fb4D/cu8znxv/HG8a3wyvC+84X0RfOp9GD4A/f98TTyMvQX8Vjvw/Or9pT1S/gg/zUBDgBiAG8BzP/O/K/7bvud+mj4h/ki/vb/cP7A/3ECVwBA/HP8Qvws+F32HPo1/r/+wABYBaYH6QXmBDoGEAQf/yb/AQPyA60DOQjXDJIM/AzKD5EQqA0GDQwQ1xLgFIwYkB64Ik4k8Ca4KkApqBkTCaAEDwHk9eDtX/MH8RnnGOge8APqBdpa1wjbotht2d3kA/BR81T42wTMDTENTQnOCaYMugznDhkUixhlFdsPsBCyD2gEfPYl8t7vyeca5qLtze3K5NHjOuvD6Sbj1uX66wPtqfBH/o4IVQYLBd8JvAvtB6YHbQvBCfQHgQuoDw4NVwYIAjT+svkr9uD0IvWr82zzgPYY+cH34vRm9bb2I/iD+04ASgTfBfkHiwvuDAIL7wgZCigL3gqkDOwO9Q1UCyMMhQ1cDHQLSg2FD5UP3BExFR0XhhU4GKgczBrRDjT/PP1s/Jf5rPVI+VH3EOzf6cHsmeny3hLfHed+6wfwyPmS/zL9xfqP/9cFogfmCYENwxJvEwYT/RJpD/gH+f+r/2EBPf6q+ZH4pPZG79Hq7ew86zHlTuZR7kPybPHf8//1wvMB9Wn8cgL4AtkEeQnkCkUKdgohCmgHaAVvBkQHEAYbA8z/H/22+ub4CPgN+J73Cfcm+GT5k/lU+Vv6ovwP/8cBlgRwB50ITwmZC00OXw/WEKsTTBVvFREWMRijF1gWoxaWF1EYnBguG8IYfAtc+H3zi/g19+rxovK18TLlGuAw5Y7lvd1q333r+fHA86r4HP3w+qD6OwKIDEoRoxJGFCAWRBSgDw0O2Q3NCsUFSQW7Bff+hfVH8mjxo+tB6LvsZu7L6MTnau1T7w7tz/DZ9h/3ivg4AOYFaATVBI4Ipwk7CVkLygyWCh4ITwfmBUcDrgA6/oD8N/vK+SH4b/ep9jj1APW59pD3p/c5+cX7Bf32/V4A7AJOBN4FsghBCz0Mmw1NELERXRJdE1IVdxVzFRoW0RYTFyoXWRkGG4UXUAd89tf3D/9V/XP10/Qh793hduDv6PPoXOBw40/ve/JZ8Dn0e/is92z6IgZUEPwQtw+cEfYUPhMWEEwRhhIMD2kKSQoOCFj+8PZB+MP4GvK/7e7vlu1g5kjnl+2q7Qrqcu5q9Dnyw/LZ+Yn+3fzK/0gGEgcSBmAIUwqtCKwHdwg3CPIF9wMEAi0AyP09+7f5qvj69+X1WvUp9vL1OvXv9qv5FPr7+jX+BQHYAS4E6QepCjMMRg85EswTvhR/FvYYFhl9GU8aohvnG18dESC4GsMGwvnX/04GNgAd+Or2fez/4GvkouzT577dceLH67fs1evy8JHzkfL2918E3AsRC60KHw4fE1EToRJ/FKkVzRLFD6MQdw26A/T9MgDK/873PPIf8r3tUecO6aDtGOpC5J7n1est6zXsUPIo9TT0e/ha/8gBaAH5Aw0HlQcXCCoKsAoVCcIHKgdyBiQELAKpAK7/Av5M+9b5ZfmV+Kj3xfjP+Wf5JvoK/Y//DwFyAzQHRwqJDOwPyBORFl4Ydhq4HO4dTR+WIsAmOCNEDycESwkYEVoKVAA9/QryTudF6Ubxmeut3QDdAeUU50flRunt65DqQOyN96UAXQFTAVYGxg6wD7gOJBKiFsoV3BOxFlgVsQvlBQYKxAuJA+T72Po19kzuWO6U8tntyuPz4ofn1OZm5u7qDe4j6z3sAvR2+Kz4ePufAC4CWQLSBZUJIQrLCYgKoQruCEwHxQfmBx4GCQOdAG7/4P3I/Ov8/vxz+3r6c/zv/oIAsQIuBb4HDArqDHURMhTCFroYgBxuH5QjPiWCFX4L4A8EGuAUTgk3B+v+h/MT8sH5SPVp5bTgoeeo6Bnjo+XV6I7mueQb7Z/17/RE9VD7xwTVBu8FjgmmDtQPXhBnFHwVpA7ECicQyxJ0Da0FEwMk/8z4gPcl+oX3P+486jHsOepL5qrnBeon6UjpA+1a7/ju0vFN+Pn81f3H/qAB4QPvBQQJGQstCmwI5AiNCj0KJwhBBrgEMwObARIBaADr/sf9tP7f/zwAzwD3AugEJwf5CRMNIg/rEKMTXhYaGrwd2SS+HEoM5ghlEzoalw9pCJ0D9fia8Pv1Of2H8xzm1eSx6tvmbeOd5xnr0enS6SfyX/X48qn0h/6eCGYIlwWWB4gLuQxfEBoWYhWWDBIJxg0LD0kJrwQoBG//gvi398/54vTH7YvtFO8365fmkujR6i3rnuxH8Pbwpu+b8vr46Pys/fj+dQGhA34F/we9CRcJAwh6CHoJlAgnBiwFIwVIBNYC0wHwAML/xf+/AVADHwMBA+IE8QdYCvgMqQ8BEZESgxWFGVoeLSGaE6QHywkSGNQXfgz6BU4BDPjH8237F/6w8eDmqOl07pHoW+Wh6o3uVexk7Czy9vJo8O702wDCB5ADGgAiBFUJ9goxDxgTzw9KCNcIJw/DDmYIogVHBj0Cl/xx/B/9bPdC8nfzrfNN7RHowurb7UDtv+xU7hbuju1M8Tr3lflg+en6Cv7WAOQC6gScBmkH4AexCGsJyggzBykHGwiBB2cFIgQDBAQEewR2BegFzwSyBUgI5gqnC28Nkg/wELcSYxZuHRMcsg37A6oJvxerE9QJFwR6Af737/P7+hr8Z/Fq6pbvL/IP6XfkSeoa8JLvivBg9WP0O/CA9GYA6AavA1cBNQWsCHsILAsUD0IOOQkXCj4OoQt7BKkC8wTkAlj+ef3K/M728/HK8wT0du/p64bugu9g7WHtZe8i8LzwDvSE9zv4uvjT+gr+zwB0AtMD+AQsBs8GlAfHCMUIzAd3BwMIbgcFBsYFvwYPB+gGnAa+BiIHJggYCmUMjg0vDpgOyBASE1gYjhnCDqcDigUVE3oSpwiuA2YD3fx09Tv5Mv1A9lrvKfE/9Wjuyueh6ojwUfFi8PXzAvWX8dzwmvgFABIBDf/KADAEnANzBAsI/grbCDMIkAvzC/sGoQNVBVoFAQPsARUCV/3C9rb1JPic91T0BfO48tzwlO+m8FTxGvF88iT1jfZG9pz2TPiu+lL9sf/xAJkBPQKVAw8FOQb0BrMHlwgECeQI5Qh3CbsJtwldCqcLbgwkDPELzAsaDJANFw8+EC4R/hM7EAYHLAKdCQQQ8ghWAuwDGAbQ//P4mfsl+y/4DfdQ+0b7FPMN7zvyKvZT9IfzD/Z59zb1DfUl+Jf4ffdr99T7Qv6//QL+RP87/4z9Uf+IAiQDHgF3AT0C9QA3AI0ByQLLAEz/IgCuAIb/nf40/ij9C/yo/HX9UPwE+9f68PpM+tv58/kL+hf6r/p5+7n7rfuP+xT87/zK/YD+Pf8/AAcBuQGsAsQDUAToBOgFCQcXCBsJJQq3CtsKpAvNDCoOiQ9/ERsRhgtiCHEN9BQUELsGCwdEDXwOlwdYBUUEgABc/jsBewSn/lr3yPZD+nP4/vNb9M31+/MT8XHzDfWf8nzvvvBi8y/zwvMx9or3MvWO9Hf39vnS+e/5xPsk/BT92v4XAPv+Qv7r/4UBUQJNAhICKQHMAGwBDgLDAfcAwgA4AZgB8wAMAJf/ef+F/xYA1ADYAFEALQDSAKgBiAJCA94DlgSJBaIGtweCCIUJiwqICxoNvQ8cEHcK4wZZDCMUjA6eBJoGow2/DUgGigTHBDwALf7gAQ8F7P47+Ez5Nf3c+nf1gvaT+Az3QPQw9jj4VfVV8rnzFPbK9DX0sPZM+AL2V/Tw9sj4qffn9nL56vqb+oH72/xM/GT7Hv0x/5b/Yf/m/0EAUACnAB8BJwGpAPoA0gEVAikBcwCoAJYA8//j/38AiQDa/7//XwCLAH8AOQF6AgIDGQNKBP8F2gbzBiII6Qk0C/IMZA9bERsNrQjDC1wUZxOFCBcHMg46EfEK0AVeB/EDJAA0AXQFTAIE+g34W/t4++z0gPMb9/n2AvN48kj2EvXD8EXwr/P685PyT/WI+JT3DvSP9SP5d/kR+Fn5fvuC+3r8o/6d/tH7BPxm/0MBugA7AHsA/f9OAIEB1wGYAAUAOAEtAh8CeAEJAa0AUgBsAN4A8gBpAPr/OwCJACcACwCyADgBWQHoASoDJARbBKAENwU0BqYHYwm2CtQLgA1eD24M9AehCdkRzRJUCZAG8AxdEG8LAwbnBpoEHAH6AYcFXwMB/DT5zPvQ/Kv3P/Sz9nH3APVq89D1rPXA8VLw7PKJ9HPzdfTq9jP3ofST9PL3TvkL+P33q/p+/Nj8Yf3V/fn8nfyl/owA/ABgAIgAMQGmAasBCAGNAHQAVQFCAnMCoQHOAJ0AeQBZAG8A9wD7AJ4A1wBOASkBsgB5AbsCNwNbA28EzQUoBhMG2gYxCHkJmwoNDD4N4A59DQQJMAjvDTYS/Qr1BF0Jsw7HDMgFkARoBC0BWgAmAxcEkP4C+hr7PP1T+vf03vUA+CX3FfXT9T33l/Ti8b7yrPRM9AP00/VC97j2ePX19o34PviE95j4NPvX/Ef9Gf25/Kz8qv2x/kL/ef+z/3IARAHoAUQBFwDr/8IAxwG+ATYB/gBjAT8BygBpAHYAtACUAMwAaQFXAbMA3gAuAuUCzgKUAxAF2QU1BgMHEQieCF0JzQqaDPsNuw8KD6UKFgn8DEASxAwJBU8HEQ1jDZoGBwNJA/4ANf+TABYCQv5w+Tn5w/sV+4r16fMb9qn2TfV59C/24fUs83ny4/Og9Bb0vPR49pz3v/YG98z4RvlZ+AL4XPr+/Iv9Tv1P/dH9Vf4G/3P/c/9K/wIAWQEVAsIBmAD2/ykA2gAhAb4AjgAQAZABRwEyAIL/0f8MACEAtgA/AUYBHQH+AeQCvAKhArYDIgXvBX0GRgdnCDAJvwlnCn0LMA1ODw0PAgsNCbwLLhH9DScGWQYkC0sNxgjpAyUDzAE3APr/ZgAX/mn6pvjr+e/6N/eZ8/zzJPUt9c7zQPRZ9Rn0+fJx80D0YfRz9ND1pPcT+Ob33PjN+eP5hPlW+kz8Ov3L/Tf+4f5w/7T/3P+k/3z//v8GAbYBqgHqAIsAwADFAJEAOQAHAAQAXgDDAJUA8/+O/5z/gP/P/2YA1ABUAS4CNQNSAx4D2wMJBeAFegZhB20IQQkDCiwLFgzsDC4Obg+RDXAK9QnMDfwQQAu9BeQGKAs1DN4GcgJgARUBOACp/+3+tPzv+XH4sPn3+Xf2ufO48zL1lfUq9LrzMPTO89TzK/Rp9ID0svQg9t73lfjE+Dn55fmi+gP7n/uh/Kv9f/7S/n3/aACfADYAo//h/3MA5AAkAUsBLwHfAI0AawB3ABwAgP+J/w4AYgAjALf/3//y/8r/2/8YAJcASwF0AoADnwO7A5cErQVvBtEGoQcXCUkKKgvpC2oMoA0ODx4Qpw1FCnMJZA1mEB8L8AUMBjEKYAtiBn4Bmf+3/3L/pv7w/PT6aPlJ+JX46/df9WrzAPMd9Nn0V/So887zA/TG9B/1s/SN9Mv0evZ6+GL5rfn4+aj6NvuT+yv8Kf3l/TL+wv7S/wkBOQG4AA8AzP/i/3IAHQErAcwAwAAPAfkASgCN/yj/Kf9X/7L/2f/b/+H/zv+8/73/w//K/1EAbQHCApUDCATDBL0FXwbZBlcHOgiVCecKOgzvDBgOZg+CEREQiwwwCiQLaw8RDaYIQwaOCAYLPQhSA9H/Lf+D/aT7bfoM+iL6Mfio9vH1t/To80Xy2u9d787wr/Md9n71VvRf9Af1FvbJ9QL2P/ed+R386v1Y/cX7S/vK+7v9xv7R/rT+Pf8PAe4CQAMOAbv++P3T/m3/oP+n/47/zv/N/7z/Ov5r/E/7AfyE/dv+b/9X/5//mP8KAN7/jv8EALkBHgUICFEJKQk0CeIJXAsmDeMNUw/rEN4TYxaWF0wYKBpVG0YTzAuiA6gH9gqsCPUDEP4x/oH7tfZe7v/pyeY+5mrrou5P8VXtXukJ6mvtdfEC8hL03PhkAhEIVQrvB0YECAWGB3gMPQ42DmQNVgxNDIEJFAV//T/4bPUI9qP33vV88czsrOvo6ljqPenw6H3rsu9v9ZT4xfkd+kn7Nv4JApAF8wYkCXMLkg3DDaELNQkoB9MGTgeDB4gGQwWrBGAFUwaPBfMD/wMtBtIJcA3nDuoQ4xJOFScYzRnXHBki+BybEE8H8wB9CRoGIgL7+M31HfcZ8+nqlOJQ4Z7gAeXa6kHvI/Ew7qbvZPPh+HX81f13ApAJQBF1E64S1w4cC/AKtwuNDGQKygeKBP0Brv+N+h30Xe3Z6tXqNOyW7svtdOs26Onn5els7QfxwfS6+FL+6wM2BkMFcAQBBVQH9wnMC9gLowo2CWYHagSYAMP9s/uC+s76X/uu+vj4Cvii+P75ZvyA/48DmwZZC8cOYBI3FP8VuBiIG+oeYCEnI2gjEyWMJkkpzhZzBoj5s/c7+nfzOvH26IfmauTd4ZDbMdVF1azYMOOB7y33Vfv6/MkAtwSXCjEPLxE1FNsZgyDdIXcdChX1DAYHlwPJ//j6gvbM8dDupuxM6QHj3tzK2vfcHuIJ6Izsm+5w8o33Kf3gAFYDjgXbCKsOTBOGFJYSOBBpDUgKwwdIBN//cfwX+xr6Cvg+9ZbyH/A/75Pw2/K69N73yvxBAuoGwAr9DYIQ8hK5FrUazR0GIKghPyT3I/cjOyKhIPwfrSEzGJ8AevU8793w4OZN4bjiUOFP3/ncHeCb3tLZPdss5XH0HPx0AQIJHxGmExEV3BcOGVkXQhUVGSUcCxruEG4IIgNb/KHzgeuw5z3kruEa43vmYeap4inhfeRH6D3sYPES95X+HAX4C5AQfhFyENMOeA+yD4EOvgzxChwJHgZhAkj9bPct8ozvA+9x78rv6/DS8mH0PvYK+Cf6rvtG//4EOwp9DlkSQRYwGPwYqRkLGrsZyRmRGxYcVBwlG6UaZBgfGB0YzBgDBmrwSet+61PsId8F4HPlJ+ae5bTnCO3E5ePg8eZv9vH/iQGqBtkQIxk5GSIZdhbmE34NAwxOEMcQjgo6ABP/V/6f9wjtNeX54ifgSeEI52PsMuz66zLw0PVq93v2Lvnz/fYDUwk5DwMSqRA+D2IOHg3ZB5wCuP+f/pj9Vvz9+rL3yvS88rryv/GE8OjwAPRb+Mr7Of+xAdsDfgUrCOcK9QvxDFsPrxL5FAsWixbDFrcV6hXQFYEVPBSTEh0TIxR1Fm4YuBXrAYPypu5n77npytzn4K7muelD67bwCvPd6vLnw+7j+TH89PzbAyoQiBiKGnYaBxedEpMLdglyCfMFhf5++T79C//l+cPv4+ks58zjNeM35m3pAOoA7lP28/12/vj86v7jAYwESAaICZsK0grVDDkP5w3vB64CFP8//Pn4jvah9HDzMfRi9ib4ofdr9jz2O/iB+uj7hf0tANEDdwczC0UNBA1YDD0Nmg6iDt4NaQ4IENMRLxNdFOgU8BNrE9ASexO2EzUV/BXLC0X71/SA9G3xROTH323lzOel6KbrxPHG75/rXe9I+G382Pri/XIHpBH5FVEX2hbzFXsS5Q1cCzQHNQA4+K73afsC+jryauzu7OHrMeih5oroGOmm6ebvrPhM/RX9RwDVBdEIdQgFCNYIRQiACPUJiQqhBw0EJAKpAEb9mPjo9I7yKfLO8ov0yfUV9w35o/tb/ib/Sv8CAHsC3QTCBpQIXwo+DPQNcg/QD9YODw57DmQPAhDyD0EQ0BG7EqITnxOgEzIVaRZrFGkGkviO9Czzkuz/4OThteb/6MXq+O9r9OTwBu8A9Pb6mfvM+ur/QQopE2gWpBeYFxQX0xKsDVsJrAN5+wn1wPbA+Xn2Z++57Srwke5+6g/pNOqX6QLrCvLw+fX8MP7YA/4JqAuTCagIlwhBB5wG/gaVBuQDIAK+AeUAN/1P+K70+fK28p/yWvPr9JH30/qH/jQB+AE1AkUDCQUNBpoGAQd8CO0K4gy/DcgNxg3lDe8NbQ72DdMN4A0tD28R6hGWEiEToxXbFqITPggF/D/3CvQ27UXje+JS5jHpEOyt8Bv1RfOn8mj2JPsu+wr6Wf4bByEP4BIpFa4WHBc9FHIPewq4A3z7/vS49Cb2ZPO77qfuQ/In8mzufOxA7ejs3uwF8SX3ifoS/AUCSAniC28KkQlOCqAIYgbZBFQDpgAF/4L/cv8L/Yj5Wfc29p/1kPT682D0avau+QP91f+VAVYDygRhBi4HzAY/BqcGHwgqCRQKMAvYDA4O3A6bD4cPgA8KD2EP+w+OEHAR8xKqFUEYzxdRD54Ccvvy93HwCOQ93nTh2eRV55Lr+fGa80nzs/bV++P8+vlN+5QCRwvbDwsSLBXPGHgZchUKEMQJbAFB+J/zWfON8PnqnOn07oXyOvDa7TnvpPAO71Tv5vIW9sL3+ft7BEoKIQv7CjoNSQ4EC6AGYQPHAMP9PvwU/FX7Kvnt93v4+/ie9+T0E/SU9cj3bPmK+57+xQGyBGcHYglxCUAIfwcgCF8IUgfGBksI8QpKDAgNNA4yD7EPAxASEHEQpw8YENURuBQ/F1oWahBABUP+cfpm81rn095j4EbjDeVi50ztkvFB85T3tfzf/mP8Bf3xAhcK2A3+DjkSohZjGUMXtRJKDS4Gwf3z9tbzje+E6aLmf+op78juc+2c7ybzHPPW8eryk/X19jf5f//jBdkIQAr1DeAQKQ+4ChQHDAT4/3D8Mfq2+C730Pb39/34xPiP9233evhl+Y75Lfp7/JT/mAI/BWwHBQkECmkKhgr3CaEIlwcKCF0J0QlfCgkMjw4CEC4RSRJVEnoSGxJfEzgUjhWMFJgPQwax/on7zfSb6hnhVuEw46jj+eRo6TvvufGK9tH7df9O/+j/9wTUCrYOEg9AEUwVpxg9F1kSIw7DCNAB+fk89f7wk+pB5sbnAewK7I7qF+1W8pf0bPOp83D2vPhr+tj+OAT+BlkINQyVEHYQgAy7CJ4GpQNB/wj7FPhd9q31QfZu9+L3Zvfv96v5Pftx+xj7DPx3/l8BNwOtBKoGtgjNCWkK6goGCkkIiAeCCOsIkQhSCYMLNg7XD00RiRLLEu0SXROmFD8VKRVlEjULrQFN/J74f/D55Zng8eIH5CzkU+bX6wPw2fIn+FD9jP91/3wCkgiRDWkPBhDnEnsWBhgSFW8QDAxqBj//bPga9M7uSOh95THo8OrA6cLpGu628oDzu/KV9Gr3Q/np+28AwgQmByAKXA7WEJYPWgzGCUYHgwN2/jn6vfd/9s71ovVe9jL36Pcq+cn6Xvuu+tL6q/wH/3MAegGNA5IGKQmBChALCwtWCoMJmAnMCRoJgggjCuwM6A6qD6wQSBLgEqITxRNfFHsUZhJjDaUD+/zA+MLyfun94c/iXeQu5Urm7Oq570XyufbD+5f/qv+WAYEG2QvJDkwPqRGPFOQWOBXQEJsMvQe9AV/6HvVh8J/qXOb25gzqH+qT6WHsrfGE883yj/S695X5Kfvb/2EEiwYnCZMNkRDHD5ANRAujCBAF+gBX/Hf4iPbQ9Wn1PPUS9ib3YPjm+W77rvvj+sr7P/4wALcAHgIuBRgIlwl8Ck8LWgulCiIKYgorClkJWQlQC6gNQw4EDyMRxhIIE4YTvxSMFUsU0xAlCn0ArPo89ozvSuaf4RnkROUP5hLo5e3b8ZT0YPkX/lAAOACWA6EIxQxdDnUPTxLLFC4WgxM+D/gKIwbs/8f40/O27mTpiuZS6KbqC+qS6vzu1PMX9NrzO/YD+aT6xvwiAV4E9gYlCgEO7A/qDtMMSgrpByEESP+I+s73cfZU9eb0NfXN9j/4cPmt+pf7uPub++/8v/6S/zoArQLjBQwIUwmSCrsL9Qu/C3oLJwuKCrYJLQrhCwsNvg32DnMRKhOhEx0UThUsFg0UEg8XBlP+nPky9A/s9uPm4sDk++Ui59Lquu9C8mD2Yvsu/2P/YQD5BPcJ1wxTDW0PbRIgFSMVCBI6DqgJrQQ3/lT42PLT7C7oOOdf6cbpYemq65nwW/Nb8330ova7+GL6lv3xAJYD6wbnClkODw8qDjIMOQqDB1wDRf4d+j/45Pba9S/18PVL9474Mvph+7L7Svv6+5v9s/4E/wAAnQLOBRMIJwluCqcLHgzkC6kLMQsBCjgJhArpC1cM0QwuD+8RlBJmE28U5RVxFdQShQ2HBEP9h/js8jPqOOMh4wnl+OUW5zfry+8P8533IPzO/vH+RgGoBYkJaAtYDOUO/xHSFG0UKhFyDc4JJgVZ/uL3C/Ji7Bfojuc76QTp1+ju61HxhPMe8z307/bv+Eb6Jf1EACYDpAbXCs4NYQ7NDZ0MBQsCCMsD6/4d+xH5WveZ9Zr0nPVI96z47fkJ+7j7CvwN/fn9Wf51/qH/QgIEBfsGCAjpCegL7gyWDPgLiAutClUK+wqbC8wL7wwnD9gRnBJDE2kU0xVvFpsSAw0ZBK/9I/k38g7q9uJ0447kzOVK54/rg/Cy8/z4HP3T/4j/sAEyBiAJjwr1CnkOuxH2E7gTIBFyDnYKEAZ+//v4nPLW7C7pB+ip6Nznr+hP7CTxNvMy8yn1nvfa+Sz7Y/2T/wAC3wXYCaMMFg2BDU8NhAzyCaoF0wCw/Ez6yvdo9QH0nvQZ9rL3dPnL+rP7gPy2/VT+fv6L/nT/zAE4BAYGeQftCTQMLA0ZDfAMegx5C/4KJAtpC6kLogymDpAQQhFBEpsTkBU5Fu4T4w4SBpT/DPup9BrrZeNk48Xke+U55sTqxe9j81T49fzG/zb/AQEtBXkINQk4CXEMJRAnEycTSRE3D3UMegghAqr7KPUR713qoOix6ILngucE63vw1/I088n13vh7+on7jv2P/zQB6QPJB5EKeAtYDPYMhQwzCqgGSQIY/gz7BfhL9YHz5fNm9Rv3z/jD+rP8CP5W/w0AbgBFALQAhQIzBCsFDQZTCHwKVwtFC54L6AssC3YKgwp4CvAJGwrgC9cN+w0hDyoRwRN8FEgSBw6QBuUAAPwZ9QLsb+W75fDmZ+fb6FjunfRa+Yb+iALWBN8EzAboCOoIdQe5BtAIfQpCCwcKKQjUBvcEUwH6+kP1s/Cz7AfpUefn59roieuF8IX2vvn0+6z/ZAPPBLwDQgNNA8wDEgQ3BDwEdwRSBZMF/ATRAi0Aff0s+9D43PWl8zTzt/SL9j34dvrJ/UUBjwPQBHIFwAWUBWAF4gQpBJsDvQPDBK0FAAYSBtsG8Qc/COQH8AeXCE4JDQr0CigMlQ1GDzcREhPwFOoUthEPC+oE2QDJ+Qzwwuf95R3mv+Qq5a7povCS9Rb7xAD4BJwGJgi3ClUL9QkiCLsIJQpMCgQJPwfiBvQFyQJc/U34WPSc76TqqedU52Hnvugr7UPz0Pfb+nH/fAQGB6sGaga9BhwG0gSjAxADWQI0AmYCUgJlAQsA0/4e/Qv7efg/9vP04PTB9c72lPih+5D/rwLSBMMGZwj+CGAImgedBkgFAQSJA54DagNGAwUEggV7BtkGngfsCNsJ6AmGCqwLrgx/DYoONRDvEcsTLRPpDwYKiQVCAVL5LfCM6TDoT+aw5Kbl4erh8Af2cfxaAn0GqQhlC3QN0wxxCmcIcAgcCNgGqARNAzQDSwKB/4P7R/gm9Q7x9uy46ubpZOmo6onubvMe9xP7sQCmBcgHNggaCUcJxQdWBU8DpQEbABT/a/7m/Wb9Sv0u/cf8tfs9+jH5tPin+Ib41/hj+gD9v/8CAkYEpQaQCDcJGQmECGwHxAUKBMwCxAHmAJ4AZQG1At0DKQUsBw8JcgpMC64Mmg3gDT8OnA6MDz4QrxAZD38KIwY7A07+UvZJ79bstesI6Y3ns+ot8ND0kPlF/7MEcQh3C8UNRg6uDFIKYAhUBqsDRAB0/VL80PsS+mL3AvYx9vv00/HV7w7wd/A+8GTxYvSc92j6+v1PAi8Figa2B9MIfwhcBuED7gEcALj9Zfvu+YX5bvll+aT5YPo/+8j7Mvy1/D79lf0g/hz/PwBNAYQCCQSUBXwGuwbtBgEHcQb5BIkDoQLEAYoA+f9zAHkBZwLaAy8GUQgCCpELcg2eDjMPTw/uDyEQGhBsD6cMRgiZBGwB0fsL9WrwVu+K7b7qS+rw7Wby+PXp+d/+3QOmB7QKvQxeDZAM8goJCaoGqgMTADL9t/tk+ub3jfVY9c71bfQN8q/x5vI586Pyg/P79S74y/kh/DP/nQFYAwcFlAYgB3IGgAWZBFEDJgGm/t/8+Pvs+oT5vfgf+bj56fk2+kD7q/zF/bb+EQCnAdACyAP4BBwGkwaIBpwGtgY2BikFUwTgA0EDPQK0AR4CwAIPA7UDBwWqBvIHFQlZCqYLbQzvDIINSg7hDjAOzgsHCdsGdQO8/iP6oPeB9WHyw++Z71nxAPOt9AT3fvoT/jABvAPWBWcH8gfPBy0HTQaLBFcCqQBy/839oPta+iL6lvkH+NP2yPb99nL2vfXh9Z72H/db9xD4Xfno+lr8qf0j/5AArQF7Ak4D5AO9AyYD4ALcAjAC6QDq/4j/Dv8S/jD97Pz6/OL81Pxf/Vn+PP8HABQBSAI8A+cDZQTiBBMFEQX7BOEEwwR5BEkEYgS8BPcENAWtBV8G3QbtBuUG6AbtBrEGiAaQBoEGBQYwBRgEqAJiAYgA5v/K/pT99Pz6/FX9Xf0k/d/8MP3r/VL+DP7k/VD+lv44/of9L/0B/db8lPxO/Az8Kvy9/Db9B/2W/JD8t/yY/DL84vuk+5z74PsI/Oz77vug/ID95/0N/mj+7f4i/wD/rv5B/sz9Z/0e/cT8cfxd/JD8z/z//CX9bP3X/Uj+ov7Y/hj/iP/7/1gAmADlAF0ByQEYAkQCfQKfApgCgwJvAmQCSgJGAm0CwQItA6YDGwScBAEFUAWuBQoGQQZhBp0Glwa1Ba8EdwQLBRsFRwSMA4oDygO8A0wDcgKCAf4A3ABPAHD/7P7Z/pX+8P1R/dj8dfwz/Az8oPsU+0T7BvxM/Nr7kvu0+8r7jvtJ+xL7ufqM+t769fqd+pj6TfsY/Gr8q/w5/dr9Uf6e/rX+hP5R/lf+VP4K/sX91f35/R/+S/6d/uv+R//m/3AAvADzAFsBzQEDAiICbwLsAlQDqAMWBJYE8gQZBS8FOQUtBQkF8ATqBPYEEQVXBZ0FzwXqBR4Gdga6BucGHwfNBnMFLQQLBLAEhASAAxwDZAOhA30DIgNTAicBbgBKAI7/Of58/XX9Lf0+/Ib7SfsU++D6xfp++h76Wfok+4D7Jvv0+jP7PvsH+/b65vqj+rn6RvuM+0D7Vvsj/ML8uvzC/C39lv3T/fv9Kv43/lH+k/6y/pv+a/58/rb+0P7K/tT+GP+e/zIAmADZABsBhwHfAfkB/QEmAoECtwLTAh8DkAPTA+MDAgQ0BEEEIgQkBEEELwQUBE0EvwTzBPQEJQWjBRAGPQZqBpUG3QVEBFYDvANHBI0DoQKZAukC/ALOAmACSQEsANf/x//D/oT9EP0e/aP81ft0+0v7MvtI+1r79vq7+lf7JfwC/Fz7N/tl+0H7/Prj+p36U/q0+nz7l/tB+6P7jvwL/fH84fwQ/TH9XP2d/af9kf3L/U/+nv58/m3+pf7S/tz+2v7r/hf/e//7/0sATwB2AAUBiwGYAYoB3wFiAq0C1AIVA1kDggO2A/gDFwQHBA4EUwSRBIMEfgTABCwFZAVUBYcF8QVKBnEGtgZVBtoElAPGA6wETgQhA9wCTAOEA1ED9wLoAWoAn/+y//D+cv2h/LL8fvy3+1T7PvsY+xn7dfto+wf7OPsm/H780PtS+1X7Ovvh+sP6hvoP+iT69PqF+1H7dftP/AP9F/34/O781fzU/Bf9TP0W/fr8d/04/on+jP7N/jn/k/+3/8H/1v8EAE4AogDaAOoAEwF5AcUByAHRASsCowLjAhADTgOPA7ED3QMPBBwEBQQMBGIEogS5BOIEUwW7BdQF8gVJBrIG/AYwB5cG+wSbA6gDdgQuBB8DqQLYAi4DNwPbAoMByv8P/zT/ef73/Cj8TPxR/ND7pvug+2r7gvsB/BL8cPtB+wT8f/zv+z379/rO+qT6n/py+tT5/Pm++oL7nfvi+4/8L/1+/ar9kv1X/S79f/26/YT9Tf2O/S3+of6x/sX+Df9j/5T/pP+w/8//FQB/AOQABgEjAZkBMAJvAnYCpQIFA1gDgQOWA6sDpAO0A+ID+APjA9kDGARhBJoEyAQPBWYFrQXxBUIGkwb3BjkHdQbnBPwDegQnBaME0QOMA8QD5QPwA3oDygHf/xf/+f7k/Ur8cvuG+4f7Wft++3j7WPup+1P8Z/zr++z7f/yn/Dj8wftL+9X6rfrz+sL6Lvo/+h37tPut+9L7P/yK/KT84vwF/cr8nPz9/Ib9s/2y/Q3+xv5a/4r/k/+n/8T/yf/D/8D/rf+4/w4AdwCxANUAMgG+AS4CdwK3AgoDYAOzA/ADAAT1A/oDJQREBD8EKARLBJsE6AQHBR8FPQVtBcIFFAZtBsYGnQZ5BSoE7gObBMYEIgSzA6IDxgP2AyAEUANXAbP/NP/E/nv9FPxq+zH73/rc+g/7+vrk+kj74Pvr+6D7wvst/Db86vuM+xn70PoI+137JvvY+if70/s4/F38jfyO/Fn8YPyj/JD8Lfwo/Kj8Pf2N/bz9Kv7F/kj/g/+i/73/vP+1/8r/9//8/+7/KgCiAAUBKwFiAckBLAJsApsC0gIJAzMDSwNwA4wDlQO7A/wDPwR1BKAE2wQgBUcFTgVNBWoFnwXRBQsGZAY7BhoF3APFA5cE1gRjBP8D0gPMA9UD4gPmAs0AH/+s/mH+U/02/J77R/sS+1D7nvtL+836APuN+5r7cPuM+7j7uvu9+8T7Zvvp+g/7nfuw+3r7q/sm/GP8i/zt/AH9jfwq/FT8hfxI/Br8Yfz9/Hr91P1A/sH+H/9t/5//t/+j/4L/lv/R//j///8gAIoABAFnAaMB0AEkAo4C0QIUA0MDYgN6A5MDvAPbA+QD9gMnBG0EtAT2BCcFTwVkBWcFiwWuBcIF5AUsBiQGKQXjA4wDPwS7BI0EWgQpBOUD1wMkBJ0DigFh/3r+PP5v/V38rvsw++P6Hfu8+9H7Ovvx+kH7l/uj+7b7ufuH+3r70/vl+4L7bPvk+0X8XPyo/BD9Bf3f/Df9hv0f/VP8DPw1/Ef8NvxZ/M38Qf2z/UD+xP4R/yb/Pv92/5z/ef9X/4b/5P8uAFQAjQDxAF4BqAHQAfwBJgJJAo0C4QIgAzQDVQOUA9QD7wP7AxcEWgSsBAkFZwWfBbAFvwXGBekFEgYSBiMGSwblBbUEnAOQAzMEYwQuBAQE1gOKA5QD6gMpAwgBIf96/h7+N/1G/LX7Hfuy+gb7qvup+/76u/oY+1n7Zvt7+1v7/vr1+lv7c/sl+z37zvtB/Iz8If2w/bD9if3G/f79gP2Z/AL87/sQ/D38ffze/ED9nP0n/sn+Gv/v/p7+s/78/jX/QP9h/7b/MwCnAAMBYgGtAc0B7AEmAmMCgwKTAsECCwM3A0ADYAOfA70DyQPcAw8EVASWBOUEOwWCBaQFrAW2BeUFCgYkBj8GCAYFBd8DhAPfAw0EzgOpA34DGgP2AjYD2AInATb/O/7O/RP9O/yr+wr7Yfp2+jj7pPtD+/f6RPu0++j7Cfzx+3r7RPtj+3r7UPs3+3z7wPsI/K/8eP2y/YL9wP0V/qT9k/ym+0D74fp9+ov6Bftk+5L7BvwH/fT9Uv5v/sT+ZP/o/yIAPgB/AO8AbgEfAtMCKgNOA1QDfwOsA8oDuwOVA6EDuwPHA9ED6gMCBCcEXASjBOkEUAXlBbgGhwctCNgIlAlACg4LpQuKC2QKfggzBqoDAwHM/k79TPwv+//5n/lR+jv7Hvts+kP6k/po+sT5u/kq+uj5G/lX+f/6qfxJ/b/9Lf8DARICTAJzApYCFwLMAGD/iv4U/kD9GfyK+wP8nPxi/LD7nfvX+1L7Bvoo+Rv55/h8+Hv4r/kz+0r8Nv15/g0ATwHlAf0BWQL/AiIDtQKBAq8C1AKOAhMC0gGeATgBXQCf/1f/ff9o/1T/7P/kANcBdAIjAyIEKgUdBgoHMAi0CRwLcQy/DSsPmRCZEQgSwxLwE3YTYw7LBtAA9Ptr9KjqfOTH49LjoOOc6Mjzwf0KA7wI+xHSGOcXzxJgDwEMlwQL+670x/IH8uzwnfGf9ZT6yvxO/Gv8pf2h/Er46fTz9Zb4+vmF/FUCwQdyCXsJ9gkWCOkBQvpw9C7wZ+yr6rDscPF59o/76QH5B8wKOArFCBQHnAO5/gP7nfk0+Tf5vfoK/jUB2wLeAyYFmwVRBHYCZgHxAGQAFAC1AMQBSAJdAr4CYwPWAwsE8ATsBhcJCQtNDZ0PIhG9EcMRehHjEP8PKBAeESYPGAZO+dfwOOyW5DbcUtxJ5BfrI/Gz/l8RARwPHZUeOiISHnkQKAOT+pXxROeL4vjk/egP7fTzb/wbApIEMQaZBiQENQEEAMD/Ff/g/lAAdwIqA98Agvwi+G70JfBw7FzsAvCg9J35mwAiCMgMPw0VC+QHPgPk/Kv22PKG8frxfPR++XH/fgQ5CJwKJwuLCUoGPgJQ/uP6u/hj+Ff5KvvV/eMAnQOfBesGogfcB9cH8QdfCCkJLgo2C1QMfQ04DqsO5g67DukOWRCcEWMOWwMk9nPua+lw4SjcKuEi67fxJfkKCYgZQh4sG38ayxmmEPYC9vna9NHtWuhD6qvv0PKq9er6zv58/rn9O/+P/3v9V/29ANADYwTSBDAGwQVOAQ/7jPWP8AXsCuoc7P3wFPfa/cIEIgrEDGUMRwnnA2H9evd185Dxr/ER9HX4wP3LAu4GfQkVCrMI2AVxAk3/rfzN+hH6rvpQ/EL+WABHArgDpAQuBZAF6gVwBjgHTgibCfQKcQyADeUNMw4nDpYNQA16DXAO1hD8EiEP6AKD9lHw7ulF4C3di+Rx7AjwDPmFC4cZ3hoxGRMbUBjcDBACQf3W91fvv+te77DycvOm9j/7d/vZ+Fr5Gfzm+8P6i/0AAgAENgWvB5cIogWJABX75PQh71/soeyV7sPyk/mmANAF/gijCgIK7gWn/yj6l/Yi9BrzrPSm+FD9gwFNBWcItAm3CDAGKQNEAJn9hPuw+ij7Uvzf/dr/2AFbAysEkgQDBX4FIwZDB8kIFgpJC+MM2Q0CDiQOEw6JDSkN+wyMDaUPZRNAFdwN1v8l9uvv8eTi29vecufE6q7twfzoD/sWRhZ4GZUbLhM5B44CwAAf+dTxuvLW9eP0IfU7+dP54fS58bPz9fT585f29PyNARUErAdTC9oLXQhCAkL7BfVz8Lvtye1f8cr2APzDAP8EDAhRCCIFMwCz+xb4KfU49BP2w/l9/RcB0ATNB+EICgj0BTsDNgBZ/bf7evsH/Cr9hf4GAKwB3AJbA30DmAO4AxwELwX9BtsIfwoODB4NaA18DWANkQybC0ULfwv5C74NlRG8FkMVuAkC/lX3f+2e4JXdN+RP6Krnje/OAboMuA0pERgXmRP+CAUENgXtAUH74Prt/Zn8Rvp1/D79Yvfv8PPuvO2x6rXrK/IS+E/7vv/QBboJQwkbBroCTv5V+NPzMvM79W73+PmU/SwBJQO7AwUD3gCf/Sj6m/fJ9tD3J/oL/bX/LQJlBKEFxgUzBRwEngIjATEANADhAH8B1wEyApkCqgJSAkUCtAJaAyIEeAU+B/0INwolCwEMJwyjC+kK6Qn4CKQI6QjCCY4LCw67EQ8UqA8tB1oAnPnf75DpLOpm7C3sSO1l9Zz9VgCKAq8GggdeA/P/NgDvAN3/agDhAuADcwN9AxoDMACJ+7r2SvJC7i/sE+2a71LygPW++Sb+JgEsAgoCegAI/Wj5qffm9yj5Dfub/YUA2QIwBMMEVwSXAvb/T/2H+wT7kvvK/G/+VgAgAn4DdQQeBUoF0wQABHEDaQOeA/sDigQmBYQFfgVpBTkF3ASmBCMEhgOFA+QDRwSlBCsFuwWiBYEFnAVpBQkF6gRMBakFDgbZBgsH6QUdBBwCo//R/C/7b/rS+ZX5CPr0+pL7BvyY/AD9xPxi/Cj8Hfxj/M38b/0m/rz+OP90/1j/yP7F/az8f/tr+vX5Kfpv+hz7KvxF/Sv+y/4s/wn/i/7F/Tv96vwt/an9lP7C/xcBGwK0AlUDHQNrAsQByABDAJ//Kv+S/xIAagDpAJ8BVAKHAlUCNwLgAVcBDQEAAbcA8gAwAY0BNwIbAk4CYAKNAZUBAwFpAJMADgAUAHMAlAA1AX4BhgGjAU8BFAHRAIQAaQDT/97/8v/i/ykAQgB4AIAANQAwAPL/lf+A/xz/Nv9l/1v/GgBuALkAHQHSANEAewACAMD/KP/m/rf+bP7Y/iD/V//F/+X/GQAfAO//7P+6/4j/b/8h/yn/Mf9J/4P/t//k/wQAQAAoAEYAcgB4AGkANwBnAFkA9f/V/8//zv+p/4n/lv+r/4r/jf+j/3D/lv96/3f/tf+X/8X/BwABADkAFwAhADMAuv+7/47/Lv8g/+r+Ef8U/1v/tv/Q/zgAhQBvAEcAJwD2//T/h/+A/53/jf+x//P/NgBbADgAIQAjAOb/vf+G/5b/tf+h/8//MQCFALsA8AD6AAMBtQCPAEEA0P+m/2T/Uf9K/6D/9P9LAL4A7gAWARkB7ADBAFwAMwDD/0//jf9o/6H/8P80AJ8AwQARAQkB5wD9AN4AlQBGAD4AIQDv/8b/6v8LAOn/IQD8/wcAEwD1/6//j/9//2z/jf+H/9X/JgApAFQAcgBYAE0AAADI/4n/j/9N/yb/Uv9u/3r/vf/s/0IAVwBkAEoAMwAqANn/l/9U/4z/Mf9w/6z/AgBBADgAQQBPABcA4v8GANX/3f/U/+j/JAA8AK0AqwCqALYAgAChADYA5/8PANn/Uf+x/93/FgAlAKcA5wC6ABEB4wDxAHQAKQD4/3r/Ov8j/4j/XP/W/w4AfwC0ABIBAgHDAN8AaQBIAAgASQD7/wYADAA+AB0Apv/f/y7/H//P/uD+w/4D/0T/pv/r/ycAnQBWAF4AIgBjAO7/0f/k/9f/wf/N/9X/sf+6/9X/y/+3/xgAEQDm/7L/jP+F//f+Ov8P/1T/oP6R/Yz/Q/+X//oAbgF+AUkBewE5Adf/5v/b/zD/DwCsAG0BkAGqAcIBKAFoACAAtf9m/0v/ef+o//z/mgDaABkBDgEwAb0AdwB5AGgAfQCQAM8AYgBqACwANADP/67/uP95/7P/gP9pAPX/bACnAIkAtAARABkAwP/D/9//7/8OACUAxP+0/yb/3f6H/jr+Pf7J/ij/2/9sAJAAuQA8ABcApf8+/xT/HP9F/3//HQBkAJ4AkQBEAC4Axf+q/07/hP+a/7T/CgAlAF8AHQDu/77/lP+A/5D/uf/h/3kAjwCOALAAaQAdAAQAsP/X/9f/LABiAIIAoABfAC4ApP+a/z////7O/iP/Bv9M/67/r//6//z/IAAOADcALwAMAO7/5P/D/8n/kf+j/5D/iv98/5r/jP+A/8T/p//k/9//IQD5/+n/OgD3/x4AFgD8/+D/0P+L/4z/cv9W/1//N/+M/9T/zP8MAOH/CADU/8b/z//D/9f/5P8wABYAhABWAFsAgQAoAFEAUgCOAFMAagBIABAAyf+w/9f/xP8QABQAQABsAGUAfwCKAGkAVABEAF4ARACFAF4AfwC1AMUAjgCWAIAACwAeAMX/xf/Z/wYAAQA7ADYAqv/n/1v/VP+h/4b/uf8wAIMAeAD1AF8AZAAiAKn/if9t/1P/MP98/2r/q//g/wQAAQAAABsA5v/i/wAA+//f/wMAGQAGAOD//f8dAD4AbAAwAFUAIgC//9H/of+W/7f//v8JAIIAbgBPADUA/v/L/4L/5//d/08AhwDbAPwAJQEMAeYAiwASANv/Y/92/6n/8/89ALgAyADNAKYAVgAkAPn/zv+9//j/DgAlAEkAbwCeAG4AZwBYAF4ASAAmABgA/P/w/7j/zP+//6n/fP9i/1X/Uv+H/5P/vv/h/wIAJgBPAEkALwAcAPz/2/+X/6D/nP+W/5n/rP/F/6f/6v/Q/wQA7f8ZABgAFAAoAPv/HADV//j/0f/r/+b/7//7/+T/EwD0/y4ALQA0AF4AIAAnAP7/3v+j/73/ov93/8X/wv8DABoAeAB9AI8AhQBtAIAAOgA6AP///v/Y/7X/uf/L/wkABAA9AEQAawBFAAQA6P+p/4v/k//S/+b/QgBeAGoAZABWACsA/v///+X/AgABAAoAFAAEAN7/qf+B/0j/VP9X/3z/rv/g/xEAPgBtAGwAawAgAAwA8//A/7j/ov+b/47/fv+X/7H/yP+8//3/BgD4/ysAFgAsABIAAgAWAPz/CAAYAAcA5v8VAAUA9P8oABEAIAAQAPr/2v/W/6//lf+g/7P/2v/s/z0AQQBiAJkAdABrAHAAbAAMAB8AJwD4/wQA8f8RAOH//v/1/+T/4P/c//D/5v8XAP3/7v8CAPr/DwD9/y0ASQAmAEgATABbABwAXABIABcALAALACAA//8cAPz/4//B/3T/mv92/6H/mv+n/+//CgBiAJcA8wDuAKQAlQBbABsA4v8OAAEA1f8aAE8AFAAhAPX/zP+U/9H/AgDz/1IALQBYAC4ANQAJAP7/DQALAEcAJAAzAFcARgAVAPL/s/+H/2P/nf+A/7v/DAAMAFkAMgCBAAkAIQBMADYAPgA5AKEANgBrADcAIQABAMn/9v+6/zMA//8fAEoAEQANAAgADgDl/+j/+P8BAEUANgBEADwAMwAWABEATQDt/zcAQAAfACwAGQAwAPn/+v+t/5D/cv87/3j/Sf9p/wMA6v9qAI8AlgB7AGYASQAnAH0AHwBeAIkARAAoAC0ATADp/wAAJgAOADkAGQB1ANf/If9b/i3+1P2D/dr+LgA7ASYCjQIdAREAZf51/aH7zPs4/bX+dACXAUMCcgGOAEj/mf7y/ab+Xv9dAHABiAG8ANn/k/4i/bz8vvyI/Z/+agBBAuQCAAMhAkMB5f/f/vb+df9mAHUBgALbArACFQKlAO//c//i/lL/xf/LABkBSQGLAe0AxQBKACcAz/8OAHIAcwCvAPgA3gBtAHUAJQAWADQAMQA/AJUAawAxAG8A9//d/6X/r/8r/zj/t/88/3j/yv+r/3P/sP/4/5D/uP8nAEMAQQBOAKQAagDz/+j/iP86/x3/df9y/6b/OAA3ANn/AgDH/3L/fv97/3z/tv/y/wQAMQBbAGEAQwAkADMAOgCy/wEA5f/H/7D/7f+8/6X/CACs/83/EAAZAOj/+v/r/8n/gP/I/8X/0v8JAGcAIQAzAHAAHwDV/zYAGADv/ywANQD+/7H/uf/N/6//jP/7/5L/j/99/5//of+s//f/BgBcAEcAhwBjAAcAo/+A/wH/2/4I/17/uP/0/zMALwAEANn/lv+1/4z/gv/M/8r/i//y/+n/pf8iAE4AdgA7AEwAif8l///+iP7//nP/7/8eAGkAbABBABwAj//L/7X/i//F/7L/5/84/zv/9f7s/gv/xv6C//v/LQBFAMEAzwC/AB8BYQBTAIsANgApAF4AUgAFAD8ACQD2/7H/QAAuAEEA8AAzASkB8ADoAHIAQwAwAEwA3wBhAXEBsQGuAd4AfgATAMr/6/9pAJoAzwAXAaYAbABlAOH/+/8xAIIAdgCyAMMAYwBQAJz/6f8PAN7/OACEAK4AhwCFABIAfv+A/3z/pP8NACkAIAB3AIoAAgC9/6L/S/+N/2f/CACOAOIA7wDjAJ8ABQDn/73/pP92/3AAlAD6/ygAgQDZ/zP/Yv9J/2L/1P9BAD8AYABmACAAKwD2/+X//P8SAL//Mv8i/0j/QP83/1v/o/9Z/zv/rv+m/4D/6/9DAKf/DwBfAGQARQBxACkA2f9iAEYAWQCxAC4BCQEKAYcAUwBZAOH/CACKAPgAhwAaAZQA1/+u/wsAKwBuAFcBZwHTAYcBHgF/AKP/Gf80/6b/LgAqAboBlQEZATwBKADp/lL/A//I/ij/BwDQ/4MA3gANAML/hf+g/xf/sP/H/+v/CwBU/3//9v5e/pr+QP9A/xz/GwDg/1T/UP/P/mD+fP6i/s3+5v5N/6j/HQDv/xwAPACR/7L+PP5N/gj+Gf+C/wUANwBpAN3/iv9w/1f+2v4x/w7/bP8vAAsA5//I/8H/AP9h/+/+QP+Q/8L/tv/J/93/bP8X/4n+zf5v/g//df+Q/0MAGgB3/xD/jv5g/sf+SP+n/30AjgAkAF8AlACx/qD++v5h/wUAiABtAPT/2v9C/4r/HP+5/7r/BwDBAOgA8QATATwBSgCkAL4AUwBqAKEAtAD1/5EAJgAqAOcApQDwAMEAWwCi/7kA6v/U//AA+gBqAbYBawJ+AkICMgFtAaAAIgCJAMsADQGVAcUBZQHeATQBrwAyAfwADAEgAk4CIAIzA1UCnAFiAQMByAAvAeUCVgOSBFQEwQOLAkEBhQCn//v/ev/9ABECpgKHAgoCzwJ/AZwAIAEEAY8ALAGdAccAIQHVAKv/fwAqAVYAZADWALX/sP9X/4z+0P5h/r/9vv5O/lD/Ov8F/3P/hf8l/qD8d/7K/Bz9I/+r/3f/uAEzAX/+Lv8i/wr+FP7N/0IAnwCyAToCeQJCAW4AiwCU/gX+0/4RAIwAKgLjA/MCiQKFAeX/5f46/nn+v//rAOwBPgJtAR8BUwBf/8P+zv/W/37/HQIxAjgBxwCxAX8Buv+Z/0UAVAC6/un/lQCW/7IAqAE2AOL//P9U/2v+Sf6r/mr/hv8b/ysA1v81/77/sf5b/d3+//2V/gX/9P4y/5L/twCN/yL/mP7O/gn/7/2w/r3/VP4H//P+OP1M/Bn9CP6Y/HX9sP1K/Y78m/xj/Xv89/xH/Uj8UPwD+zj8tPz6/KH9Ev6P/q78c/wB/Vn7WPtX/Yv9MP7d/jsAVf6H/u79PfzZ/En9N/6e/nL/8wA+Ap0A8/9NAOz9yvuM/AP9SPvk/gEBmf+7AMEA9f5Y/nb+X/4D/rP+CgA/AXT//P4uASf+EP7K/j/+l/4p/mb/9f8YACj9Rv5P/0b9of44APX/UABJAaP/ev2A/Z/+yf0B/iQBvQFEAooCiwE9AXcA3v0X//7+wv8uAK4BpwGYAXUCWwAHAtn/gP7i/hz/v/+K/2cCfQGPAPQAfQB//or/+AC6/wYAkwD7ABAAs/88/6D+aP/j/4/+5f///1sAyf6v/X7/e/4H/mv/6P/g/vb9vv5N/b/8bv2p/Qb/o/5vAScBPf8y/wH/Iv/C/Dn9VP4W/iL/Ef+J/xQA4/3c/03/Uf2T/RP9cP4p/QD/W/8p/l//4/83/xEAjgD7/jb/xQCS/xP/IwC9/7/+bv6//rX+r/71/kMASgBHAIIAiwAXAA4BqgBSALcAVgAlAD8BiAHLAYkDkAL0AhsD4gFdApgCGwJoAbcCxALsAucD7gMRBG8ErATVA8ADDAQBBEME0QS1A/AEXAQABK4DigPZAwwDIwWjBGAESQVQBLACwgLPAlIBEwE8A9gDFwRQBSgGLwQGA1MDtgEmAp8BhQGxAlcDUgMLA5MCBQJ7AgECUAFsA10C1wDmAUIBtwAzAMEB6gDFAJkCOwLJAqYAnwCY/5j9Cf/D/4f/e//OADYAmgFWAWL98v3+/mb+Fv5L/nz/Uf9p/sn/0v+S/pX9kv7R/l/+CgD6/YX+bf7m/lT+AP6H/9j9sv0K/0L/Vf+P/yf/RQBBAI4AQwFeAD8AdwBs/0L/JADD/+EA7wFeAkUCpwFlAbr/hgAvAWIBSAFgAiAD8QJcAq4BgQJnARwBwQCyAOgA3gCwAYwBdQJtASIB4wCqASsAjf9tARIA0/9+/xf/j/+T/sb/UgB5AF0APQHfANL+Bf/V/l78rP2B/5D+yf5O/+//hv+2/6v/TgAzAdD/nP7g/k7+Ov3s/Rf+Uf6W/ib/mv/hAG8A8v9RAIr+XP97/nL+9P49/5z/8P66AHcALwEJAaH/8QBYAFL/Y/+f/if/qf8VALL/DgCxAAwAGwHa/1f/PQCs/0P/rP8WANj/pQDo/+H/uwB2AIkBYQH3AXUCowGAAT0BugDpAMcBHALfAm8DogIIAoACZQI9Ao4CDgOYAyUDzgPCAvIBTQKRAkECjAJ0BPsDGgOtAuwBqQHwAZcBcQHqAisDWQMyA5wChwFgAW8BqwE4AREAGwE5AXv/ZP/2/9wAcAGUAHQAewGMAAP+xv12/7b/s/6B/7sAvwDO//T+r/5Y/Wz8vfxf/oL/Ov+U/2T/3/8e/zH92/ym/Jr8SPyE/DH+9/0T/iX+qv3b/Wr8Yfyk/Fj9wP2q/Tn9X/1a/ZD8J/3J/ZL95/xg/dP7Yfs8/Xv8p/to/Kr8t/wp/Jz96/ya/Lr9J/2R/j3+Vf4T/2H9iv2b/XX9bvwp+0P9H/2+/OL95v7O////mP57/sz9a/1k/c/9Iv8A/q39NP/q/10ARf/t/bn+lP98/+b+jv6y/6r+LP2B/oT+rP+sADkADwJXAWwAfgD0//f/Jv+JAJQB8AG8AdMAFgKGAXAA+v8r/yAASgFTAx4DJQPSAaQA7P+h/98Anf9kAG0AHwLjAiYBPwLnAYUCNgJuAacCowHQAKMAMgCJAYgAAAAfAWsCkQIDAecAQAHmAOoArv/KAEABAwHpAfwBiwJNAVEBpAFCASsBfwADAugBbgAmAXsBHwFnANAAgAKxAh8CkwJ0A3QCWgEXAZQBsAAlAFcC5AS9BPQC4QK8AnkBbgD2AGQC1QHlALABzQKCAm4BbgHqAU4CCQNIA0gDwgHE/0gBXAKjAIYAkQFCAt4CFQMJA6sBif9//6cAegHvAFsA0QD6APn/Ev+yAG4BXQCEAFoC5gJ3ArUAvf4X/xX+4PzK/hwAFP8F/g7/2QBlArsAmf50/x//Vf+j/lX+tP5F/I393//pAJwBqv5+/1r/Wv7i/pP+VP41/V394P4DAMb/hf6x/yj/pf6N/v39nP1F/bb+P/6H/tr9Tv0I/Sn9Uf7G/tz/uv7p/ar+d/7T/YX81/xa/GD8Ef4w/aj9s/0R/Zz9FP46/uT9yf3e/BL+wv3i+2/6mPoH/I/9Yf9OAHgBaQBO/R39Sf2a/FT7Q/uu+6T93f/E/93/Jv+n/ej8bvwz/kj+0v31/WT+If9v/mL+Ff/6/tj/3/9c/3v/wv1D/Fv8f/xU/Wn+igCwAcwBbQBV/6r/i//R/pb9Wf4M/z/+EP7e/cL+VABmAIQBIAKBAZwAb//Y/7H+3v4WAZH/AwChAMAA0QAfAC0B+wB2AT4BZwA1Aln/c/54/z8AIgKvARgCPQISAbkBpwH1AG0AaP9G/zABpwFZALb/TADQAX8CMQM1AoQAgACKALIADwBR/0X/3v67AOwBTgJKAu0AiAAAAi8DzgFFAJL+TP0+AAEBCQBeANb++/+SAY8A0gBqACj/n/54/14ASwHcAD//Mv9FAIX/MgAMAVwA9gCcATMCYAJkAIP+Iv4W/5//6P67/rP/dAHkAikDwgEgACv+Vv1n//sA0wBi/27/vADQAMAAAQBz/2//xf/CARICXgBZ/kr+Xf/D/rr/sQBgAAkAxv/cAKQAt/6P/q7/IgFRASMASP8a/tT95v0N/nX/fP/F/+EA/QADAq4BBgD0/aP8o/2//Hb9r//IANEBKwEWAcsB9wCg/xT+L/4u/lz++v1l/jAAgAAHAOD/iQHqAJ//Xv+B/9L/9P9mAEIAtQDa/+7+nP9d/q3+ev5d/r7+s/7FACIBGwDI//j/agC5/27+PP7y/3QAAQABAOX/iv9V/+D/YgAwATkAV//R/zQBpwEHAKX/Bf/T//IAxgF0A4IBaQBzAHEBKgMSAgsBMgBzAIsArQBAAqIBSQFzAYIBVQOoA2YCzQF/AHv/xP9UAJUAJQF+AdYBZwI4A1sDLgLoAMgAZgEPAqcBSwC8/3AA7gAIAbYBNQI6Ar4CPwIYAtQB5wCCAUkBCQERAmABPwFNAaIAWQCXAZICCQISAhsB0QB8AQYBgAH1AFEAZADa/xwAvAAfAaABMwHoAJwBlgFSAWIANf+c/3MAFQB//43/8P+/AFABgQDzAKEAg/8qAOcAKAEfAJj+ef4c/2b/ef+9/87/IP/Q/rT/fQCaADgAqQDAAJP/m/+r/xD/gv66/df9kf96/0j/AABrAJQAAABX/xP/h/5g/j/+gf6R/hv+Zf4a/7v/dgCx/6/+OP7x/d/+SP91/vb9if4F/8j+KP8i///+Hv/8/in/m/4t/kn+cv6y/ycA3v4//uv+hv+t/+L+xf5e/lH+XP7Z/mD/D/4B/hj/rP8AAI7+Vv7z/nf+L/+H/1j/Mf+Z/sr+SP8p/3L++v1g/rT+SP99/zsARwDY/jr/dv8e/yT/qP7Z/q7+A/4n/vD/2wDo/4n/ZP/2/gT/Hf9+/53/Cv8L/5D/uf9CAH4A9v+e/8//iv/3/w8AtP/m/7H/JAB7AHoA8wCJAD8Adv+0/lb/IgDaANcAVwD9/+H/zwCzAIkA1QA+ACoAo/+1/pT/SQAfAF0AfQCWACkBQwHtAO4AzgA8AA0AYwCtAGkAq//C/ywAUwBwAJcAHAFgAWcBKQF1AEcA+P/g/wwAvQBeAQcBIgGQAW0BIQGHAKgAjQHXAboBqgG7AZ0BQwFLAQQBGgEEAYgA+QAUAbwAoQCwANQA4wBiAa4BhAEuAeUA0QCYAG4AWQAXAPb/9v8aADQABQDh//f/JgA2ALX/u/+j/yD/fP8w/73+w/5c/lb+g/5q/pz+n/6B/pj+xP7d/hb/q/50/gD/Xf+r/8T/Kf8k/5X/ZgAMAVEBRAEPARUBuQFYAiECwwGkAUwBhwFKArYC0QLmAtwCGgOlAyIEoQQZBFoDhgNnA0MDWgPYAoQCXQLjAfAB+wGtAVsBLQBG/2b+uPzW+pX5o/jg9633A/jF+Jf5LPom+zT82vwK/fH86Pz1/Hz87Pte+7z6Tvpn+gn77/u4/HD9RP4y//3/ywAZAVYBswGpAXgBlwH7AWwCNANgBCsFHgbaBogHcggrCeAJ0ApeDK0NwQ5yEPoRKhM9EGMJhQJH+2rzHez+54Xms+bW6ZrwHvrmAq0Jww6UESQSqQ9zCuIDUfwn9Jztcupt6azpduxA8SD2rfri/nECYgT8A1wCcQAW/o76Pvcz9Yj0oPRA9WT3Bvuw/j0CqQWuCJMKxgqtCfwHTQX0AeD+FP27/J790v+bA30IBg0cEWMVFRmdG0cdNB/SHy8ZngzU/0z1Q+oH39DY8Nc+2svftupR+vQI7hMFG8QfEiJfH5QXVA3RAqv4W/Bl66fpKuo87LDvEvQr+Fv6YfsX+0/6DPpu+mL7Kvx0/ND8Wv1V/fz7Kfqs+ID4d/lP+xP+1wDGAgwE1AQJBT0EVwIpAM3+Lv5f/tz/nQJrBg4KiQ0mETUUYBagF08ZkBsjH2Ug6xgfDMT/R/Ta5S3Yl9EH0BbR7tdw56b7tA2nG/AlZC3WLyYrMiA5EhgDNPTq55rgM97N3v7hjOhG8ar5YwA8BW4HYQc7BV8Cjf8E/ID4F/by9IL0lfP38rrz2/WO+AX8RwBpBGIHuAjKCMgHlQSq/4D6UvYJ9DL0y/ad+5EBogfQDbATuRe2GQYatBhXFkMUxBMCFlQaDhidDKgAtfg67vLe9NMg0bnQ0dK43XbyuweQF6kjvS6bNho2QSyzHbMNhPyF633eMNjU1tHXHt3B5+PzuP1YBdgKLA3FC88IlQU5AfT71Pf29V71C/QT8gPy6PO89Un4tfwPAgwGMQgbCtwLAAt9BtgA8vvM9270O/Ow9Xr6yP/tBbcN0BW5G5EeuB+QIJAfER7iHhAhVBm7Bsf3PPDq5EPTC8qczOLOH9LR4Pj59A5mG2om5jLjOq43lStoHRAPKP5A7Hjf5tkJ1x7V1tgT453uF/cW/k4EvgjxCtkKcAlSB/kDYQDH/V37q/ft803x9u9Q8L7yDPch/JUAGQUGCqYNxg2rCl0GgQH2+yf3BvXU9Tf42PuvARQKzxJpGSMeRCLaJMUlhCVFJ84kNxOW/QHyI+mz1uzGQMePy2bMvNXX7YYGcxTzHiUstjdeOb4wZSTFGNUKovlj6r7icd+T2h7Y2t3a53fuT/JV99n8dAGfA/YErAeSCaoIYAfXBm8E5P55+D7zIPDO7i3v3PEe9vv6/gBeB/MLJA1ADAwKSAbaAXr+3vxQ/JH8/f6VBLsLshH4FuscNiJ3JnwpVC3nJ78TVwC19eTn3tExxW7G28aqyNHXL/IvB+cT8CD8L2w50TcDLpwi+xbOB5X28+lD5Y3h7Nvn2wLkf+yD74LxcfWu+fD7//v9/QUDUgbrBrEIIQv5CXsEvv3D+Ej1b/GK7jLvVvKL9vH7KAJnB0UKCAthCqIIQQbYA88BdQBfAGwCiAZuC1QQ0RWAGyQhDyaJK9YtryASDMj+2/Mb3/vKM8YBxqPD0srX4MX4MAiUFRom3zSjOXw0xSoOISwU5ALI8nzqVOY739fa5t/y6EvtRO5r8az1Ofis96r3zfu8AKECVgWNCr4NfQsBBgEBg/0B+Rrzhu/h76XxjPRV+Xj/ngR6B9oI6Qk6CgcJyAb8BEIEBAXJBm8JNg3yEfcWhxx8Ijsp5S3ZJJ4SgAWj+27obNKYyefGEsIQxdHWRu0G/egKuRypLs43/TaqMHcpox5TDiz9lfIN7FHiytpS3Qzl4+i46WfthvI09ZP0bPQd+Ij8Ov5vAW4IFg4TDrAKxQeLBdoAiPkN9C3y1vBk8A7zXfhl/cAAagPyBvkJpgqsCQYJ9AhCCcQJKwuDDdQQVhT0GAIfTSY2KzkjYBQqCpoAtu322IjPN8mRwf7CCtId5M/xfQCyE68m9DEdNUAzqi/9Jm0Y5whd/jf1ZOg239bf6ONb5JXkEelv7hHwTu948I700/cS+a39KAZrDGsNBw2NDaQMoAdfAA77mvdT8wXwq/AS9B73gfkl/ZEC7QbJCN0JiAukDNkM1wzBDYwPohGWE5wXqx3OJDInhx+tFYwOBgTD8fPgotetzbPESMUg0N7bn+YG9TQIIRotJrQsazB4MQ0sFSG3FeUMzgHQ87Pqwuhb583j7OJv5lnpyuhe6JTq8u2m76bx0vdBACAGJwn6DNYQixFDDgUKTgalATX7dPbl9F30pvMZ9CT3qvtf/z8CrgVTCbQL5wwVDtUPAhHlEToTixazGmQf/x/JGkcVDBAHB9v4wexr5MTagdOW0nrX8tyA5AHwx/7cC+IVER1yIxMnXiU5HwkYDREdByP8z/Q+8BPrPuZw5a7nAumx6JfpUOxZ7xHx2PPS+CL+oQGrBL0ICgx/DOUKNglRB58DuP4L+9L4t/b39Mj0lfYV+Zf7if5wAkoGPgmTC+QNQhC3EZUS4xN9FmEZgxzeHLEYDxS4D3wINP3T8vPqVeLB29LZDtwZ36jkx+2D+X8E0Q1nFVocSyEoIm8fFRvxFQ8ORAVl/pb4DfI57Jzpaum66F7neefG6D/qReuU7XDxoPU4+UT9eAIUB8wJVgt+DHoMhgo9B0gETgG2/ST6yvfV9qj2K/e0+Gn7x/4KAk8FsgjfC3QOmBDTEqsVaBgsG9obbhlcFhkTvw1mBSn9YfYC79LoFeXR423jPeXO6abwnfdo/uMErQuiEToVkxaYFpYVUxLeDZEJBwWB/3H6Ivcv9d3y/O8F7sDssOuB6hzqkOqc6zftr+9486v3qfub/8MDLQdoCXEK5QpUCqcISAbJA1QBGP9b/Uf8+fuG/J39+P7sADwDhAXDBxwKtAxmDzcSNxV8Fr4VfxTGEl8PEQoSBUcACvts9t/yePDq7gfvcfDa8pf18fiU/OwA4gTFB4kJwAoqC2wKVQnyB80FJgM6Adr/e/7C/Mv65PjK9rP0fvJa8CvuZ+yi69zr9eyz7kjxx/Sk+EL8rf/FAhMFXwYUBz8HzAbhBaEEdQOYAg4CzQHaATgCtgI3A8cDmQSfBZ4G7AfXCWUMoQ55D64Pjw+qDlUMcQkIBzAE6ADZ/W77o/mY+D/4SvjH+Or5fPtR/Vz/GgEsAqMCJANUA/IC6wHXAPf/Sf+l/gv+g/2a/HD7C/qc+O/2+/QT85zx+vCs8JXwI/G08sn05/Ye+ZT7yP1n/4QAVQHUAbABPwH1APIANQG5AWcCTAMnBKwEEgVsBY0FVAU2BXYFPAZ0ByUJ9wpFDF0N0Q1vDT8M0QpeCXoHewU6AxIBbP+8/iz+U/2t/NP8NP2u/Wf+1/71/t/+D//+/qn+X/4y/hD+Lv5Z/kP+7/10/eT80ftZ+qP4JPcK9kb1ofQy9GH0HfUZ9k73t/gh+mH7V/wv/cT99/32/Rr+jf42/83/4QA2Aq4DfATRBCkFNAXJBAQEjgNzA44DFwRjBQQH6wiJCg8M4wyVDKoL3Qo/CjQJmgfBBV4EmAM2A6QCjQFiANX/lv9I/+7+aP7k/Xv9dv2J/WP9OP1J/az9Fv5D/iH+Gf4Q/rj9t/yO+4D6ovnp+Fr47feU93r3tvdW+Av5mvkb+qH6NfuC+5r7tfsR/KT8Of3R/cb+FQBNASMC2QJzA5YDZQM6AwgDxAKzAicD8wMqBZoGSQgSCskL2gzRDB0MggsOC0wKKwnsB6UGnwU/BQEFKwTqAv0BmAEhAZQA/P+X/17/WP84/+b+qP6Z/pj+g/5A/uD9m/1//Wf9//xE/HT7rvom+rf5J/l4+Bn4Dvga+DD4cfjK+Bv5X/ms+QT6YfrQ+nH7OPwH/cX9iP5V/+//KgBCAGYAewCNAJoAwABOAT8CaAOaBAoGpwdWCeMKNwzADDsMJwteCgsKbglZCCwHQwbNBbcFlQXsBNUDEgO2AjwCqwEiAb8AWgAgAN//df/8/pj+P/69/S/9sfyO/Jn8h/wb/Ib78fpc+sz5Nfmu+Cr42feO91H3Vfef9/P3SfjM+Fr54/le+vj6l/v9+zL8T/x0/Jr8lvye/N/8aP3y/Zz+iv+iANABAgNEBHoFswbTB+AIuAl3CrsKRQptCcsImAgyCIIH1gZLBv0F+AXvBYgFvgQbBMwDSgO0AhwCuwFrAScBqgDK/+/+Vv7P/Rb9U/zQ+6r7vfu6+3H7Efuh+hP6e/nt+GX41/d/92P3PPci94b3ZvgW+V75n/kf+qv61vq3+on6cfpT+iv6PPp6+uD6cvtT/Gz9hv6z/+4AOQJ+A4cEaQU7BgIHvQdYCAUJtwnVCVYJnwhqCF0IDwiDBwoHvAapBu0GCAePBsUFVwUaBbYEIgSIAwEDXgK2Ad0A7/8F/0f+gf2q/O77e/tK+0H7E/us+l76Jfrn+VD5qvhV+En4Sfgq+BH4TPjP+Gf5yfng+cj51vnx+db5lflT+Tj5RPlo+bD5QPos+078hf3g/lUAqwHOAr4DhgQ3BbEFKAbBBmMH2AdsCCQJZwkaCaIIkgi2CKQIWQgfCAkIFgghCPYHdwfZBl8GxAUsBY0E5ANTA8EC+wHXAMX/9/47/k79UfyZ+zL7Bvv6+tv6mfpH+gX6yPla+e74iPhV+Ej4I/gT+Ef4tfgR+UL5RflF+Wr5afkg+c343vg3+Xv54fl6+mr7mPzB/eb+8//wAPUB8wKuAywEmgQbBawFVQYiB+MHzQieCe4JwAmECaoJzAmYCTAJ1QiSCIwIbwgBCEYHoAY9Br0FQAW3BCcEmQMGA1ACOgEsAD7/Nf4O/f/7Rvvy+rv6n/qN+ov6hPpZ+vT5Z/n9+Kn4ePhI+BP4BvhH+Jn43Pji+LP4bvhV+Fj4PvhG+KX4PfnP+Yv6dvt7/HP9Vf5L/0gAJwHVAWwC+AKeA0sE8gSYBU4GNgcsCEgJLwp0CiQKyAnVCc8JfAn0CI0ITAhLCEcI/Ad/BxgHswYaBncFzAQCBDsDZAJIAff/zP7T/dL8zfv/+ob6bfqC+qH6o/q1+sz6t/pT+sH5Rvnp+LH4X/gK+Nf30Pe796v3n/eK9273jvfX9zD4nPhI+RH6t/pb+xr89fzF/XH+Nf/+/8YAjwFPAgYD3gOjBGUFLgYCB+EHsQiTCT4KTgrxCZsJeAl0CUoJEgnbCMYI+AgJCeYIbwjnBzYHYgaRBaIEpgOvAqABXgAG/wv+Q/1l/Ib73/qC+m36iPqq+r36zvrg+t/6p/oy+rP5O/nE+C74ovc99xr3CPcc90P3dvez9wz4ePjM+E759Pmb+jT7xPte/P78rf1j/hz/3f+xAIEBcgJsA0wEIQXmBaYGYgcaCNoIpgk/CjYK5wm8Cc8J3QnMCZ4JeQloCYIJZAkLCWEIqQfuBhIGGAX6A+wC8gEFAQcA9P4T/kn9jfzS+0H78/ro+gf7NPtf+337iPtO+/L6Q/qQ+db4HvhR97j2ePaP9sn2Nvej9xr4n/gO+YL52vkz+o/65vox+3776Pt6/A/9uv2h/qz/ugCfAZ0CmwN6BDkF5gWWBjIH2wevCKMJUgpyClUKQgpwCosKcwo0CvwJvAmxCXEJ6wgECAMHHQYjBSAEKwNGAnYBqQDP/+f+J/6L/en8Q/zM+437mfur+7n7u/uv+5/7Qvuj+s35B/kt+FL3r/Zd9kX2ffb79p73Pviw+Cn5l/ng+fH59fk1+oH6ufoC+4b7Yvw//Qn+Af8YABAB2QGkAn8DNgTRBHcFIgbEBo0HeQiLCWAKnAqUCnwKmAqSCm4KIArLCWkJHQmjCP0HFAciBjcFSgRzA50C5AE7AZMA0P/9/lr+0P05/aH8JfzN+7H7q/uq+5T7bPs3+9T6SvqN+bv4//dq9wL32/bi9iX3qfc7+Mv4Iflf+ZH5o/mR+Yb5rPnv+TP6qPpS+yv8Ef31/fr+BQDqAKwBcwJBA/gDmQRHBfoFxAafB6YIuAmrCgAL3gqaCpcKcAoYCowJCwmYCFUIHwimB+oG9wU5BXQEswPyAisCeAHJACUAWf+a/vH9Wv3D/DT8xfuL+3P7V/s++xL76PqR+hn6nfkO+XX4BPi396D3r/e/9xX4nPgJ+Sr5I/kw+Tr5Lvkw+Vr5svkd+p76W/s9/B/99f3l/tn/ugB/AVICNwMcBOYEtAWIBlsHHgj0CNAJrgryCrQKSgoOCtkJiAklCbYIUwgQCPoHqgcaB1oGnwXEBPIDMANrArUBBgFjAIX/ov7l/Uv9svwW/JX7Q/s1+zP7N/sp+xv78/q1+kn62/k7+Z74OfgK+A/4Dfgs+Ir49/gu+S75M/lG+U/5VvmC+cv5Ovqv+kT77Pun/Gn9Uf5Q/1gAVgFCAkIDRgQlBc0FYAYDB6EHRQj6CKkJPgpGCvoJnwmdCXkJQwn0CL4IfghhCCgIvgcRBzwGSQVKBHEDjwKbAbIA8/9A/3X+yf02/cD8P/zd+6j7mfuX+5/7svu3+537N/vR+lb66/lB+b34ZPgm+Ar4FPhd+MH4FPlM+Xr5i/mL+X35m/nG+f75WPrX+on7cfxp/WH+Yv90AHkBYQIuA+MDiwQdBZoFDQalBjsH8QezCIgJCgoaCt8JxQnGCaYJcgkWCbMIVwgjCKwHDQchBigFFQQeA0ICWgGDALT/DP9o/tr9av3//Jf8OPwi/CT8Nvwe/CL8IfwP/MX7Xvv0+mD60vkz+c/4fPhR+EP4dviu+O74HPlF+U/5Nfkd+Rb5RfmH+e35j/pa+yb8+/zr/eP+v/+GAEUB+wGsAkQD4AN0BBUFtAVrBiIH/QfpCNAJYQptCjsK9gnOCYEJLQm1CEEIwQdoB+cGSQZkBXIEYQNKAmwBvQAcAGr/t/4d/s/9nv1J/e78mfyK/Jj8qfyh/Jr8evws/MP7Vvvj+jj6p/kc+bL4cfhs+H/4q/i8+OT4LflZ+Vv5Lvkw+Un5lvnl+VT6/PrA+4b8Sv0Y/uX+ov9SAOMAfwEzAv4CuQNnBB8F6AWuBnQHQwgNCeUJZwpyCigKvglzCQoJoQgSCH4H/wa0Bj4GoAXlBEYEYgNaAmQBwgBNAL7/Jv+P/ib+9v3Q/af9bv1C/QT95fy//JL8T/z0+337+fqG+jH64vmg+U/5H/ka+Tv5Wflf+WL5cfmE+Zf5lPmS+a356flA+rH6LfvY+3/8G/2x/W7+Of///7AAaQE0AvsCtwOBBDMF5AV3BicH4wenCFcJBwozCvYJWQnoCI4IKQiqByQHzgaqBoEGKAaTBdkEFAQrAzwCWAGiABsAsv9G/+P+fv4w/v39uf1c/QD9rfxw/Dj87Pu3+4/7Vfsa++D6qPpr+mf6Kfrh+a75nfmv+aX5kPmF+Y35rvmx+bn56fky+pD69Ppz+wb8n/xb/Qr+wf5s/zgADAHNAY0CWgMmBNMEcAX7BYEGEweTBxwIpAg/CWUJNQm3CFIIBwjBB28H+wagBnYGaAYvBpQFywQSBE0DiAK5AfkANgCc/x//nf4X/q39Vv0W/cv8gvxe/GX8fvxm/Df8Fvzo+7r7gPtD++76u/p9+jr6FPrh+dn5zfnK+Zf5f/l6+Zr5ovnG+fL5YfrY+lf71/t2/B79yf2D/kj//P+8AHUBNALfAnsDGAS6BE8FvgUtBqoGLwfAB0gIuAjFCJwIPAgfCPMHtAdFB+UGjAZaBg0GmgXpBCgEYQOgAt0BEAE+AIz/8v5Y/r39T/3+/M/8qfyA/HH8bvyB/Jb8jvxq/Ej8I/wC/Nb7ovtV+x370vp3+iP69vnN+a75n/mT+ZX5sPnP+fT5K/pf+r76LfvH+0v87fyQ/T3+7v6U/x8AuABOAeoBgwIVA6EDKwSxBCQFjQUGBpQGNQf1B5UI1gjjCMoI1wi/CHYI6gddB8oGXAbTBTkFVwSVA9UCMQKMAfgAUwDA/y//rP4p/rv9aP0s/fP8xPyd/JT8qPzE/L/8qvx9/FL8MPwJ/M77jftF+/n6rPpV+hf68vnn+eD54Pnq+RD6TPqV+tH6/fo2+4j7/ftj/Mr8OP3I/VH+3f5q//f/gwAQAa8BTwLhAm8DEwStBDkFugVRBv0GqAdlCOwIHgkDCccIkghFCNYHNQemBhUGyQVxBRAFYwS7AxcDiwLnAUcBjADn/0j/zP5W/uX9fP0y/QP91fyl/IP8hPyc/Jn8kfxy/Fz8R/wh/O/7uft4+zP77vq4+pj6kPqo+r763Prp+vH6B/sU+yX7Lfsz+2L7v/sj/I/8//yF/Qn+m/4e/6T/KQC4ADgB3QFoAuwCpwNYBPYEgQU0BvsGgQecBzgIoAiMCGIIQggDCLQHSQfgBn0GHAbRBZkFLQWHBMsDCAMsAkMBXwCM/9L+QP75/cn9k/1m/U79QP0N/c/8tvyu/Lz8zfzR/Lj8ifxL/Pv7n/s3+9/6rfqZ+rH65foS+wH70vq4+qr6q/rF+u/6GftM+4D71Ps7/LH8Kv2m/SX+n/4Q/4H/7/9RAL4ARwHqAXgCIQPPA3wEGgW5BYEGgQfHCCEKTwtuC9YKognTBzYGUQX0BO4EWAXMBcEFSgXOBJQD3AEfAK/+Sv1G/OP7LvwJ/Sv+/f4N/2T+Uf0K/AH7rvpX+5/8HP5H/8//bP9i/vj8nfvX+tH6Lvty+4/7J/sH+nj4Wfe59lD3mPef+EL64vrY+hv6vfnJ+f/6h/w1/oj/LAA5ANL/k/+1/zwA2wFWA7wEvwV+Bi8HYwjZCUkLfgzLDW0PZhFlEm8R9A4jDH0InwScArwCcgM9BMgDTgHn/Xj78Pg19lj1Z/aD95D4FPqi+/X8WP4K/6T+7v3M/UT+u/8sApoEagXLBMcDTgJFAIj+mv3Q/DT8E/yY+3H6WPlH+EL28/Pk8hvz/POz9aH3pPgp+Zf50Plx+pX7pfyj/SP/mQDuASsDwgNvA/wCsQKcAkADggQUBqgH1giaCXYKiws3DGMNSg/0EcQTrhECDYIK7wlcBggCPgF1AXgAhf8N/pj73/l4+MT0xfE/8trzNfU996b5E/si/Cb9n/3t/WL+C/+FAP0CdAWUBlgGRAbOBccD7ACA/8T+P/0Q/AH8ZPtm+Vj3zvWv9GT0Y/Q69O/0lvYs+HT5gfqu+gT7XPyr/bT+EgCYAacCnANTBEoE5gPRAxIEugSTBZIG7wdZCWEKKgspDAAN8g3fDxwTsRVfE5MNDQuWC38H/gC7/0wBOABr/gr9UfpX91b1KPI37w/vXPAY8gj1Rvgd+kP7jPxR/eD92f42ACYCtwR0B3oJAAqWCYQIaQaaA88BfAAG/jP8MvzE+yL5/vUI9FbzBfMS8ofxyfKx9BH2rPdd+b35IPrp+/T9iv/2AHQCKQTJBUMGoAVIBTEF7gRVBSgG2gbBB+AIrQmCCokLEAyeDJAOuREgFSUUlw1TCUwLpwhP/9/7oP+c/wj8+frv+Tf2YPOq8X7v1u1D7gjxLvWs+H769fv6/Yf/IwB/APMBUAR8BqsIhwu+DFkLbwm7B+cEqQFb/9H8tvoY+mb5HvdJ9ALy1vC78Dnwue9J8fnzFvb89xv6Vvs3/LH9P/8FAcEC6QMqBboGAgcZBrgFcAVaBLEDJwSpBCoFCwabBicHUAhOCfEJTQu6DTYRahVNFa8Oagq6DIkJaf9p/NkABwB++5D7g/sJ9zjzwPG37yXtKO0/8H707/f2+Tj84P6OAI8A2ADyApIF9AaFCA0M3Q0lDKwJCAgvBWoBmv5A/Ff6T/kq+En2UfQR8hrw+u9d8DDwUfEj9Nj28/j2+n38Av5j/zkAxwEHBEYFuwXKBjMHFQYfBW0EDAPrAeYB7wHxAbEClwMFBNIEiAawB7wIvgrEDWERRBZeGUIVrg2VDfsPRAZs/JP9j//x+mP6xvwu+RXySe6P7KXqXerc7en0X/uo/Q3/KAI+BZIFXQO5Ag8G7AkCC7sMOQ+0DR4JkQXOAfz66vQB8hry4/ID8nXwl/AT8TTwyfBw86z18/dD/KQBQgXZBYkEZARJBXsE8gLsAh0D7gHbAPr/y/1u+0j6IPqb+sb74/yQ/jQB4wMQBh0IXwrSDEoPHRIsFuEZjB1qIU4oqib5E1z9LveI8THlc+Ru7tvs7OWc7sj4dvUw65HpC/Co+rYFvRBlGS8dbx0KHAsYqQ92A8f4Qve4/Hb90fZ48knvBekt4xrjqONM5bjsEPliBXAMHgyuB58GPgfeBrIGfgfaBhgFlgIN//r5RvPm7dLuUvOD9pr4Vvvq/O39hf8xAE4ACQG+Aq0EXAbNBSgDuwBKAPgBuAS+B3sK9AwIDyQRihIiE6sUFxfqG8YiCDDoKXEF695r3GPZGM031mTuz+/m6uf/dg5/BIvzivlICL0WHyKJK8wpah0vEJECP/Tv5gPcP9bM38Xx+Pe58RTv9O/88HH1JP+ZByMPSRUbGJQYbxLhAgbyDOzp7VbxdPOT9an3QPdH9Rv3lPub/ET9ZgN5CWcJyASU/3n7Lvl0+J/41fnk+s/7Yf1h/xABEwI5A98F9QkoDIgLtgpXCvIJhwpODfIPFhTnF48dtyMgMN8zIxC12D/GstM+ykPQR/NiBgT0H/tLFKgQM/f/9CwLwRhLIwYvgCwJEvz56uyM4P/XLNrj3lzn5fmECaIFgPpE9xT6TwDXCnYW6RkIFpUN/AN0+cPsqd/T2IzgL/Db+4QB9gR/BEAAMgCoBRsJvwaPA2oCLv9b+P3xqe597kPytfhQ/r8BzAPuBPIFiwdaCT0IQAURA9UBj/85/vP/xwMwCKgNzxL8FXwXjRk7HF8h5iahNCUqwPQ6xU3IZstfwF/aOQHcAM3yxQqgHkEPkv5MDQYcMR6PKG8u1BaC9e/lqdvyzwnTUeJY6pzxnATYEk0MvQKQBQkMOQ/jE4sYcxR/B/z2mOrg4ujbzNXO2qnrF/2PBxgNhg/ADMcH2Ad5Cl8IGAHa+Vn0p++B7BXsA+5h89r7FgSACX8M/wxKCrgHCQeCBXYA2PoA+Pv2YPaf+IP+rgWmC+oQCRVYFhwV0xNNFAIWaBdzG7QioDP1KQnxX7sRt5i8ib1O4nIPtBVaBz8WZST8FngFNwonEq8YLSVdJNMJyuqp10PIaMRz2O7xUPshBEYYKCEFFEEHIAbxBL4DbwoUELUH//ZH55LcHtgN3FDj+ewH/EkN0xWFFUUSCQx9A4v/PAFlAMj5VfEs69PoHuvx8HD4JgG5CZUO8g4cDiwL4ASA/07+Rv2Y+Tj2Z/Xc9Yr3uvxYBIQLNRBGEzcU4RKvEJ0NJwucCocNXw9wFVEdhi7GLLP7SMZ6vIjGOMgo5/sS3yCADXIOthqbE9QAGQCjChUSVRuJHJgLC+8q2SHL0Mrb3YT4qwagCx8UPhgQDzQD0v/d/yMBQAf9DHAIPvvf7BngmNke4D/r5/LH/M0KmhKoEcgNGQntAfH7l/wI/wX82vRi7jbrFe1r83v7qAPiCXcMMAwoCx0JygTU/yX9A/zi+ZX3EfZ79Vr25/pkAvcJ2w7jEKYQ8w56Db8MkgyvC7YL2AxUDvMRoxmzJsQvRA1r12/C/c660G/gpQfMH9UQZwQQETkUCwRU+rUE+Qy8EpYU5Axy9pTgrtQ81d/iPvkeCrgOMhDcEaINIQSF/Tj8nP1+AakEeAIg+obwuOdj4yToH/Sm+wP+cwUuDiAOxwhSBUsAlPq5+E373Pvb9z3zOPFH8lr3yf6/A9wGdwjQByMFhgK0/2z8xvl/+bf6kvtQ/HT9zP73AEsFSAkkC0oLYQovCeoHfAcNCJsI3wiLCswM1Q5HEFEVARy3KXIm5/v/zm7HyNEJ1WPtfBKgIIsNHghgEz4TCgN9/2MJUg4XDnILZALj7U7bzdPt2qLruQCPDxQUZhIYDyIKQwOA/fT7Mf7cAK8Ab/3E9jrusOZl5q/vMfxnAxQFpQYUCAUFDAB8/vj8GflZ+Iv7RvxV+T72D/Wf9jv8lwOhB6EGpwNgAB79t/vB/Mb9xP0g/u7/VQFXAakAaACWAQEEPQaQBmYFkAPfAX8BdgMoBw4J9AldCwIOrA+3EGYQ3BDuFAYcZCr8IpPzScdzxevRStkN9nYb3yKGCxgGghHsDkf8XfkHBFkKpgv9C70EiPD13d/ZaeW+9p0IiRNpFAEOEgcJAfL54PKe8YT3t/1X/xn+3Pq09Ezu1u+j+dACjgTZA+sE9gNU/qv5XfgE98/27fqiAM4B3/7f+lD4+fcv+43//ABW/+T9tv0c/uj/twIxBa0FNwW7BAsDD/8S+3D5kPrh/cIBTwTrBPYEdgUFB7YJ+wujDVMOiQ6gDQYM/gk/CR4LkRAEHI0r4x3h63vEwseG1hvjCAMDJy8o6Q2zBboMCAaV8/HzAwKeCkcL6grsAVPt5Nsp29Ho8vq2DIgWuRQRC1ACK/vd89Xu/PGZ++UC4gNsAa/8lPQD7rbwUvteA/EErgQCBDH/y/j+9a3zyPNN+kYC7QUiBhcCPPoc9E3zG/ms/xECugENAkYBPgA1AKIBaAMsAyACHgIAAQr9ivmK+Oj6Tf+yAysHtAgeCPUGnQYLBqIGegexBxYI8AhsCIIHGQcXB4QJ4w3EEvwXKR85JTsPEOTQzPDWBeC76kIHYB4EFHH+lP8mByP/tvXQAL8NAxDCDlYNJwBZ63Tfr+IR7lr7jQixDVsJKQIR/s757fRX9Gf70AMtBk0EQwHJ+sTxFO598i35cPwm/VsARwScAwb+s/lI+Tj6Kf2IA+0HlAMs+4/0b/LV84n3a/sP/ygCoATZBRQFHwRMA1ECawIhBHIEhwED/T762vqv/Dj/UAKsBFAFDAalB2gJawrbCpMLTw3cDngONwxXCfEImgnODcUUniD7G9/1jdC20GLhwuZ7/Ikc+yFsCEwAKgvhBoLyh/IeBFUKEAqEDhoL1PUP5FPiPeru85cB6wtaCoQEnAIP/0v10u+F9CL91AEWBKAFlwHY90jxlPMj+eb67Pme+44ARwJk/xr80fpP+a35x/7CBFAEBf5N+FH2M/eM+fH8EQBlAgUEWQWBBf4DjgG+/6v/NgEvAp8Ayf3Q+7D7j/wp/j0AXwLRA50FJgjkCaYJBgjoBsIHAQmaCfwJCAsFC6UJlghXCtALog4kFXEfWxJM7ajWhd8t5oTo5wCTGDcRv/4IBeoMWP/m8GP7FwiMCGoMRhNYCZ3zJOgQ50zp8PB2/s4FEQXGBUMG3P168lzxLfcX/KAAowfBCrkEZPse90r2yvJ88BL06Ps7AtkESQN5/pH5y/b/90f9WAP1A7IA4f0W/HP5+fbv9g/6sf7PAo4GdwgnB0kD4/+Q/n3/rgBBAaUBogFXABT+0vxv/dT+swAABBsIpAokC80KRApCCWAI3gg+CqkKogpLCn8KdAt8DQAReBaoEe/6Ded25iPraepe9SIHdgrIAnIGtg2BBeH3ifgiAIIBYQXgDZANfgJh+nX2PvF67iHywfaa+VP/XAW5A238k/gZ+N32M/fY+xMBaQK2AQICpgHE/Af2b/NU9U/4evv5/cv+4P1M/PD7ov2E/iH9m/zo/T7/cf+k/tT9vv3P/WT+JwCVAdUBswEGAuUCagNgAukAZgA2ALT/Uv+A/yoAiQAFAbUC2QRIBmgHuQjgCXUKSApHCrMKnApNCigKdwnCCJkJmwvRDokREQ37/+/zIe9Q7CDrefFR+1wAwQNSCocNiggQAiYA9P4Y/Qv/xwNxBYgEDgToAeH8y/d29N/xHvE18yL2NvjC+mD+sACqAJP/Wf4q/bD8Mf38/Wb+wv27/EL8MPwa+675efk6+hz7rfzn/g8AuP8X//X+mf66/Rb9W/0x/l7/IAHLAn8DagMjA/sCDwMiAz8DcgNSA7MC6gHvALf/Cf9c//f/PQDuAEsCEwPHAqACEQNJA2wDVgRBBfUEEwSAAyYDMAP2A/EERAViBfgFbQbDBRIE1AF6/wD+RP5F/9b/pf8F/5j+W/8GAZoBeAA7/9b+if5o/vb+If/1/ST9Of7L/0sACQCm/8P+9f0a/o7+Iv4m/VD8evuO+uD5jPlh+Uv5qfl7+vH6lfoU+pL63/vF/OD8rvxr/A38IPzC/HT9xv3O/ej9KP6N/uT+AP8f/7//egCVADgAJAB6AKEAlADgAI4BAgIBAvYBCgIHAiACigI8A9gDBwTwAwIEXwTrBFIFvwVTBtkGDAcVB+YGHQZZBV4F6gWWBlsHNQcSBUkCJQEhAkEDdwMYAwoCkgBFAHYBoAH4/1D+pf1//QT+xv44/nH8ufuX/Dj97vyI/Pz7Hfvq+oX72fuR+4T76Psy/DX85Ps7+7z66vpC+wj7gPo2+m36MftI/OP8hvzB+077gPsg/AP9uv0p/sz+p/8zAD8AXQDCABUBcwE3As8C8AL6AjwDWgMsA/cCuALXAmUD0gO3A5cDpAN2A0YDbwOWA0cDcQOUBHEFJAXDBNsEgATdAxAE0gT2BOEEZwUIBj4Gxgb2BkIF1QKBAdYBYQJhAqQBcgDj/20ARAGXAGv+gfzR+3L8i/3+/R79vftg+/H7hfxg/Kj7/vom+wX83vzA/CT8+fse/CH82PuX+yn75fpj+zj8NPxl+wP7rPtj/LH8p/xi/P77j/up+0X8/Pyc/XX+Yv+o/4j/w/86AGcAcQDwAKoBVAIFA50DSQMkAm4BrgEKAj8CxgJOA2IDVwOtA74DSAPmAhkDYAN4A6gDywNpA9QCqQLNAhIDagPOAwsEDgTTA9ADTwTUBBYFqgVZBqAFqQMOAh8CbQL6AU0BcwCl/5H/yQBeATMAkf7I/Vz97/zj/BP9rfxW/Nr8Pv2S/Dz7ivrA+jf7f/vB+y/83vxk/Vv95vx2/On7b/uV+wv87fu3+yv8zPyp/AX8jPuB+9j7afze/CL9if0+/uD+8P6j/m3+ff7q/tj/vQAJAdYACQHVAaEC8QLiAq4CcAJPAm0CsgLRAswCqgJeAjMCYwK5AuQCAANcA9cDNQRVBEAE4gN1A0cDeAPbAy4EPwQuBCYEaAS/BOoEQwXjBTUFDQM0ARQB+AH8ATgBPgDr/3IAZAGhAR4AC/5C/dv9Xf44/nr9wfxa/MX8Qv2a/CL7Wfq8+jn7N/sr+0X7mfv8+0L8DPxs+x/7fvsR/HD8ZfxG/IX8Dv1u/UL9+fwc/Vr9H/3V/O/8UP3C/UL+nf6s/rP+RP8iAKAArACdAMEA/wBTAawBKAKZAsYCtAJ3Ag8C0gEIAmsCnALSAlkDtgO5A3oDJwPaAtICLAOIA1sDwQJTAmECygJfAwEElQT4BDEFbwWKBYwF9AVMBg0F6gJiAZkB7gFKAREAt/5P/vX+SABbAMP+Zf1u/QD+Lf4V/uf9v/0V/hP/Nf8d/rP8Pvwp/Or7jvuR++n7c/yT/OT71Poz+oT6a/tC/Gb84fuS+9z7Sfxy/J/8Av2j/YT+T/9p/9j+Wf5a/mH+aP68/lz/r/9v/zH/If82/3n/FAAFAewBcwKcAoMCHQJpASIBzAHUAkMDLAM3AzID4gJ8AnQCuQINA3gD6gMEBI8D+wLHAgoDegPgA1kEzwQrBUAFUAW2BUQGwwWEBEoDFwO7A9YD4QIFAY7/Qv/k/2kAr/9Y/mH9OP0m/Qr9Jf2J/dr9iP4w/1L/k/7r/Zz9OP2E/M/7n/vz+zP8w/vv+lf6Ufqd+uX60fp6+kn6pfow+5X7+Pui/Iv9Xv7F/rP+TP4D/hH+RP5e/p3+Of/x/0gANgDq/6P/cP+B/xQAvgA0AY0BzgGyAXYBjwH/AZQC/gIbAyoDWAN+A1kD9gLuAisDWwN0A6YDngNZAz8DjwO+A6QDswP5A1cEwARJBdsFiwaiBq4FGARHAz4D2QLPAacACQDU/x8AVACu/17+UP0y/Zf93v3p/Qj+ZP7h/tn+H/4l/cj83vwA/fH84vzl/N/8zvxO/GP7l/pz+tH6Pvsq+4v6Cvoz+q/6DvuS+3T8k/1x/rX+ov4m/pH9fP0L/qX+Ef+G/+//1/9e/wb/E/9q//v/mAD6ABEBRQF0AVEB+wAOAXgB6wFzAvsCMQMQAwwDMQNZA4ADwAPuA8kDUQPfAqsC0gI7A6kD/QM2BFYEPARCBI0EBAWlBSsGOAZaBVgExgNaA2ECFQFKACcAZAC3AK0Atv9M/kf98fwH/Tj9Zv2I/dX9M/4s/sf9Tv0A/dP8yPzj/Ab9//z8/PH8pfw3/An88fuh+zL71Pqk+rv6Jfuc++H7PPzY/Fv9pP22/ZL9a/2T/SH+zP5A/6D/EwBCACYACQAZACAAEgAhAFUAeACyACIBdAGAAYkB0wEsAmIChQK6AtcC3wIJAzgDLQP4AuICEwNXA5ID1wMaBEQEKQT6A8cDogN5A5ID+ANrBL8E/wQSBccEQQTbA44DIQOyAkkC7gGRAUcB9ABgAIf/qf78/ZH9Of3o/KX8gfyB/KL8xvzg/Pn8DP0d/SH9Ff3+/Ob82fzd/PH83/yO/C78/fvr+737rPvY+yX8a/zE/EH9wf36/cr9nP2C/aX93/1m/vv+ef+m////8v/h/p7/zf/E//L/WwDQADwBhgGxAcIBZgFyAQMCXQJsAnICpAK0Ao0CdAKGArQCBgM+Az8DNAMUA+ECpAKfAsoC1wKsArUCzQKxAnUCRwJCAiICFAJbAqMCxAKUAk4CDwLZAbkBhwFjAQEBkQAfANr/sf+E/x3/m/4T/rL9W/0D/d381Pzs/A/9Iv0n/Rj9+vzp/BT9dP3g/fv9F/65/Rr9JP09/ar9Mf6u/hL/cf9r/wv/mP4v/hf+Uv7L/h3/R/9G/y3/K/9P/3P/of/f/yUARwAwACAACQDv//P/OgCVANYAFAEMAeUAwADIANkACQFaAZ8ByQHVAeMBuQFLARABAQH9AM4AuwC0AHgASgBRAHgAkADSABQBLQESAe0AyACSAGEAQwAzADsATABcAHcAawBLAEEAVABmAE4AOQAoABAA/f8DABoAOQAxAP3/7f/s/9T/pv+f/5//hf92/2v/V/86/xb/8f7E/q7+tv7n/g3/Fv8N//T+9/7w/vD+6/7Q/rX+0f4E/zj/dP+Z/5f/if+N/5P/q//C/7b/vP/n//D/4P/l/9H/xP///1QAhQCQAGkADwDB/6//0P/+/xkASwCCAIIAZABTAEMAGwAhAHYAvADLAM0AvACUAHMAfwCqALMArwC7AL4AmABfAFIAdACfALEAtACkAHAAKgARADgAWABAACoAPQBBACgAIQAnABcAEwA3AGIAcgBkAD0ACADu//r/DAD0/+L/1v/T/+L/9/8WACcANgAwAAIAwP+j/6f/o/+o/8P/2P/W/8P/0//r/+f/3f/k//r/GgAnACEAHgAbAA0AAQAIABoAMgBXAH4AjQB6AEcAHwAbACUANgAqABkAHAAoABwADgAmAFAAaABkAFoAOAD7/8X/yv8BABwAGgD7/+H/2//j/97/yP++/77/wf/q/wkA+v+0/3n/dv+V/6//rP+p/57/jv+e/7n/zv/L/6n/j/+r/+b/+P8AAA8ACQD6/wYAMgA4ABMA+f8XADgAVQB4AJEAlAB4AGgAQQAjAAYACAAtAFQAbQB0AGQAMgAEAOj/8P8JACkARgBSAFkAVQBGACsABwDi/9z/5//4/xcAIQAQAOT/tf+D/2v/aP97/4P/nv+x/7f/wP/Y/+7/7//n/87/nv9b/0H/R/9Q/2z/l/++/77/uf+4/7v/uf+4/8n/4v/q/+v/6//W/63/if92/3L/mv/D/+H/5v8FADYAOgAkABwAEgAGABEAGQARAP7/DQAhADcAPQA7ADwAQwA9AEoAYwBqAGwAcgCIAIgAcABRADQAHgAFAAEADgAXAAUA7f/5/xUAKAA6AFAAWwA/ABAA6P/I/5z/kP+Y/5j/nv+j/7X/x//F/8D/tf+K/3j/if+j/6n/s/++/8f/wP+5/7P/u//J/83/w/+z/53/gv9w/4D/sf/g//P//P8VABQA7f/J/+L/+//+/xUASgBwAFwALwAZABYA+f8EADkAcACEAIAAewBQACIAEQAjAD0ATwBdAGAAWQBRAFcAagCLAJ8ApQCiAJcAhgB5AF0APAArADUATwBUADoAKQAhABgAFwAeABYA/f/m/+f/AAAFAOr/yf/N/9P/yf/G/8z/vP+7/9X/CgAeAAEA8f/s/9T/u/+q/5//mf+2/93/5f/d/8v/v//O/wAAMgBJAFgAWgBJAC4AEQD3/9//2f/r//v////x/+r/9P8RACwARQBPAE0ARwBPAEoAIwAEAPn/BwA0AFkAZwBNAC8ALQBEAEYAPwBEAEMAPwBQAG8AZwBNAEsAUwBfAGwAfQBtAEMAQgBXAF0AYQBpAFMAQgBAAEAAGADv/9H/uP+f/63/wP/X/+r/8P/3//H/7v/0//D/5f/e/9n/2//a/9b/1//H/7r/rP+m/5z/mv+l/7D/qf+q/9T/7v/n/9T/yf+z/5X/oP/T/93/1//v/wYA5v+8/6j/qP+9/+D/EQAoACQADADz/9//3//u/wcAGgAxAE4AUwBBAB0ACgAPADUAbgCJAHkAVQBGADQAJAAdAA8AEgAeAC0AOgAxACoAHQASACoAWwB6AGYASQA0ABsA9//s//P/9//+/xAAJAAQAOH/qv+l/7P/0P/f/9v/z//D/7H/lv+I/4P/gv+f/7r/wv+7/7L/sf+x/7b/vv+//7H/pf+j/6P/qf+t/7T/uf+x/7f/t/+r/6v/wf/d/+j/BQALAO7/wP+w/7D/rv/G//f/JgAuAB0ADwD2/9f/rv+Q/4j/Wv9S/5j/5v3b+8/+LgGrAvcB7/9G+2D97P/pAHQCsAPVBPcBYQBF/Sb8FP7zADcBkAImALH8Q/iu+Wf76/ugBeIF1QKKAX7/w/o8/eT+9v6TAlgD5AF2/uT8Rf4x/w8BbQJ6Ae/+Rf40+9767fyX/Rb/YQDaAEz/j/7F/Or+p/99AP8D2wOaAvMD1wLzALQDAgOdAv0C1wHg/+8ASgGmACkBvP/E/ysAQQD8ANkB9QEQA+MDkgKPAn8CRALbAhkEsgMUA0MDQALNAfUBDgJsAYUBRwGgADcAHwAUADAAcADU/5//wv85/xn/Xf+P/7v/0v/K/9f/fv8y///+FP/2/hL/7v6X/m/+Mf6t/bL97f3c/VP+ff6e/pv+if57/tj+Q/+m//j/KgC2AFIBRwLSAqUCLwM2BIwE0ASGBdcFcwZHB+AHIQgGCREKBQsbDEwN/w4qDd0DWvq095D4xfZW+U78hPYu7aDrCO/x74L0aPu9/iT9jf0BAEABkgIkBZEGhwUFBSkFtwFj/B/6I/lq9nz10fZu9VLxxu+I8APytfX3+Br7pPwt/QL9i/xj/Q//bQCBAeoC7AEl/9P95v0j/g//kwBeAYcB/wH9AuwDRQVAB3YISwmVCkQNNA/OEuwX9x3jI4wrIyB9/7XrpvBY8s/rrf1FCcPzVtba16DhyeSa9GcMrBLXBnIFNAuHDPUNEhZtGRYTtQ/0D/4JlPxf8jnuqOp36CHszfLT8VTp9eRJ6jLzy/sGBo8NygsSBGH/uv+nAvAF+geeBUb/jvhe9Pbyo/N99lX5+PkT+dT5Evta+/r7Kf40AIIAtgCCAaQBWwB+/xcAmQENBBgIjAwCDnQNkwyvC/AKkA3BEXAVuBlTH2IomC6XFHzvGuBM5OLaSuKgBXMRr/Sc2Svfj+Pc6QUCzyEeJWQYGRXaEpgKPgh+EAAPTASj/5IBq/pX7DnkRuJt34zgLe5U/9IEEQCX/Hb9iv52A7wN5BOkD64FtfzZ9gX1VPc3+mP56fV39BX1K/bw+Kb8Kf5d/DX7B/2V/xwAZ/9//jv9uvuT/B0AQAOeBPAEPwVLBokJ9QwkDs4Nag3OC+8J6AyqEqIajiF5L/gylBHV5TbUC9SCyUDeDQxEHMf7IuN25mLmwuhTBeQrgjA8I8cbnxRIBDL9VgKZ/570AvPK+Sz2Yeud52bnNeLU4oP0sgs7Fs4UexATCrIAUv6nBRkLjwZn/EPyaOmM5h7sEPXM+FD5mvsU/7QBBQVyCLMGnP9B+V34UPpY+9L7K/s5+B71i/ZB/A8DaAjACucJigeNBocH2gj5CAYJHQlNCGIJIA+lFcMcQiTuMSYvuwiW3ZDRfc+6xv/hjhOeH2r99ukF7n/pgueNB9AvmzLDInccRhTR/qvz9Ph695Ps5ey893D3C/BN8XHzDesj6NP5rhDjGaEZwhisEPH/HPYj+2gBhv759gXwSumq5HboDvR+/bsAeAOfBjQHFQfhBxEFEP2w9U30yvZN+VD8P/6P+2b2FPYK/NQC2QhrDPwLWganADf+0f7qAJADlAZlCO4KFg2mEbAVkRqaH4sr8ywkDVXlntZS0+DHd9sRC+YfbAg0+AL+Afgo7JT+SSEsJj4X1BMWEuj+lu3f7h/vNuZ96Vf8zgWWAvYDYQVp+WnuyfcDCc0NCgwzDQQIFPiV7Yzxefcf9/z2Pvrl+w38eP8LBMoDJv9A/Aj8Rfyi/ZUAsP9j+Wb0K/W/+GH82QCuBOwDWv/I/Lz9qP9xAOsAzQCl//z9B/7r/9MBCAP2AxsF9AapCSAMzQ4mEAcSdxUKH4snrhPs7RTZgdiWzmDYLQTvJKMXmQU0C1EJfPZp9vQPRReTCvMJHhOnCGf1lfBW7/nmn+lR/wkOuwxnCicJzvsp7Yzwiv0zAcP+VQKlBMv9GfeQ+Oj5IvXR8ZT1H/y3ACEEGwZ1AgP75fbw93D6bP3RALoAZvup9dn06/a2+GH8IwKcBToFHAXhBVYEQwA1/Tv8SvyL/cQATATXBQAGygYQCFkJdQuJDq8RARUfGpQjaRnH+Znk8uVu3oraK/mMGaIUiARBDaYQ5Px48t4EFg+SBV0HIRUJEAL8XvW+9PnrKOqM+tEHXQbpBX4IcwCN8onxF/ne+kL5Uf6FBEQCy/uG+bb50vU28Z7zOfv4/9sBZQRlBB3/a/lH+Nz5S/sf/QT/rP3l+UP4LPnZ+Xn7n/97A6YEUgWiBrYFAALe/hj+If7x/rQBNwXcBssGHgcHCDQIIglZCyoPDhMaGo4cEQrj8q3tdO8g5Gjr6wfcEhsEWAStEfIJZPfC+VAI/AaJAvsLBhO8CLj8H/rc9V/wb/Pf+73/tQFwBE4Cffs89pj1cvbs93r6Wv+yA54CQP40/MH67vSr8JH0e/tl/7YBkwROBMr+FPlO+JT5ZfkO+qn89P3W/HD8+PwN/Yz9h//AASkDNgRjBBwDGQHY/x//If9VAHwCYAQHBu8G7Aa4BrIHNgkrDAMQdBWeFX4HK/i29l/4Fu8i80MGuwufANMCHA1BBsL5evx9BT8EegJECEUMIQgVAjT+EPqW9/f32PlB/XIBeQEK/YL63vkk+FH3Cvmz+mn8Lv86AEj/Mf6u+xD3vPTa9lX66vxb//MBzgJ3AAj9RvtQ+t343vg0+3b93v3o/Vf+of7K/lP/PAAJAbcB+AHtAc4BnQEtAewAcQFBAjwDhgTwBeAGhQfPB7wIDwuxDgkRnQpWALT8YP1E9i70LgHLCaoDkQH6CKgGz/1L/zcGOQXZAe4DQwapBXMDFwBR/fj8K/xc+oT8bgDq/qj6hvrK+5v5g/jX+mP8bfyB/R3+Iv0O/fv80Poc+Qr6Kfsw+4f8Gv/Q/xj+kPx6/D78RPtx+wT92v2b/df9qP7I/kz+bP5G/zMA5wB8Af4BBQJUAaoA4ACKAfIBvALxA9MEuAVjBwAJEAr5ClMM0QrBBR8CTQLW/xv67vsLA7MDcgAtA+IGBgR5Ap4FMwZAA5QDaAViBLICRwHf/lX+TwBeAFj+wf7r/rn7Ufm1+o/7afrL+mP8rPxU/F/8Mfyh+2D74fqB+oH7MP3b/b/9sv1B/eP7pPqV+hv7b/v8+xz9yP2k/SL9FP1k/ev9Zf7f/tn/xgA4AVUBkQGAAQkBswAGAZMBHwLtAvsDqwQbBeoFdQcrCaoK9wp7Cb4G2QPxAMD++v8NA84DjAJfAjIDlAPMBM0F0QRdA/EDqwS2A3YC5QHFAKj/gf+J/+H+k/6K/p79rvts+lb69frs+5v8Wvxa+4H6+Pl++V757fnf+nv7BPzQ/FH9P/1r/Vn9JPyb+gn6FPpY+lj7o/xG/S/9Cf38/NT8F/00/pv/mQAoAXYBlgHTAQQC5gHMAf4BOwKXAkMDDATQBFkF7QXaBucHwAjQCbIJ9wZEA7MBTgJ8Av8BhgK4A2IECQXgBSwFHwPwAcICbQMdA40ClAIoAhoBzf/d/h/+VP2G/PL7Yvsh+5j7hvzm/JH8GfyD+4j6jfkI+QT5Vfns+aH6ePsw/IL8oPyk/An8IfsD+9H7dvx7/DX89/u0+7n7L/zb/JL9P/7s/oH/AwCeADoBuAEwAo0CrgLaAjwDlgPjAz0EfATcBGEFHwbyBt4HNQlKCgEJugUwA+oCcgNSA9gCqwJVA2oEjwW2Bc4EfgOyAk8CqAEqAXEBbQLcAjIC6QCL/+z9UvxX+8n6UPq3+gH8nfzN+wD7HvsW+zn6hvlU+Vv5hfkV+q/6NPu++1P82/wU/a38/Pt4+2P7z/t+/Cv9kP2C/Rn9nPx+/PD82v3t/vb/twBTAQQCagJ/AuwCrAP3A+kDMAS3BOIEHgXCBYUG+wZiB0kIcgk1CeQGYQR0A6gDpgNxA1cDiQNCBHQF5wXzBOwDmgNDA28C5QHCAYgBKwHeAGwA6P+Q/wP/t/0g/JX62/k5+hD7YPtU+4H7evu6+rj5J/kN+UL5vflw+hD7dvu6+/j7J/zb+4L7yvtN/Ev8IfxC/Cb85vtQ/CL9dv2C/QD+qP4C/5b/xADRAVQC2AKGA/YDCAQ+BLkEMQVtBZkF2QUfBpgGcwd4CGMJNwmVBzkFqQOAA8ADvAOGA/4D+gTJBcAFKQVeBJUDDwOqAjkCwgGjAX8B6gDa/7r+w/3K/NP7Hvum+uT6jfv++5n7Avuq+kz6p/kw+Sj5MPl2+Qv6Z/pH+iH6Sfpk+m36uvpw+/77GPwO/Bv8L/xU/JL82vwF/TD9lf03/vT+r/9hAPMAWQGnARwCvAJeAwYEqwQSBUEFdwWpBcYFMAYMB+4HkQgHCboIZAecBboEmQRjBBoE3wP1AzUE/gSZBVAFYwSFA+gCLgLKAdIBDwLxASYB8P/B/r39yvzl+xv7lvqP+qn6p/pK+jb6G/rI+Wj5dPmg+Yr5tPkf+iD6x/nC+UH6ZPot+kn65fpL+1X7uPto/MP80vz4/C79OP1X/dP9nv5h/woAmwAQAYgBGwLiApwDBwQ8BIAEAwWHBQAGagaxBvEGOQegBzUIswhtCKMHpQatBTAF/wTnBHgEAgS9Aw0EvQTnBEMESgOJAhgCAQIFAvABgAH0AEYAZf9V/n79lvyc+6r6G/rb+fv5ZvqO+vb5Avlt+FP4kvj7+Kb5Uvqo+pb6ZPpa+lL6Z/qa+tX65Pob+477CfxR/Ib80PwH/Ur9qP0j/rD+dv9JAPkAygGeAh8DYAOZA5sDogMnBCgFBQaKBtcGDQcbB0MHrQctCKoI2whVCDQHAQYqBb0ExwT6BBEFJgUgBd8ENQRsA60CHwLmAf4BDwLrAagBVAGmAJf/k/7Z/Tn9hPzW+yn7gfrZ+WL5APmG+B/4I/hm+IL4g/j7+K35L/qL+ur6DfvZ+rv60PrY+sD68Pqb+yv8LPwP/F38rvy4/AD9Bf4X/+r/vgB+AeQBFAJ9AhMDkQMaBJcEEAVoBZ8FmQWFBbwFHwaKBgwHrQfqB88HxgeYBxQHgAbLBbwE9QP1A30EvgTLBL0EVQSTA9ECXgLVAUEB9ADZAKEARgAKALv/FP8G/gH9Yvz7+3f7D/vF+kz6kPnt+GP46ffT90j4//iL+fv5Wvqm+tD6yPq8+rb6wPrV+g37ZfvQ+wv8JPwx/Fb8wPxI/bD9Mf7P/qD/cABPAR8CwgInA48D3gPpA/0DTQSNBMAEKwWgBcUFnwWhBQAGdgaqBsIGMQdbB9IGAAZwBYwFdQUBBYoEAQTQA9YD5wOnA+oCLAKcAUMB4wByAGkAkwBBAKL///5W/pT93fxM/In70Pp6+mv6O/rQ+W/59/jD+Mf4z/jm+Fj52Pnp+eD5Gvp7+sD6EvuV+9T72Pvg+wX8Nvx8/Pj8rf0+/oz+vP4N/5n/MADxAOQBygJjA9UDWwScBHIEYAR9BJYEtwQTBYkFugWzBd0FBgb+BQMGTQadBpAGNQbZBW0FzQRlBFoEKwSuA0cDJwPHAk0C/wHHATQB6ADlAKkACQCH/zb/lf7c/Xn9DP02/Gj7KfsE+8D6hfpy+i763PmU+U75EPkC+S75e/no+Vv6kvqW+rn6BPs++477E/zE/Ej9sv3f/eP95f36/UL+z/6t/4MAEgGrAU4CrgLuAlkD5gNGBHwEpwSsBIQEUQRcBIIErwQCBWYFwAX2Bd4FpwWOBY8FeQVUBWoFgAUrBacE/QNGA68CbgJlAj0C+AHKAXgB5gBxAC4A5f98/xP/iP7Q/WX9Mf3y/I38Ofzf+4j7S/sd+7z6NPrg+aj5hvma+br5t/ms+fH5YfrP+kP7vPsU/HT80fwy/ab9Of7Y/jj/YP9p/4v/wP/y/2wA/wB4AdcBYgLlAgYD/AIdA1gDkgP2A28EtgSqBF4EGATzAxEEdwT2BDwFRwVIBRgF1QSkBH8EawRLBBcE5gOAA7wCDQLMAZEBWQE5ATUB4wBqAPn/gP+9/hj+F/4r/gv+6f3N/Wv9r/wi/MD7W/sc+yn7Pvsi+/367vrF+p/6jvqK+nr6rvoK+1z7tPs6/Kf8Af1i/cL9Cf5Z/rz+Av86/5P/CgBrAJsAvgDmAA0BUgGqARMCdgLPAgADCQMOAxADHQNQA8sDPQRRBDQE7gOJAzsDNgOXA/4DHQQLBPEDtAOSA3gDWwM6AwIDzAJ4Ah0CrgE1AckAkQBwAEAAFADh/3v/+v6D/hz+6v3S/eT92f2a/U395/yL/En8JvwR/A78MfxW/GD8P/wq/O77tfuQ+6T7z/sO/GL8q/zt/EL9rv0R/oL+4f4d/zv/av+s/wIAeQD4ADcBLgERAfoABQE1AZoBCQKOAvECDgP8Ar0CggJoApUC8gI5A1sDSQMbA/8C5ALMAskC8QLwAtwC0gKuApQCZwJGAjkCKALzAbgBZAEPAcwAlQBiAD8ALgARANv/mP9O//D+n/51/lz+P/4V/uP9tf2Y/Wr9RP0z/Rj96vzE/Lr8k/xZ/D78OPw7/Hb8x/zg/Nj89Pw0/Vz9p/0j/qn+2/7b/vD+CP8C/xb/hf/x/xEAGQBBAGcAVgBbAMEAKwFwAcYBFwIbAu8B4QHcAeYBEwJSApECnAJ1AkoCKQIEAvwBCQJCAl0CUAJrAnACVQIjAh4CLAIIAs0BpAF4AVMBPwFGATEB5wCnAIYAdgBNADEANgDu/4H/UP8g/93+sP6z/qD+ef5w/nH+Rv7z/Z39Wv0N/Qb9R/15/ZH9p/2P/U39Cf0I/Tn9ef3q/VX+g/6G/lH+B/7Y/fL9Rv6L/tb+H/8//zr/Nv9C/2H/nP/5/1YAqQD0AB0BIQEVAS8BPAE1AUoBbAFeAUMBPQFXAXUBmwG/AegBFgIpAjoCNAI7AjgCKQIKAvQB+wHnAeYB+gEFAvYBwQGGAXkBYwE/AQkB6wDvAM8AmACKAIoAawBIAEAAEgC+/5X/hP94/2L/NP8B/83+uf68/sb+x/7O/sH+mv5s/mD+df6N/rb+zP7E/pf+Vv4v/ib+Pv5q/q/+1/7e/tb+zP7T/u7+DP8S/zX/hf/P/+b/6P/f/9f/5//+/xAAJAAnABgAHAA+AGAAeQDIABABLAEuAU0BeQFqAU0BXAF/AYwBgwGYAbYBjQFrAWwBcwFcATYBVQGKAYYBeQFtAVcBLAEQATEBPwFCAVwBRwH8AKoArgDjANEAnwCJAHwAKwDf/+P/6//P/7f/3P8CAOL/l/+E/47/Zv9b/1v/Pv8I/9z+tv6K/pL+tv6r/n3+c/56/nj+h/68/tz+w/69/t3+8/7U/rj+qP54/mH+iv6l/pT+kP6y/sj+1v4x/UP7lfwbAAcBMgAfAOoAxgDH/6z/bgDsAPUAwQB5AFQAOwAMAAYATQC1AOoAuwB8AGoAZABoAKoAGAE/AfQAwADeAMoAkQCZAMj/Ov9h/4r/mP73/Wb+FP/8/7AAqwA7AFcAZQBgAKQAjwAwANn/vP/O/zQAuQDUAMIAswCVAFAAFQBBAE0AKACq/xf/sP6X/sX+1/4u/63/wP93/0//Qf/r/q/+7v4p//T+5v7p/nz+9P3u/V3+qf61/pf+ev6T/vb+CP/j/i//4P///6n/sP/1/+b/3f9jAKgAjAC7AC4BDAEKAawBWQJ6AlMCIgKCATkBRAF0AbwBgwLCAlgCUgIjAtoBigJfBOkEBQTFA+oEVwRHA20D3wRKBa4ESwR8AxACtAETA8cEygSOAyQCmAE6AfIAhQDt/3D+ff1//cL8bvsD/AH+Sv4d/Tv9n/0G/Ab7JPxy/NT6q/p6+x776/mc+WH6p/rn+mD74/uu+2X7f/vg++77BfyL/FL91/0j/qL+L//6/94AfgEsAcQAiQDCAM8AOQFSAngD2AN1A1MD5QPGBJIEZQR4BAQFJQU9Bc8FSAZvBnAGbQe4B0EHFQe2B/sHeQfKBtsFxQXABWgFkQQ1BTMFVgT9A30EGAMJ/279Gv93AGH/Kf3t/HD8tvvp+hz7Sfsc/AP9Yv2Z+1v5bfjL+Fr5WfmL+Y35m/nf+Kb4zvjM+Mr47vi7+d/5FvoD+tb5xvm7+vD7cPze/Lb9bf5b/if+nf7S/xQBuwFdAb0AmAAHAcgBYwIzA6kDkAMPA9oCLgPKA68EaAX5BQ4G8gWoBZQFIQaABQEFVwXOBwoJUgmrCGcI3AZMBQME2AIXAtcCrwQiBKUCQwEyABz/MP/h/8z/mgBVABUAcv4y/cn6SPmR+V77jfuf+vr5Bvp9+V752/ms+Yz49/jk+Yj5yPhC+fj5NfqL+t36I/ph+X35M/rO+nH7IvyC/AL9qP05/lz+tf6l/yUAMABhAOoAHgEeAX4B1wHXAQ0CxAKQA9oD+wPkAx4EqANPA4ICVwLaA0UG/gXAAwIEiAXHBSUFZQaRBbsC2AN6CMMIhwUNBUcGJQXhAgoE1QTpBDQEDgRHAcv+8/5pAPMAcv62/WX/zADV/zn/vP7z+835EvrB+s35rfk4+0P8ePs5+ur5+Pmi+S/5Cvqi+sn5g/g2+Vn6jPot+oX6efsQ/Cv8f/yW/AH8ovsN/M/8Pf3x/dX+R/9v//P/2QBOAcUBUwJKAvYB7AH/AcMBKgGsARIDrAOaAygEagQhBJoEnAUbBacEggRrBQgFfQQwBN8ECgUwBd4EIAXFBLEEPAQjBFMFDwbCBWwFvgS7AvQBbQM5BM8CcwEyAZ0Amf/b/or/DAGDAfMA7/8Y/h77KvmW+ij8ufud+kz7O/s6+vz5NvoH+pj5QPpe+1P7IPpj+Yj59vmN+pD77fun+3H7f/sz+1/7F/zQ/AP9K/1Y/Tr9Sf06/vn/8ADIAHEA4QBhAScBMgFTAY0BBQHLACAB3wHnAYACTwQzBYcEGAMoAzgDkQPDAyIExgQPBaQEkQMNA+MDxwThBCoE8gKDAUMBQQKdBOgGEQcMBToE/gV8BmkEoAJpAskBPAB0/1f/7/1p/U//GQEiACD/H/+d/vT90v3f/ib+0P2n/VH9qfoz+Yj5Lvog+gj6HvuJ+kv6avpC+836BvrP+fD5S/pt+mL7Afzm/Pf82/wu/Nn7TPzc/Lf9df5l/3z/tP+I/6n/pf/M/9f/q/+h/8P/OwB5ACABCQL7AowDQwO/AlMCuQIzA6ADRQQOBTwFEATFAu4BWgIDA/cDegOEAiQD4ARDBTkF7QU4BvgEKgOhATMBDQLuAmYEzAUtBn8FfAQkBJcD+gKLAewACwE+AMj/AAB7AN7+qP2Q/QH/xP/7/87/Qf8X/tj8u/x1/Lf8ifxK/Or7Zvzf/Kv72frs+l36//hK+aP6i/vW+438Nv0h/Uz8C/y4/Cb9DP0p/WL9ef2A/c39M/7j/pH/OAB7AKEAmgCKAB4Apf+e/9f/NwCuAJkBVgKWAuYCTwOYA2kDJwP/AscCjwK0AoADowSwBIkDhALlAugDOAQeBMsD6wMYAwoCnAFuArYDSQTIBRcHegd4BYEDYgJzATsBJAIbBA8EDwNeAUsAOQBfANsARgFSAgIBPP/W/TP9jvw9/ab+Df9S/2X/9v58/TX9cP1f/Rv9k/21/R79pvwy/Fr8qPzC/K787/yn/Pf76vuF+2b6wvjC+G36ivxW/nT/BgDp/qT97/wz/YX9tP3N/f/9b/7M/l7/s/8NADQAgwCyAM8AjQATAOb/FgDRAJ8BPQKEApwClgJIAoICjQNBBMAD4QLSAnEC9AHnAUADkQQ4BQMFlAT0A6cCdwElAdkBEwMeBJ4EIwVHBRsF7ARsBUIGngZABm8F0wXrBKIBrP0c/Iv7evso/aP/DgFBAC//p/4C/8/+pf7j/gL/sv5X/mP+I/69/Qn9xfzi/Dz9d/2j/bP9SP3n/OH8Hv1G/Zj9yv3a/c79fv0Q/df8DP04/ZL92/3z/Rr9IPxQ/Bj9gv3L/bD+5P4+/nT9if3U/dj9z/1H/vf+PP+X/wkAgQCZALYA5gD2AOAAmwBJAKz/Vf9//w0AoQBfASsCiwJ3Ai4CIgIFAtUB1QFkAtwC/gIIA/8CFgO4ApYCgwLIAlYD+wNSBAYEogP0AtoCYANfBXkH9wjTCaQKPwzoDMoIPP8y9dDvBe9p8wD8aQVmCfEGLAIF/zz+vf4kAbADnAQXA+AAM/5g+xf5dfjS+Vj8kv9TAlQDjgFS/jr7pvnp+df7OP56/1n/Wv54/f/8f/2h/pH/c/+x/hj+tf2b/cT9WP7I/iT/rv98APMAlACg//b9Ovyr9ZfxwPS9+lj+DQMlCScIxQJR/dX8S/2F/Y/9fP8vADL+Ff24/Cj9T/0//1gBdgNqBI0EJQNVAE3+xv2Y/nL/2QDAAd4B1QCmAJUBzALRA6UE9wTdA3gCugGGAmYDfQTgBYEGcQUtBJQExAWrByAKtA01EQwXwxo3DS/tldIC1eHnNvtrDScgXiKsDL/zxO53+qoCiwW1CVgO7glL/+321/PZ8b7w+fRl/lcIsQxhCv8B1/dS8NPvePbQ/8IFHwXnAIL8jvnU94j5R/6VAej/Q/wV/FD+tP7D/Ab8Of1O/tL+4wCtA4IDtv5O+Zf2qfbG9836jP/sApcDjgOQBBUEIgL5/+L+Z/26+0n7XvyU/eL9Yv48/5MAywHyAmEDPQOMAo0BdgBi/+/+uP5l/tz9+v2O/kP/GwBVAcQCSQPxAgUCVwFjAIL/U/8RAPgAtQGgAlADqwOIA0UDIQPfAp0CmgJKA40DAgRkBRgH+ggMDK4Rehf/EPH5buGc3NPnPPVEAzwTExsCD6b79vNs+yoCZQNBBWoJtAg0Ad/5KvZP9A3yo/N3+vADCQqYCqsFrf0i9g/zbvbW/KIBpwFZ/7r8avqG+Hj5zf0IARMAR/2+/SgA+P8f/Yf7Jfxj/Lf8NP/CAkoDvf+1+pn2lvVg+Lb83P8IAicDJAJaALn/kABFAckAlP/3/rD+6P07/e/81vxO/dX+tgBRAiUDXgPOAqQBtwCfANUAiAATAK7/k/9l/6D/sAAUAlcDUATkBLQESwTHA1EDAwMJA1wDCgQEBXUFzAXjBmgI/AqTD5gY3xal/5Xh/dkF6JbzAv39DB4cdhJq+2byZ/4FB78CUwEPCaoNYgV6/IL50fgi81PwIPZ8AfEIRAkMBan96Pac81D3V/3lAUsCOwG5/+b8Wfq1+nf+kv+u/ET6//zAADUAhP1P/Z3+dv00/Bb/3gP0A3z/mPtg+o/5ifm5+77+HwBCAHwAgwD1ALUBIgJBAe7/NP6D/K37vvuH/GT9eP6J/94AjgG+AcYBmwHsAFYAfgDeALEArf+V/tz9y/1f/of/zwDIAXcCvgKvAowCkgJtAsYBRgGCAR8CzQLnA5oFlwalBjgGcAbbBiUHMgjuCUQM/g9OFpcQvfhX4gLkq/Ey9mD8FA6lGXkKm/cZ+2EJqQa4+z0BaA9HDlEA9vvK/nv5ne1G7rP6kwOiAyIDXAPr/Tj3jvZg+3X9Xv5TAXED7f/j+t/6Qfz2+bX27PiG/cP+1P1Z/4kByf/8+1L7N/6YAC8BDwEOAGP9gPo1+Zf5Yvsc/lIAbwCK/4UA8gE1AZT/HADIAFz/Lv46/3sA/v6k/LT8A/8cADYAXgHfArcCRQHGADcBIAHu/xT/Cv9c/6v/xv/I/ywAHgHzASYCMwLeAncDCQORAoIDPgXoBXAFgwVRBngGHgWOBbIHCwrjC8QQhBEuAVLsw+na9lj4OfYWAy0ScQmn+Kj+Ug2PB6r3yv7fEJwPSQCB/0oGqv3C7l/xFf/mAHj7kv2nA8f/Fvkz+eP75fqp+xgBnQJ5/0P+JQCP/R358/kJ/Wr7xvhl/GABVQAl/Mj7nv1k/bT8pP7cAOD/Kf0P/Kf8PPzE+m36LPxe/u//AAFUAUYBHAG+AAIAxf8NAPT/Vv8X/3L/N////Uz9a/5KAHoBDQLBAikDdQIUARgA5f/5/wIAWAAIAYABfgGCAe4BQwIxAmsCPAMkBMYEdAW0BRQFhAS6BJ4FpgZtBwAInQm6DMgL+QDn9CD1tPzw+nv2Nv4oCJgDYPsDAWAINgLU+uYC8g2pCnwBkAFFBVEANPiX9/r73fxH+9z7fP4N/5n7Uvcg+Lz90P8//Fb7tAB5A0v/vfuR/br+Y/uH+a78AADw/oL85fzZ/k7+cfu9+lD9+v56/Tn8Zv0v/vv8avy0/SH/af9o/yUAWwHUAS8BugATAUEBkQDv/wQAOwDB/wn/sf6s/u/+uf/0APcBXgKTAsUCjgIoAv8B1wGGAWkBsgH5AeoB4wH8AfAB+QGPAqUDhQTkBBcFKAXrBLYEZgUZB1kIbQZRAVX92/02/+79pf1WAJsC9gHKACMAlf9+AKQCxQNOAzIDVQPPAr0BUwAZ/pD8rP2W/0P/c/2U/PX7bvp++UH6Jvtf+0n83v2O/gH+Wv3z/Mz8t/x3/Fj8RP33/qH/6f7B/b38+/vr+1f8b/xc/Jj88/wo/Vf9pP0q/u7+m//3/1YACQGEAUkBoQApAOn/0v8rAOcAYAEhAbIAowDFALwAtgD3AGwB0wHkAbUBawFPAX0B6wFqAuoCbwO2A6YDfgOhA8QDlQNkA6cDBAQOBF8EHwWpBUoFMASpAnIB5wD+AE8A1v6t/gMACAHbAEQB9wGyAUEBnQFYARkAEABIARoBUv9z/sL+sP7T/dT8q/uD+m76Kfuy+737vfvX+/X77fvB++P7hfwO/Qj9O/0k/vD+Bf8K/wD/TP5T/fb89Pyg/KH8Iv1g/S79Uf3c/TX+ev4c/+X/NQA4ALEAYwGwAc4BNwJ5AgoCjAGjAdQBdwHDAHwAqQC/AJoApwACASkB/AAmAdIBewLnAjYDcQNvA2MDVQMfA9oC3wIqA1sDVgOpA1cE4gQXBRoF9ANbAWz/lP+OAOj/wP4b/yEAcgCrAJgBxwFRAXUBugECAZsAgQHjAbYApf+R/2H/kP6x/bH8qvtA+377r/ur+wv8zvwy/cj8SPzF/JX9kP0B/Vv9Uf60/sT+Vf/e/2v/kf7a/TP9tvzK/CX9MP1B/aT9Gf5r/p7+BP+J/6r/of/d/2YAygD+AFoBiQGEAZUBngFrAQgBwACmALMAzwDtAAQBIgEwAfcA1gAWAZAB5QEvAp4CKQOtAw0EOwRIBFYEOwT4AwAEXgTcBKIF1QURBLkB2AAcAUYA5v4Z/ykAhwByAOkAHAHQAPIA/QAmANf/1ACPAfMAlgD+AMAAif9V/mf9pvxA/Bj8zvuD+7H7Evwu/Nj7qfsU/Gr8I/wH/BD9O/5c/kv+1v5V/yX/zf53/uP9e/16/W/9OP03/X79vv30/Sj+ff71/i3/OP+U/ygAdQB1AMoAUgGgAaYBnQGMAYABYAEnAR4BTQFWARwB7ADmAO8A+AAwAZIBJQLlAnoDwwP9A0EESQQ4BI0ETQW5BdIFCwYcBfoCcgF0AVsB/v8//7r/XwBkAGwAmgB7AIsAhwAEANf/qQA/AagABQBpAKcADwAq/2X+q/0L/Vf8sfuB++X7DPyh+0T7YvvM++H7t/sE/Mv8bf2d/fn9rf44/0r//f56/vn9A/7z/UT9Gf2t/fD9k/1//fT9Lv4b/jD+ff4H/5b///9LAO0AmAHUAdYB2wHhAa8BgwGVAcsB5gHBAZUBogGxAYkBfgHHATICpAIsA6sD8QMTBD4ExwR+BfgFoAbWBlEFAAP4AXQC/QF0ABkABAGnATEBtACEAF8ABQBD/67+Wv9oAHQA3/8sAPwAsACT/7L+TP4F/o79wPxM/Gz8ivzX+yT7IftP+0r7J/t7+yr8tfzx/AX9jv0y/mL+V/5B/jz+PP4W/qn9d/0B/lb+AP7C/eT9yv1q/ZH9Tf4S/3z/q/8EAJkAAgEOARwBgAHMAeABFgKSAtkCmwI6AhkCRQKKAuQCLwNmA5MDrwPFA+4DcwRYBTAG1gaDBywHQQVvAwgDGgMSAkIBzQGpArMC9wFoAQUBtABGAKT/pP+hACoBlgC0/67/3v9m/43+wf1F/Qn9VPyK+5P7OPxJ/HL7+/pA+2b7A/uP+r36ifst/DX8W/w0/dH9o/0b/QD9Pf1T/Ub9Yv3b/Rb+xv2N/dT9F/4G/hr+cP7R/i3/jf/1/4gAJQFcAUEBhwElAmsCcgLHAj4DdQOKA7kDEwQ7BDUENwRyBMMEIgWnBVEGBAeYBwoHJAWrA6MD7wMBAx8ChQJJAzYDYwL4AfoBswHxACYAOwDoAPwAawAeAFwAKQAk/wv+Xf0F/aL8zvsu+137sftU+5v6gvq1+o/6N/oV+mL6xPoP+/P6rfvg/F78kfwq/Z38XPyn/In8mvzX/Ef9V/0T/Tn97vzo/Cj9ef1G/iP/9v97AOsAXQGKAYIBsAE3AtQCUQO3Az8EogS9BMsE3QQaBWIFuAVeBgcHaQeNBywHEgbgBF4EUQTiAz8DWwPeAz0EEwSaAxIDiwIDAmEBMgF+AasBRgF3ADsABwBe/53+xP37/Hb87vtV+y77ZvtZ+9z6dfpq+lj6B/qU+XH5s/kO+l36yfqF+/z7CPwY/Ef8WvxK/ED8V/xt/H/8h/yH/Ij8iPyz/Bv9vf1X/r/+DP+j/x0AqwBWAe4BVwKoAjYDiAPSAzMEqwT2BEgFzQUwBmAGawa1BjYHvgeNB2IGXgUkBTMFlwT6A/cD9APFA74D/wPLAwEDhAJZAgsCqQGFAbEBqwETAUAAxv+L/9/+2/04/dj8Vvzm+6b7Wvv++qb6Qvq0+VX5S/l9+cv5K/qE+sv6LfuQ+8T71fvq++j73vvm+xz8YvyZ/Jv8kfx8/HT8i/zx/M79z/0v/g3/hf9MAPMAeAFDAo0C0QJXA/oDVgT1BGsF4gV/BgwHhQfsB1YIqQh6CFsHJga9BbQFYwX9BA8FzQRWBEYEigQoBBUDoQKlAl8C8gHlARcCAAJMAakAQgDg/x3/K/50/e78dPxO/F386/tE+8r6bvrL+TX5Fvkp+W75wvkZ+mD6nfq3+tj6Lvtp+4D7tPsI/BX8B/wn/EH8FPzV+/X7Wvy4/B/9m/0e/qL+Lf/C/08A2gBdAecBcgLfAnADMQTXBEUFsQU9BsgGOAe7B0AIOQiTB80GZwY3BvQFsQUyBcsEpQSgBFwE1ANaAwgDgQISAgoCLwIwAvwBuwE9AaIAKwC6/xT/Vv7H/Vr96vxq/Pz7ifvq+iT6evkA+bL4qvjg+C/5gvne+U76rfrs+hL7Mftd+5X7x/v8+0f8iPyP/Gj8g/zH/OX85fwg/Y396/0x/rb+ov+XADQBswFVAuMCOAOUAzUE+ASdBUUGBAeUB8sH8Af7B7AHGweMBl8GLAbkBVoF9gTZBJAEHwS/A4UDHwOMAiwCAQLIAYgBaQFCAfkArABnABMAef/W/jb+m/07/db8W/zE+xr7cfrN+T/5Avn7+On42PgW+bL5Nvp2+qH62foE+xz7NvuB++f7TvyN/LH89Pws/Uv9if3P/Rn+d/4C/6L/PwC9ACkBnwEeArkCVwPwA30E5gQuBXAF9wVvBuMGbAfAB68HXQcAB6cGQAbsBasFaAUoBeoEygRuBNkDOwO4AjsCnQEYAeEAtABEAL7/T//k/mr+EP7R/Zz9a/0p/fj8qPxF/L/7bfvO+p76aPry+e/5kPly+UL5nfnG+Rr6Yvrn+h37Jvta+7H7Uvx7/OH8Xv3+/Vv+tv5H/9T/TAB1AOsAWAHGASACYQK2AgoDYwPkA0oEpQT/BGsFwgVABqsG3QZiB04HOgfsBs0GjgYwBsAFTwUFBa0EVATRAzIDrAIHAn0B6gDEAP7/Vv8w/6r+iP4U/tf9af0i/c78cvwk/NH7cvv/+qP6WPr7+Zv5Rfkk+TD5Qvk9+V/5t/kd+mb6tvoO+3f70PsI/E/8sfwi/ZD9/P14/v7+lf8xAMwASwHFAUMCpwLsAjoDrQMrBJQE0wQdBXEFrQXgBSEGXQafBtIGBwcpBx0H8ga0Bm4GCgaNBSsFpwQZBI8DLgOoAh0CeQHMAEoA9v9q/7f+Sv71/Wv9B/3S/H38NfwO/Lb7Ovvf+qX6X/oa+uz5yPmy+aH5pfm3+c358/kd+kj6bPqL+sv6Lvub+wn8iPwT/Y79AP53/gP/kP8tAMoATwHBASkCegLIAi0DkgPzA0sEoATiBBsFUwV/BZwFxAXtBQUG9gXQBbkFsQWpBZUFigVeBRAFpgQ1BMsDUwPoApYCRwLmAWkB6QBxAOn/W//M/kv+3f1c/dD8U/zp+4L7Ifve+rT6iPpL+hj6B/oL+vj57vn5+Q/6Ovpn+qT69PpM+677GvyR/AP9dP3z/Vr+sP4R/4X/8v9MALcAMAGWAdEBAwI+Am0CnQLjAjwDfgOyA9UD6gPhA9QDyAPIA9oD8AMDBA0ECQTnA7wDmQN4A0MDGgP/AuACrwKBAlQCDAK3AW8BPQH7AI8ALQDl/5H/K//E/m7+HP7G/W39Kv3x/Lv8e/w5/Av88Pvj++77B/wq/EX8ZfyH/J/8zPwH/VH9mP3X/R3+Wv6L/r/+/P4z/2b/sv8SAF0AiAC2AN0A+AAEARwBTwF+AaMBxQH8AQ8CDgIRAiECKgIgAhgCGgIsAiUCEQIAAv8BAAL0AeQB0QGmAW4BTAE4ARwB9gDGAKAAfQBQACoADgAMAPH/uP+O/3T/W/8d//X+5/7h/tL+w/68/qH+ef5b/ln+Zf5o/mb+b/5y/nH+dv6D/pn+vP7h/vz+Ef8u/03/Vv9b/3r/p//Q/+P/CABFAGgAbwB1AHoAeQCAAJoAygDzAPoA9ADtAOsA6QDmAOsA+AAJAQ4BEgEWAREBAwHzAN4AzgC5ALIAsgCrAJsAigB4AF0ANAAUAOn/xv+v/6v/vP+s/4r/eP97/4f/fv9v/2b/Zv9k/2r/jv+a/37/bP9r/3b/dP9q/23/Y/9q/3X/iP+H/4T/lv+o/7P/wP/i/wYAEAAJAAgACwAbAC8ARQBiAGMAUwA8ADYAOQA/AEMAUwBcAFcATwBIAEoAUgBVAEsAQQA5AD0AQQA/ADsANwBAAEUANQAhABYAEAAKAAQA8//k/9H/tv+s/7H/tf+0/7j/vf+x/6L/mv+X/5z/pf+0/8X/5f8AAAgADwAAAAQADgAKAAUA9v8EABAACgD///z////9//z/7v/t/+3/+f8IAA0ADwATAAsADwAeACsAKQA0ADYAJQAbABAADgALABAADAAEAP3/+P8AAPn/8//k/+j/8P/r/+n/4//b/8v/y//R/9X/0f/K/8v/xP+7/77/vv+3/67/qv+5/8L/zP/Q/9H/yf/G/8f/2//5/xoALwA3ADMAMAArADEASwBcAFsAXwBlAGgAbgBlAF4AUwBJAEQAQwBTAFAAQwA6ADcAMQAbABkAMQAwABYADQAaACEADQDu/93/0f/Z//D/+v/y/9f/wP+7/7T/qP+u/7P/u/+1/6r/p/+d/5f/nP+m/7D/xP/S/+r/6f/Z/97/4f/u/+j/9v8NACAANAA6AEQAQAAxADkARgBDADcAPQBLAFQARgA/AEsATwBVAGsAfwCCAHkAcQB1AG8AagBkAFkAXABfAGAAWgBKADkAIAALAAQA///2//D/6f/k/+X/5v/b/8f/tP+4/8T/yP/Q/9D/0//L/8H/wf/J/9H/0f/Y/97/6//n/93/1f/F/8//5//1//f/AgARAAMA9P/o//L/+//5/wgAIAAmACUAGwAVAAkA//8RAC0AOwAvACEAEAAHAPv/8//9/xAAFQAUABMAHgAjABgACwALABQAIQBCAFwAYgBKADoANwArACAAEgATABwAGQAWAAwAAQDv/+H/3P/e/97/3v/q/+3/8P/4/wUABgAFAA0ADQAKAPz/6v/4/wQAAQDp/+j/7//m/+P/8f/7//v/7P/l/+X/2P/T/8//3//1//3/AwAEAP7/+//5/wMAGQAuADYAMgApABYA+f/p/9z/3f/l/+f/9P8CAPr/6P/f/9v/2f/c/+v/+v8BAAMA9f/j/+D/2f/b/+b/8P/s/+L/1P/K/8//0f/b/+v/7v/h/9r/zf/R/9r/4//n/+T/7P/p/+n/9f8CAAoACgAFAAIA8P/i/+r/7v/o/+v/+P8DAP//6P/d/+H/6f/t//f/CQASABAACgARAAsACwAQABcAEAAPABwAJgAeABQABwAEABMAEgAPABEADwD9/+X/3P/d/93/6f/t//X/5//q/+j/4v+e/4X9Cv7k/qH/EABjAI8A8v8VAP3/8P8PACsAkQBwAIwAaP+g+5P+cP+//97+yf/2/zj/+//B/rL89PyH/Xj+Kf+u/3YAVf/z/2T/Tv8fAHAAVAH6ABoB6wDd/7//bf87/8b/EwBLAP3/rf8OADT/9/6T/oX++/7S/jT/ev9Y/3T/cv9q/zn+mf5G/3f/r//P/77/fv+4/6f/of/p/4AA8ADRAKkAnQBYAH4AlADPAOgAVAGOAVIBLwH+ADEBPwF4AW4BrQEcAUEAoABwAP4AswB9AU0BOQGwATIBvgEfAnwClQKiAqYCjQJcAtoCzwIBAzsDMgNMA/QCQAMaAxIDQQNBA20DSgN0Az4DFQO6ArMCeQJjAjQCFgLpAWQBHgFvACUA3P/M/47/HP/G/nv+Nv7t/cf9gv1a/SL9Nf0L/e/8BP35/Br9Mv1l/ZD9lf24/bf9z/36/Sr+dv6a/ur+HP9N/4D/8P/BAN0BFgPKA14EbgUWBqMGPQcjCPUIigmDCh4LrAuODFsNIw8/EAYSeAx3AjX95fvp+TH0FfaM9WPzRvPU8gLtW+gO7gzzFfX1+Kb+ov8IAYcDRALo/ygDUAhKCDAIBAiiBZ4Bi/82/DD42Pe0+bD4S/am9V70Y/OJ88v09fRQ9s/5S/u6+4D8A/4u/2MA7gFuAi0DJQT3A58ClAFJAZIBhgLSA5QEZwUxBjgGTAakB4IJpwu0Dc8Q+hKZFjkZIh3YE1UB7vpG/Wz91vKZ9z741/HV707wtuaQ3AvpUfWL9sX4zwHnAosBvAXNBooDUwccE18WxhLbDUEKSwWM/1/7i/ey9YX1BvaC8XHoduMw5TnnJulL7qLyV/VG+jf+/Pus+zkCAwewB3QJ+wpGCJwFvQTGAE38L/37/5f+4/v3+kz5OvfC92n5cvrC/XIDswb5BvEHwgo5DfMPLxOuFuQZ2x6KIjknVh1HCA39zv4b/xXzXPbu95XxhezC7BHjy9Ve4erxtPX69qwAQwQJA4EGPwlsB04LcxiGHtYa1BK7DUoJNwPS/S/6PPls+N33B/Rd6v3iU+Q46L7pkux/8Wr05fdq/Gf8gvtXAYYJMwtYC2MNuAtBCKMHXwWIAOj/3QKDAV78Hfqn+Pb1bPXy9qr3YvhF/LD+SP3O/BL/vgGcA4kGMglfCuILDQ3GDFwM0Q3LD/EQGxFNEY8RYROqFUAY1RiOCM37Zfis/rn1TfDm9kH1H/Gd76vwcOOL4g3ym/qs+Dn86gS2BIkEKQfcBywGrg2jFuAWhBDGCnYJSwULAF/7aPon+g35e/dG8XHpGedD6lzskO0G8Y70aPfk+nT8dvtd/qQETAjYCAMKbQpZCCEHqAU7AlAABgILAywAEv2s+9v5nfiB+Oj4avla+/b9C/4l/Zf9KAAbA2AF+wc/Cn8M9w25Dj4PbQ+sECUSyROpFFUWxhm8G4APcwKQ++D+tPqd9d73zva39IXw8O+O54/iVekW87j3yfcq/Of/YQGBAMkBaAOeB00OyxS7FIQO1wvPCgUInALhAIMBnwDE/6f8Zfab70/t6e0M7g7uC+8/8Rn0g/Vu9Iz0q/f9+z3/MAJ0BM4EggUABtUEegLKAkQF8gXdBJ4DZwJ3ABP/h/6x/RL96/0j/4D+Gf2y/J/9Nv4u/zYB8gJ0BBkGtAcpCPAICQsJDe8NyA5tELYRIxNtFVsXYRFjCZQEkgZTBOj+Ev7+/hf+4/nM+I30rO4b7wL05PVZ8631efl2+vb4VPl0+Tn6vP1kAgkEyQKQA/cEAgVmAh4BwQFoAuAC4AIxAuL/Qf5z/Uj8UPpx+dz5yvqp+8n7gvsy+3D7TPta++j7pPxq/Xz+iv+O/0v/cv+k/0v/N//B/x0AHQBbALkAXADY/7v/8//U/93/GQAWABQATgB7AFkAYQCsAOMAEgFWAbIBBAJyAtcCAwNZA6sDAAQuBGUEtgQLBVsFgwWQBXEFZwVxBYUFjAWIBXwFNQXJBDoEeAOiAvoBcQHkAHkAOgCx/wb/hP4q/rj9bP2M/bn9q/13/V79OP0h/Sz9Rf3b/GP8PPxR/F/8Kvzx+3/7Q/s/+xj7w/qU+sv6E/tS+2T7ffue+9f7/fsg/D78ufyF/UH+qv65/un+Bf8a/y3/Wv+u/zIA7gAxATIBWAG2Ad4B9AFRArkCNwPuA5wE5wQjBaEF5QXnBQ8GmAZKBwAIlwjcCHIIvwdSBxcHTwdOBxsHTwbrBbAFBwV+A2UCRwGFAMH/lP8L/zr+w/1S/aP85ft6+2z7SftG+1f7L/sA+xL7RfsO+4b6dfqc+tr6Ffs2+077NPtM+xD7p/pV+mX6t/oy+3X7gft++7D7gvsr+/z6EvuF+yL82PxM/cX9Uf6P/p/+5P5X/zMAIgHxAUUCnQIEAykDOQNcA6MD1AMCBBcE6APNA/cD+wOxA20DZQN/A5QDyQPxAyMEggTrBCEFLAVhBbMF9QVqBvIGYwe/B/QHHQedBUMEQgSdBFUELwMBAkEBAAFDABb/bv1F/Bv8Pvxc/Oj7kPuV+6f7XvvK+nn64Pp1+/v79/vB+9r7Bfz0+z/7nvqS+vr6lvu6+2n7Jfsu+yL7yfpy+oD69Pri+5z8j/xX/Eb8VvwX/A/8afwR/ez92v5P/3j/m//v/ywAXQDFAEAB8gGKAtACswKrAtEC5gLTAroCxQITA3oDogOdA6MDuQPCA6kDuQPMAwcEaAS1BNYECQViBY0FhwWHBc8FWAb1BkYHqgd1B1gG8ATxAxYEKgSLA4QCcgHYAHwAkf9d/sH89fvj+wL8A/yf+2n7lvuP+0j7y/rQ+nL7+/to/Ev8Nfx0/KT8Wvxo+7f6qvrz+hb76fp4+mT6Wfrw+UP53/hI+QX6Bfuv++D7Gvyi/Oz8A/07/eT90P62/3EAkwCsAPAAHwH2ALoA7ABjAfEBYwJdAkgCkgLnAv8CBgNSA7EDCwR0BKsEvQTyBDYFOwUlBTYFeQW1BeMFHAY6BlIGXwZpBkAGMAZeBq8G8wYkB1gG8QTJA6oD6gOFA4ECnQEdATMBtwCC/yr+H/3Q/Jv8VfwF/NP7+/sB/Hb7y/pY+pX69frz+uP6ofrZ+iv79/pW+qj5gPma+cv5yPnU+SX6pPq3+kj6+/k9+sn6SfvX+y38cvzx/FP9OP0H/YL9Zf4T/5b/LwChAAcBfQGcAX0BlwE8Au0CYAOhA+IDFwQ1BBIE8gP2AwcENwR0BJ0EtATpBCIFJwURBSwFXwWUBcUF6QUSBkEGegZ7BlkGVgZfBqIG4AbqBjIG3wSrAyUDIwPwAg8CHQFbABoAw//b/sX94vyS/H/8TPwe/Nr7r/ud+zD7tvp/+r76D/sQ+976l/qF+pH6n/pK+s35fPmA+bD5vvnQ+d75Evom+gn6z/nQ+R/6rvpA++T7g/wL/XD9jv2x/dn9Vv4B/7T/cAAgAZkB4AHTAZkBewG4ASICiwL9AlEDjQOvA6EDbQNYA6MDBwSCBAcFeAW0BeIF/wXoBeYFGQZ6Bs0G+gYBB9MGmAZkBhIG5gXyBS4GcQaIBuUFogRQA6gCnwKaAjsCmgEYAdUAZQBz/0f+Y/3m/KL8bvxI/Pf7tftw+/f6QfrV+dj5DfoY+hf6Fvod+kH6LPq7+Rv5yfjb+CT5Y/mC+Yf5tPnG+a35kvmz+RH6f/oD+5/7MPyj/PP8KP1j/dL9W/4D/5f/MQDzAI0B6AETAjACRQJ8AtMCJAODAxAElwTUBMUEsgS8BO8ENwVrBacFAQZRBmYGYgZeBl0GVwZuBmkGYAZ+BpgGnAZtBhMGwAWmBcAFyQWgBV8FywTsA+YCwAEcAQYBJgHfAOL/JP/Y/lP+lP11/KH7Z/uo+y78Fvyg+2D7IPut+jn6Afr9+Sj6d/pt+t75Ufkh+fX4jfg9+En4mvgX+YX5pvm4+c35G/pn+pX6Ifv9++L8ev3Q/SD+cf7A/g3/T/+h/ywAygBHAZwB3wEeAkcCdAKdAtgCTgPrA4IE5gQ1BYAFzwUHBiQGOAZUBn4GnQbBBtMGxgatBnkGTAYIBs0FqAVeBRQF3gSxBHcEPAQiBBME/gPtA8sDlwNIA8oCNQLBAX0BOgHaAGcA6v99/+3+Pv5j/Zr8Gfzf+6X7hPtF+/T6l/oe+p75H/kA+SD5UPlh+YX5vvnW+an5VPkL+RX5g/kJ+mj6uPoY+0b7P/sn+zX7b/vt+6X8P/2h/RD+f/6y/sD+8v5X/+n/jwAvAbUBNgKyAg4DSwN/A8UDJQSjBBoFTQWEBbUFtQWsBaMFogWZBasFygXDBZcFXQUzBe0EtgScBJAEaAQ1BAcE0gOGA04DKQMHA+8CAAMCA7wCZgINAuQBrwGDAW0BFgGWABMAuv9j/wD/oP5G/t39lv1e/fj8j/w1/Oz7j/tM+0H7WPtF+wb72PrI+sr62vrs+uz67/r1+vv62fq7+tP68PoO+xz7NftY+5f7+Ps2/Fv8mfz5/Gb92P1H/qP+Bf+D/+X/PACnABkBhwHQARECTwKfAhIDWwOfA8sDHQRHBFkEWQRwBJgErwTLBNQE1ATZBOsEygRnBD0EJgQcBPAD3AO6A3wDUwMjA+QCiwJbAk0CIAL7AQICBwLsAbcBaAFEASkBGgERAdMAiwBSAP3/qv9N///+uf5x/jL+1f2Q/T390fx6/DD8Efwd/A388/vn+977vPt2+2H7fvua+7372Pvu++j73/vU+737u/vg+xr8avzB/Oz8Cf0y/XL9tv0F/nn+/P53/+b/WACZAMcADgFbAZkB0wEtAogCzgIBAxoDLwM/A20DogPOA+oD9QP0A+0D4QPVA90D0APXA80DsgOOA3cDVwMWA/sCAQPvAtkCoQJ+AjIC9QHCAZMBdwFzAXUBUAEbAfMA0ACkAJ0AmACVAHoAbgBDAPn/xP+L/03/H/8A/9n+p/52/kr+Av67/W/9SP0r/QT9B/35/N381Pzb/M38rPyt/MT81/zp/Ar9GP0D/QP9Ev0a/Sj9Tv18/Zn9tv3J/dz9BP5G/or+uf7//kL/ff+z/9z/FwBGAIwAzwAhAVkBdgGkAb0B2gHtAQ8CQAJaAnECdgKKAoQCdAJ/ApcCkgKkAr0CpwKsAo4CbAJXAlACSQIuAiACCwLtAakBdwFJASMBEgEfASsBKwE1ASkB+ADLAI4AdwCRALsAyQCyAIwASQAYAPX/4v+d/2v/Wv9b/zv/6/6z/m3+Dv7F/an9l/2A/Yf9hf1y/Uf9G/0C/c/8pfyY/LX85vwC/ff8+/z5/Or85fzh/P38J/13/b790/3w/RX+QP5j/ov+v/7l/hL/aP+y/9X//f8ZADgAXgCcAOQAJQFSAZcBuQHMAecBBgIXAh4CMwJUAmcCdQKdAowCaQJgAmACcQJsAm0CWgJPAkcCOgIUAvMBzgGTAXgBZQF3AWMBWgFVAS4BEQHjANIAvgChAKcAxgDcAMQAowCYAIcAZABXACQA7v/P/8P/qf9f/yD/1/6N/kf+I/7e/ab9Tv1r/Yb8d/rW+h/8Pfp6+WP7+/tb+3v7/vsE/A/7rvog++37O/wk/Bz8Zfw3/BT8ffz9/Gv9Ff7F/tf+uv7p/jf/Uf/W/5cARwGcAUACUwKiAiUDiwKxAr4DvQQ6BF8ExQQ4BL4DEwSoApcCnAX0BcoEbgTkA7sD3QRpBQUFEAXvBDMESQTMBKgEUgSBBKEEXwRABTYGPQboBS0GPAbzBZQFDgY/BusF/QUPBcEC+v86/q/89vqe+hX7XfrC+Vn5RPhm95H3bfgG+XX6Ivxw/Mf7Ovv0+bH4l/go+fH5v/o2+3v65vnx+Dn4gfho+Yf6tfuh/LL8ufy8/LD8Gf39/Rj/egDMAW8CjQJ/ApYCrAJJA/4DgQS2BNAE1ARzBAkE/QOtBFoF5QUoBocGWwaWBj4HFgiXCOsIVQmjCYYJ8gjECKkIdgg3CBkIWwetBmwGCgbaBXoF7wYUCNkI9QicCOEHwwY9BoIEwwOlAcf+8/pQ+NH2rfVT9fjzePRr9Lb0SvNP9BD17PXK9hr4hvjH95b3ufZ49Qb0mPQC9W31t/Uj9sL1I/UM9YL1cfZO9+T4APp7+or6vvr/+mD7TPx4/ez+IAAeAdYBiQIEA0oDjQPrA2wE5AR0BaoFeAUuBYgFzwUgBmoG6QaSB+wHWQitCAcJqAlECmQKZAp9Co0KbQq1CZcIrAevB4wHEgd5BwcHgAYXB9MI6glrCNsHHAhlB+QDzQCD/fb5SPg0+Er3TfQl9LnzcfOH8izya/I+9En2HfjO+A34U/eT9hf27/QO9En0lPVJ9p/1xvQb9Eb0a/SX9f/2v/ck+YX6kPv2+nr6ePvP/KL9pf52ALsBPALiAm4DFQM+A5sE9AXlBesFvwb+BlUGDwY7BogG6gYmCBEJKgmDCWcKPgvACnkLEwyyDCYNWg0fDSoMJgv6Cs8KgAnsCM8IuwhHCFwIZwssDU0MvgmuCNAFdQBY/Oj4Efkn+Mf4QfgN+BT2a/b58+bysPIZ9en3xPf+9nr25/XS8/bxjfEL8k/z0/TK9n72gPSz9MD0ofPV8in01/Vw96D4AfqK+l36ufpc+8P7Svzh/dX/DgGzAXIC0QLRAqMC9wJmAw8EZwUwBuwGaQfKBzMIzAgvCccJewqQC2sM0QxTDXENhw3VDCEN2QzSDHYMjAwCDEcMhAzBC9kKGguhChQKbgyzDv0PWw3RCvAEX/2d91n25PT+8qXz9fa1+LL3nfYq90/2NvUX+IP6Pfpp+p35kPae8fzsGezQ6wztMfCJ85j0DvV09ez0wPNF89b0Tfae9+D4afoM+kH5mvgh+KD4Fvqz/FL/DwHyAVICBQJjAXMB+wG8AiYD+QNUBbkGjAdyCEgJ2gklC2oMfA29DX0Oqg7SDvIOiQ6kDksOaA6CDk8P1A7uDYsMXQyEDHEM4QwzDPQO1xFPFJETZg57B7T+9PYa8hLvzu317rDyjvag92/4tffq93j5SPsX/l7+1v7b/U37/PbR8a3tDOkK54HoAuwb7nXwdvPo9Nz0UvUa9tf11vZk+fz7Z/wA/Cf70fm994f2Svdd+cv71P4NAnAD4QIkAp4BUAFLAUQCrgP4BJsGVQgTChUL2AsLDI4NoQ4pDygPuw80EIkPqA/YD9kPLw+rED0S5BEcEeIQnxCrD8INpQ64ED0UvRatFPoLxP7D84rtQ+t76ZvpXO5I9hX8k/5J/c36K/lZ+6P/mwJ/A+4DnQMIAPz45/Fg6wHn8OXO6O3pnekc7LXvFPKP8sL09vX492X7Kv9OAB3/2P28/In6avdX9Vf1zfZE+WX8G/59/hH/2gCGAa4A7f9lAHEBswJNBMkFUgerCUkMeQ5wD9oPphAJEeQPTw7bDbYNLw5bD0IQOBDrETwUEBadFSIVEhROEqESoRMfGNIcIxcJAgLxUetX6FvfYN715ljuxvU2AdQImQEn+2r/PAYnBY4EPAnfC0QJmwafAHLz8eQh337h4eLj4wTnze1v8+X25/fR9eryzvPR+AX+uQA5AU4ANf/d/CX4SvLR71ry/vZ/+jz8F/2a/a39O/0H/Ez6u/nt+ywARQPTA4EDbwQtBksHQgj6CcQMMg8bEb8RfBAvD1INpw3UDY8O+A1xD20RTRNyFeEWJxhpGF0YAhjsGUocWSJ6ER/2lOUU5Wni+9MO2tzjo+3n8nsEfAocAHj7GgaVD+IL4wsuEjMTzQ3ACsoD6vPx4tHeWN9b3iTdeeCl5r/tOPR89sr2/fcm/IsBLwe7CmQJiQXVAmj/z/fd7pXrgu3170TxuPN39qv4Qvon/BP9Dv35/DX/mAJWBFoD4AE2ArQCXQJeAdIBDwO3BJcG8AhCCtMJ0wnuCncLlQqzCT4KywuXDioQShJnFLAW5hfGGaIbkxqLGbcY1BnMGisfSRy6/e3k3tyD4lbUrs9f3UTqoPAK/A8OKwdF+5f/yQ8FEQgNTBNTGQQVqw+lCkj82OYE3MPd3N7l3RXfHeZn7JjxiPQ59gH3Y/gG/q0Gnw2QDnIMTArdBW/9YfRH7nfsEe6n8dDzc/Ss9a32VPbJ9dz2w/if+yEB8AbyCKIGqQT3A00Cgf+1/mQA7QEMA/wEoAVtAzQBnwF2A2IEwgVUCDALMw2KDmMQqxC2ER8TABW2F64ZEhs3GoUbphqyGRoXUBjHG3oezAWq5wLa9d6c273RHN3C5+LvdvVxByUFlfY+9QIGBBEJEFUVJhwlGlwUyw8bAzzu99/i4S7moOcT5kXnC+ni6xTtVOv66v/tw/c+BVoRFhOWDaUKlglABLn6gfQf9Nn2cvo4+7f3s/L+723w4fF18wj10vhxAEEH/gg9BU8CpwHlAakB+gG8ApECowMkBeEEyQCT/bb+fQH0AjQDuQQ1BrMHUwmjClgLWQskDZgQNhO3E9sToxWxFzcY3Rg6GN4X9BduGGIZ1xpPHeYKBu0J3nrgauD81e3cYuf96/ruB/sp/Dfuye3q/iENBhDIFZwd7BujFv8S/gg6+NTsHe9a8y7z2+796tvnROWe4/ThZOKL5W/vzv6yC+UONgtGCOMHJwXyAM3+VAFBBbIHYwabAOD3N/CK7bDuyO968F30SftGAOv/yf16/Cf99P5IA7AHNgnPCG8JewrjB2ADgQDVAOkBfQKPAjoCZAEVAQ0CqwN4BJkFZQjEDKAPhBAfEfISKBWkFpgXPhigFy8Xbhh/GOgXVxdpGJoOUve75mjkv+XN32HfkOdw6r/qse4I873sKelE8ywCfgoQDxoVDxjRFecSKQ5EBp3+9fzu/5YAovx69TrvmekF5drhH+GU4nzmCu/3+C7+2P2g/UP+vf4NAFgD7gfFC18ORA42C2MFX/4r+Rb4ZfjG93X3IPmI+Yj3IvUz9Fj0zfXY+Vv/XAMkBTsGZwd1B1MG9AX2BmEI+gg8CbUIKwcCBf8DSQT4BDgFegVHByEJ+AkbCj0L8wyXDj4QZBN+FNUVIxdKGbsZ2xnZGSURqv4Z8oPw5fAx7Mzpr+y864nqjepR6mfkQeMG6zT2dP5/BOoIPwtrDJUNhQwUCQ0IUQq9DQ4Omgo6BOP8T/YP8cbtCes06d7pu+1y8YzxwO8074fw0PEG9LP4tP5mBBcI+gk3CcEGTARyA40DxQOFA2cD7wJZAX3+DPty+Ob21fYx+O35O/vc+3389/wS/YL90/4lAesDlwaDCK4JYArfCiELQwsjC0kLbwu6C14LpQrfCfMJSAotCo8KtAuQDFsNXA60D+8QuhHRECYKk/+++Z/5i/oM91j1APam9QnzMPGF7x7shOvB8MP3gvpn/DL/pAHyAH8AMAFsARACLgX1CFsJCAfYBN4CjP9F/NX6i/qt+T75Dfqd+VL38/TP88vywPEi8rT09ffP+qf8xf1Z/n3+0P61//EAwQGeAhUE9gQ3BOACPAKUAYoA8v8xAGcAuAAWATEBwwCGAO8AeQGgAbgBKAJKApMCuAKbAgECdQGvAdEB7AHuAUcCZgIAA3UDtQMLBFoEyATxBBEFFgVABWkF9wXXBtoHYQhsB9kEAAKbAL8AFwEXAQcBNQE7AdQAx/9G/hH97vy6/UX+YP6T/mz+K/6a/dP8yvsO+yb71fuw/Dr9b/1x/VL9Jv3Z/Kf8WPw//K78Gv0C/Yf8Mfzt+6P7efuC+7T7HPyR/NH8x/yP/HX8jfzo/Fn9sP0H/n3+z/7F/pX+l/7V/jP/rf/X/9D/5v8uAFkAYAB5ALkACQGIARwCSAIsAk0CmAK8AtsCNQORA8IDAQQ8BEEEFgQMBC0ELAQcBB8EPgRMBFAERQRXBJ8EDgWYBU4G8Ab/BkMGtgW4BQsGQQYoBvIFEwUPBAwDWAKzAegAFwA9/2z+CP7q/fr9u/1U/R39v/xH/Nf7jfto+1P7X/tQ++f6lPps+jD66vmo+bP5//lt+sf6xPq5+uD6Nfuk+xX8fPzt/EL9bv0z/ez8yfy7/Bv9jf2G/YD9pP35/Rv+B/4T/jT+f/4h/9L/kwBHAbkBCQJwAgADZQOfA/wDWASYBM8E8gSoBOADLwMAA/wC0QLAAvECKQNDA18DkQOpA6sD0QNUBOUELgWEBe0FLwZIBkQGPAYEBvQFqQX0BEcE/AMCBJkD5AI9AtEBlgEjAU4AXP9U/pn9+/xt/OT7PPvj+vX65vqC+g/6Dvph+nP6d/qB+qb65/oV+wX7v/qa+tz6Rvt6+2j7bvvM+zT8d/yB/G78g/zk/GD9f/1Q/Uz9uf0T/i3+9/3b/fb9Lv5Y/jv+Rf64/of/QQCzAP4AiAFLAvICTgOAA8MDCwRCBFIEHgSTA0MDFAP2AqcCdwKGAp4CsQKIAlYCWAKZAtkCCQNSA7QDDwRABGAEfQSNBK0E0gQMBV8FlwXJBR4GSgbVBd4EMAQLBC4EsgPVAssB/QCvACIAAv/a/ej8dPwl/N77jfsR+zT7wfvY+5n7ZPvE+0v8Q/zz+4L7Zvvi+0n8P/zZ+6/7Bfxp/Fz84/uJ+8/7c/zO/Mn8h/yI/OL8T/1e/ST9A/0S/TD9VP1w/WD9g/35/ZX+Af9Q/83/LwCGALkACwGKAQoCVAJ3ArgC+wIeA/sCzwLLAuUCGQMvA/QClwJ5Ap0CngJnAiUCHAJPAocCowKjAsoCJAOUA7sDuQPeA0MElwSqBK8ErgS5BAgFbwWIBWgFtQTXAzED9wLyAiwCIAGaAD8A8P84/1/+v/0C/cP8sPxE/AL86ftd/MX8cvwY/AP8O/x8/EL8B/zs+y38xvz5/MH8cPxS/Fz8X/w1/Pf76vsw/If8n/yn/MH8u/y6/J/8fvxs/IH86fw4/Yf9A/5H/mX+ev6h/vz+dv8aAKAA1wAUAWsBqwGgAXwBoQEdAp0CzQK0Ap4ClwJ+AlcCGgLbAdwBJAJuAmkCLAIFAg8CZwJZAkkCVwL7AlIDgAOLA9ADuAO8A8kD+wP0A9oDOASHBLAEvQTgBLYEnwOLAkcCdwJBAi0BcgAqAOf/7f9Y/3T+qP0//Z/9jP04/RH9Ef2P/bT9QP3y/OH8Pv1J/e78xfyq/M787fzI/E388vsB/Bv8C/zY++L7Cvwh/BD82fvW+xz8S/yD/H38o/wj/ZP9zP22/dL9Rv6v/gj/Q/+V/wsAegC9AKAAgwDFAEABjwF0AWEBmQH6ASsCAQLiAQQCQgJlAlICOQIrAioCTQJGAgECzgEIAkgCTQJVAo0C0QICAyADOgNKA28DnQOiA6EDrwPFA9UD1APRA88D5wMbBFUEtwOCAvwBOAKGAvQB8gCzAL8A+wDZAPH/KP+W/nv+af6t/U79Zf2u/fX9k/3+/M383vwO/bP8K/wZ/H/8Cv0O/an8Q/wi/Bj88/uv+4j7tfsi/GP8c/xt/Kf80fyx/JD8iPzL/Dn9hv2r/eH9UP6k/qH+uf4K/57/EwCLANEA8ABKAaoBtwFeAS0BfwHcAQgC+wHaAesBBAL2AbYBjgGyAfIBLQJOAl8CiQLTAhMDBQP3AiADSgNKAyoDPgNmA44DmQN3AywD7ALNArYChwJjAqcCHAN3A7MD/gP4AzkDogKYAt4CowK9AWIBKwH1ALEA2f8G/2b+7v22/fj8o/yn/Jz8zPyn/G78nPzk/C39wfxK/Fr8r/z9/Oj8s/xg/EL8R/z/+5P7SPtU+5f7nvuh+8r7CPxk/GP8S/xS/KD8Qv3D/R3+lf4x/6//uP+x/87/DgBDAH0AuwDRAPsAVQF8AVgBOQFUAXMBnAG0AcwB7QEfAk4CZQKBArUC4ALeAtQC2wLzAu4C5AL0AiYDSQM0A/0CzgKpApQCjgKBAokCyAInA0wDHQPlAvkCBQMPAxMDEQNTA7UDYgNkAs4BzwEpAq8B2wBLAOP/zf+n/+3+LP6l/WX9S/3c/LH8qPyc/Nn8zPy//Pv8Ov1P/ej8uvzs/Cn9M/3//Kr8XPxH/CL8t/tn+4X76Ps1/D/8SvyI/OL8Qv1i/WD9ef3Z/Wf+r/7K/hT/f/+s/6H/wf8JAFgAjAC7AN4A9AAeAScBAQHtAC4BlAHcAeQBAgIjAkgCUAI1AkkCfQLSAv8CBAPoAssCwAKcAm0CUQJbAnwClwKvArICpgKpAp8CkwKlAsYC7QLxAvkC/wLbAqgCfQJxApMCrQLiAuACPgKaAVUBZgFKAbAAWAA8AA4A6/+V/xP/iv4U/vD9nP1Q/V39Y/14/WH9Gv0K/Rr9Pv0H/ar8nPy+/Of85fzF/I78cfyM/JP8X/xP/HD8nfzE/Nz87fzs/BL9Pf1V/Vf9jP3n/Sf+V/6D/tP+E/8u/0D/U/+a/wcAgwDcAPcAFAE5AVMBcQGQAa4B0wEIAksCXgJJAjYCHwIaAi0CSwJLAlECcwKSAoQCYAJJAk8CdAK3AugC3gLdAusC6QLCApUCfgJ3AnoCgQJ0AlgCRQIoAhMC9QHlAeAB8QEHAhACAwKbATsBCgH/AAUB3gChAGcATAA4AMf/Mv/p/r7+mv5J/g7++P2m/Xf9SP37/OL88/wi/R79/PwV/TL9L/0X/fb87fzw/AP95vyM/Gz8ePyX/Hb8U/xm/IP8tPzV/O/8JP1W/bX9Ff5n/sP+Hv9m/5H/xP8SAFkAiwDGABEBYQF4AXMBbQFoAXcBfwF2AXEBfgGpAb0BuAGgAa0B5wERAiMCMwJxArkC4ALnAuoC8gLwAukC2gLJAqUCiwJlAjMCAQLZAbsBmAF2AWgBdgGOAZYBjwGBAZQByQH1AeQB0AHdAdABnQFIAfwAwACSAGsAHgC4/4D/df9Z/w3/uv6c/o/+Z/5K/i7+Dv7q/df9uf2C/Vz9XP1F/Qj9+PwJ/Qz98fzD/Kj8ofyh/IX8UPxP/Ib8yfzy/An9H/04/Uz9fP2k/df9Nf6e/vf+Lf9T/3r/fv+C/5j/vf/y/y4AdACcALYAxQDWAPAAHQFdAZsBvAHcARACOAJUAlICVgJyApgCzAL2AvYC4gLbAsoCmAJqAlMCTAJQAmACcQJqAlcCQgIVAvkB9QHvAdkBxAG8AboBkwFiATgBBAHeANAArgCPAGcAUgBIAEAAQQApABAABQD6/+j/xf+q/4z/UP8k//r+3P69/pP+d/5d/jf+Hv4C/uX92f3e/en98f0G/vD93/3c/bv9nP2F/Yn9lP2P/aH9sf21/bX9s/21/b392v0U/i/+Sf5u/pj+2f4C/xD/Ff85/4D/uv/s/yAAQgBdAHYAogC9AMwA+gAuAWMBiAHAAfIB+gEJAiECNQItAjACPwIzAhsCGQIoAj4CTwJVAksCLQIWAgUC9QHsAeoB3QHJAb4BsgGQAVsBIwH4ANQAygDCALsAuACaAHsAYABSAEAAJAAMAPv/4f/k/wwABQDb/7j/p/+p/6b/j/+P/4n/iP+d/5z/if9V/x7/Bv/2/un+3f7W/sz+uv6R/nH+V/48/ir+KP4u/jj+Mv4d/hX+Df74/fP97v34/QH+DP4f/iv+QP5I/lz+a/6D/qj+z/4A/zz/bv+F/4f/mP+0/87/1v/U/+X/DwBEAHsApwC7ANQA9AAeAT8BVQFjAYEBmAGYAY4BiAGPAZUBhQGHAYIBcwFYAVUBWgFNAVIBcQGLAYsBjQGMAYEBbwFbAUIBGgEKAQYB9ADXALMAjQBmADkAJQAaAB8AJQAnAC8ALwAhABUA8//U/8j/vP+7/7r/rv+5/7T/qf+Q/2//WP9P/0n/Q/8z/yT/Fv8L//3++v77/vf+Bf8C/wL//v76/vb+6v7c/uP+4P7m/vL+9P7s/t3+1v68/qX+mv6l/rX+zf7x/vz+CP8T/xz/Jv8n/zT/Sv9w/4f/jP+O/4z/p/+9/8X/4P8BADAATwBuAIUAkQCiALwA1ADhAPUADQErAT0BQQE7ATQBOQFBAVMBXQFhAWkBWwFSAUYBMgEqATMBOwE5AUQBSgE2ASQBFwEIAfsA6gDWANAA0ADFAKcAhQByAF0AVABMAEMAMAAhAAgA8//b/8L/vv+4/6//pP+n/5z/oP+k/6X/m/+h/7P/vf/F/8X/u/+p/5T/dv9c/1n/X/9k/2n/bf97/4D/f/9v/2D/S/9D/1D/S/9A/0L/Pf81/xf//v77/v/+CP8A/wL/Fv8h/yj/Mf87/zv/Nf8+/03/UP9S/2v/f/+V/6f/xv/n//b/DwAuAD4APwBXAHYAjwCTAJwArAC3AMcA1ADwAP8ACwETAQ8BFgEZAREBFAEUARYBDwESAQoB9QDhANgA2wDlANwA2ADYAM0AwgCxAKQAmgCKAIIAiwCMAIgAfABsAFkASAA7ADAAHAAHAPj/6//d/8//xP/F/8P/uf+0/6z/oP+W/57/o/+m/6r/qv+r/7L/sf+x/6b/ov+T/5b/pv+d/5z/mf+T/5T/k/+U/5L/i/+K/4v/gP97/3//iP+G/4n/kP+e/6z/pv+e/5H/jv+S/5f/l/+Q/5L/nf+l/5b/i/+I/4b/m/+r/7r/u/+4/7j/yP/R/8//zf/n//v/BwAZAB8AIQAlAC0AOgBIAD8AQQBIAFwAYABfAFsAbAByAH0AiACRAJgAmgCnALIAqACWAI4AhgB+AH0AegBlAFMARgA9ACUAAgD0/+//5//m/+X/5//p/+r/5f/U/87/y//c/+f/7v/5//j/1//A/6b/l/+c/5b/mf+l/7L/t/+k/4n/dP9r/2z/bP+H/5j/qP+7/8b/wv+3/7r/v//B/8z/0//S/9L/xf+//8L/tP+e/5j/n/+q/8T/1P/X/9H/1P/N/87/y//Z//T/FwArACsAKAAmACkAKwArABwAGwAlADAAMgAYAA4AEQAOAAgAGAArADsAQgA9ADoAOwBGAFkAZAB4AHgAdAB6AGoAXABPAD4ANAA7AEUAQgBAAD0AOgAyAC8AMgAyACsAIwAbACgAMQAsACMAEwAJABMAHgAfADEAPABJAEcAPAAgAA8ACQAHAA0AEAATAA4ABwD1/+f/3//W/+L/7/8AAAgADgAKABQAEQAFAPX/6v/l/+n/8f/j/9D/yv/K/9L/5//r//L/AAAYACYAJQAiAA8AEQAKAAkA/f8FABUAEQAPAAkA8v/p/+j/6//n/+n/+v8ZACYAJwAkAB4AJgAzADQAKQAfABEABQD+//T/8P/r//D/7f/z//3////7//H/+v8AAAAAAgABAAIAAgAQABMADgAIABEALAAuACkAIgAbABwAIgAvAC4AKQAkABkAEwAMAAwABwAIABAADgARAA8ACQAIAAgACQANAAAA9//z/+n/8P/0//r/9f/w/9v/z//O/8v/1f/j//D//////wQACAD9//v/BQASAA8ACwAKAAsADAAHAP//8//t/+r/6v/o/+v/8v/w/+j/3//e/+b/6P/s//b/+f/z/+z/4//c/9n/3//j/+H/4f/d/9f/4//i/9//3//i/+r/6//2//X/9v/z//L/+f/4//j/BAAGAAcA+v/5/wEABQAKAAgAAQAFAAsA/f/z/+H/6f/v//D/8f/3//P/9f/y/+z/9v/t/+n/6v/s/+3/6//s/+v/7P/l/+P/3P/W/9r/3f/b/9n/0//P/87/0P/a/9P/z//G/8P/zf/Q/9n/4f/t/+7/8v/3/wYAFAASABMAEgAWABkAIAAfACAAGwAVABQACQABAAUAAwD6//7/AAACAAsADQALAAgADgAJAA0AEAAOABAACAD+//X/8//7//7/+v/6//n/9v/7//7/+//4//r/AwATACUAMgA1ACwAJgAkACQAKQAyADAAKwAtAC8AJQAYABUADAABAAIABwAKABYAHAAdACUAIQAYABwAKgA1ADYANgAyACsAJwAhABcABwAGAAMACAAUACcANgA4ADsAPQA9ADgANwA+AD8AOgA6ADQALQAlAB8AJwAtADQAKgAiAC4ALQA4AEIAPAA2ADMAQAA6AC8AMAAzADAALAA6AEEAKgAWAA4A//8JAAoADgANAAoADwAVABYADQARAAsAFQAdACgAKQArADMANwAuACAAIQATABUAGgATAAsAAgDz/+H/0P/N/87/0//i//H/+P/7//r/+P/7//X/7v/w/+z/7v/x/+X/3f/k/93/1f/X/9D/2P/U/9//7f/3//n/8f/k/+T/8P/y//L/8P/2/+3/5//w/+3/5v/r/+3/9P/3//7/9v/t/+P/1v/L/8X/yf/L/9P/3v/a/9X/2f/W/9r/4f/d//D/9/8KABMAAQD0//H/9v/u//D/+P/v//T/+v/3/+n/6v/p/9n/1//a/93/5f/m/+n/4//m/+T/5P/o/+f/7v/o/+D/4f/g/9n/3f/e/+L/2f/d/93/y//E/73/v/+3/7//y//e/+P/4//i/9r/3f/W/9T/0//V/+H/3f/W/9L/zP+//8D/w//L/83/1//d/9z/3v/a/9H/0//X/9n/4f/s//r/AwAOAAcA/v/2//T/8P/o/+H/5//t//n/8//i/93/z//S/9T/4f/s/+3/8v/3////+f/v/+3/9P/8/wIAAQD+/wEAAwD8//f/+//9//f/7v/3//r/9//x//D/8P/4/wAAAgAJABMAHwAkACcAKAAfABkADgALAAcAAQD9/wkAAgAFABIAJgA2ADoAOgAsACQAJAAtACsALwAzAD4AQAAzACMAGwAUAA8ADQALABAADgARABEACwAPAAoADgAIAA8AGgAfACMAHgAbABQADQAOABIAFQAQAAwADgAXABwAIwAgABsAGAAXABYAJgAtAC4ANQA0AD4APAA2AC0AHgAgAB8AIAAjACIAHgAcAB4AHQAUABQAJwAeACIAJwAnACEAGgAPAA4ACgD//xAAFQATACcAKwAmABsADwAKAPn/9//2//T/9//w/+//7P/y//z//P/5//n/AQAAAP//BgABAPz/9P/+////+//9/wAA/f8BAP//9//0//L/8f/t/+L/2v/X/8j/xf/I/9D/0//S/9T/zP/S/9r/5f/r//b/9//7/wIABwAIAAQA/P/8//n/9f/u/+P/2v/N/83/0v/U/9n/2v/b/9v/2f/b/9n/4v/l/+n/7f/4/wYABQABAP7////y/9//3P/f/93/2v/c/9//6P/j/+f/9//8//z/7f/b/83/1f/U/9n/4P/o/+7/8//u/+X/3v/d/+L/4f/l/+z/+P8GAP7//P/4//P/9f/z//P/7f/y//7///8BAPP/7//0//f/8//j/+n/5//i/+f/5//m/+z/7P/q/+7/9v/5//z//f/9//n/+v/7//n/9v/u//r/+v/6//T/4f/d/93/3f/X/9z/1v/L/8X/yf/K/7//xP/Q/9z/5v/1//r/8v/y//b//P/9//f/+P/x/+7/8f/1/+T/3f/f/9//5f/y//n/9f/0//r/+//9/wgADgAUABkADwAPABUAEwAZABwAHQAhACkAMAA1AC8AIgAfAB0AJAAxADUAKgAkACkAMQA0AC8ANQAoACEAIwAfACcALQAqACsAMgA0ADIAMQAsACwALQAtADAANQAzADEAMgAqACUAHwAdAB0AJwAuACEAHQAbABcADQAJAA8ACwALAAQABQD///r/9f/x//H/8P/1//3/CwAUABYABgD//wEA/f/y//H//v8FAA8AIwAnACQAGgAVABkAFQAVABYAEgASABQAFgAZABcAFwAYABoAHwAgACQAIQAfACcAOAA5ADoAPAA6ADwAQAA/ADMAKwAdABYADgAGAAEACwAEAP7/AAD+/wkABAD//wQACgAFAAkABwD+//T/7f/y//P/8v/6//L/7P/3//b/8P/1//z/+/8CAAkAEgAXAB0AGgAbABgADwASAAwABQAEAP3/AAADAAIAAgD5//L/7//4//b/5f/k/+//+/8GAAwABQD7////CgAMAAsAAAAAAPf/6P/b/97/2P/O/9f/3f/d/9X/1f/d/9j/2v/c/+P/8//2//X/7//n/+X/7f/s/+7/6//q//X/+P/4//b/9//y/+7/+f8AAPr/8v/u//H/6P/c/9n/2f/j/+f/9v/3//P/+f/3//L/6v/o/+r/9P/v//T/9//r/+b/4v/i/97/3//f/+j/5//X/9H/z//T/9r/2f/Q/8//zv/L/9D/0//X/9z/5v/r/+b/5//u/+P/4P/l/+3/7//r//H/8v/7/wQACwARABcAGQASAAYAAgD9//X//P/2//H/+f/9//r/+f/7//z/CQAVABUAIAAhACEAJwAqACwAIwAeABQABgACAAAA+//5//T/8f/u/+b/4v/a/9X/1//Z/+7/8//t/+3/+P/3/wIAAgAAAAkADAAIAAcAEAAJAAkADAAUABEADwAKAAYACgATACIALwA4ADsANwA8ADoAMwAvADIALwAwADUAPAA5AC4AKAAhACEAIgAlABkAFwAUAA8ACgALABcAGAAUABwAGAAWACgAJQAnACAAHQAbABMAEQAJAA8AEAAWAA8ACAAHAAcAAAD+/wYADgAPABQAFAAPABMAFAANABIAGAAXABwAFwAWABcAGwAgACIAIQASABkAJQAgAB0AHwAkACYAJwAoACIAJwA0ADMAMQAlACoAMQAtACwAJAAYABQAEQAPAAgAAwAAAP//AQD9//z/BAAJABAAFAAXAA8ABwAKAAcABAAQABUAHQAeAB0AGwATAA8ABAADAAkABwAKAAUAAAADAAgABAADAP//BgAAAPz/+//x//f/AQD8//j/8P/x/+j/3f/Y/9n/5f/j/+f/6f/s//T/9//r/+L/3f/Y/93/1f/Z/97/4v/n/+n/9P/y/+//8v/7/wMACAADAAEACAALAAQA/v/5////+f/6//v///8EAPv/+v/4//f/5P/Y/9v/1//f/9r/2//f/+H/4P/a/+P/4P/h//T/7//y//f//P/v//P/8v/q/+3/6f/h/+f/6v/o/+r/5//i/93/3f/m/+//6//s/+7/6v/y//f/8f/s/+H/3f/c/9T/0v/d/9j/1f/T/87/0f/U/9f/2f/d/9//3//l/+D/4//s/+z/7f/n/+P/1f/N/8n/0f/Z/9//4v/g/+j/6v/q/+7/5P/r/+7/8P/z/+z/5P/j/+X/6//y//f/9//v/+n/6v/u/+v/8v/x/+v/7v/2//////8CAAAAAwAAAP//AgAKABEAGAAlACgAKAAmACIAIAAgABYAFwAKAAQABQADAAEAAQAIAAsAEQAZACoAIgAcABcAEAAVABsAGAAXABcADQAWABMAEgAbABgAGQAaACAAIwAnABoAHAAcABwAIQASAAwAEAAXACEAHgAfACUAHQAaABUAGAAUAA8AEAAHAA8ADwAaACQAKgA1ADoAPQBEAEgARQBFAEkASABKAEoASQBFADcAMAAkACEAIwArACgAIQAbABkAGAAbABkAEQAZABUAEgAVABUAGgAcAB4AIAAnAC8AJAAYAA0AAwDv/+3/9/8BAAMABAAWAB0AIAAcACsANAA0ADIAKQAmABsAHwAlACMAKQAtAC8ALgAsACQAIAAXABwAHQAcABgACwAHAAIAAAD2//L/8//1//j//v8IAAwAEAANAAAAAAD8//n/9f/1//L/AQD9//P/8P/q/+//5//r/+z/8f/5//b/9f/z//H/+f////3/8//6//H/7v/w/+r/6v/w/+r/7v/2/+//7f/w//D/5f/p/+f/5P/z/////v/9//v/+P/9/wIA//////v/9f/v/+r/9v/z/+r/2v/W/9n/yv/N/8r/zP/Q/9D/1//d/9r/5f/b/9T/1f/S/9H/1f/V/9b/4f/m/9//0P/T/9T/0//d/97/5v/o//D//f/z//L//v8CAAEAAQD8//j/+//3/+3/5f/g/9L/1//W/9X/0f/P/9b/0//T/9f/3//W/9z/2//f/+z/5P/r/+X/3//d/+X/7v/2//L/9v/2//X/8v/0//n/+f/4//D/6P/i/9b/1v/Z/97/3v/j/+r/6f/l/+T/5v/r/+r/8//u/+b/8f/z//L//v/8//z/BAADAAYAAAAFAAEA+v/+//D/8v/6//3////5//n/+f/y/+3/7//u/+//8v/5//7////+//////8EAAsACQACAAIAAAAEAAQACQAWABYAFwAaABoAFAAUABgAEwASABkAHwAgABoAFAAKAA4AFgATABMAFQAOABAACAAGABIAHQAmAC4ALQAwACwAKgAmACEAIwArAC4ALQAkACAAJgArACgAIwAsACkANgBKAEoARwBCADsAOQA9AEEAQgA+AEMAQABGAEUAPgA0ACgAFgANABEAEAASAAcAAwAFAAMAAQD7//X/6f/q//j//P/3//z/9v/1/wAA/P/2//P/9v/7//r/9//0//L/5f/d/+T/7//2//H/+v/8//3/BQAEAP//CwAGAP3/9P/p/+z/6P/m//T/8f/0/wMAAgAKAA8AFgAdABkAHgAkAB8AHgAgABQAFwAXAA4ACgAIAA4AEwAYABsAEQALAP///f/7//b/CgAaACAAHgAVABcAFgASABoAGAAaABoAHwAfAB4AHAAVACIAGAANAAsA///1/+//8P/q//H/7P/q/+X/4//e/+H/3v/W/9n/3P/e/9z/3f/d/9v/2f/b/9f/1f/V/+D/4P/f/97/5f/t/+j/4f/l/9f/1v/N/73/u/+4/7n/uP+//8L/xv/J/8j/0//b/+X/6v/l/9f/0v/T/9b/2f/a/9v/1//R/83/1//h/+n/4f/i/+3/7//y/+H/3f/i/+7/8f/t/+//7P/o/+v/6f/i/+D/1v/g/9//4P/u//P/+v/4/+3/8//1//r/+v////7//P/4//z/BQAAAPf/7v/w/+//6//p/+z/8f/3/wAACwAMAAwAFAAiABsAFAAVABAADAARABYAEwAZABAADQAQAAsABwACAPj/9P/1////AQD+/wQA/f///wMA/P8ZABYAEAALAAYABQAAAAEA/f/1//j//P/9/wYABgD///3//f/4/wIAAwDz//H/+P///wAACAAHAAQAEQAPABkAGQAjAB8AJQApAC4ANwApACkALAAoAC4ALwAqACwALgAqACMAGQAdABEACQAFAAwAGgAbACAAIAAkACQALQAtAC4AKAAtACwAJwAjAB8AIQAdABwAGAAdABwAFQAZABsAEQANAAsACAALABMADwAKABQADwAMAAcACgATACEAKgAjACYAIQAYABMACQALAA0ADAAGAAIA+//2////AQABAP//AQACAAUADAAIABEAEQAIAAsAAwD//wcADwAWAA8AEgAcABwAIgAiACMAJAAiABYABgAAAP3//P////7/AQACAPr/8f/x//f/+P/s/+3/9f/+/wgACQAIAAcACQAEAAgACgAJAA0ADwAJAAwAEgAJAAYA+P/4//r//v/+//X/9v/y/+//9P/y//D/+P/5//n///8AAAIAAQD2/wAA+v/1//b/8//x//X/9f/0/+//6f/k/8j/wP+//8H/w/++/8D/w//L/8b/xf+z/7T/vf/J/9z/3P/d/9//4v/f/+H/5v/n/+L/4f/r/+v/6P/x//f/8f/y//j/AgADAPv/9P/w/+7/7P/t/+f/5v/v/+j/6f/o/+f/7f/w//T/8f/y//b//P/6//j/8//0//T/8f/x//H/8f/z//f/9v/z//H/8P/n/9r/1f/P/8v/yf/H/9L/2f/c/+P/6f/z//D/7f/s/+r/7f/0//v/BAAEAAsABgD//wIAAAACAP//+f/8/wQAAAD+/wAABgAHAAwAEAATABoAHQAWABgAFQAbABwAEgAHAAMA/P/7/wIA//8SABMAFAAQAAoABgAAAAoACgABAAAA+v/w/+b/5f/m/+j/6//p//H/9//9//v/+v8EAP3//////wMABAAFAAIABQAIAAcADgAMAAoADwAWABsAFQAaAB8AHAAZABkAJAAeABMAGgAbABoAHgAZABsAGQAdACAAJgAyAC8AKwAnACMAIQAiACIAKAAuADAANgA9AEIARwBHADwAPgBCADwANAAnACEAIAAdABwAIQApACkAKAAjACMAJAAkAC4AJgAoACcAIQAcAAoACQANAAgAAQD6//n/9f/w/+b/6P/u//f/8//s//L/8P/1//j/8v/5////CgAOAAwABAAKAAgACwAMAAwABwAGAAsACAAPABEAGQAdACIAKwA0ADcAMAA0AC8AKwAvAC4AIgAXABYADwAAAAEA/v/7/wAA///+//7////5//D/9f/3/wQAAgD5/wIA/f/6//b/9//s/+X/9f/t/9j/5f/k/9v/5v/h/+v/8//v/wMA9f/u/+T//v/z//P/DQD4/w0AGQAKAOT/0P+1/6//xv/J/9X/xP/T/+L/AQAnAFAAYQA+AC4A/f/t/+H/w//K/9b/5v/w/wYA8P/g/9j/5v/+/9r/zf/H/8T/sf+m/+X/3f/M/8v/6f/a//f/7v+n/97/6v/s//z/3//J/97/OQBdACsAFgAPAPv/6f8AAOH/0v/O/8T/uP+///H/KgD2/7v/0v/r/+L/DwAIANz/2f/k//3/+f/7//H/HAD9/93/3f/X/87/z//Y/+P/6f/y//X//f8LAPf/1f/k//n/DwAqAAkA9P/9//7/FAAkAB4A+v/4/xgAFQADAB4AKQD5/xAADgASAB8AEgDv/+v/6P/f//D/4//a/9X/2f/f/9n/4f/6/wsAFAAGAPL/BAAGAO7/5f/u//T//v8EAAwAAwDu/+//4P/T/8n/4P/6/wMADgAOABQAGgAeAAwAAAAJABEAGAAKAAgADgAgAC8AMgA1AEEASgBRAEsAUwBWAEwANQAjABQAEwARAAoAFgATABwAGQARABgAFgAHAAYAFAAVAB0AKAAkACYANQA2ADcAPwAtACEAEQAFAAEACAADAO//8P/+/xAAHAAjACIALAAtADIAQQBAADUAJQAOABMAHAAjACQAGgASAA0AEQAIAAoABAAHAAoAFwAVABYAGQAUAAoA9f8EABUADgATABQAHgAmADIAJQAeAB0ADQARAAQA/P/t/+3/7f/q/+r/6P/w/+//6P/a/9L/3v/n/+j/2v/K/9X/0//g/+b/8v/8/wUACQALAAMAAQALABcAEwAIAAMAAgAIAAAA+v/3//z/AQAJAAIA8v/y//7/DwAZABYADAAFABMAGAAcABoAEgAIAP//CQAJAAoAAQADAPb/7v/7//f/5v/n/+j/7f/q/+z/8f/8//b/8f/x/+r/BQALAP7/8v/2/+//6f/0//X/6//g/97/3v/k/+b/3v/a/+D/3//l/+H/2f/Z/97/4v/d/9L/wf/O/9z/2//Y/9D/yv/R/9v/4P/p/+r/5//z//j/7f/u/+z/7f/v//T/5f/u//X/7//9//3/9v/x/+//8f/x//f/+P/4//3/AAAGAA4A/v/z//X/7f/c/83/z//a/+T/5v/w/wAAAAANABYAJwAtABwAEgAWABQADwANAAoAAAD7//f/7v/p/+7/9/8CAAwABQABAP//8v/w//v/+f/x/wAAAgD7//n/DAAPAAgABgD8/wAABgACAPz/+f/y/+//9f/u/+3/7//0//D//f8AAPv/AgAEAAIAAAD9/wEAAAAEAAwACQAKABYAGAAVABcAEQAMAAcAAgAIAAUACAARAAwACwAQAAsACwAPAAwABgAEAP3/BQAOAAoA+//6//z/+P8HAAcADQAUABQAGQAgACoAIAAYABoAEAAKAA4AEQAPABMAEwAIAAUADwAaABYAFAAbACcAJgAhACIAHgAaAAwACAD//wAABgAHAP//9P/3//z/+P/n/+r/8f/4/wQACQAQABcAHgAeACoAMQAiAB8AIAAeACMAGwAUABMAFgAkACEAEQD+/+7/7P/m/+v/6f/s/+3/9/////f/+v8AAAwAHgAeABUACwAQABUABQD4//3/BAAEAPz/+f/v/+f/4v/e/+H/3P/X/9j/6v/9/xAAFAASAA4AFwAlACwAJQAhADEALwAhACYAJgAkACgAJQAbABEAGQAaAAwACAAUACMAIQAcABcAGQATAA8ADQADAAAA/v/5//n/9//4//T/9f/0/wAABgAGAPb/8v/v/97/5v/t//T/9v/4//T/+P/y/+n/4v/n/+r/7v/q/9X/1v/n//D/+v/w/+7/+f/9/wAA/P/8//n/+f/v/9//6f/p/+7/7//d/9//5f/u//H/9f/x//H/9P/+/wYABwAFAPr//f/7//j/9f/4/+3/4P/q//D/7P/Z/9j/4//t//f/6v/p/+7/7v/m/+P/4v/n//T/9//2//f/9v/p/+j/8//5//n/9P/u//D/6v/t//D/7v/i//b/9v/k/9b/zv/c/+D/5P/q/+7/9P/4//f/+v/2//X/9v/z//H/9//6//f//v8PABYAGQAZABMAGAAjABkAFwAPAAUAAgD+//7/AAD+/wYABgADAAkABAD5//D/8P/+/wQA///7//X/7v/x/+z/6P/t/+b/5v/h/+P/4f/l/+P/3//c/9//5v/j/9j/1f/i/+j/7//1//v/9P/z//X/6//n/+3/7f/n/+7/7f/r//j/BAD6/+z/4v/h/+v/9v/2//j/+//6//z/+P/6//b//P8AAAEACQALABEADAALABAAGgAdABQAFwAQAAQA/v/+//r//f/+/wAA/f/+//7/AQAJAAYADQAaACgAOAAvADYAPAA5ADsAOABBAEUARQBGAEUAPwAzAC8AKgAjABsADAAPABEADAASABQAGQAeACIAHwAuADUAKQAiABgAFwAGAAEAAAADAAgADQAVAAsAAwABAPj//P/5//H/5f/e/9r/1f/P/9P/4P/m/+T/5P/j/9//5P/n/+X/4v/2/w0AEQAYABQAEgAeACoALgAzADMAKwAqABkADQAEAAwADQACAAsABwATABUABQABAPv//P8AAAMAAwAFAA4ACAD///n/8//1//X/8v/r/+H/5P/w//L/8P/u/+f/7f/1//X/7//r/+//7f/r/+r/7v/v//D/8f/7////BwAFAPv/+f///wIABgATABIADgAMAA0ABAAGAAsABwAJAAYABgALAA0ABwAGAAIA9v/5//T/9P/4//j//P/7/wAAAQAHAAUAAQACAA0ADQABAAwACgAMABEAAwAGAA4ABQD3//r//v/4//3/CQAPABMACgAIABIAGQAWAAwAFAAQABEAEwALAAYABgD5//f/8//t//f/8P/s/+z/7v/m/9f/1//U/9j/4P/i/+D/2//l/+X/5v/j/+j/8P/4//n/+f/8//r/+P/+////BAAEAAAA+//3//7/BQAHAA8ADgAWACAAHQAVAAoABgAEAAUACAARAA4ADwAUABEACQD8//f/9f/0//D/6//m/+v/7v/r//T/+/8BAA8ADgAJAAUABgD4//D/8v/3//3/AAACAAgADAAMAAUAAAD0//H/AAD3//D/6v/j/+D/2v/e/+r/6//n/+b/5f/v//H/8//+//3//P8AAP7/9//x//L/9//s/+//7//u//z/AQADAAAA+//4//n/AgAJAA8ADgAQABMAIQAgABsAFAAXABwAIQAmACsAIwAgACEAIAAfACkAIgAbABwAFAASAA0AEgANAAoADQAVACMAJAApACcAIAAaABcAHgAXAAwACQATABIADQAKAPz/8f/v/+z/6f/p/+r/7v/v/+v/8v/1//L/6f/s//X/AAAJAAcADQATAAcACgABAP3/+f/4//f/8f/s//D/9v/8/w0ADgABAPz/AAADAP7/+//8/////v/8/wAADwAKAAkADQAOAAkAEQAWABoAHQAVAA0AAAD5//f//v8FAAoAEAAFAP3//f/7/wcACQD///j/+f/8//v/9v/7//P/5//n/+f/6v/v//H//P8DAAgABwAIABAAFgAeAB4AHgAZABsAHwAaABAAEAAWABEAEQAQABQAFwAMAAkACwAJAAUA/v8AAAIACgANAA8ACwAJAAUA9//r//T/+P/7/wIABwACAPv/+//z//f/9//x/+z/4//n/+3/7v/u/+r/7//1//T/9f/y//P/9P/s/+3/7v/o/+T/6P/t/+H/3f/k/+b/7f/p/9//5P/x//X/+P/0/+r/7f/z/+z/4P/d/+P/4f/h/9X/0v/i/+f/6v/q//D/+P/0//T/+f/3//r/+v/5//r/9f/t//D/+P/3//7/AAD8//7/AwADAAMADAAQABAAEQAEAAQACADz//L/7v/x//b/AAD8//r/BAAOABIAFQATAAoACQALAA0ADgAQABIAGgAeABgAFQATAA8ADgANAAYABgAFAAEAAQAHAAgADwAUABkAHAAdABgAFwAeABIAAAD9//f/7P/w//L/6//p/+//8P/2//f/9//4//7//v/5//b/8//8/wcABQD8//T/8v/z//H/9f/p/+3//f////7/AQAJAAIA9f/1//T/+//3//n//P/3//7/BgAGAAkADQAFABEADwAHAAwAEQAJAAkACwAPABwAHQAaAB0AHwAlACEAGgAXABAAEwAXAB0AGwAcABoAEgASABYAHgAiAB0AGAAVABYAGAATABUAFAAJAAsA///+//v/9//p/+T/3f/g/+r/8f/q/+//9v/4/wAA+/8DAAUACgAIAAoAFQANAAAA/f/2/+b/8v/5//v/BAAGAAcAAwABAAkAFwAgABcAHQAlACUALQAtACgAOAA5AC4AKgAvACkAJQApACQAHgAZABMAFQARABEAFQAYACIAHgAhAB0AIAAiACAAGQAgACoAJAAfABsAEwAYABoAFAASABwAEQARAA0ACAAJABAACgAEAP//+v/4//j/8//x//n/9P/y/+3/6f/m/+P/5v/l/+P/3//f/+T/6v/j/+v/7f/w/+z/5v/l/+D/6v/q/+T/4//m/+n/8v/z/+v/9f/1/wAABQAMABIAFAAZABkAEgAJAP//+v8CAP7/+P/3//T/8f/3/wUABwAQABUAFAAWABwAFAAWABsAIAAeABgAEwARABMAEAAKAAkACAD5//D/6//s//L/7//o/+z/8//x//L/9v/5//3/+P/4//X/8f/1//D/7P/p/+r/8v/v/+3/7P/e/9b/1f/U/9z/4v/i/9r/2v/c/9T/2//d/+D/5v/k/+b/7P/3//r//P/+//3/AAD9/wAACQALABAADwALAAcA+//2//b/9f/u/+3/5//j/+j/7v/w//D/7P/u//T/+//9/wAAAgANABIADgAPABEADAD///r/9f/t/+j/6v/m/+j/6//i/+b/8//1//3/BQAIAA8AEQALAAkACgAEAAIAAgAEAP7/9P/v//D//P////r//v8GAAUABwASABUADwAEAAEA9//4//b/9f/3//v/+//7//3//f/6/wMA///6//3/9//z//b/9P/4//f//P8NAAoABAD//wQACwAEAAQABwAGAAUABAD//wEABgANABcAGAAPAA0ACQABAPr//v8AAPv/9//4//j/9v/y//T/+//9/wIACQAJAAEA///9/wQADgAGAP7//v/9//L/7f/y/+7/8f/z/+7/6v/w/+j/6//u/+f/6v/x//f/+f/+//7///8PABQAGgAbAB0AGAARAAwADwAPABAAEQATABQADgAYABkADgANABEAEQAOAAQAAQADAAMAAwACAP7/+f8BAAMABwAJABAADwAIAAUACAAEAAAAAwAEAAQABAABAPn/7v/v//D/8v/9/wIABwAJAA8AEgAeAB4AGgAWABIAEgATABQABgDz/+7/8P/s//f/9////wkADgAQAAwABwACAPv/9//9/wAA///+/wEA+//y//H/7v/w/+7/6//p/+z/6v/m/+r/5v/f/9//2//T/9v/6f/u//L/8P/0//n/6v/m/93/3f/o//L/8v/y/+n/6v/n/97/5v/s/+P/5//k/+D/3P/W/9z/1f/T/9j/3v/o/9r/2f/W/9r/2v/O/9b/1//j/+7/8P/5//3/+f/2//X/+P/2//P/8v/2//b//v/7///////8//r/9//8/wIACgAJAA8AEQAKAAwACAAJABAAFQAVABMABQD9//T/6f/p/+3/+P/5/wAA/P/y//v/AAD9//r/AAAIAAwACgAGAAIAEAAcAB0AHAAZABsAHQAfABQAGwAhACMAJgAhABoAEwAHAPL/9P/3//X/9//v/+f/7v/5////AQD9//3/+/8FAAYAAQD/////+P/4//z//v//////BwAGAAoAAQD+//X/+f/2//3/AQAIAAsA+//6//z//v8BAPz/8P/v//H/9P/r/+f/6//p//D/9P/8/wQADwASAAwAEQAPAB4AHQATABMAEgAXAA8ABQAIAAAABAAEAAkACgAEAAoAFAAcABoAIAAjAB4AGwAeAAsABQAOABMAFwAWABgAFAAQAAwABgAJAP//8v/r/9z/5P/o//H/7P/w//L/9P/1//f//P/6//z////4//j/8f/w//L/7f/z//z/BQAEAP//9f/7/wMABQASABQAHAAcACkALgAmACwALgAjACoAKQAmACIAIgAnADAANAA2ADUAKwApACYAIAAWAA8AEQAaABcAHQAnACEAFgAWAA0ADgAUABUAGgAVABUAFgAhABsAEgAZAA8ABgAHAAIA//8CAP7//P8CAAsAEgAQAA8ACQAHAAkAAgD6/wAAAwAAAP7/+v/x//L/5//k/+v/8P/0//X/7f/h/+D/3P/Z/97/4P/c/+D/5v/o//b/9v/y/+r/5v/h/9j/3P/i/+T/7v/s/+r/5f/e/+f/7P/v/+//8v/y/+v/8v/4//b//P/5////BgAPABQAFgARAAwABwAFAAEAAAD+//n/8v/w/+X/5f/r/+r/7P/v//L/5f/i/+f/5f/q//D/9f/5//7/+P/3//f/+/8CAAMABQAKAA4AEwAKAAsACwABAAIA///5//n/+v/8//j/+f8BAP//BQADAAIAAQD+////+v8CAAkADgAZABMADQASAA8AEAAJAAQA/P8CAAMA/v/8//v/9v/2//f/+f8AAP3/AwABAAQABAANABQAFQAYABkAFgASAA4ACgASABAACwADAAIAAwAAAAIAAwACAAIACAAHAAcAAgD6/wMA+v/+//L/5//q/+f/5v/i/97/3P/e/97/4P/l/+j/7v/u//L//f8HABAAEgAUABIAFQAdACIAHgASABYADgAIAAoAEAAQAAcAAAAAAP//BAAOAA8AFAAcABwAHQAdACIAJwAuACgAIQAsACkAKQAlACUAIgAdACEAHwAiACUAFAAGAAAA/v/6//7//P/1//7//f8CAAcACwAPAAcABQAFAAYACwADAAEAEQAPABAADgAHAAMADAAQABIAEgATABoAIwAkACIAHwAYABEADAASAA0AEwAeAB4AHQAeACMAJgArADEALwA2AC8ALAAvACoAGwAPAA4AAwAFAPr/9v/x/+3/5//j/+P/4v/l/+P/3//k/+b/6v/u/+7/6//q/+r/8v/z//b/+v/u//T/8//y/+3/7f/y//P/+v/8/wEACgAUABsAEgANAAsACQAGAAUAAwAFAAYADAAIAP3/+P/2//z//f8DAAkACwAIAAQA9//y/+f/4P/c/9X/1P/X/97/4P/c/97/1v/K/8j/0P/N/87/zf/J/9H/zv/W/9j/1P/c/+H/3//j/9z/3v/j/+D/7v/y//b/9f/0//D/6P/u/+3/6v/n/97/1v/L/9P/xv/C/77/uv+3/7r/v/+5/7r/vf++/77/z//S/9f/1f/a/+b/8/////3/BAAIAAUAAAAAAAEABAAMAAoACAAKAAgA/P/9////AgAMABMAGQAbACIAIQAnACcAHgAUABEACwAFAP3/8v/q/+P/3f/a/9H/0f/c/+D/5f/l/+X/3f/g/97/3v/g/+T/5v/v//X/+//5//P/8P/k/97/2//e/+T/7//6/wEAAQAFAA0AEgARABIAFAAPAA0ADgASABYAFgAMABMAFQAUAAwAAgAAAAAACAAIAAsAGAAYABAAEQAfAB8AHQAdACAAHQAhABsAHwAeABsAGgAYAA8ACgAGAAwACAAEAAgADgANAAsACgANABMAFgAkAB0AFQAeACMAIgAfABYAEAALAA8AFgARABcAEAAHAAYABgAHAAYAAgD+/wkAFgAaAB8AJAAiACMAIgAaABcAFwAkACkANAA5ADYAOwAuADEAMAAvACwAIwAkABsAGgAhABsAIAAdAAkACQAOAAkACQAMAA8ADwAQAA0ABAAGABAADAAPABAAEAAZAB4AGwAhAB8AIQAnACYAIwAhACAAIgAgABUAEgAJAAoACQAMAAUAEAASABkAHwAWABYAGQAlAC4ALAAnACwALgAuAC0AKwApAB8AFwAPAAcAAgAHAAYAAwAEAPn/9f/2//j/+v/x/+X/7P/0//j/AAAFAAkACAACAPb/9P/u//T/+f/1//f/9v/1//T/6P/l/9//2f/c/+D/5//q/+j/5//w//P/6P/g/+L/5//k/+P/5v/e/+H/6v/2////AgD9//7/9f/v/+v/7f/w//f/+f/8//n/9//u/+//9f/s/+n/6//y//X/+P/1//L/8v/v//f//P/3/+//7//q//D/+v/2//H/5//s/+v/7P/0//b/+P/z//f//v8EAPr//f/5/+r/5P/m/+X/3P/p//X/7//w/+7/5v/l/+T/4f/o/+T/4f/s/+r/6f/y//j//v8DAAMA/f///wAAAwACAP//AgAIAA8ACAALAAkACwAEAP3/9v/x//j/+f8CAA0AFgANAA4AAwAAAAMA+f/+//L/9P/8//3/+f/4//b/9P/6//j/8P/t/+r/5//n/+3/6f/r/+f/4P/k/97/2v/g/9//3v/i/+D/4//x//j/9f/6//f//f8HAAMABgAIAAkA/v/y//j/+//z//f////+//L/5f/w//H/9v8BAAwAKQBVAEsAKQALABYAIgAAAO7/FQBEAEwASABGAD0AFwAEAAIA9//7/x4ATQA+ACoAIQAbAA8AAgADABYAJwArAC4AMwAnABwAFwALAAIAFgAgAB0ACwAEAAgACgAGAP7/CQAQAAwACwAPAAEAAQAHAAgAAwD//wwAFgARAAwACgASAAcA/P/6//T/+//7////BgAEAAEA8//b/9r/5f/s//b//P/7////AQACAAQA/f/4//P//P8CAAAABAD2/+n/4//p//L/8//5//f//P/2//T//P/2/+f/5v/t/+3/6//t/+z/9v/3//X/9f8BAP3//P/6//7/AQD6//z/BQAMAAwACwAEAAQAAQAMABUAGQATAAwACgAPAA8AEAAbABcAFQAYAA8AFAAJAAkABAD7//j/9f/q/+P/4//c/9r/2v/V/9X/0v/V/9r/3v/h/9//4v/h/+X/7f/s//H/+//z//T//v8CAAcAEgAQAAgAAgD7//T/9//t/+7/8P/p//T/7//o/+j/6P/n/+z/6P/d/9r/1P/J/8v/yP/O/83/2f/h/+n/7v/5//3//f////3/AAACAAoABgALAAoABAD8//3/+//7//z///8BAP//CwAEAAAABAAAAAMAAgAKAA8AEwAPAAwACwAHAA4ADAAJAAYA/v/7//j/AAD+/wAABQACAP3/8f/x//T/8//s/+r/9v/6//r/+P/4//7/BAAGAAUABAD9//3/+v/1//f/+P/5//b/9//7//3/9f/z//D/7v/2//P/9//+/wgABgD+/wAA+//9//r/+//7///////6//P/7v/p/+b/5P/t//L/5//g/+D/2f/T/9f/2P/Z/9//3P/Y/+D/4f/g/+j/8P/5/////P////b/+P/+/wIACwAMAAkACwAUABUAGwAXABkAHgAYABsAFQAbAB4AIAAmACEAIgAuACUAIwAlADAAOAA/AEQAOgA5ADcALgAlACIAHQAQAA4ACgAPABkAGwAjACUAIAAaABkAGQAUABIAEwAgACcAIAAYABoAIAAlACMAJgAjACQAMwA6ADwANAAqACkAKQAlAC0AKgAdAB8AFwAPABQADgAMAA4AEAAMABEAGgAWAB0AHwAeABsAHgAgACEAKQAwADEANQAsAB4AEgAQABIAGAAdABAADQAEAPv/9P/w/+3/5v/k/+r/+f/+/wwAEgAWABAAEAAPABIADAAJAAUA//8LAAsABAACAP3//v/7//f/8f/y/+7/6v/q//H/7P/w/+z/6f/q/+n/6v/o/+f/8v/z/+7/+v/v//b/9P/q/+3/6//q/+r/7f/p/+b/6P/h/9//3f/e/9b/2P/b/9v/3//X/9P/2f/p/+j/9P/6//3/AwD8//j/+f/6//P/6//o/+b/0//M/9P/0f/S/9L/zv/I/8r/0//X/+D/4P/i/93/2f/f/+j/5v/o/+f/5v/s/+7/8f/u/+v/6f/v//n/9////wQAAAAIAA0ACQD4/+3/5f/j//D/9f/7//r/+f/3//b/9//1//T/7f/r/+P/4P/j/+X/8P/u//X/7//m/+7/8//v/+7/8//1//b//f/+/wMA+v/3//H/9P/t//T/9v/5/wAAAAD+//v/AgACAA4ABQD//wEABQAEAAcADgAPABAAAgAHAA4ACwACAPn/+f/v//f/9f/3//b/8v/z/+r/6P/l/+v/5//j/+//9//+////AAD8//T/9f/1//b/+/8BAAAA/v8EAAQA/f8DAAgAAwAIABAAEgALAAMAAwD1//n//v/8/wQACgARABcAGgAZACMAKQAmACcALAAzADYAPAA9ADUANgA8AD4APQA5ADQAMwAvADIALgAsAC8AKgAmACEAIgAdACMAIQAaABEADgAJAAwACwACAA4AFQAUABEAGAAVABEACQAHAAsAEAATAAwACwATABcAEwAVABkAHQAbACAAHAAbACIAHgAeACAAJAAkACIAIgArAC8AMwAsADAAMAAtADIAMQA4ADIAMQApACQAIwAeABQADAAMAA0ACgASAAoABQALAAsACQAJAA0ADwAJAPz/9//y/+z/8P/t//X/8//z//r/9P/w/+z/7P/w//n/+f/5/wAA//8BAAIA/f/5//b/9//z/+//9f/y/+j/4//k/+r/7f/q/+z/8f/z//X//f8IAAMA8v/r//X/AQAEAAkAEQAUAA0A/v/9/+//5v/k/9z/3f/j/+//8v/y//L/7v/2//7//f/7//b/8//0/wAA/v/5//L/7//u/+7/7//v//H/7f/q/+f/6v/v//D/7v/t//r//v8BAAEA+f/w/+n/6//v//T/6f/k/+j/5f/i/+v/7f/v//H/7f/2//T/7//v//b//f/+//j/8//r/+j/4v/k/+b/6f/t/+P/5//l/+r/7//q/+3/7f/z//T/8//y/+//8P/w/+T/3P/S/8v/xv/C/8b/xv/D/8j/0P/J/8P/w//O/9D/yf/U/9n/2P/J/8T/xf/F/8b/vv+//8f/0//N/9L/1f/V/9z/2P/i/+7/8f/v//P/+f/9//7/AwAEAP7/AAD//wEAEAASABwAHQAZACAAIQAeABsAIwApADgAOQAyACwAJQAaABQADgAUAA4AAgD///v//v///wAA/////wIADAAMAAwAGAAiACUAJAAfAB8AHQAaABsAHQAmADAALAAnACUAHQAaACQAJgAoACoAKwA0ACIAHAAeACUAJAAiACQAIQAaABUAEwAPABIADwAXABgAEAANAAoADAAHAAYACwATABEAEAAWABQAEgAJAAcABAAJAAgADwARABEAFQAVABwAFAAaABwAHwAfABoAGgAbABsAFgATABgAFAAOAA0AEQAPABMAGgAaACcAJAAeABgABQD6/+//6v/u//j/8//t//H/7P/p//H/9////wMACAAPAAoA/v8EAAoA+f/2//f/+P/8/wAABAAEAAgABwANAA0AEgAOAAwAEQAOAAUAAwD6////DwAXAB0AHQAfABkAFQALAP///v/1//v/BwAOABIAEgASABYAGgAWABQAEQANABIAFwAMAAcA///6//b/9P/3//X/9P/x/+//5v/o/+j/5//u/+f/7P/v//T/9f/v/+r/7P/t/+v/5f/e/9L/0f/P/9z/3//Y/9n/0//V/9n/3v/b/9f/2v/U/9n/6P/t/+z/5//c/9b/zv/P/8n/yv/I/8j/xf/O/9H/3P/e/+D/5v/p/+3/5f/o/+f/5P/h/9j/z//O/8b/v/++/7n/vv/J/8f/0v/X/9b/4v/g/+f/5//w//P/7//1//X/9v/7/wcADwAUABUAFQAeABwAHgAfACEAIwAjACMAIQAkABgACgAJAAcACgALAAwAEQAeACUAIgAeABUACgANABAAFwAUABYAFwAMAAMA/v8CAAkADgAOABMAEQAQAAQAAAAJAAMABgAJAP3/+v/+/wcABgACAAEA/f8CAAQABgD//wUA+P/x//D/6//t//L/8P/u/+j/7//4//v/8//v/+3/7v/6//j//v/6/+//6P/r//T//v8MAAwADQAKAAoAFgAiACYAHwAaABsAGQAfABwAHQAXABIAHAAtACQAGAAaACAAIQAfACMAIwAjABcAFAAZABAAEQAgACQAIQAmACgAKAAvAC0AJAAjABwAFQAUABkAHQAnACkAJQAlACAAJAAZABcAIgAdACMAKwA1ADEAMwAsAB4AHAAaABIACgAKAAoADgAQACAAIAAbABgAGAAZABgAEwAQAA8ADQAKAAQACwAHAAIAAAD7//r/9//y//H/8v/0//f/9//0//H/8v/y//P/9P/0//T/+P/7//7/AwD+////9f/2//j/+////wUABQD9/wgACgAMAAgACQALAAwADwAVABAAFAASABEAEwAfACcAJQAkACEAJQAiACgAIwAkACIAFQAaABsAIgAlACYALwAkABUAEAAKAA0A\" type=\"audio/x-wav\" />\n",
       "                    Your browser does not support the audio element.\n",
       "                </audio>\n",
       "              "
      ],
      "text/plain": [
       "<IPython.lib.display.Audio object>"
      ]
     },
     "metadata": {},
     "output_type": "display_data"
    }
   ],
   "source": [
    "play_audio(vivos_dataset[0]['audio'])"
   ]
  },
  {
   "cell_type": "code",
   "execution_count": 11,
   "id": "2f411002",
   "metadata": {
    "execution": {
     "iopub.execute_input": "2025-06-01T08:02:24.624818Z",
     "iopub.status.busy": "2025-06-01T08:02:24.624578Z",
     "iopub.status.idle": "2025-06-01T08:02:24.629072Z",
     "shell.execute_reply": "2025-06-01T08:02:24.628551Z"
    },
    "papermill": {
     "duration": 0.047766,
     "end_time": "2025-06-01T08:02:24.630093",
     "exception": false,
     "start_time": "2025-06-01T08:02:24.582327",
     "status": "completed"
    },
    "tags": []
   },
   "outputs": [],
   "source": [
    "# Load Common Voice Vi\n",
    "import pandas as pd\n",
    "\n",
    "def load_commonvoice_dataset(cv_root):\n",
    "    clips_path = os.path.join(cv_root, \"clips\")\n",
    "    df = pd.read_csv(os.path.join(cv_root, \"validated.tsv\"), sep=\"\\t\")\n",
    "\n",
    "    data = []\n",
    "    for i, row in df.iterrows():\n",
    "        wav_path = os.path.join(clips_path, row[\"path\"])\n",
    "        if os.path.exists(wav_path):\n",
    "            data.append({\n",
    "                \"audio\": wav_path,\n",
    "                \"sentence\": normalize_text(row[\"sentence\"])\n",
    "            })\n",
    "    return Dataset.from_list(data)"
   ]
  },
  {
   "cell_type": "code",
   "execution_count": 12,
   "id": "961f0642",
   "metadata": {
    "execution": {
     "iopub.execute_input": "2025-06-01T08:02:24.711928Z",
     "iopub.status.busy": "2025-06-01T08:02:24.711701Z",
     "iopub.status.idle": "2025-06-01T08:02:35.254202Z",
     "shell.execute_reply": "2025-06-01T08:02:35.253358Z"
    },
    "papermill": {
     "duration": 10.584539,
     "end_time": "2025-06-01T08:02:35.255450",
     "exception": false,
     "start_time": "2025-06-01T08:02:24.670911",
     "status": "completed"
    },
    "tags": []
   },
   "outputs": [
    {
     "name": "stdout",
     "output_type": "stream",
     "text": [
      "Dataset({\n",
      "    features: ['audio', 'sentence'],\n",
      "    num_rows: 5191\n",
      "})\n",
      "{'audio': '/kaggle/input/common-voice-vi-21/vi/clips/common_voice_vi_30580094.mp3', 'sentence': 'ạ dạ không ạ ngại quá'}\n"
     ]
    }
   ],
   "source": [
    "cv_dataset = load_commonvoice_dataset(CV_ROOT)\n",
    "print(cv_dataset)\n",
    "print(cv_dataset[0])"
   ]
  },
  {
   "cell_type": "code",
   "execution_count": 13,
   "id": "2e016e2b",
   "metadata": {
    "execution": {
     "iopub.execute_input": "2025-06-01T08:02:35.340077Z",
     "iopub.status.busy": "2025-06-01T08:02:35.339828Z",
     "iopub.status.idle": "2025-06-01T08:02:35.351870Z",
     "shell.execute_reply": "2025-06-01T08:02:35.351254Z"
    },
    "papermill": {
     "duration": 0.055372,
     "end_time": "2025-06-01T08:02:35.352973",
     "exception": false,
     "start_time": "2025-06-01T08:02:35.297601",
     "status": "completed"
    },
    "tags": []
   },
   "outputs": [
    {
     "data": {
      "text/html": [
       "\n",
       "                <audio  controls=\"controls\" >\n",
       "                    <source src=\"data:audio/mpeg;base64,SUQzBAAAAAAAI1RTU0UAAAAPAAADTGF2ZjU3LjU2LjEwMQAAAAAAAAAAAAAA//s4xAAACHxHClSTAAHIGadDMMAAACfBW8oFAQDBJngogQIMudE7aI96YAwtNjCBBAoGMQA+fUc8uGC4PnwTB8+Ud/ic5E74nP+D7y4f4P//l3/yjqnBjEDrLCCMx9uMBManUh9ibEpFD3cIGdaWvuI5/GOy4Bc/dILU5aJxHu5M4c084OU173nV79SorSnh9CZpz+uTM0pO/sW2rSYInrusUtM3v/T9KS9FT4Q0Ew2XDgMDPnEKxaLrOHL+H9xQ5UYCixoBNulnzdICEAAB8SWN1fgcuu5V//s4xAaAi6zXPT2DAAF7m6fdgw3w8GOPRWKWcrQ/2zN5gSYpFxhGiIeTyIvD3H3NkOQfdzVJo1DvbFZG5W56ebJEz5fG/xq+Ke3inf5H3Uu8y+VBnU9rTp0g5TjXqYv9O532XL0AIcLF+EtkHUMSeWbj1SY5JsoXafu3QA1nDQRJKhU8lbHoH0QKbugmZ9N0XNM7/Gvdqnc2c/EoxD9m5kfSpat7G17HpwA0FGY2NyiiZswfiskjuXobWxik0VG8yVkSBKoAfUUFC+kCJqNtiRjprbVCk08o//s4xAmDDKjTPEekzoGVmOdJhhj4EaXxWF3vNa2Hkl1Aov2kZNhCA4o2RZTTk32MrTFRyozceIwxlA62duWXdvbEXaO8P/ctDfTLJoI0DRg60JsC4lgBan/7MaoUEWszbLutiwx1JYAGUU8zpjoiWtBukbe4+Qjm5LcKhm+JLR8oiD0zbO0zkKz18GEIelbTETqkECpQfR0KJlPeyjhap3GShPV/snNR939fqWx6zfjfVhcFQ8wUQgWDA1uqX/nWrVuJ7iK4ZSfCS6EIXQJUAAJTrgFpMHII//s4xAWADBzXQ0YkZcF5Hyrwwo6mQrHEPCEnJEbi88QMGCSSFQFP6nInVsvUYMP4zFijkkSpQQBDn9C19fhM8Lch4VIYkzyitfjg3s6+JkGhUeEpAXLOrrtpWdoSXPsNpOviBaCChTcJZtiCbjabWmlI7VOnUZNUxDASDinhxJLcccV+I6wwYhZMjBp10tR2iGqfoc4FFnMcqY1xsXV2d2JfYraOz3Z1RnM2hG240X6/bbiCMwhiIJEOFWuR36OQYirdy7nTc8JlqkAgABW4DGRzEEfCGM6i//s4xAcADHjJPyeYcsF/HCfk9I4QLeX5gPxKtUJcvFazH6X3ZfzxexlS/NFnwtl/Tl7d4Omlw3zCyFHRRV58eDuteJwD1otGlzVkOpk8LzoGCCAwGkuil5cx/6KCro5I0BS7aBOD6yu/KlQFECAD1EsrjDBSgtgb6cUj97prkZOqmgvByRFcaQWJZsMEwkbaaLrW47qtxJdBZgqIIzGc5WyKcGgd29f/L5nqRGdz+bsnn2vvjRCyDAXCgsccf/Jr9/7kAAta58+wIJqgLthtlJKxIOmSEEgn//s4xAaAC+jNTaYkZeFwHCi09I0grjzPJEzxQ8NwxVHpYli2g1G0TrJMo06iCHJA5CQVua2nWY2ugTlQLynbnbnTi3Pn8jzcgWMIwuABx8Ue05GgUXsNq8RJ6nXbBqEIAEtB9jVA8hAPAAAgBKRoK4vkwuReR/tDkOgFYVrVGkLpuGmZQepIljhwwZ+iwjBjKq0uOcx08lt6c2sij7qR3+mnr/NlN18cQ5PtC1RjHF5MCMQtkn/VInyhRqleLJjW2OMbquFGZSa1JLEgoUkA4wiBssiZLuTC//s4xAoACqzbUaSYaaFPGem0wYn0UiTzki8jK9WEuTUGTuSCWMwGKv5XoowepK3/upEVK6keZlNnt1OMhBjsIuMVuUGXQYGnQILrTb8qjzmijtr31bVIDM6FEpouAgqBR5iTywaDw40h8tNrsigB4A1eXZR0j7sCfAEJaJccILoQiCCjlVRdiNpkjaR5zM5/qaqV+dEeDHih06LXPW4KmFilpz0P/9/R+orVARgAElPMBmHypxPF9HmS6Rs6wogkhGJA0HE9P0r055N3QR/VYPSWu187OiGl//s4xBaACuhjRUekxQlVJGj0kwk4DPapBB8qClXTv9pbS8i9bGynJLLrX/r14nwM9KfauNJ9v6wf3/ocbXL+wAuUgQAknWw8AwmaBgsWBQAQKooXIUNSWigVBu2gXibZcPt3AJScvbtas8BSaq4d1ZDo9/szoQpgWdEW+lP5pd73ZXt62e/7Jf0vGKftOqbG6VbeXuVBTzOKJqSxsLxqeK7ytBaWGJkCSFln0F6sbCOhnCKzbLmtuhbcPbcvJNj/OOV3Gz4aUCxYY4wZBYJAYAEwbOgmOCRs//s4xCGACqiRU6YYaOFSECn0wwz8ZQhKUf8JFhOy1TVkHst3s7dKADHI2y0240QZ84dCuAXPAYVCRQYdYHZFoWnfRO2Xllj0RbEz6RIoy5G8OdNJG9wpsyJLChYm0SvCxVhIXUsCCxAoMDBIVscxqez4Ww+tSjJq5OpvsQCJAAL6E2S09Q4jxeBwMsNoFW3qTDgu2vFzEnFVlnSNVozKFaD4hjJxHF+56km+enmeRFzhGZDVyL75xTLaDCmgYwYBcsbtcAXFBtf1EfQp2HPYzj/QGABnE5Eq//s4xC4ASrzLQyekZcFPmyhY9IywCMpBVicLkeFyB9GSKMKXnx5pmEUgNXg5K4MdpAZMawdGRqZVGOuqEyuZjJfNyUueOSMW+Res/bVCgksVI0DXDksfq8XI69I/MkPZnLehIFRJIZBTlkCoQy5aE7OBGmgeSPUeVowl1poEs+pynMUpOxCEEdopFpHsTeabpOwuMFKiRhE40OEFiowUxDWBhCHQuhgdLoaopf/SmLdTkPQxqtKbHdicJAAAB7GKL6Z8I2AFsyVQDMoEDoImIgpiBQocgOdO//s4xDqACtCJSaeYZ4FPDWglhhhIr1XpgIkWBWaa5b48F0pGQO9WUAyixRY0my4Suh1aDwUGrmEdSBd4pV+htt2XtFsWFDVKDWVVYMvrSRLbcSA6Ch4D5YMBKEInHb40ZQp0YJne1T2YWPaVyvitUKEZkK89RIGipqW3V7O2+S6Cydkf77+RSGfgwilhrN1DUUIOkL/KeAfPkbWjc4pyEkBY0gkFtyyBSJZiIL4+xEQKzHWYxQd9rjR2BnXUWfOq9/Zpj5J4brVu9SMJhYeNDTwwXMLKvFqC//s4xEaACpzPT6YYayFEDal0wRnAaiddKXB08VUfvUx28l/i3WrWK4f+4W2cBAVvQYA3wyk5Q0PpwxWmo6pEbowm61irNM+6lbFF1fDJGbe8xjP3L7o9kik21SQ8Yg0JxRxMVege2kKnDQw+tMaJxm9cu3fiyElkjhYeTWeWtUCOdQlAVOFBgNyDImJAHBwSkQbJEcBEeQkiByFUXmlXV6SdsoWp07VE1BTJDMy4cN/N5ZbfOtb+sJTcKGDDSTw8WE59ogZgy4ZVRuQQYvpkVuK6wMfFmTO2//s4xFUACqCDQEM8wEFXFOkwlI0sQsClKSYUU4ygQx0sNJHPzZL6I4hVlttkghb09ybaiJg/4bOxcXg+EDKpqe7fmZ0o1jLOkTPdg8oAA9OzhJkbU+HdBwwcWKIY8a6xf3TG2nfs/N2hHMwAQAAF4FzJ+qQTDWnlZeOpT3HNIVrnYeGJRXOr/9+C7rVIHfEIMoKMHRDCTVFRtCFZRI9+n3Jy8sy5H5P9vy4TtyBW7huaSQZ9u+rPAUqYDU3J1iANVYIdYEGlGNhbhOC6J9GLmhp6gXDE04JU//s4xGEACpTVTaYYbOFWGqgk9gy4RWRSGiRzOjp+ekQNOX5piw7ipoVqkTX84VKUzi882Q0zZzdo2yoTru1skHJsikP/LocRcV/KQ7qL1qOnxVpcVRFSYkH1rrpcciSTfLsd9jJkMLBo7AbIUIhWTeDTJMotPtiNbDQ5k7jYx+i7S9T8e4qxZtv715ZHLlomIx5/QApeUQxaRyAwlcPZyGXKcOm6/MOc5EDrVJq63oAhGQACP0IwcRmD5P81TcRty6CYuIidEykmPMS0nDBIYcmPCBdDuoDe//s4xG0AS7D7RyeYZ+FNlKsw9JgukKsivyhhjayqj07amjYD4KH3Q0HhyhYXUDqgxhph442gOhgCFxJQhKXvf/tIr800JPc4ZJOXQTugCSiJASUlcAHBTQEg4GRJD8mnhnlATEwccDCSxi4KWDIxqZrTRxdyr6+qBRMOpQwwMnCOvGM2OZRzJTWBULExkJgPKqEAleJRKp4SaLngHcPs9yf/aRXbWxyTjpEIAADdbDhUQALlJfCcJkA5jYk0QSEpBucTC3PitNVq7KL66x5kdHDBXjG53hQ+//s4xHYADCh3QYexJkFzFKj0ww2Yu3feSNaeYcFAAzJjVYNn8WJvRW4o4JorU10QKEbVe1Iy1KMRqyIqOCwyfNkJ4gOATQABFOOARvPtValuulUpZ7UJEiSRqC1JBRoUGSUuqnL+VHkpn/YEmDCNn8cEHBPRiVNiPn7JcQiOZ/x1U65X4WVZSZDKzlQtZC9PnLS+E5HD//z4WU9qIbR/Zv/5tc9XG2cWS0WGARgAi8gWIny+A4uZEIvNNYBj6JEZMImydYWPmJmx1lUUDFTBwkXXVqTiZ8vp//s4xHiAC6jTQuYYbQGep2hpgw05VhJKCxZjFE29OmbtfTN0yD/5xmR1R5rTQOBcWHFUFlAIaeDrtjwCl16mrdVGnGEJAORDAJBAQrQhGJq7EAEIgEn0Fgh2MbyJxwxF28zHTGMEAnt9IyIkc09GjjJ0ET61EEZFbVYm1gJHAiGAC6S1I2JPzuQlyb/zvwi9AAtyJOPeuIXCJ9hcQRAj/Y802B/emqVA6Qwq91l6AIIARPoQyMi1h2buO85OKUBJqEyudOHBUdRDr6OQglEvJfaNRSqSWsbF//s4xHeADRyZPs0kxcFvGyilhIzwjB8RW0er31etTI5C5ttr37444se/JxzSGgrTISprKYzOc6i2otb6igseNiyZKB0pvu35rU1ugX+RLurordd30oviNeivkEDzICQkbCOp5kpwNGYm9syM49JdCSmpMiRCNPRQIxUMlMMNUcz5ffp9ArYwnn8kje97Vlx2dV1uN671n7f0z433ZcrTjj+Zyqf4i7TPd818nsKY1I6eBFdT/K9BYANFDQ1YqkVUaSxoHVe+TgVWqSbMjYQ0noCaawCWAXhI//s4xHaADfT9QywlBcmwnuiphJiwy5hcFGIEEASjS14daKUHpEayVSEc6oYOoQKfAHCKYz14aCSZWSrxxzz/P/nw/arhsBEKSBB3KMlNTZ5MIEhQmt5lACZ7vGHmsLWf9IAJcYCjS6gDmMswBAAOVKFNaa8u1OeBAMzo+UWQYywzquUCdyxAMlQzLCkDVzs9vJ4V1JG3amEWdmDnpkb/J6FhfkQ44XRtd/xvGj7YZ////9Xs+/yS3l93HIO1Aau+qeUfUApJgLoh+hlOkyy1nn4SICSCbaQh//s4xGoAC6TvU0eYZ5FtEegNpI1ZPmBG8gBh7JSCxSNRhmkD9HKWChoz1TLf/KXR5v/Yc4ih+HmW0VDCASmYucYyhyoHDYgAqgmOE67naBYzW6iCTngcEwipKdatIgAZkrbjcjscCnYgCcbsfe2EQvABnJnhCZEixI2zk0FkjIONnH+FiCynhkI1EM/XNmMpkeJ2I02Qi+n/VWnrAkX8jQktEkLGAXLnh0+0GEi3/d3Zx1z7F/QSetUATSJuJONxwL4ORQ6wESFA4osG27WXyOQFK5qByKGF//s4xG8ADJDvVywkZ/FnGap1gwz8uKOL0vDiZ5EuZHIzqYMs1rxKiZ5MdIdyYIBB62vdUFCyAsTFxYDSV+J7mxeLWa+UMcX3Gn8VeIG2MFzVlIDd1skckkjYLRCo4PlXITCwibSgMjQ0V0ndxEhkam7cda7kYVDNQ+8Fr5lamHhpHz/LvkpCED48TF4bSEUMNHnjRZ3Prq/TH6tdu54pq1q7kBQAAt1sCqBFFZUdRFgyBo1YBEEtGKPNGCWcg7EiCToFRcnyU5rXfM6MBjxxNUorSxYFjrWs//s4xHEAC4R/UayYaaFDFO10kw1WQZBMSFD0s82SOICAJWkQOENXV9uCrX1TVbVrW/sYEX5AP2AAE5daLY6RHNQ1rDOSAxMGOtGDIF2VO5aLyq7AzyQOf91wux9qGunSqasfSXLwQrNLGMButo8cAiM2AllBKTg2B0nnz6vpCup4JxSAXXSbkuICxJlAuqoAM6EpptuSEI8jz0gBpA0J3quJlaEuquYHUEghbKuDSBQFhBbkpuwasCsfEMZLXnZxSsmKmT8gfEB3Eg0M3mQsZFzL6xUPtENJ//s4xHwACriDROwYp8FiEykpgwywjdx59DMkIyhUuYD8lFBG9QP/VNVSCQfsiELlCDUSxDMVIUFNwZu0lvuoZ5krqMo06Vk4Wm2nfde9E9fVLM9COIU0/aS0OkGLKEos+PBQlJDBHFx5ZZV7GjvwVI7zxpwl56XcuQTVAVcTbbcbsbBIKY5AuOjNzOjxX2jgCBKvIY/fLZWHWVf3a1ZvBRlZ2fXYnN0bsdpL8Yj2OLGcSwCMns3D+fkRTa0MoAHhGu8XdZq9Sm/kHvKs7vrXLEqtyRz/voYO//s4xIYACySRT6ekY2FUFarklI0+mKJgwcBKLlGmaLifYFE0l9HeoDxKaaeSR5b8g/Td46yxcLakCdnmywsPSgZSkNwXeNStbyAmCV4WULAsAkggNMMeO3+FuiFaoY36bJbyKhAAB6EMLglBAhu7SZZCNTawqXiRoycjVSKHCYmOYGxQaWFbCyNAlNEitiQVcq+M7twsMusYU4oUHZzg5E/JtuTptsWHL/vTCj6xEIYDIOA2Ej+wzcr8u/H9L2abFVAffsE3L7QdHyAgiRguHbTCi7RfDo6K//s4xJAACpzXUaYYaeFaEevwlA4eyUpdSUOt4GNq2zPjLNgwJTiwiAiKtnq9Y/9Xwq8OwhRVH4HqtUyyjsZ2xNNAx0a5ty1WI/aC1rUoeYKlVuWPi7DK4uZZVYB5mW4Gm5HAOtUxUmvVZEIAY0GLTTuIMownpQG9FckeysEcCZXFUcJCWKV0f5zJzPa2BBol/diO6Qzn95mEHFwcmAp1tvGoP/5m8jTMgPbQhi4qqaWmWQhQAAFONAEUaanIQU7OQxICwoam8rpQTKp3LYwZVTP7kqAkA39g//s4xJuAC7TVPMwkacFwG6loxIzo6ImWCmYodFZjbh6lSAqfRlKW/O29LO8oMMEQ49BIzpVZUsl+c6VrNxO4Q3gUfG/1qoPeQIQm1wGjRObZ9CMK0M2J2UW7CWYfiKjvPv3y2W6lPuzsdtYpTGfbd+kAAgeVbQXjV+kX7/cIygiXLeZMpolWJnBeRpTVrqAqCDHKULMD99Gy6ke2lPeA1VudeWgc4ReRe5CCiUgNO2UFcuzkXacPND6wj7fqyQBIZWJvHOPMf5ekmdeMRKkdyBrPaaGYbi0o//s4xKAACtjFUaeYZ6FZmOho9Ii43u/KMpyZhuORNnK74sz9FoIInS0pGxKRqK+ok3Gs8MFRizjhXdpnDGWTuxc5uUV8uXSHQaHrMxqMIu7FfF6R2hgvv23b//7ernL9T2efTr/Q6L+rcPejCtW/VXDIGREGkkCRGv9rQKACdpgV0EQZijLmAXjdBd6RIGufxxF2UTCHgRMUxlL600OTzE3Vkb6ODGIZl7+OQ8lqX2X1yrU9Rh8B1897kTAn+53WEvin9+MKoMUtzmXcL08w3Kj1/7gCczy3//s4xKqADHzRS0wwa8IiFClqn4AB/07W33uw3a1V3TP7Hp6VZ40V7Gmmoek+Gdjv48zte9Z8BhciPRRATOoz//8OhQHx4BNh6NuNEokJb/YF8BGCJeu40zCcUVjTpJNofpcSg5qccKuPQfzZ8RvzUPPCwa48aMONkRRj1Ta/EEiQZKH3PH/aHjZHszrRAfwcncH3vEccLXMbzEiKcvF///3P/xyNr/9i2M3MmF8kB/R39w7b4FTauEAAAh2yB7RRBE1r6amUv7CbsdtOE8j+m5GAshMh3FUc//s4xJWAE3Dxabj8ABG4pK43noADHImG24G/VQg+nTWUwkJXj4lDhMfc+LMpXGFIYcKADhShnr9pWl984dTIoIxcBI5YSUxFQBGJ+rgu3P+spKpQ6oRF41DKICAEy60MJPiFsydiHRhTRlg8npaHu3M5xxAFReYgDRRUpCk4JT9qNXk5XOjUBCogmuzqH1/viuMoyiA+YQtyr//6GU25wMWC7pIi4RoDKVlnmi4sDpirb0FqFIOlEvU0w2wq9KrGAYXJ1YAgATa0LJEEfCZ4UsBW2R0i+yI0//s4xHIADJzRY0wkbZGpFqyo9I3yBfQ6MkBsmk9mZE310KsLrxtiKUG6EGj+HaHUdvo7GCDnFTon8jUpRvetUODkOpFuzFVbNi9qHfrU32ZeXuw74JOsNeE4J67oHf/oAP/1uh+RALZBBTAW6SVjkrp37OuGIx2QtpssKgEoGSHLopN726USv+8afG4IYh5McAnQGkG74u//UpCZNQfHz/qIKwwyXn37565xUZEz1cRNayklj7uYPsVsbpOXJIE0uAhRskNFGOK3ttUqAAcjYYmAFuu3jGoZ//s4xGuAjJTtZOekrVmWHevc9KHi7tjFRKJpNVIhaoKi6uYXS9d5HVe1HXJ9OiXJ7prnqVcGYSlg+DNSW5W/65TmGmhVxTb///G6aAnD6amJPn5py3hM0kyZN0FFTuMdUTFmoui9KQGh94WsZpATiAIML+ohGZRKoJwrkxO9onsGYnSTSBpWHuLLkRN2s8kOYhko9rZSiF0iR8thwp/zOBBYgG2Ov9/3gNhNEEhGzhldCQ7leJe++5xlXohXQQSwhF/Kbf20Xj7+/bT37Se69ss2KF7N1Qa5//s4xGeADJCpVmewydGepKvwxI13GWUi04iRhczIgxySuL1IMCmbWBSK41E4IJ/ecTytIoIz2OyY7FbLfkQmKfZIYOsJeuwcBb8zfL/OnrYYJjy69zeuHMTh8DDLFChrIf+ztjdaNnZr1APaMwBJpyEDA7Ukji+I5D3yWiBJDkupjHQO582Epgl63EhtuNVa44EzjrdB1trKhTJIUk+fJOIXkhlU8vkmewJppBtIPEli/MfqKO0sOBWVDJoXQVsdleoaADWpgwUmIlKwt3AlcXJUdg3NCYQx//s4xGKACtzPY6eYbXFgmmo08wz0dNwuKWGUUhEi3ZdxNcVYYShUcQcUKp806ER8chRM4eFSJZ0Bpe8BJnm4SQKuNq1/9KDvYRjEMSm+ErE545eCGAABSjAFkcHhPMadGD7HhCAs4kIYiKRwmCCFrLMICxa+KaCA4MujHPMx34+chJcH7uK1BkWD56nJtCKSvnuTuDfExgnBkIguBz4Xt/816h76nzuxW/6FD/gAopytBciFNg+hDCEKIyEsQ1iBnIZBZEUby3sG3E7CXOIKU40RFZoLDwuf//s4xGyACoSLRMwkZcFdmeho8wy4FTgw6TPi5cHi45VZC1YKh+bFwVUpkVTFLopZ3YueaaLxc4FUqY2H/YisAGFQxI0KTchIiBRoLqhEJgIWkWUbyttNOKMJHB9YBo0qFuga90OmZHfQuHRxUQsWPCqSigOFgRPMQWJutKmEODBk1ICIyWOIIZr1o7XEthH8yr2B1SoCmRkW5M0ENALYSjmkNmVERJ42OYTIWyAYGQtPkxmK3CZiSSo2aCOsn9TEdQIawRI4vCbkjW2cs+ikq3ichFyn0zw5//s4xHgACthfSUeYRYFVjun8kwzskLGguJ9A5Lv0km6pBW1NLan+7UEARbUPcyBagYBvIFgjJqEm2NuyBxowlkkEutHYi7GW8wmYaExwufZK3BrvLz1HKuYReXUD6BQ6UJHliZqApF3GhKBiRsYpxs4itrPyzvRcU/i7tdEAgQAAZRiJ4+JcTCKiYMxfAYWlO0UlJh4MV0aHtckNaElY5VZlIOdveu+A1588M/id1HjRhptI0UPEiM/LBEN52y1cEhDGN7aopoOiqWc9jMmicSLEKF9dG43G//s4xIMACszXSUYYZ8FSEGgY8yD45GgBIn+QWTgulrXqLFpTKQ0swmCuVZ08vUInoXBSGallATZD58iGLBVCMQS21yL3v3+Vqqf/vnT5yDUMfF0c+8ttuOa9a4uOFoV113jl/cowGGUyATq71B/Ht5ImhBA1DIZWDxgSaRkt9fbPxXOiMSkpWbiJNgM0jNJv+4ac0fM+wpKXIjrJOjm6KQvddoMMCpsUEzasiRPMtqV0/Txh4ndanZWwI32UyklU2BGnAEhqh6JJUk4FMNMN9tZdvCSUbVlm//s4xI8ACqiJPyewxQFUmWp0ww2s8GKTYKseGzr1AMK7Wd7cnff5wsoR3Ip2XzN6+g2kFvZEGAIQRNq/9HBxwqEYAtzjF9D9ayBYYACAAXUgOJqYCOSRJKgzIpAhISTo3qtAw3TEqTg8JLNe4RMw/VjgoBR2ZmxzDGqBoKnD5JAZAIwLDkgdbcODQm0kHQ8AEUjjAWD20gZdkCW3/ftV9asslaiJTbiYqO46ji6HxLOilHJgpLFoGOZsKWQQIvUsW++rLZdZHOJVBmM5xVvpEOyAYZ6O8NIE//s4xJsACoTHTcYYSeFLm+n0kwy83hkDnxhRpAUeAnMIa62EXDx0iQ9OzWZWtlKss1e6+mqAuOZJJNtwoEgacwC0ERZZfHqrIwLcFcOGBKlICkLRI6gxD23cS6MCMSlsFExymHcmD1A8w4Jh6DgEDkGmB57xgjcpzUYlInyKKUbK3fdm9a79rJIgdOspBOOewONQiQqK5EGnSItIQg4ckBIuWdJ6DDa1YHxZHh6o6XwdbrmZGdTDAjUOGOrJQgoYdaB26mBRJNJapBNlBMIlZVlqabSaGITY//s4xKkACuR1RaYYZ4Fck6n0wwj8FZF7R96Wr1UVHAALsQCO49SEjqWFGtKnk+Axg4kaDiyVkIougyQFX8upeDaCkaXivuyzyIrz/ltqukPhoCjFBEAGJpNCwjgjLbHSQhQ7X/pONz3NqTkaq9i0LkAABSiQYEJcDoqXn5DH0aKHr3rVj2LuogHFUYfY/zFoaTLQV182JczT1Q7IZECbjFKbKmT3GEBNR8QgMQYmlHo9V7mIbz3sQpC3v0RVSvLJ9CoOABJdaDRKOALJ0Ej1bWtQMYfstdYw//s4xLMACoCDTaSIbiFdkul0wwzof56ddl8dV2O4wqzq6z21g2U7H8POMdBGFyRrH3rF23fIULShlrwKA7GM2KDzISJF2ln++8qY+GHveGBxwNL6NQAYCONiF47F5DiQjyishRlMFJ5eyiBBBJFZ5iZ+zrJRFX5scGFZLsZL4UnMRybyg7LOZWNvuVe/YPLJtRSly2Magxf9ayS7QY2XkQi55VTUZ1KEpgDkQCKTrQqIAGBJhJ5pK6qIqxM2M6OpFyNCM4VrdN5eaSwfc3Yk50CURefNsWIU//s4xL6AChCLPsK8wEFKlChoww4QGFkOZbcUWIp2b2+l2Qv060N1UAw4oCAHMHkLJbDRMYF5yxGMEWnOvWoMML1MOZ/e1ADf1siSccjQmFxtQRKE5YiAsgcXiYAIhI0QpYcMeKGpFQUluBKHubRkVSOlNkoJXfJz8jP3QnMinNisJaf5kbFhRALLPDwui+0nMmdH19Iu3ss3L6q6BAAN0FSZAeySNpYXM/YCtEwkXe9TAMEKh96TdiS3OpAskX+KIUclE0oqJTZjFEBDESAk0PvTyBna/Cuw//s4xM4AisSlQuYkcMFOmOhowwlot6f/RvRjs9HijlzIAJqdKDWOaUtZ809puYfcsWrY6Q6EdjADwAAoSDVO8cYuZIQvnSrlUT5BYu4KAty0HTBghzCFRxshQKp3HCbRS5E20t85xhu0R9e9EGxOsRDMzOTf3KdJlal/fhTikTCrmXDL4e1WhUMGRdT0eKp22d0Wfou9pioACkkAAEpRIK4ERi8CDLhRmWPw7js9oaBtZxeCA22YdzWWNl9k2QJMceKJbWhRAvRaKBivyHaDB9cgkYOTTvoj//s4xNqADATJQ0YYdEFVmOo0kw3Uu5xaXXh1YcOZwjzLMyOZ9HguPKicb+sCizrH3DUaLUvW5cpFmpAAgAAAAXQsIS7QhChkc3TswNGWe00FoQymfXG/CxRh2YmIU6R6RyR2u9OpJocfRbrwhXsu9Slq2bcAUFKEgsGeZJc8v5uVstpWpXcmGYkSoZF/g3BpJCPS/fp5ZRqktEAwFZUZWkJx6aAvAxAAAGYbVZjegaxmG9D+RyljK6TyWCrBkUNlyJVsaIMKITyAu58D3ZYRdogSTLxi6cCM//s4xOEBC9jPPsekacF+Hyfo9I3gZdKsuO6wnUbljljPK0RPL7vlnD7hQ4UQtgoagdqZprv1WSDQrJjToxJNUwhxu21SngEIAALKKKhdxcEGrUoYa4bM4sD0GSzIpYJhWxbnsjDFBzzts1Kah3PKFyBpJonVJ9FInPl/N+l+vuZe5V5NWkbqlw+4BAucDx2EnMm0CyBU0Aqa0fJtuhqYFbhxkNtGKJgPaihSABsZIAA3YEIA+nIJEMeM3SMhzj9MdCGSo+wGgMyIA2UjhPk/SteC3pGNO2SN//s4xOMADLDvQawkbMGpnafxhI14bmBCfMG5IZb/pnc655+TCzyh1lOedSXB0eXWHEEHFIRHpa9Py6VS+xiAAF4WXPJW1rrBOINr7HG03IoAoh2kcbp1oVhyJZBZOVge+1RvERUXERgyBR2dRSoIR+PCocMGIzYqyLwMRsc0eGTl504ZLQTDMQJCi75vReRkeHJwueSlExHmUiol0XhB2A1VDxSpLXKVGHFo5CoPIK1Qb2KHtdZm2lS3P4SjV2KJB8hBASgs7R+semU8yxewRv6xRTHSQrvi//s4xNyADHzPPSwkacGTFWelhJiwAEnCGFRblMtrbzBqLU0lBlza+LP5/DXpqIGny7rmin/hq3vKJrDzRiHNFruqqSIC04L4maegTHAianRQkgxYjxsaRRNokkKxq13IAMx4hwCEGZsQJNycEWoXIj8I8ampGo1xSlhfZCIlw2Q/w5Cb+BSJmwk43WTPA+xZdHnNbWUkSAwwIQGTbtJgebdFEwBsAQRmCSm4PFeSx+syXYRJwkDha4rZU0Y89oVMgPs2HirLBxA6FNF1FduTBU8XKAqUKxSP//s4xNmADBTPQ4eYbUGOmyp09gw8+OCex2g1ZqTZkkB4GLAzJLRzIsQKhMBgQooSjLCfsYWmmoaqp4hWQ5lqD7elQCyCGW5IDhjKtiIbaApjNFfGcDQBAE7QReW2L2zUYscdi9/7528bI82Ka1Npuatbn6RQsRwGoJuwJPDOdE8l5GqbxafEqCFxATCA1hsTneje9V1RUbOUULqjqRA0YWHJYz9h1A5wGBFLgkZBoEr3JVPFaYsqQEAA3ZA3qyoCdiHIOaZM5pDBiDWNGNGxmhTSX7PAY1bA//s4xNiACxDZRMwYa8GBmyiY9IzoleYeb3K1tUHbrFe4fGU/ZycG0kQGQmb8ujg2x6b3nOOEjpcj3q6FMFUCFAjvEOVHs5G9t/yHfRysiLUK59CPcJTGsZYUB1BYTmzQ0AcWocGG4BuQKksgWVIZZMBYy+Lt8wc+U4XCCr1S30jvW+EfpiBezLCXSRiJPLxbi5QqLhQRRH4W+f35shENf16cswSvD8Iyf1+iM/WnZYmiFOhXLozmrnR79PUU3ufeGYrAGtLS+pXREgxSIFONIFsQGMee589O//s4xN2ADDidRSexCQHRnqlo8ZdASPC7uVcevGHWbOB2G2+xdNex8tAowFfz1TppanrrPY8BHWgR+5fn/YNFkpHmG//98dLO2/Jbu3Z9+trym2IQ4cyucdQTrWd/2/+//b/vfz966T2COq5u9qqP0QzRILkZJTrTAdVP9KNwxE2gTJuSyEUliamCo8bROwYeEaDYYuE9qOQoFAGADIyfD8/hGQYIH3/JvDDEvbW/z/PZbh4KdxRBwLnQoAxVjXf9Kox697kx0AtizGiwcS02tSAAAO1QMIR0//s4xNOADjD9Suw8TYGJpOvo9AoypxkHUwnSoS2vi5LtUPXsrku138ZektSsGSBo2szlbBI4g/GpBLSaNNzGz4EbvRFOHCieS9WzVVTuZlGREO5mkdZkn20SrK1tNvr/5JS/tpq+TW6fe+dkxFGp8cLpEEAXWWAYwE+JGda/j5rTp8vmusthaiMLOPN5sGuPsWiYRRbNajznZ9nDte53/5yTy/wtKWSz1jv6uvrGRqkKbQ2X5zd9X+nWFA4G2gEJGm//cA+yl73ROpt9oEBU6KkdSgBIQQH1//s4xMsADXDNaawwzrl8Gy11hIx2BIYOM1hnrYnmDZ9onRkyxG8fQm0cFKe5zlDSHoUZOQsEJ7mADohNubBBgUPVRJEyMDGwxfv/rKUeqQ4u0kKJKhyVDUApJHll3taij5QVdvHwqUDQbDLnpzgf+TAlgAAkxFAaIE6M04DSmU0GHijkpYU1kihYZASFGStPAQ6kkQ1xSsMamt5zZoJQ3y1ZsPrMM+5GSlLGVKFcjPQpVOR6uhVu6EVrpuzF+///87J+67HarKHFmZLan2Ps2mM/8BDdIBio//s4xMcADGl5SueYUQmImyjo9hhoABIBiBBeSHg/T8bUG9eqc+WaLiKlHrOh8fL/wYD+dxYQApDFVXjEShhEMzOMk/uk3KYUyLJEz94RZrmCEKb3PcjZjtzFE5yo1JTMv///82vy3RrMXLZHGtBOQicyd0nDKBqDADaaVqQT54gwCkOBcKYuGGTUOyphPA40uHFPGCgkkiebju97smQRnLfC+94/RXrP+pnrQbcXtvszlqNBpHpUtWvo7EHhxSmNAaAkeStf6xbVYTZ4qsY8WQiJPAkSXIiD//s4xMWADBCzQywkZcGQqeio8wl5AHQWrBAoeCK+i8+/c29AAApxtszFrlzk6DglEEQlFYUseLNJJw41uGNq9r7mL0Jt0nq7rmmb0vetBsTPcWpQwRwwNUgs1dwsMWZ2oIp2b+9ipAW29z7KAiv6VEBoaGNyy1xttyQRhIAKQfAyYbsX6bCBmIbluSzTmpNLkATG5l8IjExRB3guSHB75kswQKIoAoj5EBT5gkoxKIxRc6yYI4qGRaKZJn6yNIqRZI2NSLlweydMEz5cNGTdli0EmSCJddli//s4xMSADG1VR6eMU4Fumym08xWwxEIVSqeYzOpuhZb03MC8kxiaqXKw75wxSTSmiX/8yN7KWyCnMTQu31O1Zw4d/3uSLHRxOpYDPPrVAAACDjbNzaBlwiOYt3GkRGhzsUVQL6Kfi1ucfqX5aBwGYLAI40PDw7Q45yIJODsNLHRTpK11tdJyn73Uh7niLbfP83xwxrE2jZ3cXpC80OsPD7wMZH/Sz6ppDFsAiUjNNlCEVdYBqkm2lttjYL/AzmxmWgcOGDBWFX7DF2hJSO0mUDw0ELQb8xkJ//s4xMaADDyxSVWkAAKBpmr3MRACw7RGQYnd0k9E0lOJA+Xnkf4/ukh8Q0BjoITyOZiiSZTkg/bfOo+e9q6dlQtTUyoUFRQAAIB3T1ohh1J9lZsixZFFJK5akPqrQyMGEKG45F8Gp5k0llHtLVESWhMGFHbg8sHQ0YFSSQT3iWhsaDNi1G0NLKLFVH2qeeV/+xWvkbOx9pCNKjB/lLBl+ZMnommLqFmwCHBAVCBDo6jErGhMCkCpPSQgBiE1YKRWCEO8mGynT4+qymd6NuQu6ucj/3numUC8//s4xKaADJzTTb2UAAFcmq40xI1eLDT6jIeMtYBS54251SLw0TgsPHC9BzoWIqNn3I5MMbEcm1UAAJvOJxKQAJQGiYTBMxVB0oDnXS7PZPPLW4kPAHNQdVJvSpJZPp3s6hGLEkKGMmrVSbR0qQeSbS95O5HZ0O22W6MW/M2XZx5k4xAyyRcBB7bT27i/6FzJte1CAPioAj8Vcbk38QRguQEyXUguU49oeacPJhViTawnE59NNtiXV1eT3JIaQdxCAA8KKBMAngqMh4UDw1hgMgQ6SLjiixqy//s4xKoCinhfTY0kaWF+EiipjRggDDpqcoxVpsmlOa+lbfvrvNPSyfQqBjSYjaLcjACgP4hS7Bpl3lbD/Mq62SEzmn2UHWdkKvSI7MSojAgze9MxZuAUTKgTr1DBHBi6dN97deI1Ce5lcmH5jEoKMBtCS71f/hoS/N6Gdtb7RboAIBYbhCktTAZIMMeZfDJizyMLOiWp4cThTwm07jxVaCRQG+mHlF/H9os/a/tqdtzYxq1py8Dmwy+4K1LHuXFSK2SRpp8LFs6WBJAq4KgM8KuVd/FX+r6u//s4xLGAC7THT6wkS+FaCmq09I1gnZFRXop6SnlakBTo7EDNOGiZG9QGR5o13EFmVmo3YegdnIkSEEBmnkUj1DL4LcIVzQyvf6TDkXonCWS6Min5A3bTHj4bIBEP0VjP/sbdr1VNy2BGnSD6XIDAYAEIwggCgnhUd0BYdCLgqOOR38IHzQuvD0DEG5/qQQMQO6yA3PaYlLMm260kBejAoMhtokYfVw/Y3fn6CIrNEipPSxwfYc9x9oIBVBcECIehne1n//Bc+8h7/Slr6BZlCWutJNxhCRxO//s4xLiACsjNT6eYauFxEum08yYgCs2tU2zSSfJDNOHgN0mNPvxS5KtE/ORw1rBhp8EW86+E7Xr2mTtXeuBjaMECEVMgHVEjEURYsko7tUPaFyjRgVDSDh3/8RDP//q9TjRgCAL9QDIBqotCH0Bv/IT7RYVkg8DdyxoldrOJR8LdK9M7+lyGVjyTkjHdrf+AQEWYBCQe6EJMIozIbA6ZI+XUI2Dk//Ok+sCoY88ZbH6lqlE9Cm2knK0gdyDK8tupn2H6GE4K5dCLIGiRkb4SGVmT4fSVtq87//s4xMCACnC1WSykZbGEkmnpliSsrC8nuzP+pwRCCHHDBTmd20vViPKtvyymDhFVZYQ4ZBpa1//3bWHmtmJh9dmlvQRHTqAAAkI3iAC1gwSdcrf2XziwAWkfB4qiNysCiZSZLm84ujaxj43U063Y3OAooqd3ZSepRIhnWZ1T/uZqa1sRc6lMOcUARVQUYv//1XjK7lhgmnXVAjaSACECE3IAGQAxBqE04GGhIKO3yw6IgtdbUEkjFGNWeiO4yFYXhHCutuCxlQsI8cr3pmwyhaS5XghoTasc//s4xMeACryVa0YJODE9ESrc9gj4NMbVpYGCqFIU2+n9nOvZZUltjFhUAAC1AGYshuYKhyhwwh+XacaaiEAXBlgSikyybYEypt6FHA60WMkE1FCA4LUw9krQ2m7Z3CpTok7uPfzj6zvOvjFuo0HgAFBGRmgiaEBoIxWmzu/+13VNnRr4ljUWNbbAm9UBgAABsABkmBGNRrsSFjUtiMPStUKng3A+nMvpc/JXuPkPTOUTEtsJNJ/2hmQSbjuJw2JKVpquEbLNc9HUb+l4S4sztWFnIQKG167X//s4xNYACozZbaeYSfFTGep9hJT4EELsNflUIve2tQTyQAW1FxY2NEJagAIQACDGAB+AAAG+BJncfegpp2ygWHluwmTwJ4LxQpLoUacNy2rjeY/bZwbll1CaMZxpdKIifXhAsH59eThl3Vt0h5NHyAoQvjWi0jOJb/Pnu6cqU5M2RepouXWLE60AGQBW4AJZC5hQKkol0vvCCRg4LQGngYcXbHddINmxZ2PNghDq5RRjK3z/Pn/z/UXNSW8lDOhewp//e0e7aUpbkiEmxzAmFiiSrXzH47Um//s4xOKAClSZUewYaWGKk2gllJk4o7Mw84Yee1ijGfQotbaBgAaEMJyzzJ2utljsDP/UpVgmouSY08lmyiE0j8C7aEjZtdbtzUmXui8V5Tq6TmC1EECYAyLeGYLjNKxMkhN+qoYzxswSIC3HMv9B78rYv/9c79v9/fnp7+BXjzlH1idEOPeIHRu2jgDHQBWwAX4Rk4DARjTEVjtggv4kj0dZwKxnPCDiXMnplZKbwYCmQu5Tca5eIsBLn0s4xCmjG9HNDgpJmTzA4Ri4uwuTIiQ6hYrOtde7//s4xOkADDDNQSykacF5GmhplI04r2C9sYt4s8BQi0WRrap7r0IAGAAAIteoTplhoI/C5C0ouk1ZrITjJCcwqmhUTUYqL8/krKQsxKaiBDowA5MjiA6AokCe5EKYWjF71BpB1WXM+lfc6DAguTFCQMsQLEiimM/5UyjEht7EE7m2hagu559xiUoAmQAADEQD8RRDAZ4/07Kt22rWdIISK08OAsktE9J6Q6dtD70LTiEq/JnIHyQVr4hnu2YinOcqna7/s1tLkUsqkBiSjkVJnIhGPdAxbiqa//s4xOqAC6SzQSy8wIGfGKfZhI05/b/+Khw8wey8/SBgaPODaG4dvUuoAQCkAkAqMAAgYbb0eBMYIEu1uzd3DXgVlihLqQjdAligplzVqOhfmbUkD80CghxbIkzDOOAt7TcoOA08mQjivvRytPQ4by/qAqPQ2sPCY6gIxUAk8IbvjSFVGL7VPFxbz6FVADysBIBbrRBizQ+jOM3BQAs03ciAr5cGLilzIDA6YcuWlaU71RL9tRvWJAQ9EwmTu82TVYlMrHJgTFRDJL2k7hTrfDIjNss0ljd8//s4xOmAC8iVQyeYbsGJGGhw9Iz4pgkQoIbe9X4SC9BwRnCJQMrYKhMUhEo1yBegAlwCSU4CBs8IQZspqJQzHVMS/fRYv1GPY8KJnWIlUETy7TQPPWXZOU8QamQP+xkNtNRG/t3OFh5hkksiJ4ACQu1QbGjh5cugsoewBAZAJAsj0+cD9uX+yH6jNQ101rUDQQABoAfVqjagzlpMkdaMOMpmUjSS8WwtOaxpEiMFHkeTlqOXTgQVpz0u08TIi5IagJiMSj0ERbWkaMBVIWEQwADzAEPCpoPP//s4xOqADHklQUeYS8GKmah1pIz4idvv/rEOvcSFmlQtSOVbcraoDZAAF8AAPALQ8RbDkOVVPmVTq68JzYHTcp1lXu8iFUEWtTFI3eXDlN0C+5a4i5pAvK6tW1wYtOFK4cM6n5sGQzKJ87DjkpcZgSUIHBUUCxB7zhIoUFWI94vqJrbRUUeo6uosplSVFACCYwAT0q4CgShAGornC02MCgxiB6DOaeislRQnol5gTemnFouk8EvRiZtftD+7q23BOS2zKDf9+77u7s5vzL8/5Oqn3anQW8GC//s4xOiADLjdRa0kaUF7EKhplhho5t5FjSyh9+vCyurIMcygUVcjQABAAASAH9DOqUfgQHHQaNsuqUQUeiYeR+YPkNCXQL+PmUD1Dp1ChI1R5FZi7ICEKpwMUCW4QcWHOCY9bAyTUS6ijLdXDOivrc13ZVAxdgjmcOeufV76///120bzslEVezkIGjDgte1zFOcwWQAjYASC3UA8VeTnvkVqLGT5KKCqNyyc1YWWiROYpca5xBiXQ1CJipNAu54IS2Qc2WRCzzJk5LEhPOKrX0+QiTsYtwlp//s4xOeAC1hjPy0kxwGXGyfk8w4g5ZrHHAx/8S74pFmDwy+4gAg8XlF2nVwm8CpFLUI2vHJ0qhqFgdEY+uuTLruWENg4UPrQQX0vgd3ajhlCAydaBBwpk+VZwo4IxwjUZGl9RiM4u2aMYYkfE59bzyFFXkaXincajv+EtsPsI2jULELBkRJKnPaqDACAfKShkxZetVVmr3Pa71HhN51LbuKlYIMyG4dPH3Wu89rLuPrDNIfTC/dWjdQqP1Ls6/xiwxe83t79CrGnMERZztGFAKHWD0l2hNRR//s4xOiAC7TVQOywwMGwqmdlpgj4AXUmV//iMxGsiK96BwhOgJMSnmjHofHABir4BgehkEKWnHYAlcttzKCLFCW1iqhkIfNEvISXWXVtqfZ+FlGf19CsxfjzF16wma1HbhEdSqGSZ2J72DpVc9D8xvhBXTChBiPlw5uGCMAG1M32u5kmqFtV7kMXuZFCvsRVAcUAAlSFATfXmVsKrLlZCokUbdN6YEyzaywCkmZBYYzb6cF4qoJnE/JVNTVWNFP9yto/Pmv1pbmPkNZWCz++54tmiM7ogZ5E//s4xOUAi5DNQ4ywY8FulKglhgx4XASUjwCA3KcHEI5jhQJunhomi1gBU7YdgoPS0Juc0CJUAkXYkCO0v6zyOzE7YQxMJQIEyKZ4obpJ8uJPR0yLhRp2nknr4ZR+olCA1ZAO2zhvnKjFSLTcRE1yX6xGxq6t1ioKsZJ4SngGAdv+I1WuxcdVjbmvNJdF1DjAcQBgAAXgBtqNM+GAW9ZJKnLisWJB2Sou+CCLkj7JErImSZRbFQZaQEqAhTmwYaJmY1ogGJEwKhN9RyST2diQ7TUux05JfjM///s4xOoBDKypOqywb0GLHCflhg04WHIXEYPLASzgbZfGj/wWPYcECZhJRYdQ6f66tFoAKjAA8ZcjXkArQnvJ9QbxKpE8daNMFExxKKRiDYBRoxvTcwjB0T47Irll+UM93XU7m7K8MzVD2+Z3rGpJRKIXmYhaDthD3q6gT/c4dE5cDA/hB2+7uQQABQjUy7INABFwEIYJA74zzqS6KnjBfJ5pKtdGtlJvxwNsPOIamzsJs8YLHOWYcIZSChX45mbphVc5HdevbhaevUaxTZH7t33e2t/XjO/w//s4xOcADNDFQUwwxQF1HOipgwz4tu+dGO+/3/nv72r/vv1n3O3//bWeFnb/N9ms5ROJssOCCUiFjgRlCyQQnTXOoZ4NiIxPEBwDIHQE3ISIoXXBwAi6xXXk7vTEgLqPQsJDlESIy7DzbywrGWh/JZdIbkdCqOZKtyct5zcstO3KFdtxESm1krZVzPLuBnZf9k6G9SLSukyr2eWO28M9VhNcKh9TWHAoJBMsAqa1FSqK/8ie66rfQWCSr3uc9UNapAKbiIkjov7KXel7TW4O3L097ILuXpFj//s4xOaBDGTRPSykaYFam+hdhIygjuWDQ1XFsQCtda/bPj+Byn6+gW49x/Sl6ohlcGYEWA6yGIl8jlapJEWwNZYnGu81vimvf48vErCJu0NjFgYBpMTSIsx41wbcKig1jOgX699tUnUpNbLaILcQEt0gRAn8EziVKBpy9WCk2UIXTfmCb8Je7YI1mQr3VITOWfLo+NMvfOarq0tWNhRYMKQu/DwYoVUFLFtPf2Lj5Evhpk7i12AYDx5w8mVesbZeLtc82JqnWCvULrLD9VFSEwFoAKSthQXY//s4xOsAEKGBPMywy8HOE+kphOGgIkJoUEXIpjzAcVImGFax5RgpSa080qBbP065mNdEwTvRA4D4bHFROUJFTazDYPRryKEpBsYo3NDkJUMSPOnLPRmV3NsWgqeo/rVplvopdHayXI0Ct/aISiTpRkJUCtRjE5yuSlW6yEzoojh6SOb9xi0ZY9iFS3Z+3QYhQSYYWcTcn/9T//Q0YdmIajpokoIYCIxyFIJxij0Gyp4mfu7eLAX6rIYYF6Gpl66qKq7mTZYgXv7gcl6IaHUT88H9jQL54mRy//s4xNAADeShU0wx7VGSGGw09g06dVPJTQc08+vi21eqo26dkOnEJZoeIxD7wGAJQlCWeGLT///xbdpGcaMSaRMzA2DsSeRduFBGjgLjQRKtav8gzeqFHKsNE3meFg2MQDJVB2NMlWtgGW6ADBwuNE515LYhBFCiJlx0UIV00L3tI236A/TjgxAUiDnJrgImseGlWkgoCFj7YTWwDphcEG1xoIgyOFrNkTUnz/XwIX16HYrsWlPQB/gFJrIARYI6HDZfjYvyKlrdlVJPdpq9oOj3LEOzisyL//s4xMeACvR3W0ShIBFym+008wmybHzZZ4PA2F4PCU0kVa7XXYWLijDq6+Gu5X+ouojXmGj+fn9k4QcWKLL3qCjf/lFtVSLhMeXDDnJMTRU69tzz1IADjbcscRU121uZQAAB0vMYEIcMk2y/4+2WltqeZEyWhbrZd56yFOWFCzpYfqnXSfOtDE8gi8E7YT9Trehz32MRruinNegMKNQZwH8iplaoU7RqQlcq9Fni/w52a1Y/YFE/mmxFe0c4WE6pvBfTsu8RbR7R9PZ3+rfMd1Gj3cnLFdfH//s4xM6ADMjna6ewaZFGkKy0xIw6//+P4r7/////+/z////nFbPoL16DSyJXFos3yuXVBYCACvQCXn+cpSiXwm/J6WmpqWvTUGOVCC0OhHCBHuIFFOlM0gMkCDLXTv2p6dNtF1OVPoqn0kq89razHVK0zcT1KXdqPrGNe9wfEBO+9TP84QqxSk+owmKCwjwh6hAALxA85EFvFLhEF35BNJF6EqFC8tGhoDA0orgT6aNrG/ehprPt8lmM7cYGBymKBuZkudrNKyuRWEIyEeskpGYzqv0bBoHP//s4xNQADETPT1WEAAKAqGj3MvAAIdnZEK3siLT///9DdejotuRtdjdlSfKUOBkZZzwZ4dpVAbSMASTTtRAiM0EQUcBmHmwteHk8C7BBVykLW/VSTQIT2UN1VpvmWBN48bDuSOb5RSJX3CuW76H3hQrMMpKiRY0LhAzPii0XH2JPGopyWphmLfFRjEB12eOKPNpLSAABUiIHyUrZlBRrzyAMzIDYNi8kgy4MmEBZhW7KRg3hn7NTgspgiICopaebZnS8q8JTfV8rlCqiCo1+57d4fR9cSbDo//s4xLQAC8DNQz2UAAGeMagZhgj5yQEI1LBYMM0XndD3ump1iHDTwIjloe95/0okyRqRzdQBSaethz3QCKlYWeBC6zJPjygdR2KWZZaoMoatd+3aj9JLyHM9QljG38N33pmhupnkfNyNrRYwF3oCrUGDojJItHOYtdjyGg5AtHVsd7vfU709RuzBEJuQgJYQYyliKKlIuPNkCvUtQ9JgBaWMuAwrOxAnIFmWXnp8nm1C7E2zrFhwhNtVjHj+rhdTkQk8QjwIFwgIjAnc4E7wE5AHCVqxc+kq//s4xLKAC6SpSaeYb0F6GehdlIy4YaYCeyt+VDdla5YYpZ6p7VqzryjCdQgEDAbu8YFCpluCi5UiyIokqTBAQC9pQz3GNNKiMg8OJbIQ10r8u55vuDmBu63HzjlYpwoCEBa7yQEMAAMo0SIgECjQqBZ4XinCkROOQ3/qb68nb17m9TUhBARm7gKx+nFyxuDXfSNyDDnFlVpVUOXbBWoFijVBdp7xop1QjRDioNBOIUQ93ra110jmQYvmJrnChQXxQ4KFkAdp4u82lKzrGVRn3fu9vUm9dpkU//s4xLYACwyNXYfkZbGYEaopl6FUMpZDZIScrYJBsqICkTyLVE1hPFkD3ghNIviTC1tAat29Aa2rPljjD3N5mVnc6KGARWdamff3Mv2uWySbCyJjoeHSVQ0XXcq++gHDjt9rHHcul11NC9YEgAAISxEK2QqLRAioWXl5VBE0bXGbS049luWYdJxLEoRK15VulPsvzQVk9l2m9rH+TQKMHrm0Tu5JClRDtoZyy46xEixozRS13/w8HvruZYZvtn4gOIggApONIA62NXmizTBSaRSQGAE0GI2T//s4xLgACwyZU0egcMFWEmoc9iGIgCK7xiiaiWnylORXhK5V0ZSZDNcRbXzDwSRiy3qs1F+PQdGIFExLNMDwjFTqkM//1obXkKSoCsKKrxNY6kAoUgAAtxAL5jKENRcdSrViY9MRJBjC2S2XOTLtmAgQnDDTztLMV5SzZKvFCiSsX0LMbJWO5pMgmIB6QUBkQwm0HEdcIBFg97+//6fh1IrW3xM9dTH9xCpAVsFkApvNIFBo2+MVAIQCYrhgQeCy000JAkgTJNk5oMcTze1FBUw5NbY2lfkv//s4xMKACpzHWUSUchFPmqlowxXoOazqmukuV9Sf2YsvXseEKBuDNzCEiYXkP/wM+9DkcRTqkFaNockcYgLU0gCo7qmB5sqyoVt+bjUyokGvkgkMiZKaJEzTisR/sHcS7Q9QGI4xYdVOK5q7j5vG7CJaZKqAAaMaEpG3HMuveGiAnmjiNqbbvypx1KkFflEsJvxbNQGQABJUQICIsCtQOaEtLK9akaenPArmlogizNEJ6cVITN0Adb0be7rXa6Ohbi26sWWc5X6zWIpUvM/+jM4o5SkdIqlp//s4xM+ACsifSaeZBcFcEWhw9gz42tf/3KZVFKqE7n6s0jqAhBAAbAJudBdAoQkhzoQo2OzCtPU7H2RyaObQZ4fLzY/ic1t8e24Esb6r7s3Q1TbtouIa4lkUlLNjI3MFZtMqR14NHYnMzI3M16/yQjlBIXDUmVALqIsjkCojuQ6KLeyZTJ3wO+kMIBWghaGLkm5MD7lZGdjgbQjxA2kZFQ48xNYaBGJEmzy8EK69JLYrXP1t5CdKFIZXYtlK6lI6VkVjZmcQ5UidX97UdTaVVklazu1JHVHW//s4xNoACrTNSawkY8FdGul08w0Y3on+O/2nEHw8HlHlnL3eHqlBw0OKsoFVpfuJPuEVVq4nlN1DMW/JTphDzoco09ikouVJoZFdpOt6FwoVABUTMQIJGTg0Q1pEiFU+vdToz1bTfhm3UOoUXBLMCgQAD7jaH/55PRhBLI9LjRVqGtK9aQBCgAAC1gEmLgyACw/hYx3FseswrIPI0jERBas26LiORNbIkWZg9WUZrrS1PSuOn8aNSIJTYoPVOwp578B3hOoaTcveOLDbQUZxKeU44sQua678//s4xOUACkjdQ0YYScGXHGek9g04uf101rahTNlQDsIEBFQkPnaZQBSKaZTFdCQZGCQcR2MJnHgxMc0BadlBiHxNJybIEM6B0TssbOt8qszf0MWdzCI0RDIuXF4dODQKpJYYEoRiwk9Jla2/4TrZHOxE0+1inr+mlQgBAAbxE/WvKdlSVM2B6Win7IXFIeacjIjL0ZhlZRcgMMhMgbnGJCYGEzat40U1JBFZ8YeyvDjrELY6TmT1kIj7KRDm73ePQYoP1iMycpTpQolzIv/T/////7ibH7ID//s4xOqADA0jPsekScF6mqdFhgz4aQU+9AflzgniyIJgOIAADgCMaXkBjxS/7rStsr5wYvO7oBVBgkUONpEp4eExkjysUnB6dK0yAsTKWiSppuazBWNlmKHCENo5LUTyxerK84RC2HmtizTsBwGWHi6Kwm0TrbMKuzYxN7ltQgPvMrIkRUFyN6luUggA030aMQEsZK2S6B+3JZDK9IVApZrES3y4vaGx8oPFEs6eSctPJGqE9C/a0YYbYeoEGFgkFL4ti6GEnvrHOqUKIYeZMyehklgcxhME//s4xOyAC3S/P4ekacFrkagphJigDLxOpHt/6imyED5SuJlYbF7rS0rArwDAAQACFAC2RDQG+DUCNm8Uh1weHk0wWOhUBGpRICBLIoBDEqrsaHEhYsgSRWy2iK1gqj4/dBF1MrAYJLIk2NEAM2gGdFAEoHgoKBJ6LWMNe36hfsvaoMQPDpNF7M89jW3CQAAAsQDZTOyTHhxkm3Uu4rAxsuuTzKDypdYBMGiUFyYgxychYKEEaC5Rvaccv0nKy1YlqUV51CbfpBNx4KEoTGpScCnjQqBjMstT//s4xPKADU0pPSykacGpFSdlhg04EqWaONXv+U1TRxw0hUAmVpsaCCkW2ANIDniQEnBxhb6Ydq1DL5wTH6WRXgsggasW1wmNSHkNKXqOBaFnxK+23CBiaBn0AMgZnkikHrJaazLF6dMgn6dT/BhcBF3nbyhqwaKxJvPEZBJc5Uq2UVBuLvKJDL0PY4mo4ZUcAISkIBjriHIIBEPAYAig+97UmAJ2igSE0M0nE0dGIbRMvaJN9nVgagGf1TxCCCp4PrjV+FlQiji4TQkGUIL0mqMrFQx5dTFt//s4xOmADGDNOqywacGCj2ew9JjwYo49mMYoTjhexmDyehpw2+buvhca8cxOUAgAPAEAcuAAkJt8pAFLugdaEPaWJ1ioMyWHgOQH0CNDVrRLJJuZ+IMQWbJ0OcdtlQTacx+fr7LzNRs7MTHyrKYJ6T1RccKoBcSDAk0V6vT+PL5eybM24FdieSGjSaUqAGgQAlSFBQM0pI2zIJQAYO1IACETtk7kCCcpBU2gVxA9Yzr1MUr3DClJsVthTIyNHdKlKGXZBzdcu55+ZKaOWR/lpIkYoGoeEZRx//s4xOkBjCSBPS0kxwGRmKeJow2oNkbZW271gW/Um004QdwxZ6OWcaOCYBUAAApQAAJeEZjcOT3ABJAW4SSVKYC0WMEQCA9rOQtbd57zykRBJR2Und8yIISq1w66/yFDqPIkQw5kpyPNUJSYPGi50QipJQUYD6HCINzYQbVsoraQClvMkVB5Yx29jk0WXKoAaAM1BjbHwx3aNAhDWjIBOBECsjXu0wMDglMgjggECaE8qhBhMjJ3IYVbM4MH54YVQG7DsEJDFgyPM24Ddj60m8Y79dlaIvT7//s4xOeADDjVQOyYaYF6lCeZpJiokX9PDu8QhLghra0AqXVzd0GCz2JSp6SIGZJiJ7AMYXcm9QfAAjtjykjkSCYCEQPdBArL1VmnP8rFCRqgo/YRJObasw68JEnJbDzeTmadFSo1ordy0VF/pwnKRhxIxBdwcIigRRYJyZs6GA6SXcWY8q57Si688AkvuROIoUxrQsoVdiDUoI0AdBhW9RJQ4MyNtgwZ8mKx6GXWtMGCbiCJxzackBkCwoh6BgStkDkbaNT1GY8ea6jcpKNghDgAVyHDIar+//s4xOiADAzVQU0kZYGQlifppgzoQsrDpum+5HW8izamk0U7HgsOjZ0tz377r7s/7e7/fN/oCGx3OaTrP0tq24+4nunZACs1jrkssIBfsRyLKrmFBVH8vlFDRnalhpkyM1kSxmhzcCRXzHcWFIQ19abZRJ7CA3vnTnRSnQZhEDlzZIiD58PLNvBoqsmEFrA5NITDnaL/TgH1oc6xavp/UgQAkqMgAkCVAhy8h6RzJmeCcLiHoUOW0aSMr2WmjSQIVZDccxdjD4jKHKaqG7XEKVIrOGWDtcjp//s4xOeADYjZOk2kaYGJkim1kw08fmzGmQy5KVLydmR0xBUJmRxkHBUS3mb0N+kqpWvdh4zW+3oQAkgBpYJNDmTmdfJLO1FaKNKs8lA9CfXCgWkUhIjVUURolk7YPm9rWLQMquLzc/zPYGTiiClKLZQbWtXQ8zr/8dSpn5I3bqJD7n0liCCT6/+CC7TLjYBOReXclW4/pLSi6gKgECa1CMZmbxJpKbOAFCFhKE8pqPKZJzxLbLdSRKtgUSxAvyfIyJaoptNVHFXDSRRgstALMANiTyntGCYi//s4xOGADaDTPyykaclqkio1hgx0lS83UOcLodX9Wqdc+RWdwayMIKHaRZAAwAzAKNl26ZjbDw0gBcKCUTlWWirxWaOG7EmpqricNUQ9gWaXbFagNyHMQSrxaGfG66mNfCo9Otv4xQwBLr+f3cGoeszp8D/JN2fx7mMJLfv/wGbs0xofZS9D/7oZhvsn4WfuAZoZJRJTUKAbQvEXbTTAyhHKG05RGSxCWOFc2LI2LyTS7Y+TawQleYb4RKyz1SydsqvK63O/2iQGJAiG3jRwmGrDoQAAfHjm//s4xN8DC3zRQO0kZYGBmaeJlI04SSVkHOoWVDpRqlNT8h0GrInYIj9417VUjAmmgCQAAR4AJYLWF5RUhKaUSh3mTSROKV9JGgNipAbKQFKAFqZVYehTpaKBhdovQbV8qDUEwsQ3jKDZGyMEyC33Q2q/kzmhBm+zLiMzPFmYKpCJdh0UTdb/FdAsgcLAQMkxoKi8DVItMXnFVQfoaBbmjYHgB/LGV5+NgsHQwah91ZX9hZhe0tUYvdM5FBWQWUDCNhlhvyiFiQhqjuz4l1oJmLrknw4vuRU6//s4xOIACmh5QSyYZcGWEecZlJi5nnCx1Ik1kQsIC4uwkcVuv/Br97SQbGw8pEyODkmoUY4AGpAEkFO1IDyByiiyTLWQ0EbkZIIBcUUtcUpUOAEYuD2uILrDyab1RW3lTTehi3Ohyu+DOvZsFIdj3Q0xzRc4KHxMFBUmsM3Z36wH3sdECVBdXu1yrlIVAEgAUvENAI9nAEOgoW6WvAUqtzXJy3R9rUHzeFiJRKQ0Ea6C4xaJ2QkQqyJma3UQVNNFmoYqXdmzXnPsjG7T/w9M+nXkY/Kbjmxl//s4xOcADHCFQ6www0Gim6ellIz4Qv9V7Sn1bIOpzRR/9nWi1IgMEEv2C7zKJRJYElOAgvQcOZAUmAXAGTISckXYRxP6KJgioXiFIh6KTUSWYPBlVYjC4s5bE6UnU6UatOv210vpWV6I2KNSbACxcidSBBceIkuescwVYlgUFLDTf2Cu19XPMjELYPa0CoQwIgAa0EiU0pAAtM0oRxlsRkUtqQ7LCmN5rFLE6soEOIfX2qaD8gnD3HzWs24MaaHGDZthMiEZiMdHa2xjnU17uiXtTY4+LCEg//s4xOIAC8DdSUewZcFdEak1kwj4FkIC4eeoTGDb5Q5y4mcoVOhK9RPGpVdNSK9YaBHlckdklsRBRjpREaI5JV8yvAY/cPA4U4GmmPEHyIHxezZI5MiZSZVKQ33RmSoadABYkhRVWGJUuTrc5DXQM/QYsADJNoiCp1wugleDrnxN6vevlWqGJMPKPd1/RQEANACY58iFsokxJlgNLMGEC7cBbDhcmIIHUSydEoPLpPRk4KtyRzpdFOoAmOZj5L1LBsQ0kXPbKhsrPGf5rzrkNurT+bnf1vaI//s4xOiADLj1PyyYcwGEkifNlJhw9BsPCFWb//ynwA0EWAN6k6zhNTyBDWAFAQAAAkAb2GqelbA6VS+s7+7FaiNmxAFyQs4IBIjwoFUUxxSBYSidZxBiLFZLXVp21lsbOz27a1Q2UDNVjE9Uu/JR6Lva7VBPRTUc5lo+ZR1/+sORqdQoceMKHbgHPpqFN4dGKgBCAAAAQXAAxn4fCbK09jPOhYdIhQRGihaD1cgUY1tplioSRBVDBhHBVzIZHUu1zBAZCLNGcwEv8iJ0X8nvnCCX62bfSKBN//s4xOaADFjPS6wYqeFzlio08w084IFOcMgY0YfQL7yVbs9jXepc8x6Hl1fUlxcAZAFwumyd+19UkidMmiTFkSxDiM6yFLIDzi4qtCrNcVBzgGKjiMcSYRQ0QjqQhE3KZLhrm8gko5T7k0XzL2ty8ZYCUdDyS95Ds/3yrDOsiHSp0OS8ET9qLTplFQgABYBOY060utAXfO0A/O9EdIn4qJw4K3q+skUmKon5jzflc5OxKTBhjqLogFnQY2IziJI58u2NaypvIfPEP/c+H73//vvZ2kS/UomR//s4xOgADAzVPsykxcGTHiexhIl4NOQodPDgoIH3F/fl3LtONACQfYIQqwnVyJcXAQkAAEuAgfKmhSpaMphLzy6BooXAqJcTjLGSPOMHyCYKUSpIGWkCNSWliPzBCtztLTEKDPfuquJFsabiTkh+Smmh8s1yiZ4myjGmi4NjFhhNwiI9XndNLJm1SAE8WeU3XuDoxCoADAgABN6AGin3RehgIcIgoKgRwnry9OgpYH2VLKglhilA/oPxIYhK4IYrd8wYokMhox5Wu7Hb88pUR6+dts8k0gh1//s4xOaBDCDhQaekaYFtmifJhIy4gc2XFHHFO0zBxjnexlE9C6yMQKF+9AACUSBIj7L6ISLCyxDkCRNPa7zJJEEGorhqTHdnUm1+wUYKiKVBUFRnBUOiUFTvuEoKnSrroNArBU7ERY94Nfw6oGQViXBp5WVBXErvLHpEs+HKTEFNRTMuOTkuNaqqqqqqqqqqqqqqqqqqqqqqqqqqqqqqqqqqqqqqqqqqqqqqqqqqqqqqqqqqqqqqqqqqqqqqqqqqqqqqqqqqqqqqqqqqqqqqqqqqqqqqqqqq//s4xOmADQDVOsywxcGQmifphI0wqqqqqqqqqqqqqqqqqqqqqqqqqqqqqqqqqqqqqqqqqqqqqqqqqqqqqqqqqqqqqqqqqqqqqqqqqqqqqqqqqqqqqqqqqqqqqqqqqqqqqqqqqqqqqqqqqqqqqqqqqqqqqqqqqqqqqqqqqqqqqqqqqqqqqqqqqqqqqqqqqqqqqqqqqqqqqqqqqqqqqqqqqqqqqqqqqqqqqqqqqqqqqqqqqqqqqqqqqqqqqqqqqqqqqqqqqqqqqqqqqqqqqqqqqqqqqqqqqqqq//s4xOSBCyTJQ4ewZUFJimaM9gygqqqqqqqqqqqqqqqqqqqqqqqqqqqqqqqqqqqqqqqqqqqqqqqqqqqqqqqqqqqqqqqqqqqqqqqqqqqqqqqqqqqqqqqqqqqqqqqqqqqqqqqqqqqqqqqqqqqqqqqqqqqqqqqqqqqqqqqqqqqqqqqqqqqqqqqqqqqqqqqqqqqqqqqqqqqqqqqqqqqqqqqqqqqqqqqqqqqqqqqqqqqqqqqqqqqqqqqqqqqqqqqqqqqqqqqqqqqqqqqqqqqqqqqqqqqqqqqqqqqq\" type=\"audio/mpeg\" />\n",
       "                    Your browser does not support the audio element.\n",
       "                </audio>\n",
       "              "
      ],
      "text/plain": [
       "<IPython.lib.display.Audio object>"
      ]
     },
     "metadata": {},
     "output_type": "display_data"
    }
   ],
   "source": [
    "play_audio(cv_dataset[0]['audio'])"
   ]
  },
  {
   "cell_type": "code",
   "execution_count": 14,
   "id": "82b9a8ee",
   "metadata": {
    "execution": {
     "iopub.execute_input": "2025-06-01T08:02:35.440157Z",
     "iopub.status.busy": "2025-06-01T08:02:35.439709Z",
     "iopub.status.idle": "2025-06-01T08:02:35.443269Z",
     "shell.execute_reply": "2025-06-01T08:02:35.442594Z"
    },
    "papermill": {
     "duration": 0.048285,
     "end_time": "2025-06-01T08:02:35.444296",
     "exception": false,
     "start_time": "2025-06-01T08:02:35.396011",
     "status": "completed"
    },
    "tags": []
   },
   "outputs": [],
   "source": [
    "# Cast Audio Column\n",
    "from datasets import Audio\n",
    "def prepare_dataset(ds):\n",
    "    return ds.cast_column(\"audio\", Audio(sampling_rate=16000))"
   ]
  },
  {
   "cell_type": "code",
   "execution_count": 15,
   "id": "02d3cb21",
   "metadata": {
    "execution": {
     "iopub.execute_input": "2025-06-01T08:02:35.526816Z",
     "iopub.status.busy": "2025-06-01T08:02:35.526572Z",
     "iopub.status.idle": "2025-06-01T08:02:48.686767Z",
     "shell.execute_reply": "2025-06-01T08:02:48.685872Z"
    },
    "papermill": {
     "duration": 13.202904,
     "end_time": "2025-06-01T08:02:48.688075",
     "exception": false,
     "start_time": "2025-06-01T08:02:35.485171",
     "status": "completed"
    },
    "tags": []
   },
   "outputs": [
    {
     "name": "stdout",
     "output_type": "stream",
     "text": [
      "Dataset({\n",
      "    features: ['audio', 'sentence'],\n",
      "    num_rows: 11660\n",
      "})\n",
      "{'audio': {'path': '/kaggle/input/vivos-vietnamese/vivos/train/waves/VIVOSSPK36/VIVOSSPK36_218.wav', 'array': array([0.        , 0.        , 0.        , ..., 0.00048828, 0.00030518,\n",
      "       0.00039673]), 'sampling_rate': 16000}, 'sentence': 'hãy chọn phản ứng hóm hỉnh để chứng tỏ rằng bạn không bị lừa mà không làm căng thẳng tình hình'}\n",
      "dict_keys(['path', 'array', 'sampling_rate'])\n"
     ]
    }
   ],
   "source": [
    "# Check logic\n",
    "vivos_audio = prepare_dataset(vivos_dataset)\n",
    "print(vivos_audio)\n",
    "print(vivos_audio[0])\n",
    "print(vivos_audio[0][\"audio\"].keys())"
   ]
  },
  {
   "cell_type": "code",
   "execution_count": 16,
   "id": "d14f8ae3",
   "metadata": {
    "execution": {
     "iopub.execute_input": "2025-06-01T08:02:48.772562Z",
     "iopub.status.busy": "2025-06-01T08:02:48.771499Z",
     "iopub.status.idle": "2025-06-01T08:02:48.776309Z",
     "shell.execute_reply": "2025-06-01T08:02:48.775761Z"
    },
    "papermill": {
     "duration": 0.04785,
     "end_time": "2025-06-01T08:02:48.777281",
     "exception": false,
     "start_time": "2025-06-01T08:02:48.729431",
     "status": "completed"
    },
    "tags": []
   },
   "outputs": [],
   "source": [
    "# Total Duration\n",
    "def total_duration(dataset, label=\"dataset\"):\n",
    "    total_secs = sum(len(x[\"audio\"][\"array\"]) / x[\"audio\"][\"sampling_rate\"] for x in dataset)\n",
    "    mins, secs = divmod(total_secs, 60)\n",
    "    hours, mins = divmod(mins, 60)\n",
    "    print(f\"Total duration of {label}: {int(hours)}h {int(mins)}m {int(secs)}s ({total_secs/3600:.2f} hours)\")"
   ]
  },
  {
   "cell_type": "code",
   "execution_count": 17,
   "id": "75ffe6d0",
   "metadata": {
    "execution": {
     "iopub.execute_input": "2025-06-01T08:02:48.860178Z",
     "iopub.status.busy": "2025-06-01T08:02:48.859984Z",
     "iopub.status.idle": "2025-06-01T08:02:48.864163Z",
     "shell.execute_reply": "2025-06-01T08:02:48.863599Z"
    },
    "papermill": {
     "duration": 0.047259,
     "end_time": "2025-06-01T08:02:48.865318",
     "exception": false,
     "start_time": "2025-06-01T08:02:48.818059",
     "status": "completed"
    },
    "tags": []
   },
   "outputs": [],
   "source": [
    "# Merge data\n",
    "from datasets import concatenate_datasets, DatasetDict\n",
    "\n",
    "def build_dataset_dict(vivos_root, cv_root, seed=42):\n",
    "    vivos = prepare_dataset(load_vivos_dataset(vivos_root))\n",
    "    cv = prepare_dataset(load_commonvoice_dataset(cv_root))\n",
    "    \n",
    "    merged = concatenate_datasets([vivos, cv]).shuffle(seed=seed)\n",
    "    train_data, dev_data = merged.train_test_split(test_size=0.1, seed=seed).values()\n",
    "\n",
    "    total_duration(train_data, \"train\")\n",
    "    total_duration(dev_data, \"validation\")\n",
    "    \n",
    "    return DatasetDict({\n",
    "        \"train\": train_data,\n",
    "        \"validation\": dev_data\n",
    "    })"
   ]
  },
  {
   "cell_type": "code",
   "execution_count": 18,
   "id": "aea613d6",
   "metadata": {
    "execution": {
     "iopub.execute_input": "2025-06-01T08:02:48.947941Z",
     "iopub.status.busy": "2025-06-01T08:02:48.947425Z",
     "iopub.status.idle": "2025-06-01T08:05:38.065767Z",
     "shell.execute_reply": "2025-06-01T08:05:38.064786Z"
    },
    "papermill": {
     "duration": 169.161014,
     "end_time": "2025-06-01T08:05:38.067046",
     "exception": false,
     "start_time": "2025-06-01T08:02:48.906032",
     "status": "completed"
    },
    "tags": []
   },
   "outputs": [
    {
     "name": "stdout",
     "output_type": "stream",
     "text": [
      "Total duration of train: 18h 53m 18s (18.89 hours)\n",
      "Total duration of validation: 2h 4m 17s (2.07 hours)\n",
      "DatasetDict({\n",
      "    train: Dataset({\n",
      "        features: ['audio', 'sentence'],\n",
      "        num_rows: 15165\n",
      "    })\n",
      "    validation: Dataset({\n",
      "        features: ['audio', 'sentence'],\n",
      "        num_rows: 1686\n",
      "    })\n",
      "})\n",
      "Train sample: {'audio': {'path': '/kaggle/input/vivos-vietnamese/vivos/train/waves/VIVOSSPK09/VIVOSSPK09_R112.wav', 'array': array([0.00000000e+00, 3.05175781e-05, 0.00000000e+00, ...,\n",
      "       1.49536133e-03, 1.15966797e-03, 8.54492188e-04]), 'sampling_rate': 16000}, 'sentence': 'mà khi chúng ta nắm giữ được'}\n",
      "Dev sample: {'audio': {'path': '/kaggle/input/common-voice-vi-21/vi/clips/common_voice_vi_24125462.mp3', 'array': array([ 2.91038305e-11, -9.09494702e-12,  4.36557457e-11, ...,\n",
      "        7.49308310e-06,  1.68580118e-05,  1.82972472e-05]), 'sampling_rate': 16000}, 'sentence': 'người nhà tao nói thế cho nên là lập miếu để thờ'}\n"
     ]
    }
   ],
   "source": [
    "ds_dict = build_dataset_dict(VIVOS_ROOT, CV_ROOT)\n",
    "print(ds_dict)\n",
    "print(\"Train sample:\", ds_dict[\"train\"][0])\n",
    "print(\"Dev sample:\", ds_dict[\"validation\"][0])"
   ]
  },
  {
   "cell_type": "code",
   "execution_count": 19,
   "id": "5e9afea3",
   "metadata": {
    "execution": {
     "iopub.execute_input": "2025-06-01T08:05:38.150468Z",
     "iopub.status.busy": "2025-06-01T08:05:38.149913Z",
     "iopub.status.idle": "2025-06-01T08:05:38.155510Z",
     "shell.execute_reply": "2025-06-01T08:05:38.154777Z"
    },
    "papermill": {
     "duration": 0.048139,
     "end_time": "2025-06-01T08:05:38.156614",
     "exception": false,
     "start_time": "2025-06-01T08:05:38.108475",
     "status": "completed"
    },
    "tags": []
   },
   "outputs": [
    {
     "name": "stdout",
     "output_type": "stream",
     "text": [
      "/kaggle/input/vivos-vietnamese/vivos/train/waves/VIVOSSPK09/VIVOSSPK09_R112.wav\n"
     ]
    }
   ],
   "source": [
    "print(ds_dict[\"train\"][0]['audio']['path'])"
   ]
  },
  {
   "cell_type": "code",
   "execution_count": 20,
   "id": "cfe5b5b7",
   "metadata": {
    "execution": {
     "iopub.execute_input": "2025-06-01T08:05:38.238132Z",
     "iopub.status.busy": "2025-06-01T08:05:38.237566Z",
     "iopub.status.idle": "2025-06-01T08:05:38.247178Z",
     "shell.execute_reply": "2025-06-01T08:05:38.246531Z"
    },
    "papermill": {
     "duration": 0.05184,
     "end_time": "2025-06-01T08:05:38.248691",
     "exception": false,
     "start_time": "2025-06-01T08:05:38.196851",
     "status": "completed"
    },
    "tags": []
   },
   "outputs": [
    {
     "data": {
      "text/html": [
       "\n",
       "                <audio  controls=\"controls\" >\n",
       "                    <source src=\"data:audio/x-wav;base64,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\" type=\"audio/x-wav\" />\n",
       "                    Your browser does not support the audio element.\n",
       "                </audio>\n",
       "              "
      ],
      "text/plain": [
       "<IPython.lib.display.Audio object>"
      ]
     },
     "metadata": {},
     "output_type": "display_data"
    }
   ],
   "source": [
    "play_audio(ds_dict[\"train\"][0]['audio']['path'])"
   ]
  },
  {
   "cell_type": "code",
   "execution_count": 21,
   "id": "b47140a1",
   "metadata": {
    "execution": {
     "iopub.execute_input": "2025-06-01T08:05:38.336047Z",
     "iopub.status.busy": "2025-06-01T08:05:38.335424Z",
     "iopub.status.idle": "2025-06-01T08:05:38.353633Z",
     "shell.execute_reply": "2025-06-01T08:05:38.353015Z"
    },
    "papermill": {
     "duration": 0.062592,
     "end_time": "2025-06-01T08:05:38.354633",
     "exception": false,
     "start_time": "2025-06-01T08:05:38.292041",
     "status": "completed"
    },
    "tags": []
   },
   "outputs": [
    {
     "data": {
      "text/html": [
       "\n",
       "                <audio  controls=\"controls\" >\n",
       "                    <source src=\"data:audio/mpeg;base64,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\" type=\"audio/mpeg\" />\n",
       "                    Your browser does not support the audio element.\n",
       "                </audio>\n",
       "              "
      ],
      "text/plain": [
       "<IPython.lib.display.Audio object>"
      ]
     },
     "metadata": {},
     "output_type": "display_data"
    }
   ],
   "source": [
    "play_audio(ds_dict[\"validation\"][0]['audio']['path'])"
   ]
  },
  {
   "cell_type": "code",
   "execution_count": 22,
   "id": "2c8a5d67",
   "metadata": {
    "execution": {
     "iopub.execute_input": "2025-06-01T08:05:38.440094Z",
     "iopub.status.busy": "2025-06-01T08:05:38.439906Z",
     "iopub.status.idle": "2025-06-01T08:05:48.353037Z",
     "shell.execute_reply": "2025-06-01T08:05:48.352457Z"
    },
    "papermill": {
     "duration": 9.957188,
     "end_time": "2025-06-01T08:05:48.354156",
     "exception": false,
     "start_time": "2025-06-01T08:05:38.396968",
     "status": "completed"
    },
    "tags": []
   },
   "outputs": [
    {
     "name": "stderr",
     "output_type": "stream",
     "text": [
      "/usr/local/lib/python3.11/dist-packages/huggingface_hub/file_download.py:943: FutureWarning: `resume_download` is deprecated and will be removed in version 1.0.0. Downloads always resume when possible. If you want to force a new download, use `force_download=True`.\n",
      "  warnings.warn(\n"
     ]
    },
    {
     "data": {
      "application/vnd.jupyter.widget-view+json": {
       "model_id": "db7c757112d94ac688657489b5f2f5ad",
       "version_major": 2,
       "version_minor": 0
      },
      "text/plain": [
       "config.json:   0%|          | 0.00/1.65k [00:00<?, ?B/s]"
      ]
     },
     "metadata": {},
     "output_type": "display_data"
    },
    {
     "name": "stderr",
     "output_type": "stream",
     "text": [
      "/usr/local/lib/python3.11/dist-packages/transformers/configuration_utils.py:363: UserWarning: Passing `gradient_checkpointing` to a config initialization is deprecated and will be removed in v5 Transformers. Using `model.gradient_checkpointing_enable()` instead, or if you are using the `Trainer` API, pass `gradient_checkpointing=True` in your `TrainingArguments`.\n",
      "  warnings.warn(\n"
     ]
    },
    {
     "data": {
      "application/vnd.jupyter.widget-view+json": {
       "model_id": "38420a5be4244221bdab6c3e517b5736",
       "version_major": 2,
       "version_minor": 0
      },
      "text/plain": [
       "pytorch_model.bin:   0%|          | 0.00/378M [00:00<?, ?B/s]"
      ]
     },
     "metadata": {},
     "output_type": "display_data"
    },
    {
     "name": "stderr",
     "output_type": "stream",
     "text": [
      "Some weights of the model checkpoint at nguyenvulebinh/wav2vec2-base-vietnamese-250h were not used when initializing Wav2Vec2ForCTC: ['wav2vec2.encoder.pos_conv_embed.conv.weight_g', 'wav2vec2.encoder.pos_conv_embed.conv.weight_v']\n",
      "- This IS expected if you are initializing Wav2Vec2ForCTC from the checkpoint of a model trained on another task or with another architecture (e.g. initializing a BertForSequenceClassification model from a BertForPreTraining model).\n",
      "- This IS NOT expected if you are initializing Wav2Vec2ForCTC from the checkpoint of a model that you expect to be exactly identical (initializing a BertForSequenceClassification model from a BertForSequenceClassification model).\n",
      "Some weights of Wav2Vec2ForCTC were not initialized from the model checkpoint at nguyenvulebinh/wav2vec2-base-vietnamese-250h and are newly initialized: ['wav2vec2.encoder.pos_conv_embed.conv.parametrizations.weight.original0', 'wav2vec2.encoder.pos_conv_embed.conv.parametrizations.weight.original1']\n",
      "You should probably TRAIN this model on a down-stream task to be able to use it for predictions and inference.\n"
     ]
    },
    {
     "data": {
      "application/vnd.jupyter.widget-view+json": {
       "model_id": "a777ff263a1e455abd762010bc097379",
       "version_major": 2,
       "version_minor": 0
      },
      "text/plain": [
       "preprocessor_config.json:   0%|          | 0.00/215 [00:00<?, ?B/s]"
      ]
     },
     "metadata": {},
     "output_type": "display_data"
    },
    {
     "data": {
      "application/vnd.jupyter.widget-view+json": {
       "model_id": "02703eb06b784cd8b292bd8e531f3930",
       "version_major": 2,
       "version_minor": 0
      },
      "text/plain": [
       "tokenizer_config.json:   0%|          | 0.00/181 [00:00<?, ?B/s]"
      ]
     },
     "metadata": {},
     "output_type": "display_data"
    },
    {
     "data": {
      "application/vnd.jupyter.widget-view+json": {
       "model_id": "d956270f0d2a44de82654dfc26ee0fbf",
       "version_major": 2,
       "version_minor": 0
      },
      "text/plain": [
       "vocab.json:   0%|          | 0.00/1.11k [00:00<?, ?B/s]"
      ]
     },
     "metadata": {},
     "output_type": "display_data"
    },
    {
     "data": {
      "application/vnd.jupyter.widget-view+json": {
       "model_id": "08d7733bb9664db59a0d446ec662633f",
       "version_major": 2,
       "version_minor": 0
      },
      "text/plain": [
       "special_tokens_map.json:   0%|          | 0.00/85.0 [00:00<?, ?B/s]"
      ]
     },
     "metadata": {},
     "output_type": "display_data"
    }
   ],
   "source": [
    "# Load model and processor\n",
    "from transformers import Wav2Vec2Config, Wav2Vec2ForCTC, Wav2Vec2Processor\n",
    "\n",
    "# Tạo config riêng với SpecAugment\n",
    "config = Wav2Vec2Config.from_pretrained(\"nguyenvulebinh/wav2vec2-base-vietnamese-250h\")\n",
    "config.mask_time_prob = 0.05\n",
    "config.mask_time_length = 10\n",
    "config.mask_feature_prob = 0.1\n",
    "config.mask_feature_length = 10\n",
    "\n",
    "# Load model với config mới, load processor\n",
    "model = Wav2Vec2ForCTC.from_pretrained(\"nguyenvulebinh/wav2vec2-base-vietnamese-250h\", config=config)\n",
    "processor = Wav2Vec2Processor.from_pretrained(\"nguyenvulebinh/wav2vec2-base-vietnamese-250h\")"
   ]
  },
  {
   "cell_type": "code",
   "execution_count": 23,
   "id": "f243c026",
   "metadata": {
    "execution": {
     "iopub.execute_input": "2025-06-01T08:05:48.447297Z",
     "iopub.status.busy": "2025-06-01T08:05:48.446368Z",
     "iopub.status.idle": "2025-06-01T08:05:48.451224Z",
     "shell.execute_reply": "2025-06-01T08:05:48.450516Z"
    },
    "papermill": {
     "duration": 0.051516,
     "end_time": "2025-06-01T08:05:48.452373",
     "exception": false,
     "start_time": "2025-06-01T08:05:48.400857",
     "status": "completed"
    },
    "tags": []
   },
   "outputs": [
    {
     "name": "stdout",
     "output_type": "stream",
     "text": [
      "0.05\n",
      "0.1\n",
      "Vocab size: 110\n",
      "Sampling rate: 16000\n",
      "<pad>\n"
     ]
    }
   ],
   "source": [
    "# Check\n",
    "print(model.config.mask_time_prob) \n",
    "print(model.config.mask_feature_prob)\n",
    "print(\"Vocab size:\", processor.tokenizer.vocab_size)\n",
    "print(\"Sampling rate:\", processor.feature_extractor.sampling_rate)\n",
    "print(processor.tokenizer.pad_token)"
   ]
  },
  {
   "cell_type": "code",
   "execution_count": 24,
   "id": "dbf1ac5b",
   "metadata": {
    "execution": {
     "iopub.execute_input": "2025-06-01T08:05:48.542040Z",
     "iopub.status.busy": "2025-06-01T08:05:48.541806Z",
     "iopub.status.idle": "2025-06-01T08:05:48.929698Z",
     "shell.execute_reply": "2025-06-01T08:05:48.929129Z"
    },
    "papermill": {
     "duration": 0.433366,
     "end_time": "2025-06-01T08:05:48.931040",
     "exception": false,
     "start_time": "2025-06-01T08:05:48.497674",
     "status": "completed"
    },
    "tags": []
   },
   "outputs": [],
   "source": [
    "# Speed Perturbation\n",
    "import os\n",
    "os.environ[\"CUDA_VISIBLE_DEVICES\"] = \"0\"   # hoặc \"1\"\n",
    "import torchaudio, numpy as np, random, torch\n",
    "\n",
    "def apply_speed_perturb(waveform: torch.Tensor, sampling_rate: int) -> torch.Tensor:\n",
    "    speeds = [0.9, 1.0, 1.1]\n",
    "    speed = random.choice(speeds)\n",
    "    effects = [[\"speed\", str(speed)], [\"rate\", str(sampling_rate)]]\n",
    "    \n",
    "    perturbed_waveform, _ = torchaudio.sox_effects.apply_effects_tensor(waveform, sampling_rate, effects)\n",
    "    return perturbed_waveform"
   ]
  },
  {
   "cell_type": "code",
   "execution_count": 25,
   "id": "5d060c7d",
   "metadata": {
    "execution": {
     "iopub.execute_input": "2025-06-01T08:05:49.021177Z",
     "iopub.status.busy": "2025-06-01T08:05:49.020745Z",
     "iopub.status.idle": "2025-06-01T08:05:49.664414Z",
     "shell.execute_reply": "2025-06-01T08:05:49.663675Z"
    },
    "papermill": {
     "duration": 0.689752,
     "end_time": "2025-06-01T08:05:49.665859",
     "exception": false,
     "start_time": "2025-06-01T08:05:48.976107",
     "status": "completed"
    },
    "tags": []
   },
   "outputs": [
    {
     "name": "stdout",
     "output_type": "stream",
     "text": [
      "Original length:  134000\n",
      "Perturbed length: 121818\n",
      "Speed Ratio:      0.909 → Faster (Speed > 1.0)\n"
     ]
    },
    {
     "data": {
      "image/png": "[encoded data removed]",
      "text/plain": [
       "<Figure size 1200x400 with 1 Axes>"
      ]
     },
     "metadata": {},
     "output_type": "display_data"
    }
   ],
   "source": [
    "# Check\n",
    "import matplotlib.pyplot as plt\n",
    "\n",
    "# Lấy 1 sample từ tập train\n",
    "sample = ds_dict[\"train\"][-1]\n",
    "waveform = torch.tensor(sample[\"audio\"][\"array\"], dtype=torch.float32).unsqueeze(0)  # (1, T)\n",
    "sampling_rate = sample[\"audio\"][\"sampling_rate\"]\n",
    "\n",
    "# Gọi speed perturb\n",
    "perturbed_waveform = apply_speed_perturb(waveform, sampling_rate)\n",
    "\n",
    "# Xác định tốc độ bị chọn\n",
    "speed_ratio = perturbed_waveform.shape[1] / waveform.shape[1]\n",
    "if speed_ratio > 1:\n",
    "    speed_label = f\"Slower (Speed < 1.0)\"\n",
    "elif speed_ratio < 1:\n",
    "    speed_label = f\"Faster (Speed > 1.0)\"\n",
    "else:\n",
    "    speed_label = f\"No change (Speed = 1.0)\"\n",
    "\n",
    "# In thông tin\n",
    "print(f\"Original length:  {waveform.shape[1]}\")\n",
    "print(f\"Perturbed length: {perturbed_waveform.shape[1]}\")\n",
    "print(f\"Speed Ratio:      {speed_ratio:.3f} → {speed_label}\")\n",
    "\n",
    "# Vẽ biểu đồ waveform\n",
    "plt.figure(figsize=(12, 4))\n",
    "plt.plot(waveform.squeeze().numpy(), label=\"Original\", alpha=0.7)\n",
    "plt.plot(\n",
    "    np.linspace(0, waveform.shape[1]-1, perturbed_waveform.shape[1]),\n",
    "    perturbed_waveform.squeeze().numpy(),\n",
    "    label=\"Speed Perturbed\", alpha=0.6\n",
    ")\n",
    "plt.legend()\n",
    "plt.title(f\"Waveform Comparison with Speed Perturbation ({speed_label})\")\n",
    "plt.xlabel(\"Time (samples)\")\n",
    "plt.ylabel(\"Amplitude\")\n",
    "plt.grid(True)\n",
    "plt.tight_layout()\n",
    "plt.show()"
   ]
  },
  {
   "cell_type": "code",
   "execution_count": 26,
   "id": "f927ecf7",
   "metadata": {
    "execution": {
     "iopub.execute_input": "2025-06-01T08:05:49.762392Z",
     "iopub.status.busy": "2025-06-01T08:05:49.761871Z",
     "iopub.status.idle": "2025-06-01T08:05:51.192546Z",
     "shell.execute_reply": "2025-06-01T08:05:51.191826Z"
    },
    "papermill": {
     "duration": 1.479139,
     "end_time": "2025-06-01T08:05:51.193804",
     "exception": false,
     "start_time": "2025-06-01T08:05:49.714665",
     "status": "completed"
    },
    "tags": []
   },
   "outputs": [
    {
     "name": "stdout",
     "output_type": "stream",
     "text": [
      "Total MUSAN files: 843\n",
      "Example: /kaggle/input/musan-noise/musan/noise/free-sound/noise-free-sound-0626.wav\n"
     ]
    }
   ],
   "source": [
    "# Get path for MUSAN noise\n",
    "import os\n",
    "from glob import glob\n",
    "\n",
    "def get_musan_noise_paths(root_dir=NOISE_ROOT):\n",
    "    musan_paths = []\n",
    "    path = os.path.join(root_dir, 'free-sound')\n",
    "    musan_paths.extend(glob(f\"{path}/**/*.wav\", recursive=True))\n",
    "    return musan_paths\n",
    "\n",
    "musan_paths = get_musan_noise_paths()\n",
    "\n",
    "# Check\n",
    "print(\"Total MUSAN files:\", len(musan_paths))\n",
    "print(\"Example:\", musan_paths[0] if musan_paths else \"No files found\")"
   ]
  },
  {
   "cell_type": "code",
   "execution_count": 27,
   "id": "5dfe92cc",
   "metadata": {
    "execution": {
     "iopub.execute_input": "2025-06-01T08:05:51.285922Z",
     "iopub.status.busy": "2025-06-01T08:05:51.285658Z",
     "iopub.status.idle": "2025-06-01T08:05:51.290430Z",
     "shell.execute_reply": "2025-06-01T08:05:51.289933Z"
    },
    "papermill": {
     "duration": 0.051422,
     "end_time": "2025-06-01T08:05:51.291436",
     "exception": false,
     "start_time": "2025-06-01T08:05:51.240014",
     "status": "completed"
    },
    "tags": []
   },
   "outputs": [],
   "source": [
    "# Musan noise add\n",
    "def add_noise(waveform: torch.Tensor, snr_dB: float, noise_paths: list) -> torch.Tensor:\n",
    "    noise_path = random.choice(noise_paths)\n",
    "    noise_waveform, _ = torchaudio.load(noise_path)\n",
    "\n",
    "    if noise_waveform.size(1) < waveform.size(1):\n",
    "        repeat_factor = int(np.ceil(waveform.size(1) / noise_waveform.size(1)))\n",
    "        noise_waveform = noise_waveform.repeat(1, repeat_factor)\n",
    "    noise_waveform = noise_waveform[:, :waveform.size(1)]\n",
    "\n",
    "    speech_power = waveform.norm(p=2)\n",
    "    noise_power = noise_waveform.norm(p=2)\n",
    "    factor = (speech_power / noise_power) * 10 ** (-snr_dB / 20)\n",
    "\n",
    "    return waveform + factor * noise_waveform"
   ]
  },
  {
   "cell_type": "code",
   "execution_count": 28,
   "id": "db16dccd",
   "metadata": {
    "execution": {
     "iopub.execute_input": "2025-06-01T08:05:51.383497Z",
     "iopub.status.busy": "2025-06-01T08:05:51.383274Z",
     "iopub.status.idle": "2025-06-01T08:05:51.879161Z",
     "shell.execute_reply": "2025-06-01T08:05:51.878445Z"
    },
    "papermill": {
     "duration": 0.543259,
     "end_time": "2025-06-01T08:05:51.880258",
     "exception": false,
     "start_time": "2025-06-01T08:05:51.336999",
     "status": "completed"
    },
    "tags": []
   },
   "outputs": [
    {
     "name": "stdout",
     "output_type": "stream",
     "text": [
      "Original waveform shape: torch.Size([1, 46000])\n",
      "Noised waveform shape:   torch.Size([1, 46000])\n",
      "SNR target (dB): 12\n",
      "Original power:  10.5240\n",
      "Noised power:    10.8706\n"
     ]
    },
    {
     "data": {
      "image/png": "[encoded data removed]",
      "text/plain": [
       "<Figure size 1200x400 with 1 Axes>"
      ]
     },
     "metadata": {},
     "output_type": "display_data"
    }
   ],
   "source": [
    "# Check\n",
    "import matplotlib.pyplot as plt\n",
    "\n",
    "# Lấy sample từ train\n",
    "sample = ds_dict[\"train\"][0]\n",
    "waveform = torch.tensor(sample[\"audio\"][\"array\"], dtype=torch.float32).unsqueeze(0)  # (1, T)\n",
    "sampling_rate = sample[\"audio\"][\"sampling_rate\"]\n",
    "\n",
    "# Lưu lại bản gốc để so sánh\n",
    "original_waveform = waveform.clone()\n",
    "\n",
    "# Chọn snr và thêm noise\n",
    "snr = 12  # dB\n",
    "noised_waveform = add_noise(waveform, snr_dB=snr, noise_paths=musan_paths)\n",
    "\n",
    "# Tính năng lượng (L2 norm)\n",
    "original_power = original_waveform.norm(p=2).item()\n",
    "noised_power = noised_waveform.norm(p=2).item()\n",
    "\n",
    "# Hiển thị thông tin\n",
    "print(f\"Original waveform shape: {original_waveform.shape}\")\n",
    "print(f\"Noised waveform shape:   {noised_waveform.shape}\")\n",
    "print(f\"SNR target (dB): {snr}\")\n",
    "print(f\"Original power:  {original_power:.4f}\")\n",
    "print(f\"Noised power:    {noised_power:.4f}\")\n",
    "\n",
    "# Vẽ đồ thị waveform trước và sau\n",
    "plt.figure(figsize=(12, 4))\n",
    "plt.plot(original_waveform.squeeze().numpy(), label=\"Original\", alpha=0.7)\n",
    "plt.plot(noised_waveform.squeeze().numpy(), label=\"With Noise\", alpha=0.6)\n",
    "plt.legend()\n",
    "plt.title(f\"Waveform Comparison (SNR = {snr} dB)\")\n",
    "plt.xlabel(\"Time (samples)\")\n",
    "plt.ylabel(\"Amplitude\")\n",
    "plt.grid(True)\n",
    "plt.tight_layout()\n",
    "plt.show()"
   ]
  },
  {
   "cell_type": "code",
   "execution_count": 29,
   "id": "2861d1ea",
   "metadata": {
    "execution": {
     "iopub.execute_input": "2025-06-01T08:05:51.976380Z",
     "iopub.status.busy": "2025-06-01T08:05:51.975910Z",
     "iopub.status.idle": "2025-06-01T08:05:51.981325Z",
     "shell.execute_reply": "2025-06-01T08:05:51.980442Z"
    },
    "papermill": {
     "duration": 0.054353,
     "end_time": "2025-06-01T08:05:51.982449",
     "exception": false,
     "start_time": "2025-06-01T08:05:51.928096",
     "status": "completed"
    },
    "tags": []
   },
   "outputs": [],
   "source": [
    "def prepare_dataset(batch, do_augment=True):\n",
    "    waveform = torch.tensor(batch[\"audio\"][\"array\"], dtype=torch.float32).unsqueeze(0)\n",
    "    sampling_rate = batch[\"audio\"][\"sampling_rate\"]\n",
    "\n",
    "    # Augment: speed + noise\n",
    "    if do_augment:\n",
    "        if random.random() < 0.9:\n",
    "            waveform = apply_speed_perturb(waveform, sampling_rate)\n",
    "        if random.random() < 0.8:\n",
    "            snr = random.uniform(8, 20)\n",
    "            waveform = add_noise(waveform, snr, musan_paths)\n",
    "\n",
    "    waveform = waveform.squeeze(0).numpy()\n",
    "\n",
    "    inputs = processor(waveform, sampling_rate=sampling_rate)\n",
    "    batch[\"input_values\"] = inputs.input_values[0]\n",
    "\n",
    "    batch[\"labels\"] = processor(text=batch[\"sentence\"]).input_ids\n",
    "\n",
    "    return batch"
   ]
  },
  {
   "cell_type": "code",
   "execution_count": 30,
   "id": "d80bbab3",
   "metadata": {
    "execution": {
     "iopub.execute_input": "2025-06-01T08:05:52.076166Z",
     "iopub.status.busy": "2025-06-01T08:05:52.075589Z",
     "iopub.status.idle": "2025-06-01T08:06:07.839675Z",
     "shell.execute_reply": "2025-06-01T08:06:07.838787Z"
    },
    "papermill": {
     "duration": 15.812036,
     "end_time": "2025-06-01T08:06:07.841101",
     "exception": false,
     "start_time": "2025-06-01T08:05:52.029065",
     "status": "completed"
    },
    "tags": []
   },
   "outputs": [
    {
     "name": "stderr",
     "output_type": "stream",
     "text": [
      "2025-06-01 08:05:55.102031: E external/local_xla/xla/stream_executor/cuda/cuda_fft.cc:477] Unable to register cuFFT factory: Attempting to register factory for plugin cuFFT when one has already been registered\n",
      "WARNING: All log messages before absl::InitializeLog() is called are written to STDERR\n",
      "E0000 00:00:1748765155.534924      19 cuda_dnn.cc:8310] Unable to register cuDNN factory: Attempting to register factory for plugin cuDNN when one has already been registered\n",
      "E0000 00:00:1748765155.655294      19 cuda_blas.cc:1418] Unable to register cuBLAS factory: Attempting to register factory for plugin cuBLAS when one has already been registered\n"
     ]
    },
    {
     "name": "stdout",
     "output_type": "stream",
     "text": [
      "Keys: ['audio', 'sentence', 'input_values', 'labels']\n",
      "Sentence: mà khi chúng ta nắm giữ được\n",
      "Label IDs: [67, 24, 46, 96, 71, 57, 46, 49, 71, 73, 26, 58, 46, 56, 17, 46, 26, 79, 67, 46, 58, 57, 78, 46, 89, 106, 69, 49]\n"
     ]
    }
   ],
   "source": [
    "# Check\n",
    "sample = ds_dict[\"train\"][0]\n",
    "out = prepare_dataset(sample)\n",
    "print(\"Keys:\", list(out.keys()))\n",
    "print(\"Sentence:\", out['sentence'])\n",
    "print(\"Label IDs:\", out[\"labels\"])"
   ]
  },
  {
   "cell_type": "code",
   "execution_count": 31,
   "id": "a733b3c1",
   "metadata": {
    "execution": {
     "iopub.execute_input": "2025-06-01T08:06:07.940633Z",
     "iopub.status.busy": "2025-06-01T08:06:07.940051Z",
     "iopub.status.idle": "2025-06-01T08:13:26.293168Z",
     "shell.execute_reply": "2025-06-01T08:13:26.292545Z"
    },
    "papermill": {
     "duration": 438.40258,
     "end_time": "2025-06-01T08:13:26.294343",
     "exception": false,
     "start_time": "2025-06-01T08:06:07.891763",
     "status": "completed"
    },
    "tags": []
   },
   "outputs": [
    {
     "data": {
      "application/vnd.jupyter.widget-view+json": {
       "model_id": "428947359c4b4ffb8952b820d297b91e",
       "version_major": 2,
       "version_minor": 0
      },
      "text/plain": [
       "Map:   0%|          | 0/15165 [00:00<?, ? examples/s]"
      ]
     },
     "metadata": {},
     "output_type": "display_data"
    },
    {
     "data": {
      "application/vnd.jupyter.widget-view+json": {
       "model_id": "1604b6d9c1f844a1b0ac67f0eee90501",
       "version_major": 2,
       "version_minor": 0
      },
      "text/plain": [
       "Map:   0%|          | 0/1686 [00:00<?, ? examples/s]"
      ]
     },
     "metadata": {},
     "output_type": "display_data"
    }
   ],
   "source": [
    "# Áp dụng prepare_dataset cho ds_dict\n",
    "from datasets import DatasetDict\n",
    "processed_data = DatasetDict()\n",
    "\n",
    "processed_data[\"train\"] = ds_dict[\"train\"].map(prepare_dataset, remove_columns=[\"audio\", \"sentence\"],\n",
    "    fn_kwargs={\"do_augment\": True})\n",
    "\n",
    "processed_data[\"validation\"] = ds_dict[\"validation\"].map(prepare_dataset, remove_columns=[\"audio\", \"sentence\"],\n",
    "    fn_kwargs={\"do_augment\": False})"
   ]
  },
  {
   "cell_type": "code",
   "execution_count": 32,
   "id": "82ab6c9e",
   "metadata": {
    "execution": {
     "iopub.execute_input": "2025-06-01T08:13:26.391878Z",
     "iopub.status.busy": "2025-06-01T08:13:26.391329Z",
     "iopub.status.idle": "2025-06-01T08:13:26.445402Z",
     "shell.execute_reply": "2025-06-01T08:13:26.444762Z"
    },
    "papermill": {
     "duration": 0.103267,
     "end_time": "2025-06-01T08:13:26.446358",
     "exception": false,
     "start_time": "2025-06-01T08:13:26.343091",
     "status": "completed"
    },
    "tags": []
   },
   "outputs": [
    {
     "name": "stdout",
     "output_type": "stream",
     "text": [
      "dict_keys(['input_values', 'labels'])\n",
      "41818\n",
      "[67, 24, 46, 96, 71, 57, 46, 49, 71, 73, 26, 58, 46, 56, 17, 46, 26, 79, 67, 46, 58, 57, 78, 46, 89, 106, 69, 49]\n"
     ]
    }
   ],
   "source": [
    "# Check\n",
    "print(processed_data[\"train\"][0].keys())\n",
    "print(len(processed_data['train'][0]['input_values']))\n",
    "print(processed_data['train'][0]['labels'])"
   ]
  },
  {
   "cell_type": "code",
   "execution_count": 33,
   "id": "1a6362d8",
   "metadata": {
    "execution": {
     "iopub.execute_input": "2025-06-01T08:13:26.544095Z",
     "iopub.status.busy": "2025-06-01T08:13:26.543675Z",
     "iopub.status.idle": "2025-06-01T08:22:39.451588Z",
     "shell.execute_reply": "2025-06-01T08:22:39.451020Z"
    },
    "papermill": {
     "duration": 552.95834,
     "end_time": "2025-06-01T08:22:39.452690",
     "exception": false,
     "start_time": "2025-06-01T08:13:26.494350",
     "status": "completed"
    },
    "tags": []
   },
   "outputs": [
    {
     "data": {
      "application/vnd.jupyter.widget-view+json": {
       "model_id": "8ee9eaa548174e79a0edf8a063513a69",
       "version_major": 2,
       "version_minor": 0
      },
      "text/plain": [
       "Map:   0%|          | 0/15165 [00:00<?, ? examples/s]"
      ]
     },
     "metadata": {},
     "output_type": "display_data"
    }
   ],
   "source": [
    "def compute_length(example):\n",
    "    example[\"length\"] = len(example[\"input_values\"])\n",
    "    return example\n",
    "\n",
    "processed_data[\"train\"] = processed_data[\"train\"].map(compute_length)\n",
    "processed_data[\"train\"] = processed_data[\"train\"].sort(\"length\")"
   ]
  },
  {
   "cell_type": "code",
   "execution_count": 34,
   "id": "428b945e",
   "metadata": {
    "execution": {
     "iopub.execute_input": "2025-06-01T08:22:39.550802Z",
     "iopub.status.busy": "2025-06-01T08:22:39.550252Z",
     "iopub.status.idle": "2025-06-01T08:22:39.556129Z",
     "shell.execute_reply": "2025-06-01T08:22:39.555564Z"
    },
    "papermill": {
     "duration": 0.056189,
     "end_time": "2025-06-01T08:22:39.557193",
     "exception": false,
     "start_time": "2025-06-01T08:22:39.501004",
     "status": "completed"
    },
    "tags": []
   },
   "outputs": [],
   "source": [
    "# DataCollatorCTCWithPadding for Padding Batch\n",
    "from dataclasses import dataclass\n",
    "from typing import Any, Dict, List, Union\n",
    "\n",
    "@dataclass\n",
    "class DataCollatorCTCWithPadding:\n",
    "    processor: Wav2Vec2Processor\n",
    "    padding: Union[bool, str] = True\n",
    "\n",
    "    def __call__(self, features: List[Dict[str, Any]]) -> Dict[str, Any]:\n",
    "        input_features = [{\"input_values\": f[\"input_values\"]} for f in features]\n",
    "        label_features = [{\"input_ids\": f[\"labels\"]} for f in features]\n",
    "\n",
    "        batch = self.processor.feature_extractor.pad(input_features, padding=self.padding, return_tensors=\"pt\")\n",
    "\n",
    "        labels_batch = self.processor.tokenizer.pad(label_features, padding=self.padding, return_tensors=\"pt\", return_attention_mask=True)\n",
    "\n",
    "        labels = labels_batch[\"input_ids\"].masked_fill(labels_batch[\"attention_mask\"].ne(1), -100)\n",
    "        batch[\"labels\"] = labels\n",
    "\n",
    "        return batch"
   ]
  },
  {
   "cell_type": "code",
   "execution_count": 35,
   "id": "3ada7665",
   "metadata": {
    "execution": {
     "iopub.execute_input": "2025-06-01T08:22:39.653446Z",
     "iopub.status.busy": "2025-06-01T08:22:39.653033Z",
     "iopub.status.idle": "2025-06-01T08:22:39.686679Z",
     "shell.execute_reply": "2025-06-01T08:22:39.685947Z"
    },
    "papermill": {
     "duration": 0.082549,
     "end_time": "2025-06-01T08:22:39.687637",
     "exception": false,
     "start_time": "2025-06-01T08:22:39.605088",
     "status": "completed"
    },
    "tags": []
   },
   "outputs": [
    {
     "name": "stdout",
     "output_type": "stream",
     "text": [
      "Raw input lengths: [12990, 14545, 16364, 17000]\n",
      "After pad shape: torch.Size([4, 17000])\n",
      "Padding cho input_values và labels OK.\n"
     ]
    }
   ],
   "source": [
    "# Check\n",
    "collator = DataCollatorCTCWithPadding(processor=processor)\n",
    "samples = [processed_data[\"train\"][i] for i in range(4)]\n",
    "batch = collator(samples)\n",
    "\n",
    "# Check 1: Chiều dài được pad\n",
    "input_lens = [len(s[\"input_values\"]) for s in samples]\n",
    "print(\"Raw input lengths:\", input_lens)\n",
    "print(\"After pad shape:\", batch[\"input_values\"].shape)\n",
    "\n",
    "assert all(batch[\"input_values\"].shape[1] >= l for l in input_lens)\n",
    "\n",
    "# Check 2: labels có pad đúng -100\n",
    "for i, label in enumerate(batch[\"labels\"]):\n",
    "    pad_mask = (label == -100).tolist()\n",
    "    if any(pad_mask):\n",
    "        first_pad = pad_mask.index(True)\n",
    "        assert all(pad_mask[first_pad:]), f\"Label {i} pad sai -100\"\n",
    "\n",
    "print(\"Padding cho input_values và labels OK.\")"
   ]
  },
  {
   "cell_type": "code",
   "execution_count": 36,
   "id": "b8ad037b",
   "metadata": {
    "execution": {
     "iopub.execute_input": "2025-06-01T08:22:39.782027Z",
     "iopub.status.busy": "2025-06-01T08:22:39.781793Z",
     "iopub.status.idle": "2025-06-01T08:22:40.423785Z",
     "shell.execute_reply": "2025-06-01T08:22:40.422998Z"
    },
    "papermill": {
     "duration": 0.690343,
     "end_time": "2025-06-01T08:22:40.425117",
     "exception": false,
     "start_time": "2025-06-01T08:22:39.734774",
     "status": "completed"
    },
    "tags": []
   },
   "outputs": [
    {
     "data": {
      "application/vnd.jupyter.widget-view+json": {
       "model_id": "2a2bf0df691e440585c24897b5fa9707",
       "version_major": 2,
       "version_minor": 0
      },
      "text/plain": [
       "Downloading builder script:   0%|          | 0.00/4.49k [00:00<?, ?B/s]"
      ]
     },
     "metadata": {},
     "output_type": "display_data"
    }
   ],
   "source": [
    "# Wer\n",
    "import evaluate\n",
    "wer_metric = evaluate.load(\"wer\")\n",
    "def compute_metrics(pred):\n",
    "    pred_ids = np.argmax(pred.predictions, axis=-1)\n",
    "    pred_str = processor.batch_decode(pred_ids)\n",
    "    label_ids = pred.label_ids\n",
    "    # Chuyển -100 về pad_token_id\n",
    "    label_ids[label_ids == -100] = processor.tokenizer.pad_token_id\n",
    "    label_str = processor.batch_decode(label_ids, group_tokens=False)\n",
    "    return {\"wer\": wer_metric.compute(predictions=pred_str, references=label_str)}"
   ]
  },
  {
   "cell_type": "code",
   "execution_count": 37,
   "id": "5b45715d",
   "metadata": {
    "execution": {
     "iopub.execute_input": "2025-06-01T08:22:40.526095Z",
     "iopub.status.busy": "2025-06-01T08:22:40.525524Z",
     "iopub.status.idle": "2025-06-01T08:22:40.988724Z",
     "shell.execute_reply": "2025-06-01T08:22:40.987747Z"
    },
    "papermill": {
     "duration": 0.515239,
     "end_time": "2025-06-01T08:22:40.990161",
     "exception": false,
     "start_time": "2025-06-01T08:22:40.474922",
     "status": "completed"
    },
    "tags": []
   },
   "outputs": [
    {
     "name": "stdout",
     "output_type": "stream",
     "text": [
      "PyTorch: 2.2.2+cu121\n",
      "CUDA available: True\n",
      "GPU count: 1\n",
      "  Device 0 => Tesla T4\n",
      "GPU 0: Tesla T4 (UUID: GPU-5acc2e5b-e6df-5f32-5799-e7df76571e42)\r\n",
      "GPU 1: Tesla T4 (UUID: GPU-0e5c8607-8d6d-0c75-395f-38eda70d8b8c)\r\n"
     ]
    }
   ],
   "source": [
    "import os\n",
    "os.environ[\"CUDA_VISIBLE_DEVICES\"] = \"0\"   # hoặc \"1\"\n",
    "import torch, subprocess, os, platform\n",
    "print(\"PyTorch:\", torch.__version__)\n",
    "print(\"CUDA available:\", torch.cuda.is_available())\n",
    "print(\"GPU count:\", torch.cuda.device_count())\n",
    "if torch.cuda.is_available():\n",
    "    for i in range(torch.cuda.device_count()):\n",
    "        print(\"  Device\", i, \"=>\", torch.cuda.get_device_name(i))\n",
    "!nvidia-smi -L   # hiển thị tên GPU"
   ]
  },
  {
   "cell_type": "code",
   "execution_count": 38,
   "id": "4a08fc29",
   "metadata": {
    "execution": {
     "iopub.execute_input": "2025-06-01T08:22:41.087043Z",
     "iopub.status.busy": "2025-06-01T08:22:41.086769Z",
     "iopub.status.idle": "2025-06-01T08:22:41.123282Z",
     "shell.execute_reply": "2025-06-01T08:22:41.122751Z"
    },
    "papermill": {
     "duration": 0.086243,
     "end_time": "2025-06-01T08:22:41.124320",
     "exception": false,
     "start_time": "2025-06-01T08:22:41.038077",
     "status": "completed"
    },
    "tags": []
   },
   "outputs": [],
   "source": [
    "# Create TrainingArguments\n",
    "from transformers import TrainingArguments\n",
    "\n",
    "training_args = TrainingArguments(\n",
    "    output_dir=\"./wav2vec2_vi_ft\",\n",
    "    overwrite_output_dir=True,\n",
    "    # Batching\n",
    "    per_device_train_batch_size=8,           # 8 × 2 GPU × GA2 = 32\n",
    "    per_device_eval_batch_size=8,\n",
    "    gradient_accumulation_steps=4,\n",
    "    # Optimizer & schedule\n",
    "    learning_rate=3e-5,\n",
    "    warmup_ratio=0.06,                       # 6% of 7110 = 427 steps will increase learning rate from 0 -> 3e-5\n",
    "    lr_scheduler_type=\"linear\",              # After warming up, learning rate decreases linearly\n",
    "    adam_beta1=0.9,                          \n",
    "    adam_beta2=0.98,\n",
    "    weight_decay=0.01,                       # L2 Regularization\n",
    "    max_grad_norm=1.0,\n",
    "    # Runtime\n",
    "    num_train_epochs=15,                     # Dataloader steps / epoch: Ntrain / (2GPU * 8 batch) = 15165 / 16 = 948\n",
    "    fp16=torch.cuda.is_available(),          # Optimizer steps / epoch: Dataloader steps / GA = 948 / 2 = 474\n",
    "    # Logging/eval/save                      # Optimizer steps for 15 epochs: 474 x 15 = 7110\n",
    "    evaluation_strategy=\"steps\",\n",
    "    eval_steps=250,                          # ~ 2 times for 1 epoch\n",
    "    logging_steps=50,                        # ~ 10 times for 1 epoch\n",
    "    save_steps=2000,                         # ~ 4 epochs for 1 checkpoint\n",
    "    save_total_limit=3,\n",
    "    load_best_model_at_end=True,\n",
    "    metric_for_best_model=\"wer\",\n",
    "    greater_is_better=False,\n",
    "    report_to=\"tensorboard\",\n",
    "    logging_dir=\"./logs\",\n",
    ")"
   ]
  },
  {
   "cell_type": "code",
   "execution_count": 39,
   "id": "74ba2136",
   "metadata": {
    "execution": {
     "iopub.execute_input": "2025-06-01T08:22:41.219246Z",
     "iopub.status.busy": "2025-06-01T08:22:41.219027Z",
     "iopub.status.idle": "2025-06-01T08:22:41.223657Z",
     "shell.execute_reply": "2025-06-01T08:22:41.223161Z"
    },
    "papermill": {
     "duration": 0.052321,
     "end_time": "2025-06-01T08:22:41.224827",
     "exception": false,
     "start_time": "2025-06-01T08:22:41.172506",
     "status": "completed"
    },
    "tags": []
   },
   "outputs": [],
   "source": [
    "model.gradient_checkpointing_enable() # tiết kiệm VRAM\n",
    "model.freeze_feature_encoder() # Freeze feature encoder"
   ]
  },
  {
   "cell_type": "code",
   "execution_count": 40,
   "id": "89cff883",
   "metadata": {
    "execution": {
     "iopub.execute_input": "2025-06-01T08:22:41.321752Z",
     "iopub.status.busy": "2025-06-01T08:22:41.321475Z",
     "iopub.status.idle": "2025-06-01T08:22:42.054439Z",
     "shell.execute_reply": "2025-06-01T08:22:42.053876Z"
    },
    "papermill": {
     "duration": 0.784024,
     "end_time": "2025-06-01T08:22:42.055821",
     "exception": false,
     "start_time": "2025-06-01T08:22:41.271797",
     "status": "completed"
    },
    "tags": []
   },
   "outputs": [],
   "source": [
    "# Create Trainer\n",
    "from transformers import Trainer\n",
    "\n",
    "trainer = Trainer(\n",
    "    model=model,\n",
    "    data_collator=collator,\n",
    "    args=training_args,\n",
    "    train_dataset=processed_data[\"train\"],\n",
    "    eval_dataset=processed_data[\"validation\"],\n",
    "    tokenizer=processor,\n",
    "    compute_metrics=compute_metrics\n",
    ")"
   ]
  },
  {
   "cell_type": "code",
   "execution_count": 41,
   "id": "21127c7c",
   "metadata": {
    "execution": {
     "iopub.execute_input": "2025-06-01T08:22:42.151626Z",
     "iopub.status.busy": "2025-06-01T08:22:42.151373Z",
     "iopub.status.idle": "2025-06-01T08:22:42.157160Z",
     "shell.execute_reply": "2025-06-01T08:22:42.156429Z"
    },
    "papermill": {
     "duration": 0.053786,
     "end_time": "2025-06-01T08:22:42.158336",
     "exception": false,
     "start_time": "2025-06-01T08:22:42.104550",
     "status": "completed"
    },
    "tags": []
   },
   "outputs": [],
   "source": [
    "# Add callback for trainer\n",
    "from transformers import TrainerCallback\n",
    "\n",
    "FREEZE_EPOCHS = 3        # giữ đông cứng 0,1,2  → bắt đầu epoch = 3\n",
    "LR_FACTOR = 0.3          # hạ 70 %\n",
    "\n",
    "\n",
    "class SafeUnfreezeCallback(TrainerCallback):\n",
    "    def on_epoch_end(self, args, state, control, **kwargs):\n",
    "        if state.epoch == FREEZE_EPOCHS:\n",
    "            # 1. Unfreeze feature extractor\n",
    "            for p in model.wav2vec2.feature_extractor.parameters():\n",
    "                p.requires_grad = True\n",
    "            \n",
    "            # 2. Reduce LR for *all* param groups\n",
    "            for group in trainer.optimizer.param_groups:\n",
    "                group[\"lr\"] *= LR_FACTOR\n",
    "            # Đồng bộ lại base_lrs của scheduler để khỏi nhảy vọt\n",
    "            trainer.lr_scheduler.base_lrs = [g[\"lr\"] for g in trainer.optimizer.param_groups]\n",
    "\n",
    "            print(f\">> Encoder unfrozen at epoch {state.epoch}. \"\n",
    "                  f\"New LR = {trainer.optimizer.param_groups[0]['lr']:.2e}\")\n",
    "        return control\n",
    "        \n",
    "trainer.add_callback(SafeUnfreezeCallback())"
   ]
  },
  {
   "cell_type": "code",
   "execution_count": 42,
   "id": "92c28f84",
   "metadata": {
    "execution": {
     "iopub.execute_input": "2025-06-01T08:22:42.253731Z",
     "iopub.status.busy": "2025-06-01T08:22:42.253492Z",
     "iopub.status.idle": "2025-06-01T13:54:21.624289Z",
     "shell.execute_reply": "2025-06-01T13:54:21.623532Z"
    },
    "papermill": {
     "duration": 19899.420123,
     "end_time": "2025-06-01T13:54:21.625866",
     "exception": false,
     "start_time": "2025-06-01T08:22:42.205743",
     "status": "completed"
    },
    "tags": []
   },
   "outputs": [
    {
     "data": {
      "text/html": [
       "\n",
       "    <div>\n",
       "      \n",
       "      <progress value='7110' max='7110' style='width:300px; height:20px; vertical-align: middle;'></progress>\n",
       "      [7110/7110 5:31:30, Epoch 15/15]\n",
       "    </div>\n",
       "    <table border=\"1\" class=\"dataframe\">\n",
       "  <thead>\n",
       " <tr style=\"text-align: left;\">\n",
       "      <th>Step</th>\n",
       "      <th>Training Loss</th>\n",
       "      <th>Validation Loss</th>\n",
       "      <th>Wer</th>\n",
       "    </tr>\n",
       "  </thead>\n",
       "  <tbody>\n",
       "    <tr>\n",
       "      <td>250</td>\n",
       "      <td>0.325700</td>\n",
       "      <td>0.168836</td>\n",
       "      <td>0.172063</td>\n",
       "    </tr>\n",
       "    <tr>\n",
       "      <td>500</td>\n",
       "      <td>0.316100</td>\n",
       "      <td>0.160870</td>\n",
       "      <td>0.173784</td>\n",
       "    </tr>\n",
       "    <tr>\n",
       "      <td>750</td>\n",
       "      <td>0.288500</td>\n",
       "      <td>0.154106</td>\n",
       "      <td>0.168726</td>\n",
       "    </tr>\n",
       "    <tr>\n",
       "      <td>1000</td>\n",
       "      <td>0.299600</td>\n",
       "      <td>0.154407</td>\n",
       "      <td>0.170134</td>\n",
       "    </tr>\n",
       "    <tr>\n",
       "      <td>1250</td>\n",
       "      <td>0.268700</td>\n",
       "      <td>0.146538</td>\n",
       "      <td>0.166171</td>\n",
       "    </tr>\n",
       "    <tr>\n",
       "      <td>1500</td>\n",
       "      <td>0.000000</td>\n",
       "      <td>nan</td>\n",
       "      <td>1.000000</td>\n",
       "    </tr>\n",
       "    <tr>\n",
       "      <td>1750</td>\n",
       "      <td>0.000000</td>\n",
       "      <td>nan</td>\n",
       "      <td>1.000000</td>\n",
       "    </tr>\n",
       "    <tr>\n",
       "      <td>2000</td>\n",
       "      <td>0.000000</td>\n",
       "      <td>nan</td>\n",
       "      <td>1.000000</td>\n",
       "    </tr>\n",
       "    <tr>\n",
       "      <td>2250</td>\n",
       "      <td>0.000000</td>\n",
       "      <td>nan</td>\n",
       "      <td>1.000000</td>\n",
       "    </tr>\n",
       "    <tr>\n",
       "      <td>2500</td>\n",
       "      <td>0.000000</td>\n",
       "      <td>nan</td>\n",
       "      <td>1.000000</td>\n",
       "    </tr>\n",
       "    <tr>\n",
       "      <td>2750</td>\n",
       "      <td>0.000000</td>\n",
       "      <td>nan</td>\n",
       "      <td>1.000000</td>\n",
       "    </tr>\n",
       "    <tr>\n",
       "      <td>3000</td>\n",
       "      <td>0.000000</td>\n",
       "      <td>nan</td>\n",
       "      <td>1.000000</td>\n",
       "    </tr>\n",
       "    <tr>\n",
       "      <td>3250</td>\n",
       "      <td>0.000000</td>\n",
       "      <td>nan</td>\n",
       "      <td>1.000000</td>\n",
       "    </tr>\n",
       "    <tr>\n",
       "      <td>3500</td>\n",
       "      <td>0.000000</td>\n",
       "      <td>nan</td>\n",
       "      <td>1.000000</td>\n",
       "    </tr>\n",
       "    <tr>\n",
       "      <td>3750</td>\n",
       "      <td>0.000000</td>\n",
       "      <td>nan</td>\n",
       "      <td>1.000000</td>\n",
       "    </tr>\n",
       "    <tr>\n",
       "      <td>4000</td>\n",
       "      <td>0.000000</td>\n",
       "      <td>nan</td>\n",
       "      <td>1.000000</td>\n",
       "    </tr>\n",
       "    <tr>\n",
       "      <td>4250</td>\n",
       "      <td>0.000000</td>\n",
       "      <td>nan</td>\n",
       "      <td>1.000000</td>\n",
       "    </tr>\n",
       "    <tr>\n",
       "      <td>4500</td>\n",
       "      <td>0.000000</td>\n",
       "      <td>nan</td>\n",
       "      <td>1.000000</td>\n",
       "    </tr>\n",
       "    <tr>\n",
       "      <td>4750</td>\n",
       "      <td>0.000000</td>\n",
       "      <td>nan</td>\n",
       "      <td>1.000000</td>\n",
       "    </tr>\n",
       "    <tr>\n",
       "      <td>5000</td>\n",
       "      <td>0.000000</td>\n",
       "      <td>nan</td>\n",
       "      <td>1.000000</td>\n",
       "    </tr>\n",
       "    <tr>\n",
       "      <td>5250</td>\n",
       "      <td>0.000000</td>\n",
       "      <td>nan</td>\n",
       "      <td>1.000000</td>\n",
       "    </tr>\n",
       "    <tr>\n",
       "      <td>5500</td>\n",
       "      <td>0.000000</td>\n",
       "      <td>nan</td>\n",
       "      <td>1.000000</td>\n",
       "    </tr>\n",
       "    <tr>\n",
       "      <td>5750</td>\n",
       "      <td>0.000000</td>\n",
       "      <td>nan</td>\n",
       "      <td>1.000000</td>\n",
       "    </tr>\n",
       "    <tr>\n",
       "      <td>6000</td>\n",
       "      <td>0.000000</td>\n",
       "      <td>nan</td>\n",
       "      <td>1.000000</td>\n",
       "    </tr>\n",
       "    <tr>\n",
       "      <td>6250</td>\n",
       "      <td>0.000000</td>\n",
       "      <td>nan</td>\n",
       "      <td>1.000000</td>\n",
       "    </tr>\n",
       "    <tr>\n",
       "      <td>6500</td>\n",
       "      <td>0.000000</td>\n",
       "      <td>nan</td>\n",
       "      <td>1.000000</td>\n",
       "    </tr>\n",
       "    <tr>\n",
       "      <td>6750</td>\n",
       "      <td>0.000000</td>\n",
       "      <td>nan</td>\n",
       "      <td>1.000000</td>\n",
       "    </tr>\n",
       "    <tr>\n",
       "      <td>7000</td>\n",
       "      <td>0.000000</td>\n",
       "      <td>nan</td>\n",
       "      <td>1.000000</td>\n",
       "    </tr>\n",
       "  </tbody>\n",
       "</table><p>"
      ],
      "text/plain": [
       "<IPython.core.display.HTML object>"
      ]
     },
     "metadata": {},
     "output_type": "display_data"
    },
    {
     "name": "stdout",
     "output_type": "stream",
     "text": [
      ">> Encoder unfrozen at epoch 3.0. New LR = 7.66e-06\n"
     ]
    },
    {
     "data": {
      "text/plain": [
       "TrainOutput(global_step=7110, training_loss=0.06934328535270423, metrics={'train_runtime': 19894.6762, 'train_samples_per_second': 11.434, 'train_steps_per_second': 0.357, 'total_flos': 1.6772479079163988e+19, 'train_loss': 0.06934328535270423, 'epoch': 15.0})"
      ]
     },
     "execution_count": 42,
     "metadata": {},
     "output_type": "execute_result"
    }
   ],
   "source": [
    "# Train\n",
    "trainer.train()"
   ]
  },
  {
   "cell_type": "code",
   "execution_count": 43,
   "id": "b36396c9",
   "metadata": {
    "execution": {
     "iopub.execute_input": "2025-06-01T13:54:21.729286Z",
     "iopub.status.busy": "2025-06-01T13:54:21.728608Z",
     "iopub.status.idle": "2025-06-01T13:54:22.440282Z",
     "shell.execute_reply": "2025-06-01T13:54:22.439547Z"
    },
    "papermill": {
     "duration": 0.760908,
     "end_time": "2025-06-01T13:54:22.441493",
     "exception": false,
     "start_time": "2025-06-01T13:54:21.680585",
     "status": "completed"
    },
    "tags": []
   },
   "outputs": [
    {
     "data": {
      "text/plain": [
       "[]"
      ]
     },
     "execution_count": 43,
     "metadata": {},
     "output_type": "execute_result"
    }
   ],
   "source": [
    "# Save\n",
    "model.save_pretrained(\"/kaggle/working/wav2vec2_vi_ft\")\n",
    "processor.save_pretrained(\"/kaggle/working/wav2vec2_vi_ft\")"
   ]
  },
  {
   "cell_type": "code",
   "execution_count": 44,
   "id": "4e8e1cf8",
   "metadata": {
    "execution": {
     "iopub.execute_input": "2025-06-01T13:54:22.537124Z",
     "iopub.status.busy": "2025-06-01T13:54:22.536894Z",
     "iopub.status.idle": "2025-06-01T13:54:56.492505Z",
     "shell.execute_reply": "2025-06-01T13:54:56.491763Z"
    },
    "papermill": {
     "duration": 34.051276,
     "end_time": "2025-06-01T13:54:56.540923",
     "exception": false,
     "start_time": "2025-06-01T13:54:22.489647",
     "status": "completed"
    },
    "tags": []
   },
   "outputs": [
    {
     "data": {
      "text/plain": [
       "'/kaggle/working/wav2vec2_vi_ft.zip'"
      ]
     },
     "execution_count": 44,
     "metadata": {},
     "output_type": "execute_result"
    }
   ],
   "source": [
    "# Make archive\n",
    "import shutil\n",
    "shutil.make_archive(\"/kaggle/working/wav2vec2_vi_ft\", 'zip', \"/kaggle/working/wav2vec2_vi_ft\")"
   ]
  }
 ],
 "metadata": {
  "kaggle": {
   "accelerator": "nvidiaTeslaT4",
   "dataSources": [
    {
     "datasetId": 974176,
     "sourceId": 1647438,
     "sourceType": "datasetVersion"
    },
    {
     "datasetId": 2011210,
     "sourceId": 3328733,
     "sourceType": "datasetVersion"
    },
    {
     "datasetId": 7553714,
     "sourceId": 12007139,
     "sourceType": "datasetVersion"
    }
   ],
   "isGpuEnabled": true,
   "isInternetEnabled": true,
   "language": "python",
   "sourceType": "notebook"
  },
  "kernelspec": {
   "display_name": "Python 3",
   "language": "python",
   "name": "python3"
  },
  "language_info": {
   "codemirror_mode": {
    "name": "ipython",
    "version": 3
   },
   "file_extension": ".py",
   "mimetype": "text/x-python",
   "name": "python",
   "nbconvert_exporter": "python",
   "pygments_lexer": "ipython3",
   "version": "3.11.11"
  },
  "papermill": {
   "default_parameters": {},
   "duration": 21435.519566,
   "end_time": "2025-06-01T13:55:00.584626",
   "environment_variables": {},
   "exception": null,
   "input_path": "__notebook__.ipynb",
   "output_path": "__notebook__.ipynb",
   "parameters": {},
   "start_time": "2025-06-01T07:57:45.065060",
   "version": "2.6.0"
  },
  "widgets": {
   "application/vnd.jupyter.widget-state+json": {
    "state": {
     "00b164e9a23d4bf6aaeb10b99f94ac86": {
      "model_module": "@jupyter-widgets/base",
      "model_module_version": "2.0.0",
      "model_name": "LayoutModel",
      "state": {
       "_model_module": "@jupyter-widgets/base",
       "_model_module_version": "2.0.0",
       "_model_name": "LayoutModel",
       "_view_count": null,
       "_view_module": "@jupyter-widgets/base",
       "_view_module_version": "2.0.0",
       "_view_name": "LayoutView",
       "align_content": null,
       "align_items": null,
       "align_self": null,
       "border_bottom": null,
       "border_left": null,
       "border_right": null,
       "border_top": null,
       "bottom": null,
       "display": null,
       "flex": null,
       "flex_flow": null,
       "grid_area": null,
       "grid_auto_columns": null,
       "grid_auto_flow": null,
       "grid_auto_rows": null,
       "grid_column": null,
       "grid_gap": null,
       "grid_row": null,
       "grid_template_areas": null,
       "grid_template_columns": null,
       "grid_template_rows": null,
       "height": null,
       "justify_content": null,
       "justify_items": null,
       "left": null,
       "margin": null,
       "max_height": null,
       "max_width": null,
       "min_height": null,
       "min_width": null,
       "object_fit": null,
       "object_position": null,
       "order": null,
       "overflow": null,
       "padding": null,
       "right": null,
       "top": null,
       "visibility": null,
       "width": null
      }
     },
     "02703eb06b784cd8b292bd8e531f3930": {
      "model_module": "@jupyter-widgets/controls",
      "model_module_version": "2.0.0",
      "model_name": "HBoxModel",
      "state": {
       "_dom_classes": [],
       "_model_module": "@jupyter-widgets/controls",
       "_model_module_version": "2.0.0",
       "_model_name": "HBoxModel",
       "_view_count": null,
       "_view_module": "@jupyter-widgets/controls",
       "_view_module_version": "2.0.0",
       "_view_name": "HBoxView",
       "box_style": "",
       "children": [
        "IPY_MODEL_3a0bac83fec648959a01d471f2172a17",
        "IPY_MODEL_4015672a2fc243e79240cbb8328b64ac",
        "IPY_MODEL_07cb2e93159e4f5d9965d6ee45016d42"
       ],
       "layout": "IPY_MODEL_c16b3afa0b2b4dc39aba2918b03803c6",
       "tabbable": null,
       "tooltip": null
      }
     },
     "03f42edea8d94ea7a466d81d0e9c2ef0": {
      "model_module": "@jupyter-widgets/base",
      "model_module_version": "2.0.0",
      "model_name": "LayoutModel",
      "state": {
       "_model_module": "@jupyter-widgets/base",
       "_model_module_version": "2.0.0",
       "_model_name": "LayoutModel",
       "_view_count": null,
       "_view_module": "@jupyter-widgets/base",
       "_view_module_version": "2.0.0",
       "_view_name": "LayoutView",
       "align_content": null,
       "align_items": null,
       "align_self": null,
       "border_bottom": null,
       "border_left": null,
       "border_right": null,
       "border_top": null,
       "bottom": null,
       "display": null,
       "flex": null,
       "flex_flow": null,
       "grid_area": null,
       "grid_auto_columns": null,
       "grid_auto_flow": null,
       "grid_auto_rows": null,
       "grid_column": null,
       "grid_gap": null,
       "grid_row": null,
       "grid_template_areas": null,
       "grid_template_columns": null,
       "grid_template_rows": null,
       "height": null,
       "justify_content": null,
       "justify_items": null,
       "left": null,
       "margin": null,
       "max_height": null,
       "max_width": null,
       "min_height": null,
       "min_width": null,
       "object_fit": null,
       "object_position": null,
       "order": null,
       "overflow": null,
       "padding": null,
       "right": null,
       "top": null,
       "visibility": null,
       "width": null
      }
     },
     "07cb2e93159e4f5d9965d6ee45016d42": {
      "model_module": "@jupyter-widgets/controls",
      "model_module_version": "2.0.0",
      "model_name": "HTMLModel",
      "state": {
       "_dom_classes": [],
       "_model_module": "@jupyter-widgets/controls",
       "_model_module_version": "2.0.0",
       "_model_name": "HTMLModel",
       "_view_count": null,
       "_view_module": "@jupyter-widgets/controls",
       "_view_module_version": "2.0.0",
       "_view_name": "HTMLView",
       "description": "",
       "description_allow_html": false,
       "layout": "IPY_MODEL_5b98aaf49b9546f3a5904cb10ddee642",
       "placeholder": "​",
       "style": "IPY_MODEL_bbf18aacb0924df1ba091fb366cc9306",
       "tabbable": null,
       "tooltip": null,
       "value": " 181/181 [00:00&lt;00:00, 25.3kB/s]"
      }
     },
     "07eefdd8c01e4672b28e63def4739cd9": {
      "model_module": "@jupyter-widgets/controls",
      "model_module_version": "2.0.0",
      "model_name": "FloatProgressModel",
      "state": {
       "_dom_classes": [],
       "_model_module": "@jupyter-widgets/controls",
       "_model_module_version": "2.0.0",
       "_model_name": "FloatProgressModel",
       "_view_count": null,
       "_view_module": "@jupyter-widgets/controls",
       "_view_module_version": "2.0.0",
       "_view_name": "ProgressView",
       "bar_style": "success",
       "description": "",
       "description_allow_html": false,
       "layout": "IPY_MODEL_4c12e6c5050f41dd8a3a55458c429dfc",
       "max": 1686.0,
       "min": 0.0,
       "orientation": "horizontal",
       "style": "IPY_MODEL_15abc832e09644c4a9b8689a280c14a0",
       "tabbable": null,
       "tooltip": null,
       "value": 1686.0
      }
     },
     "08d7733bb9664db59a0d446ec662633f": {
      "model_module": "@jupyter-widgets/controls",
      "model_module_version": "2.0.0",
      "model_name": "HBoxModel",
      "state": {
       "_dom_classes": [],
       "_model_module": "@jupyter-widgets/controls",
       "_model_module_version": "2.0.0",
       "_model_name": "HBoxModel",
       "_view_count": null,
       "_view_module": "@jupyter-widgets/controls",
       "_view_module_version": "2.0.0",
       "_view_name": "HBoxView",
       "box_style": "",
       "children": [
        "IPY_MODEL_af81a74e15bc457e9e9426a3df0d4b5d",
        "IPY_MODEL_948a78662b9041e3ba2211f18913fd43",
        "IPY_MODEL_b5249ab1a12f45b39b9b7a7bab99b9bc"
       ],
       "layout": "IPY_MODEL_48974ab7595e4a82a2d8f4fba58a9303",
       "tabbable": null,
       "tooltip": null
      }
     },
     "0a2f6f583f9a407195b8a1a3b7136129": {
      "model_module": "@jupyter-widgets/base",
      "model_module_version": "2.0.0",
      "model_name": "LayoutModel",
      "state": {
       "_model_module": "@jupyter-widgets/base",
       "_model_module_version": "2.0.0",
       "_model_name": "LayoutModel",
       "_view_count": null,
       "_view_module": "@jupyter-widgets/base",
       "_view_module_version": "2.0.0",
       "_view_name": "LayoutView",
       "align_content": null,
       "align_items": null,
       "align_self": null,
       "border_bottom": null,
       "border_left": null,
       "border_right": null,
       "border_top": null,
       "bottom": null,
       "display": null,
       "flex": null,
       "flex_flow": null,
       "grid_area": null,
       "grid_auto_columns": null,
       "grid_auto_flow": null,
       "grid_auto_rows": null,
       "grid_column": null,
       "grid_gap": null,
       "grid_row": null,
       "grid_template_areas": null,
       "grid_template_columns": null,
       "grid_template_rows": null,
       "height": null,
       "justify_content": null,
       "justify_items": null,
       "left": null,
       "margin": null,
       "max_height": null,
       "max_width": null,
       "min_height": null,
       "min_width": null,
       "object_fit": null,
       "object_position": null,
       "order": null,
       "overflow": null,
       "padding": null,
       "right": null,
       "top": null,
       "visibility": null,
       "width": null
      }
     },
     "0b69cc067e5048108e1b813c89eb4609": {
      "model_module": "@jupyter-widgets/controls",
      "model_module_version": "2.0.0",
      "model_name": "HTMLModel",
      "state": {
       "_dom_classes": [],
       "_model_module": "@jupyter-widgets/controls",
       "_model_module_version": "2.0.0",
       "_model_name": "HTMLModel",
       "_view_count": null,
       "_view_module": "@jupyter-widgets/controls",
       "_view_module_version": "2.0.0",
       "_view_name": "HTMLView",
       "description": "",
       "description_allow_html": false,
       "layout": "IPY_MODEL_948e9987869a49848407346ef2fdb4ce",
       "placeholder": "​",
       "style": "IPY_MODEL_aa93290b9112411c92d75d2fdf38b242",
       "tabbable": null,
       "tooltip": null,
       "value": " 215/215 [00:00&lt;00:00, 29.1kB/s]"
      }
     },
     "0d5e9a87729741a98538c2ed7e368694": {
      "model_module": "@jupyter-widgets/controls",
      "model_module_version": "2.0.0",
      "model_name": "HTMLStyleModel",
      "state": {
       "_model_module": "@jupyter-widgets/controls",
       "_model_module_version": "2.0.0",
       "_model_name": "HTMLStyleModel",
       "_view_count": null,
       "_view_module": "@jupyter-widgets/base",
       "_view_module_version": "2.0.0",
       "_view_name": "StyleView",
       "background": null,
       "description_width": "",
       "font_size": null,
       "text_color": null
      }
     },
     "15abc832e09644c4a9b8689a280c14a0": {
      "model_module": "@jupyter-widgets/controls",
      "model_module_version": "2.0.0",
      "model_name": "ProgressStyleModel",
      "state": {
       "_model_module": "@jupyter-widgets/controls",
       "_model_module_version": "2.0.0",
       "_model_name": "ProgressStyleModel",
       "_view_count": null,
       "_view_module": "@jupyter-widgets/base",
       "_view_module_version": "2.0.0",
       "_view_name": "StyleView",
       "bar_color": null,
       "description_width": ""
      }
     },
     "1604b6d9c1f844a1b0ac67f0eee90501": {
      "model_module": "@jupyter-widgets/controls",
      "model_module_version": "2.0.0",
      "model_name": "HBoxModel",
      "state": {
       "_dom_classes": [],
       "_model_module": "@jupyter-widgets/controls",
       "_model_module_version": "2.0.0",
       "_model_name": "HBoxModel",
       "_view_count": null,
       "_view_module": "@jupyter-widgets/controls",
       "_view_module_version": "2.0.0",
       "_view_name": "HBoxView",
       "box_style": "",
       "children": [
        "IPY_MODEL_dbdc4e8427694f9091a55315ccdc46d7",
        "IPY_MODEL_07eefdd8c01e4672b28e63def4739cd9",
        "IPY_MODEL_f2971f29a9784f99ae31a0485785839b"
       ],
       "layout": "IPY_MODEL_3fbe1d8e84b64ce996bcdeb9003261f5",
       "tabbable": null,
       "tooltip": null
      }
     },
     "188f3b7cdd154a92b450645ea57d1968": {
      "model_module": "@jupyter-widgets/controls",
      "model_module_version": "2.0.0",
      "model_name": "HTMLModel",
      "state": {
       "_dom_classes": [],
       "_model_module": "@jupyter-widgets/controls",
       "_model_module_version": "2.0.0",
       "_model_name": "HTMLModel",
       "_view_count": null,
       "_view_module": "@jupyter-widgets/controls",
       "_view_module_version": "2.0.0",
       "_view_name": "HTMLView",
       "description": "",
       "description_allow_html": false,
       "layout": "IPY_MODEL_9cf3940c461c4a5783ade06a58193075",
       "placeholder": "​",
       "style": "IPY_MODEL_5758c325af6d41ebb17f6333af673492",
       "tabbable": null,
       "tooltip": null,
       "value": " 15165/15165 [09:12&lt;00:00, 41.37 examples/s]"
      }
     },
     "1a0b0eea51ec479c824b35b08489bc35": {
      "model_module": "@jupyter-widgets/base",
      "model_module_version": "2.0.0",
      "model_name": "LayoutModel",
      "state": {
       "_model_module": "@jupyter-widgets/base",
       "_model_module_version": "2.0.0",
       "_model_name": "LayoutModel",
       "_view_count": null,
       "_view_module": "@jupyter-widgets/base",
       "_view_module_version": "2.0.0",
       "_view_name": "LayoutView",
       "align_content": null,
       "align_items": null,
       "align_self": null,
       "border_bottom": null,
       "border_left": null,
       "border_right": null,
       "border_top": null,
       "bottom": null,
       "display": null,
       "flex": null,
       "flex_flow": null,
       "grid_area": null,
       "grid_auto_columns": null,
       "grid_auto_flow": null,
       "grid_auto_rows": null,
       "grid_column": null,
       "grid_gap": null,
       "grid_row": null,
       "grid_template_areas": null,
       "grid_template_columns": null,
       "grid_template_rows": null,
       "height": null,
       "justify_content": null,
       "justify_items": null,
       "left": null,
       "margin": null,
       "max_height": null,
       "max_width": null,
       "min_height": null,
       "min_width": null,
       "object_fit": null,
       "object_position": null,
       "order": null,
       "overflow": null,
       "padding": null,
       "right": null,
       "top": null,
       "visibility": null,
       "width": null
      }
     },
     "1a0d5665b638487cb68ca3a508fd80b0": {
      "model_module": "@jupyter-widgets/base",
      "model_module_version": "2.0.0",
      "model_name": "LayoutModel",
      "state": {
       "_model_module": "@jupyter-widgets/base",
       "_model_module_version": "2.0.0",
       "_model_name": "LayoutModel",
       "_view_count": null,
       "_view_module": "@jupyter-widgets/base",
       "_view_module_version": "2.0.0",
       "_view_name": "LayoutView",
       "align_content": null,
       "align_items": null,
       "align_self": null,
       "border_bottom": null,
       "border_left": null,
       "border_right": null,
       "border_top": null,
       "bottom": null,
       "display": null,
       "flex": null,
       "flex_flow": null,
       "grid_area": null,
       "grid_auto_columns": null,
       "grid_auto_flow": null,
       "grid_auto_rows": null,
       "grid_column": null,
       "grid_gap": null,
       "grid_row": null,
       "grid_template_areas": null,
       "grid_template_columns": null,
       "grid_template_rows": null,
       "height": null,
       "justify_content": null,
       "justify_items": null,
       "left": null,
       "margin": null,
       "max_height": null,
       "max_width": null,
       "min_height": null,
       "min_width": null,
       "object_fit": null,
       "object_position": null,
       "order": null,
       "overflow": null,
       "padding": null,
       "right": null,
       "top": null,
       "visibility": null,
       "width": null
      }
     },
     "1d14a0a15903482f977685a507dca81f": {
      "model_module": "@jupyter-widgets/controls",
      "model_module_version": "2.0.0",
      "model_name": "FloatProgressModel",
      "state": {
       "_dom_classes": [],
       "_model_module": "@jupyter-widgets/controls",
       "_model_module_version": "2.0.0",
       "_model_name": "FloatProgressModel",
       "_view_count": null,
       "_view_module": "@jupyter-widgets/controls",
       "_view_module_version": "2.0.0",
       "_view_name": "ProgressView",
       "bar_style": "success",
       "description": "",
       "description_allow_html": false,
       "layout": "IPY_MODEL_43a499b02aa24aab820464231ce35870",
       "max": 1653.0,
       "min": 0.0,
       "orientation": "horizontal",
       "style": "IPY_MODEL_496c36c5ad474e4692d8130966e3f3ca",
       "tabbable": null,
       "tooltip": null,
       "value": 1653.0
      }
     },
     "2a2bf0df691e440585c24897b5fa9707": {
      "model_module": "@jupyter-widgets/controls",
      "model_module_version": "2.0.0",
      "model_name": "HBoxModel",
      "state": {
       "_dom_classes": [],
       "_model_module": "@jupyter-widgets/controls",
       "_model_module_version": "2.0.0",
       "_model_name": "HBoxModel",
       "_view_count": null,
       "_view_module": "@jupyter-widgets/controls",
       "_view_module_version": "2.0.0",
       "_view_name": "HBoxView",
       "box_style": "",
       "children": [
        "IPY_MODEL_6df606f48b724e3db813b73a9267de9b",
        "IPY_MODEL_2b7c5a5aa7064da9acbdc92b597dda19",
        "IPY_MODEL_a3e327f35050494e9b23e9867bc5125b"
       ],
       "layout": "IPY_MODEL_d954c158d7e84eb3a389ba513b02d396",
       "tabbable": null,
       "tooltip": null
      }
     },
     "2b5297c1517c45d8915b155b3a1295b1": {
      "model_module": "@jupyter-widgets/base",
      "model_module_version": "2.0.0",
      "model_name": "LayoutModel",
      "state": {
       "_model_module": "@jupyter-widgets/base",
       "_model_module_version": "2.0.0",
       "_model_name": "LayoutModel",
       "_view_count": null,
       "_view_module": "@jupyter-widgets/base",
       "_view_module_version": "2.0.0",
       "_view_name": "LayoutView",
       "align_content": null,
       "align_items": null,
       "align_self": null,
       "border_bottom": null,
       "border_left": null,
       "border_right": null,
       "border_top": null,
       "bottom": null,
       "display": null,
       "flex": null,
       "flex_flow": null,
       "grid_area": null,
       "grid_auto_columns": null,
       "grid_auto_flow": null,
       "grid_auto_rows": null,
       "grid_column": null,
       "grid_gap": null,
       "grid_row": null,
       "grid_template_areas": null,
       "grid_template_columns": null,
       "grid_template_rows": null,
       "height": null,
       "justify_content": null,
       "justify_items": null,
       "left": null,
       "margin": null,
       "max_height": null,
       "max_width": null,
       "min_height": null,
       "min_width": null,
       "object_fit": null,
       "object_position": null,
       "order": null,
       "overflow": null,
       "padding": null,
       "right": null,
       "top": null,
       "visibility": null,
       "width": null
      }
     },
     "2b7c5a5aa7064da9acbdc92b597dda19": {
      "model_module": "@jupyter-widgets/controls",
      "model_module_version": "2.0.0",
      "model_name": "FloatProgressModel",
      "state": {
       "_dom_classes": [],
       "_model_module": "@jupyter-widgets/controls",
       "_model_module_version": "2.0.0",
       "_model_name": "FloatProgressModel",
       "_view_count": null,
       "_view_module": "@jupyter-widgets/controls",
       "_view_module_version": "2.0.0",
       "_view_name": "ProgressView",
       "bar_style": "success",
       "description": "",
       "description_allow_html": false,
       "layout": "IPY_MODEL_6e6fecda01b3498fb52a3f3d32a18240",
       "max": 4485.0,
       "min": 0.0,
       "orientation": "horizontal",
       "style": "IPY_MODEL_5235ffbae9594c9ea64b6770a393320f",
       "tabbable": null,
       "tooltip": null,
       "value": 4485.0
      }
     },
     "2bbfc2d73d7d4382984791077ce4b95f": {
      "model_module": "@jupyter-widgets/base",
      "model_module_version": "2.0.0",
      "model_name": "LayoutModel",
      "state": {
       "_model_module": "@jupyter-widgets/base",
       "_model_module_version": "2.0.0",
       "_model_name": "LayoutModel",
       "_view_count": null,
       "_view_module": "@jupyter-widgets/base",
       "_view_module_version": "2.0.0",
       "_view_name": "LayoutView",
       "align_content": null,
       "align_items": null,
       "align_self": null,
       "border_bottom": null,
       "border_left": null,
       "border_right": null,
       "border_top": null,
       "bottom": null,
       "display": null,
       "flex": null,
       "flex_flow": null,
       "grid_area": null,
       "grid_auto_columns": null,
       "grid_auto_flow": null,
       "grid_auto_rows": null,
       "grid_column": null,
       "grid_gap": null,
       "grid_row": null,
       "grid_template_areas": null,
       "grid_template_columns": null,
       "grid_template_rows": null,
       "height": null,
       "justify_content": null,
       "justify_items": null,
       "left": null,
       "margin": null,
       "max_height": null,
       "max_width": null,
       "min_height": null,
       "min_width": null,
       "object_fit": null,
       "object_position": null,
       "order": null,
       "overflow": null,
       "padding": null,
       "right": null,
       "top": null,
       "visibility": null,
       "width": null
      }
     },
     "31b5fc213ac64e9d8c5888af92aa4c9b": {
      "model_module": "@jupyter-widgets/base",
      "model_module_version": "2.0.0",
      "model_name": "LayoutModel",
      "state": {
       "_model_module": "@jupyter-widgets/base",
       "_model_module_version": "2.0.0",
       "_model_name": "LayoutModel",
       "_view_count": null,
       "_view_module": "@jupyter-widgets/base",
       "_view_module_version": "2.0.0",
       "_view_name": "LayoutView",
       "align_content": null,
       "align_items": null,
       "align_self": null,
       "border_bottom": null,
       "border_left": null,
       "border_right": null,
       "border_top": null,
       "bottom": null,
       "display": null,
       "flex": null,
       "flex_flow": null,
       "grid_area": null,
       "grid_auto_columns": null,
       "grid_auto_flow": null,
       "grid_auto_rows": null,
       "grid_column": null,
       "grid_gap": null,
       "grid_row": null,
       "grid_template_areas": null,
       "grid_template_columns": null,
       "grid_template_rows": null,
       "height": null,
       "justify_content": null,
       "justify_items": null,
       "left": null,
       "margin": null,
       "max_height": null,
       "max_width": null,
       "min_height": null,
       "min_width": null,
       "object_fit": null,
       "object_position": null,
       "order": null,
       "overflow": null,
       "padding": null,
       "right": null,
       "top": null,
       "visibility": null,
       "width": null
      }
     },
     "3220bda3acff423896a8051cb494b39b": {
      "model_module": "@jupyter-widgets/controls",
      "model_module_version": "2.0.0",
      "model_name": "HTMLModel",
      "state": {
       "_dom_classes": [],
       "_model_module": "@jupyter-widgets/controls",
       "_model_module_version": "2.0.0",
       "_model_name": "HTMLModel",
       "_view_count": null,
       "_view_module": "@jupyter-widgets/controls",
       "_view_module_version": "2.0.0",
       "_view_name": "HTMLView",
       "description": "",
       "description_allow_html": false,
       "layout": "IPY_MODEL_00b164e9a23d4bf6aaeb10b99f94ac86",
       "placeholder": "​",
       "style": "IPY_MODEL_0d5e9a87729741a98538c2ed7e368694",
       "tabbable": null,
       "tooltip": null,
       "value": " 15165/15165 [07:07&lt;00:00, 53.31 examples/s]"
      }
     },
     "38420a5be4244221bdab6c3e517b5736": {
      "model_module": "@jupyter-widgets/controls",
      "model_module_version": "2.0.0",
      "model_name": "HBoxModel",
      "state": {
       "_dom_classes": [],
       "_model_module": "@jupyter-widgets/controls",
       "_model_module_version": "2.0.0",
       "_model_name": "HBoxModel",
       "_view_count": null,
       "_view_module": "@jupyter-widgets/controls",
       "_view_module_version": "2.0.0",
       "_view_name": "HBoxView",
       "box_style": "",
       "children": [
        "IPY_MODEL_3d2fefd8e6b24f5291fef1688c2b6f7b",
        "IPY_MODEL_3fa46225c96845f89a14b42ced9aebc4",
        "IPY_MODEL_bd031bedaeb8479bb888d2b59dcff7df"
       ],
       "layout": "IPY_MODEL_b8d84571682c4b9fa1ba5d4ddbd56438",
       "tabbable": null,
       "tooltip": null
      }
     },
     "39d97b0bb4c845368a25b1b8c055bc16": {
      "model_module": "@jupyter-widgets/base",
      "model_module_version": "2.0.0",
      "model_name": "LayoutModel",
      "state": {
       "_model_module": "@jupyter-widgets/base",
       "_model_module_version": "2.0.0",
       "_model_name": "LayoutModel",
       "_view_count": null,
       "_view_module": "@jupyter-widgets/base",
       "_view_module_version": "2.0.0",
       "_view_name": "LayoutView",
       "align_content": null,
       "align_items": null,
       "align_self": null,
       "border_bottom": null,
       "border_left": null,
       "border_right": null,
       "border_top": null,
       "bottom": null,
       "display": null,
       "flex": null,
       "flex_flow": null,
       "grid_area": null,
       "grid_auto_columns": null,
       "grid_auto_flow": null,
       "grid_auto_rows": null,
       "grid_column": null,
       "grid_gap": null,
       "grid_row": null,
       "grid_template_areas": null,
       "grid_template_columns": null,
       "grid_template_rows": null,
       "height": null,
       "justify_content": null,
       "justify_items": null,
       "left": null,
       "margin": null,
       "max_height": null,
       "max_width": null,
       "min_height": null,
       "min_width": null,
       "object_fit": null,
       "object_position": null,
       "order": null,
       "overflow": null,
       "padding": null,
       "right": null,
       "top": null,
       "visibility": null,
       "width": null
      }
     },
     "3a0bac83fec648959a01d471f2172a17": {
      "model_module": "@jupyter-widgets/controls",
      "model_module_version": "2.0.0",
      "model_name": "HTMLModel",
      "state": {
       "_dom_classes": [],
       "_model_module": "@jupyter-widgets/controls",
       "_model_module_version": "2.0.0",
       "_model_name": "HTMLModel",
       "_view_count": null,
       "_view_module": "@jupyter-widgets/controls",
       "_view_module_version": "2.0.0",
       "_view_name": "HTMLView",
       "description": "",
       "description_allow_html": false,
       "layout": "IPY_MODEL_4ce3fce87974424ba0e7848ee3316d7a",
       "placeholder": "​",
       "style": "IPY_MODEL_e732345f2b9d47e6aa3629dfdc6ba991",
       "tabbable": null,
       "tooltip": null,
       "value": "tokenizer_config.json: 100%"
      }
     },
     "3d2fefd8e6b24f5291fef1688c2b6f7b": {
      "model_module": "@jupyter-widgets/controls",
      "model_module_version": "2.0.0",
      "model_name": "HTMLModel",
      "state": {
       "_dom_classes": [],
       "_model_module": "@jupyter-widgets/controls",
       "_model_module_version": "2.0.0",
       "_model_name": "HTMLModel",
       "_view_count": null,
       "_view_module": "@jupyter-widgets/controls",
       "_view_module_version": "2.0.0",
       "_view_name": "HTMLView",
       "description": "",
       "description_allow_html": false,
       "layout": "IPY_MODEL_dd23adcbd33c46aeb97b702b104083c1",
       "placeholder": "​",
       "style": "IPY_MODEL_758d656a4cd34016974acc1c1adb1547",
       "tabbable": null,
       "tooltip": null,
       "value": "pytorch_model.bin: 100%"
      }
     },
     "3fa46225c96845f89a14b42ced9aebc4": {
      "model_module": "@jupyter-widgets/controls",
      "model_module_version": "2.0.0",
      "model_name": "FloatProgressModel",
      "state": {
       "_dom_classes": [],
       "_model_module": "@jupyter-widgets/controls",
       "_model_module_version": "2.0.0",
       "_model_name": "FloatProgressModel",
       "_view_count": null,
       "_view_module": "@jupyter-widgets/controls",
       "_view_module_version": "2.0.0",
       "_view_name": "ProgressView",
       "bar_style": "success",
       "description": "",
       "description_allow_html": false,
       "layout": "IPY_MODEL_f579ed5d791b42b69a9c0cce1d3475e7",
       "max": 377906903.0,
       "min": 0.0,
       "orientation": "horizontal",
       "style": "IPY_MODEL_eff437ac80004367b977ff014e46a569",
       "tabbable": null,
       "tooltip": null,
       "value": 377906903.0
      }
     },
     "3fbe1d8e84b64ce996bcdeb9003261f5": {
      "model_module": "@jupyter-widgets/base",
      "model_module_version": "2.0.0",
      "model_name": "LayoutModel",
      "state": {
       "_model_module": "@jupyter-widgets/base",
       "_model_module_version": "2.0.0",
       "_model_name": "LayoutModel",
       "_view_count": null,
       "_view_module": "@jupyter-widgets/base",
       "_view_module_version": "2.0.0",
       "_view_name": "LayoutView",
       "align_content": null,
       "align_items": null,
       "align_self": null,
       "border_bottom": null,
       "border_left": null,
       "border_right": null,
       "border_top": null,
       "bottom": null,
       "display": null,
       "flex": null,
       "flex_flow": null,
       "grid_area": null,
       "grid_auto_columns": null,
       "grid_auto_flow": null,
       "grid_auto_rows": null,
       "grid_column": null,
       "grid_gap": null,
       "grid_row": null,
       "grid_template_areas": null,
       "grid_template_columns": null,
       "grid_template_rows": null,
       "height": null,
       "justify_content": null,
       "justify_items": null,
       "left": null,
       "margin": null,
       "max_height": null,
       "max_width": null,
       "min_height": null,
       "min_width": null,
       "object_fit": null,
       "object_position": null,
       "order": null,
       "overflow": null,
       "padding": null,
       "right": null,
       "top": null,
       "visibility": null,
       "width": null
      }
     },
     "4015672a2fc243e79240cbb8328b64ac": {
      "model_module": "@jupyter-widgets/controls",
      "model_module_version": "2.0.0",
      "model_name": "FloatProgressModel",
      "state": {
       "_dom_classes": [],
       "_model_module": "@jupyter-widgets/controls",
       "_model_module_version": "2.0.0",
       "_model_name": "FloatProgressModel",
       "_view_count": null,
       "_view_module": "@jupyter-widgets/controls",
       "_view_module_version": "2.0.0",
       "_view_name": "ProgressView",
       "bar_style": "success",
       "description": "",
       "description_allow_html": false,
       "layout": "IPY_MODEL_2b5297c1517c45d8915b155b3a1295b1",
       "max": 181.0,
       "min": 0.0,
       "orientation": "horizontal",
       "style": "IPY_MODEL_fc9f21ebefb949aabf45a956275c0985",
       "tabbable": null,
       "tooltip": null,
       "value": 181.0
      }
     },
     "41ebfed530a5453683f486bc23d643a9": {
      "model_module": "@jupyter-widgets/controls",
      "model_module_version": "2.0.0",
      "model_name": "HTMLModel",
      "state": {
       "_dom_classes": [],
       "_model_module": "@jupyter-widgets/controls",
       "_model_module_version": "2.0.0",
       "_model_name": "HTMLModel",
       "_view_count": null,
       "_view_module": "@jupyter-widgets/controls",
       "_view_module_version": "2.0.0",
       "_view_name": "HTMLView",
       "description": "",
       "description_allow_html": false,
       "layout": "IPY_MODEL_ae742ae9154447a3a4d85b8da42ee58b",
       "placeholder": "​",
       "style": "IPY_MODEL_4533d5f9dcd14249bcc5155d226884a9",
       "tabbable": null,
       "tooltip": null,
       "value": " 1.11k/1.11k [00:00&lt;00:00, 131kB/s]"
      }
     },
     "428947359c4b4ffb8952b820d297b91e": {
      "model_module": "@jupyter-widgets/controls",
      "model_module_version": "2.0.0",
      "model_name": "HBoxModel",
      "state": {
       "_dom_classes": [],
       "_model_module": "@jupyter-widgets/controls",
       "_model_module_version": "2.0.0",
       "_model_name": "HBoxModel",
       "_view_count": null,
       "_view_module": "@jupyter-widgets/controls",
       "_view_module_version": "2.0.0",
       "_view_name": "HBoxView",
       "box_style": "",
       "children": [
        "IPY_MODEL_a87490f1aee14562ac1d5573c5b25e24",
        "IPY_MODEL_99f6dd9531e64c2d83f173689bff7d68",
        "IPY_MODEL_3220bda3acff423896a8051cb494b39b"
       ],
       "layout": "IPY_MODEL_2bbfc2d73d7d4382984791077ce4b95f",
       "tabbable": null,
       "tooltip": null
      }
     },
     "43a499b02aa24aab820464231ce35870": {
      "model_module": "@jupyter-widgets/base",
      "model_module_version": "2.0.0",
      "model_name": "LayoutModel",
      "state": {
       "_model_module": "@jupyter-widgets/base",
       "_model_module_version": "2.0.0",
       "_model_name": "LayoutModel",
       "_view_count": null,
       "_view_module": "@jupyter-widgets/base",
       "_view_module_version": "2.0.0",
       "_view_name": "LayoutView",
       "align_content": null,
       "align_items": null,
       "align_self": null,
       "border_bottom": null,
       "border_left": null,
       "border_right": null,
       "border_top": null,
       "bottom": null,
       "display": null,
       "flex": null,
       "flex_flow": null,
       "grid_area": null,
       "grid_auto_columns": null,
       "grid_auto_flow": null,
       "grid_auto_rows": null,
       "grid_column": null,
       "grid_gap": null,
       "grid_row": null,
       "grid_template_areas": null,
       "grid_template_columns": null,
       "grid_template_rows": null,
       "height": null,
       "justify_content": null,
       "justify_items": null,
       "left": null,
       "margin": null,
       "max_height": null,
       "max_width": null,
       "min_height": null,
       "min_width": null,
       "object_fit": null,
       "object_position": null,
       "order": null,
       "overflow": null,
       "padding": null,
       "right": null,
       "top": null,
       "visibility": null,
       "width": null
      }
     },
     "4443cfb12d174ad9ae971c4e58d34c4c": {
      "model_module": "@jupyter-widgets/controls",
      "model_module_version": "2.0.0",
      "model_name": "ProgressStyleModel",
      "state": {
       "_model_module": "@jupyter-widgets/controls",
       "_model_module_version": "2.0.0",
       "_model_name": "ProgressStyleModel",
       "_view_count": null,
       "_view_module": "@jupyter-widgets/base",
       "_view_module_version": "2.0.0",
       "_view_name": "StyleView",
       "bar_color": null,
       "description_width": ""
      }
     },
     "4533d5f9dcd14249bcc5155d226884a9": {
      "model_module": "@jupyter-widgets/controls",
      "model_module_version": "2.0.0",
      "model_name": "HTMLStyleModel",
      "state": {
       "_model_module": "@jupyter-widgets/controls",
       "_model_module_version": "2.0.0",
       "_model_name": "HTMLStyleModel",
       "_view_count": null,
       "_view_module": "@jupyter-widgets/base",
       "_view_module_version": "2.0.0",
       "_view_name": "StyleView",
       "background": null,
       "description_width": "",
       "font_size": null,
       "text_color": null
      }
     },
     "48974ab7595e4a82a2d8f4fba58a9303": {
      "model_module": "@jupyter-widgets/base",
      "model_module_version": "2.0.0",
      "model_name": "LayoutModel",
      "state": {
       "_model_module": "@jupyter-widgets/base",
       "_model_module_version": "2.0.0",
       "_model_name": "LayoutModel",
       "_view_count": null,
       "_view_module": "@jupyter-widgets/base",
       "_view_module_version": "2.0.0",
       "_view_name": "LayoutView",
       "align_content": null,
       "align_items": null,
       "align_self": null,
       "border_bottom": null,
       "border_left": null,
       "border_right": null,
       "border_top": null,
       "bottom": null,
       "display": null,
       "flex": null,
       "flex_flow": null,
       "grid_area": null,
       "grid_auto_columns": null,
       "grid_auto_flow": null,
       "grid_auto_rows": null,
       "grid_column": null,
       "grid_gap": null,
       "grid_row": null,
       "grid_template_areas": null,
       "grid_template_columns": null,
       "grid_template_rows": null,
       "height": null,
       "justify_content": null,
       "justify_items": null,
       "left": null,
       "margin": null,
       "max_height": null,
       "max_width": null,
       "min_height": null,
       "min_width": null,
       "object_fit": null,
       "object_position": null,
       "order": null,
       "overflow": null,
       "padding": null,
       "right": null,
       "top": null,
       "visibility": null,
       "width": null
      }
     },
     "496c36c5ad474e4692d8130966e3f3ca": {
      "model_module": "@jupyter-widgets/controls",
      "model_module_version": "2.0.0",
      "model_name": "ProgressStyleModel",
      "state": {
       "_model_module": "@jupyter-widgets/controls",
       "_model_module_version": "2.0.0",
       "_model_name": "ProgressStyleModel",
       "_view_count": null,
       "_view_module": "@jupyter-widgets/base",
       "_view_module_version": "2.0.0",
       "_view_name": "StyleView",
       "bar_color": null,
       "description_width": ""
      }
     },
     "4c12e6c5050f41dd8a3a55458c429dfc": {
      "model_module": "@jupyter-widgets/base",
      "model_module_version": "2.0.0",
      "model_name": "LayoutModel",
      "state": {
       "_model_module": "@jupyter-widgets/base",
       "_model_module_version": "2.0.0",
       "_model_name": "LayoutModel",
       "_view_count": null,
       "_view_module": "@jupyter-widgets/base",
       "_view_module_version": "2.0.0",
       "_view_name": "LayoutView",
       "align_content": null,
       "align_items": null,
       "align_self": null,
       "border_bottom": null,
       "border_left": null,
       "border_right": null,
       "border_top": null,
       "bottom": null,
       "display": null,
       "flex": null,
       "flex_flow": null,
       "grid_area": null,
       "grid_auto_columns": null,
       "grid_auto_flow": null,
       "grid_auto_rows": null,
       "grid_column": null,
       "grid_gap": null,
       "grid_row": null,
       "grid_template_areas": null,
       "grid_template_columns": null,
       "grid_template_rows": null,
       "height": null,
       "justify_content": null,
       "justify_items": null,
       "left": null,
       "margin": null,
       "max_height": null,
       "max_width": null,
       "min_height": null,
       "min_width": null,
       "object_fit": null,
       "object_position": null,
       "order": null,
       "overflow": null,
       "padding": null,
       "right": null,
       "top": null,
       "visibility": null,
       "width": null
      }
     },
     "4ce3fce87974424ba0e7848ee3316d7a": {
      "model_module": "@jupyter-widgets/base",
      "model_module_version": "2.0.0",
      "model_name": "LayoutModel",
      "state": {
       "_model_module": "@jupyter-widgets/base",
       "_model_module_version": "2.0.0",
       "_model_name": "LayoutModel",
       "_view_count": null,
       "_view_module": "@jupyter-widgets/base",
       "_view_module_version": "2.0.0",
       "_view_name": "LayoutView",
       "align_content": null,
       "align_items": null,
       "align_self": null,
       "border_bottom": null,
       "border_left": null,
       "border_right": null,
       "border_top": null,
       "bottom": null,
       "display": null,
       "flex": null,
       "flex_flow": null,
       "grid_area": null,
       "grid_auto_columns": null,
       "grid_auto_flow": null,
       "grid_auto_rows": null,
       "grid_column": null,
       "grid_gap": null,
       "grid_row": null,
       "grid_template_areas": null,
       "grid_template_columns": null,
       "grid_template_rows": null,
       "height": null,
       "justify_content": null,
       "justify_items": null,
       "left": null,
       "margin": null,
       "max_height": null,
       "max_width": null,
       "min_height": null,
       "min_width": null,
       "object_fit": null,
       "object_position": null,
       "order": null,
       "overflow": null,
       "padding": null,
       "right": null,
       "top": null,
       "visibility": null,
       "width": null
      }
     },
     "4fec3fad133642efb0161d16a155f6e5": {
      "model_module": "@jupyter-widgets/controls",
      "model_module_version": "2.0.0",
      "model_name": "HTMLStyleModel",
      "state": {
       "_model_module": "@jupyter-widgets/controls",
       "_model_module_version": "2.0.0",
       "_model_name": "HTMLStyleModel",
       "_view_count": null,
       "_view_module": "@jupyter-widgets/base",
       "_view_module_version": "2.0.0",
       "_view_name": "StyleView",
       "background": null,
       "description_width": "",
       "font_size": null,
       "text_color": null
      }
     },
     "5235ffbae9594c9ea64b6770a393320f": {
      "model_module": "@jupyter-widgets/controls",
      "model_module_version": "2.0.0",
      "model_name": "ProgressStyleModel",
      "state": {
       "_model_module": "@jupyter-widgets/controls",
       "_model_module_version": "2.0.0",
       "_model_name": "ProgressStyleModel",
       "_view_count": null,
       "_view_module": "@jupyter-widgets/base",
       "_view_module_version": "2.0.0",
       "_view_name": "StyleView",
       "bar_color": null,
       "description_width": ""
      }
     },
     "53c761cf43c044c5b8c6a240b46b7f0b": {
      "model_module": "@jupyter-widgets/controls",
      "model_module_version": "2.0.0",
      "model_name": "FloatProgressModel",
      "state": {
       "_dom_classes": [],
       "_model_module": "@jupyter-widgets/controls",
       "_model_module_version": "2.0.0",
       "_model_name": "FloatProgressModel",
       "_view_count": null,
       "_view_module": "@jupyter-widgets/controls",
       "_view_module_version": "2.0.0",
       "_view_name": "ProgressView",
       "bar_style": "success",
       "description": "",
       "description_allow_html": false,
       "layout": "IPY_MODEL_8ca82cfcade54b958dda43895f7aca78",
       "max": 15165.0,
       "min": 0.0,
       "orientation": "horizontal",
       "style": "IPY_MODEL_5723f7f3ad2d43df81f383185a89982f",
       "tabbable": null,
       "tooltip": null,
       "value": 15165.0
      }
     },
     "5723f7f3ad2d43df81f383185a89982f": {
      "model_module": "@jupyter-widgets/controls",
      "model_module_version": "2.0.0",
      "model_name": "ProgressStyleModel",
      "state": {
       "_model_module": "@jupyter-widgets/controls",
       "_model_module_version": "2.0.0",
       "_model_name": "ProgressStyleModel",
       "_view_count": null,
       "_view_module": "@jupyter-widgets/base",
       "_view_module_version": "2.0.0",
       "_view_name": "StyleView",
       "bar_color": null,
       "description_width": ""
      }
     },
     "5758c325af6d41ebb17f6333af673492": {
      "model_module": "@jupyter-widgets/controls",
      "model_module_version": "2.0.0",
      "model_name": "HTMLStyleModel",
      "state": {
       "_model_module": "@jupyter-widgets/controls",
       "_model_module_version": "2.0.0",
       "_model_name": "HTMLStyleModel",
       "_view_count": null,
       "_view_module": "@jupyter-widgets/base",
       "_view_module_version": "2.0.0",
       "_view_name": "StyleView",
       "background": null,
       "description_width": "",
       "font_size": null,
       "text_color": null
      }
     },
     "5a85fa6536a3493f81ef8b91bee95d62": {
      "model_module": "@jupyter-widgets/base",
      "model_module_version": "2.0.0",
      "model_name": "LayoutModel",
      "state": {
       "_model_module": "@jupyter-widgets/base",
       "_model_module_version": "2.0.0",
       "_model_name": "LayoutModel",
       "_view_count": null,
       "_view_module": "@jupyter-widgets/base",
       "_view_module_version": "2.0.0",
       "_view_name": "LayoutView",
       "align_content": null,
       "align_items": null,
       "align_self": null,
       "border_bottom": null,
       "border_left": null,
       "border_right": null,
       "border_top": null,
       "bottom": null,
       "display": null,
       "flex": null,
       "flex_flow": null,
       "grid_area": null,
       "grid_auto_columns": null,
       "grid_auto_flow": null,
       "grid_auto_rows": null,
       "grid_column": null,
       "grid_gap": null,
       "grid_row": null,
       "grid_template_areas": null,
       "grid_template_columns": null,
       "grid_template_rows": null,
       "height": null,
       "justify_content": null,
       "justify_items": null,
       "left": null,
       "margin": null,
       "max_height": null,
       "max_width": null,
       "min_height": null,
       "min_width": null,
       "object_fit": null,
       "object_position": null,
       "order": null,
       "overflow": null,
       "padding": null,
       "right": null,
       "top": null,
       "visibility": null,
       "width": null
      }
     },
     "5b98aaf49b9546f3a5904cb10ddee642": {
      "model_module": "@jupyter-widgets/base",
      "model_module_version": "2.0.0",
      "model_name": "LayoutModel",
      "state": {
       "_model_module": "@jupyter-widgets/base",
       "_model_module_version": "2.0.0",
       "_model_name": "LayoutModel",
       "_view_count": null,
       "_view_module": "@jupyter-widgets/base",
       "_view_module_version": "2.0.0",
       "_view_name": "LayoutView",
       "align_content": null,
       "align_items": null,
       "align_self": null,
       "border_bottom": null,
       "border_left": null,
       "border_right": null,
       "border_top": null,
       "bottom": null,
       "display": null,
       "flex": null,
       "flex_flow": null,
       "grid_area": null,
       "grid_auto_columns": null,
       "grid_auto_flow": null,
       "grid_auto_rows": null,
       "grid_column": null,
       "grid_gap": null,
       "grid_row": null,
       "grid_template_areas": null,
       "grid_template_columns": null,
       "grid_template_rows": null,
       "height": null,
       "justify_content": null,
       "justify_items": null,
       "left": null,
       "margin": null,
       "max_height": null,
       "max_width": null,
       "min_height": null,
       "min_width": null,
       "object_fit": null,
       "object_position": null,
       "order": null,
       "overflow": null,
       "padding": null,
       "right": null,
       "top": null,
       "visibility": null,
       "width": null
      }
     },
     "5d9a20f1cb804958b21d6426d304994c": {
      "model_module": "@jupyter-widgets/base",
      "model_module_version": "2.0.0",
      "model_name": "LayoutModel",
      "state": {
       "_model_module": "@jupyter-widgets/base",
       "_model_module_version": "2.0.0",
       "_model_name": "LayoutModel",
       "_view_count": null,
       "_view_module": "@jupyter-widgets/base",
       "_view_module_version": "2.0.0",
       "_view_name": "LayoutView",
       "align_content": null,
       "align_items": null,
       "align_self": null,
       "border_bottom": null,
       "border_left": null,
       "border_right": null,
       "border_top": null,
       "bottom": null,
       "display": null,
       "flex": null,
       "flex_flow": null,
       "grid_area": null,
       "grid_auto_columns": null,
       "grid_auto_flow": null,
       "grid_auto_rows": null,
       "grid_column": null,
       "grid_gap": null,
       "grid_row": null,
       "grid_template_areas": null,
       "grid_template_columns": null,
       "grid_template_rows": null,
       "height": null,
       "justify_content": null,
       "justify_items": null,
       "left": null,
       "margin": null,
       "max_height": null,
       "max_width": null,
       "min_height": null,
       "min_width": null,
       "object_fit": null,
       "object_position": null,
       "order": null,
       "overflow": null,
       "padding": null,
       "right": null,
       "top": null,
       "visibility": null,
       "width": null
      }
     },
     "5dfbc225cbeb4ba9be99efe440395d4b": {
      "model_module": "@jupyter-widgets/controls",
      "model_module_version": "2.0.0",
      "model_name": "FloatProgressModel",
      "state": {
       "_dom_classes": [],
       "_model_module": "@jupyter-widgets/controls",
       "_model_module_version": "2.0.0",
       "_model_name": "FloatProgressModel",
       "_view_count": null,
       "_view_module": "@jupyter-widgets/controls",
       "_view_module_version": "2.0.0",
       "_view_name": "ProgressView",
       "bar_style": "success",
       "description": "",
       "description_allow_html": false,
       "layout": "IPY_MODEL_5d9a20f1cb804958b21d6426d304994c",
       "max": 215.0,
       "min": 0.0,
       "orientation": "horizontal",
       "style": "IPY_MODEL_d347fad0d53e4e04b5c61628baed18d9",
       "tabbable": null,
       "tooltip": null,
       "value": 215.0
      }
     },
     "61f131db5e1f4ce1a7720e2b7f93c20b": {
      "model_module": "@jupyter-widgets/controls",
      "model_module_version": "2.0.0",
      "model_name": "HTMLStyleModel",
      "state": {
       "_model_module": "@jupyter-widgets/controls",
       "_model_module_version": "2.0.0",
       "_model_name": "HTMLStyleModel",
       "_view_count": null,
       "_view_module": "@jupyter-widgets/base",
       "_view_module_version": "2.0.0",
       "_view_name": "StyleView",
       "background": null,
       "description_width": "",
       "font_size": null,
       "text_color": null
      }
     },
     "63a629f1e15c44b29ce94e9ad2ea95ac": {
      "model_module": "@jupyter-widgets/base",
      "model_module_version": "2.0.0",
      "model_name": "LayoutModel",
      "state": {
       "_model_module": "@jupyter-widgets/base",
       "_model_module_version": "2.0.0",
       "_model_name": "LayoutModel",
       "_view_count": null,
       "_view_module": "@jupyter-widgets/base",
       "_view_module_version": "2.0.0",
       "_view_name": "LayoutView",
       "align_content": null,
       "align_items": null,
       "align_self": null,
       "border_bottom": null,
       "border_left": null,
       "border_right": null,
       "border_top": null,
       "bottom": null,
       "display": null,
       "flex": null,
       "flex_flow": null,
       "grid_area": null,
       "grid_auto_columns": null,
       "grid_auto_flow": null,
       "grid_auto_rows": null,
       "grid_column": null,
       "grid_gap": null,
       "grid_row": null,
       "grid_template_areas": null,
       "grid_template_columns": null,
       "grid_template_rows": null,
       "height": null,
       "justify_content": null,
       "justify_items": null,
       "left": null,
       "margin": null,
       "max_height": null,
       "max_width": null,
       "min_height": null,
       "min_width": null,
       "object_fit": null,
       "object_position": null,
       "order": null,
       "overflow": null,
       "padding": null,
       "right": null,
       "top": null,
       "visibility": null,
       "width": null
      }
     },
     "64e44f1271594b3db023038d10c35818": {
      "model_module": "@jupyter-widgets/controls",
      "model_module_version": "2.0.0",
      "model_name": "ProgressStyleModel",
      "state": {
       "_model_module": "@jupyter-widgets/controls",
       "_model_module_version": "2.0.0",
       "_model_name": "ProgressStyleModel",
       "_view_count": null,
       "_view_module": "@jupyter-widgets/base",
       "_view_module_version": "2.0.0",
       "_view_name": "StyleView",
       "bar_color": null,
       "description_width": ""
      }
     },
     "699eecf74f9a46d3a0fa490b2792c080": {
      "model_module": "@jupyter-widgets/controls",
      "model_module_version": "2.0.0",
      "model_name": "HTMLStyleModel",
      "state": {
       "_model_module": "@jupyter-widgets/controls",
       "_model_module_version": "2.0.0",
       "_model_name": "HTMLStyleModel",
       "_view_count": null,
       "_view_module": "@jupyter-widgets/base",
       "_view_module_version": "2.0.0",
       "_view_name": "StyleView",
       "background": null,
       "description_width": "",
       "font_size": null,
       "text_color": null
      }
     },
     "6a6997af07464bc3b23ad9d06175678c": {
      "model_module": "@jupyter-widgets/controls",
      "model_module_version": "2.0.0",
      "model_name": "HTMLStyleModel",
      "state": {
       "_model_module": "@jupyter-widgets/controls",
       "_model_module_version": "2.0.0",
       "_model_name": "HTMLStyleModel",
       "_view_count": null,
       "_view_module": "@jupyter-widgets/base",
       "_view_module_version": "2.0.0",
       "_view_name": "StyleView",
       "background": null,
       "description_width": "",
       "font_size": null,
       "text_color": null
      }
     },
     "6d285da243414f7193346a72350a9484": {
      "model_module": "@jupyter-widgets/controls",
      "model_module_version": "2.0.0",
      "model_name": "HTMLStyleModel",
      "state": {
       "_model_module": "@jupyter-widgets/controls",
       "_model_module_version": "2.0.0",
       "_model_name": "HTMLStyleModel",
       "_view_count": null,
       "_view_module": "@jupyter-widgets/base",
       "_view_module_version": "2.0.0",
       "_view_name": "StyleView",
       "background": null,
       "description_width": "",
       "font_size": null,
       "text_color": null
      }
     },
     "6df606f48b724e3db813b73a9267de9b": {
      "model_module": "@jupyter-widgets/controls",
      "model_module_version": "2.0.0",
      "model_name": "HTMLModel",
      "state": {
       "_dom_classes": [],
       "_model_module": "@jupyter-widgets/controls",
       "_model_module_version": "2.0.0",
       "_model_name": "HTMLModel",
       "_view_count": null,
       "_view_module": "@jupyter-widgets/controls",
       "_view_module_version": "2.0.0",
       "_view_name": "HTMLView",
       "description": "",
       "description_allow_html": false,
       "layout": "IPY_MODEL_fefb604c990e43919afb6d68b21dc2fc",
       "placeholder": "​",
       "style": "IPY_MODEL_dddfae3419744d62a3a0b142c85cd8e8",
       "tabbable": null,
       "tooltip": null,
       "value": "Downloading builder script: 100%"
      }
     },
     "6e6fecda01b3498fb52a3f3d32a18240": {
      "model_module": "@jupyter-widgets/base",
      "model_module_version": "2.0.0",
      "model_name": "LayoutModel",
      "state": {
       "_model_module": "@jupyter-widgets/base",
       "_model_module_version": "2.0.0",
       "_model_name": "LayoutModel",
       "_view_count": null,
       "_view_module": "@jupyter-widgets/base",
       "_view_module_version": "2.0.0",
       "_view_name": "LayoutView",
       "align_content": null,
       "align_items": null,
       "align_self": null,
       "border_bottom": null,
       "border_left": null,
       "border_right": null,
       "border_top": null,
       "bottom": null,
       "display": null,
       "flex": null,
       "flex_flow": null,
       "grid_area": null,
       "grid_auto_columns": null,
       "grid_auto_flow": null,
       "grid_auto_rows": null,
       "grid_column": null,
       "grid_gap": null,
       "grid_row": null,
       "grid_template_areas": null,
       "grid_template_columns": null,
       "grid_template_rows": null,
       "height": null,
       "justify_content": null,
       "justify_items": null,
       "left": null,
       "margin": null,
       "max_height": null,
       "max_width": null,
       "min_height": null,
       "min_width": null,
       "object_fit": null,
       "object_position": null,
       "order": null,
       "overflow": null,
       "padding": null,
       "right": null,
       "top": null,
       "visibility": null,
       "width": null
      }
     },
     "758d656a4cd34016974acc1c1adb1547": {
      "model_module": "@jupyter-widgets/controls",
      "model_module_version": "2.0.0",
      "model_name": "HTMLStyleModel",
      "state": {
       "_model_module": "@jupyter-widgets/controls",
       "_model_module_version": "2.0.0",
       "_model_name": "HTMLStyleModel",
       "_view_count": null,
       "_view_module": "@jupyter-widgets/base",
       "_view_module_version": "2.0.0",
       "_view_name": "StyleView",
       "background": null,
       "description_width": "",
       "font_size": null,
       "text_color": null
      }
     },
     "771a519bf8274908bd012ceed867b098": {
      "model_module": "@jupyter-widgets/controls",
      "model_module_version": "2.0.0",
      "model_name": "HTMLStyleModel",
      "state": {
       "_model_module": "@jupyter-widgets/controls",
       "_model_module_version": "2.0.0",
       "_model_name": "HTMLStyleModel",
       "_view_count": null,
       "_view_module": "@jupyter-widgets/base",
       "_view_module_version": "2.0.0",
       "_view_name": "StyleView",
       "background": null,
       "description_width": "",
       "font_size": null,
       "text_color": null
      }
     },
     "7af0ae984da8422ea395c6896d96844f": {
      "model_module": "@jupyter-widgets/controls",
      "model_module_version": "2.0.0",
      "model_name": "HTMLStyleModel",
      "state": {
       "_model_module": "@jupyter-widgets/controls",
       "_model_module_version": "2.0.0",
       "_model_name": "HTMLStyleModel",
       "_view_count": null,
       "_view_module": "@jupyter-widgets/base",
       "_view_module_version": "2.0.0",
       "_view_name": "StyleView",
       "background": null,
       "description_width": "",
       "font_size": null,
       "text_color": null
      }
     },
     "7cced25036254ff58969aad3b2e5fc47": {
      "model_module": "@jupyter-widgets/base",
      "model_module_version": "2.0.0",
      "model_name": "LayoutModel",
      "state": {
       "_model_module": "@jupyter-widgets/base",
       "_model_module_version": "2.0.0",
       "_model_name": "LayoutModel",
       "_view_count": null,
       "_view_module": "@jupyter-widgets/base",
       "_view_module_version": "2.0.0",
       "_view_name": "LayoutView",
       "align_content": null,
       "align_items": null,
       "align_self": null,
       "border_bottom": null,
       "border_left": null,
       "border_right": null,
       "border_top": null,
       "bottom": null,
       "display": null,
       "flex": null,
       "flex_flow": null,
       "grid_area": null,
       "grid_auto_columns": null,
       "grid_auto_flow": null,
       "grid_auto_rows": null,
       "grid_column": null,
       "grid_gap": null,
       "grid_row": null,
       "grid_template_areas": null,
       "grid_template_columns": null,
       "grid_template_rows": null,
       "height": null,
       "justify_content": null,
       "justify_items": null,
       "left": null,
       "margin": null,
       "max_height": null,
       "max_width": null,
       "min_height": null,
       "min_width": null,
       "object_fit": null,
       "object_position": null,
       "order": null,
       "overflow": null,
       "padding": null,
       "right": null,
       "top": null,
       "visibility": null,
       "width": null
      }
     },
     "89a4616a74df49b8aa7a00ce540c987f": {
      "model_module": "@jupyter-widgets/base",
      "model_module_version": "2.0.0",
      "model_name": "LayoutModel",
      "state": {
       "_model_module": "@jupyter-widgets/base",
       "_model_module_version": "2.0.0",
       "_model_name": "LayoutModel",
       "_view_count": null,
       "_view_module": "@jupyter-widgets/base",
       "_view_module_version": "2.0.0",
       "_view_name": "LayoutView",
       "align_content": null,
       "align_items": null,
       "align_self": null,
       "border_bottom": null,
       "border_left": null,
       "border_right": null,
       "border_top": null,
       "bottom": null,
       "display": null,
       "flex": null,
       "flex_flow": null,
       "grid_area": null,
       "grid_auto_columns": null,
       "grid_auto_flow": null,
       "grid_auto_rows": null,
       "grid_column": null,
       "grid_gap": null,
       "grid_row": null,
       "grid_template_areas": null,
       "grid_template_columns": null,
       "grid_template_rows": null,
       "height": null,
       "justify_content": null,
       "justify_items": null,
       "left": null,
       "margin": null,
       "max_height": null,
       "max_width": null,
       "min_height": null,
       "min_width": null,
       "object_fit": null,
       "object_position": null,
       "order": null,
       "overflow": null,
       "padding": null,
       "right": null,
       "top": null,
       "visibility": null,
       "width": null
      }
     },
     "8ca82cfcade54b958dda43895f7aca78": {
      "model_module": "@jupyter-widgets/base",
      "model_module_version": "2.0.0",
      "model_name": "LayoutModel",
      "state": {
       "_model_module": "@jupyter-widgets/base",
       "_model_module_version": "2.0.0",
       "_model_name": "LayoutModel",
       "_view_count": null,
       "_view_module": "@jupyter-widgets/base",
       "_view_module_version": "2.0.0",
       "_view_name": "LayoutView",
       "align_content": null,
       "align_items": null,
       "align_self": null,
       "border_bottom": null,
       "border_left": null,
       "border_right": null,
       "border_top": null,
       "bottom": null,
       "display": null,
       "flex": null,
       "flex_flow": null,
       "grid_area": null,
       "grid_auto_columns": null,
       "grid_auto_flow": null,
       "grid_auto_rows": null,
       "grid_column": null,
       "grid_gap": null,
       "grid_row": null,
       "grid_template_areas": null,
       "grid_template_columns": null,
       "grid_template_rows": null,
       "height": null,
       "justify_content": null,
       "justify_items": null,
       "left": null,
       "margin": null,
       "max_height": null,
       "max_width": null,
       "min_height": null,
       "min_width": null,
       "object_fit": null,
       "object_position": null,
       "order": null,
       "overflow": null,
       "padding": null,
       "right": null,
       "top": null,
       "visibility": null,
       "width": null
      }
     },
     "8ee9eaa548174e79a0edf8a063513a69": {
      "model_module": "@jupyter-widgets/controls",
      "model_module_version": "2.0.0",
      "model_name": "HBoxModel",
      "state": {
       "_dom_classes": [],
       "_model_module": "@jupyter-widgets/controls",
       "_model_module_version": "2.0.0",
       "_model_name": "HBoxModel",
       "_view_count": null,
       "_view_module": "@jupyter-widgets/controls",
       "_view_module_version": "2.0.0",
       "_view_name": "HBoxView",
       "box_style": "",
       "children": [
        "IPY_MODEL_f1b5ba6ffeb349e1bc7309a4fec6d962",
        "IPY_MODEL_53c761cf43c044c5b8c6a240b46b7f0b",
        "IPY_MODEL_188f3b7cdd154a92b450645ea57d1968"
       ],
       "layout": "IPY_MODEL_a5e891b0dade4c7c8bbe16de9df685e2",
       "tabbable": null,
       "tooltip": null
      }
     },
     "900bb19e5322443382725f51625b3006": {
      "model_module": "@jupyter-widgets/base",
      "model_module_version": "2.0.0",
      "model_name": "LayoutModel",
      "state": {
       "_model_module": "@jupyter-widgets/base",
       "_model_module_version": "2.0.0",
       "_model_name": "LayoutModel",
       "_view_count": null,
       "_view_module": "@jupyter-widgets/base",
       "_view_module_version": "2.0.0",
       "_view_name": "LayoutView",
       "align_content": null,
       "align_items": null,
       "align_self": null,
       "border_bottom": null,
       "border_left": null,
       "border_right": null,
       "border_top": null,
       "bottom": null,
       "display": null,
       "flex": null,
       "flex_flow": null,
       "grid_area": null,
       "grid_auto_columns": null,
       "grid_auto_flow": null,
       "grid_auto_rows": null,
       "grid_column": null,
       "grid_gap": null,
       "grid_row": null,
       "grid_template_areas": null,
       "grid_template_columns": null,
       "grid_template_rows": null,
       "height": null,
       "justify_content": null,
       "justify_items": null,
       "left": null,
       "margin": null,
       "max_height": null,
       "max_width": null,
       "min_height": null,
       "min_width": null,
       "object_fit": null,
       "object_position": null,
       "order": null,
       "overflow": null,
       "padding": null,
       "right": null,
       "top": null,
       "visibility": null,
       "width": null
      }
     },
     "944ad176f72b4b64aabc6b0f2fbce5e6": {
      "model_module": "@jupyter-widgets/base",
      "model_module_version": "2.0.0",
      "model_name": "LayoutModel",
      "state": {
       "_model_module": "@jupyter-widgets/base",
       "_model_module_version": "2.0.0",
       "_model_name": "LayoutModel",
       "_view_count": null,
       "_view_module": "@jupyter-widgets/base",
       "_view_module_version": "2.0.0",
       "_view_name": "LayoutView",
       "align_content": null,
       "align_items": null,
       "align_self": null,
       "border_bottom": null,
       "border_left": null,
       "border_right": null,
       "border_top": null,
       "bottom": null,
       "display": null,
       "flex": null,
       "flex_flow": null,
       "grid_area": null,
       "grid_auto_columns": null,
       "grid_auto_flow": null,
       "grid_auto_rows": null,
       "grid_column": null,
       "grid_gap": null,
       "grid_row": null,
       "grid_template_areas": null,
       "grid_template_columns": null,
       "grid_template_rows": null,
       "height": null,
       "justify_content": null,
       "justify_items": null,
       "left": null,
       "margin": null,
       "max_height": null,
       "max_width": null,
       "min_height": null,
       "min_width": null,
       "object_fit": null,
       "object_position": null,
       "order": null,
       "overflow": null,
       "padding": null,
       "right": null,
       "top": null,
       "visibility": null,
       "width": null
      }
     },
     "948a78662b9041e3ba2211f18913fd43": {
      "model_module": "@jupyter-widgets/controls",
      "model_module_version": "2.0.0",
      "model_name": "FloatProgressModel",
      "state": {
       "_dom_classes": [],
       "_model_module": "@jupyter-widgets/controls",
       "_model_module_version": "2.0.0",
       "_model_name": "FloatProgressModel",
       "_view_count": null,
       "_view_module": "@jupyter-widgets/controls",
       "_view_module_version": "2.0.0",
       "_view_name": "ProgressView",
       "bar_style": "success",
       "description": "",
       "description_allow_html": false,
       "layout": "IPY_MODEL_e0e5a6a01dde4a498696da283be38be1",
       "max": 85.0,
       "min": 0.0,
       "orientation": "horizontal",
       "style": "IPY_MODEL_64e44f1271594b3db023038d10c35818",
       "tabbable": null,
       "tooltip": null,
       "value": 85.0
      }
     },
     "948e9987869a49848407346ef2fdb4ce": {
      "model_module": "@jupyter-widgets/base",
      "model_module_version": "2.0.0",
      "model_name": "LayoutModel",
      "state": {
       "_model_module": "@jupyter-widgets/base",
       "_model_module_version": "2.0.0",
       "_model_name": "LayoutModel",
       "_view_count": null,
       "_view_module": "@jupyter-widgets/base",
       "_view_module_version": "2.0.0",
       "_view_name": "LayoutView",
       "align_content": null,
       "align_items": null,
       "align_self": null,
       "border_bottom": null,
       "border_left": null,
       "border_right": null,
       "border_top": null,
       "bottom": null,
       "display": null,
       "flex": null,
       "flex_flow": null,
       "grid_area": null,
       "grid_auto_columns": null,
       "grid_auto_flow": null,
       "grid_auto_rows": null,
       "grid_column": null,
       "grid_gap": null,
       "grid_row": null,
       "grid_template_areas": null,
       "grid_template_columns": null,
       "grid_template_rows": null,
       "height": null,
       "justify_content": null,
       "justify_items": null,
       "left": null,
       "margin": null,
       "max_height": null,
       "max_width": null,
       "min_height": null,
       "min_width": null,
       "object_fit": null,
       "object_position": null,
       "order": null,
       "overflow": null,
       "padding": null,
       "right": null,
       "top": null,
       "visibility": null,
       "width": null
      }
     },
     "99f6dd9531e64c2d83f173689bff7d68": {
      "model_module": "@jupyter-widgets/controls",
      "model_module_version": "2.0.0",
      "model_name": "FloatProgressModel",
      "state": {
       "_dom_classes": [],
       "_model_module": "@jupyter-widgets/controls",
       "_model_module_version": "2.0.0",
       "_model_name": "FloatProgressModel",
       "_view_count": null,
       "_view_module": "@jupyter-widgets/controls",
       "_view_module_version": "2.0.0",
       "_view_name": "ProgressView",
       "bar_style": "success",
       "description": "",
       "description_allow_html": false,
       "layout": "IPY_MODEL_0a2f6f583f9a407195b8a1a3b7136129",
       "max": 15165.0,
       "min": 0.0,
       "orientation": "horizontal",
       "style": "IPY_MODEL_f8b20caf9d8f48f4b489bfd314dbbe3c",
       "tabbable": null,
       "tooltip": null,
       "value": 15165.0
      }
     },
     "9b071f0c55e84796b9e4c02760b824ea": {
      "model_module": "@jupyter-widgets/controls",
      "model_module_version": "2.0.0",
      "model_name": "HTMLModel",
      "state": {
       "_dom_classes": [],
       "_model_module": "@jupyter-widgets/controls",
       "_model_module_version": "2.0.0",
       "_model_name": "HTMLModel",
       "_view_count": null,
       "_view_module": "@jupyter-widgets/controls",
       "_view_module_version": "2.0.0",
       "_view_name": "HTMLView",
       "description": "",
       "description_allow_html": false,
       "layout": "IPY_MODEL_03f42edea8d94ea7a466d81d0e9c2ef0",
       "placeholder": "​",
       "style": "IPY_MODEL_61f131db5e1f4ce1a7720e2b7f93c20b",
       "tabbable": null,
       "tooltip": null,
       "value": "preprocessor_config.json: 100%"
      }
     },
     "9cf3940c461c4a5783ade06a58193075": {
      "model_module": "@jupyter-widgets/base",
      "model_module_version": "2.0.0",
      "model_name": "LayoutModel",
      "state": {
       "_model_module": "@jupyter-widgets/base",
       "_model_module_version": "2.0.0",
       "_model_name": "LayoutModel",
       "_view_count": null,
       "_view_module": "@jupyter-widgets/base",
       "_view_module_version": "2.0.0",
       "_view_name": "LayoutView",
       "align_content": null,
       "align_items": null,
       "align_self": null,
       "border_bottom": null,
       "border_left": null,
       "border_right": null,
       "border_top": null,
       "bottom": null,
       "display": null,
       "flex": null,
       "flex_flow": null,
       "grid_area": null,
       "grid_auto_columns": null,
       "grid_auto_flow": null,
       "grid_auto_rows": null,
       "grid_column": null,
       "grid_gap": null,
       "grid_row": null,
       "grid_template_areas": null,
       "grid_template_columns": null,
       "grid_template_rows": null,
       "height": null,
       "justify_content": null,
       "justify_items": null,
       "left": null,
       "margin": null,
       "max_height": null,
       "max_width": null,
       "min_height": null,
       "min_width": null,
       "object_fit": null,
       "object_position": null,
       "order": null,
       "overflow": null,
       "padding": null,
       "right": null,
       "top": null,
       "visibility": null,
       "width": null
      }
     },
     "a3e327f35050494e9b23e9867bc5125b": {
      "model_module": "@jupyter-widgets/controls",
      "model_module_version": "2.0.0",
      "model_name": "HTMLModel",
      "state": {
       "_dom_classes": [],
       "_model_module": "@jupyter-widgets/controls",
       "_model_module_version": "2.0.0",
       "_model_name": "HTMLModel",
       "_view_count": null,
       "_view_module": "@jupyter-widgets/controls",
       "_view_module_version": "2.0.0",
       "_view_name": "HTMLView",
       "description": "",
       "description_allow_html": false,
       "layout": "IPY_MODEL_900bb19e5322443382725f51625b3006",
       "placeholder": "​",
       "style": "IPY_MODEL_7af0ae984da8422ea395c6896d96844f",
       "tabbable": null,
       "tooltip": null,
       "value": " 4.49k/4.49k [00:00&lt;00:00, 594kB/s]"
      }
     },
     "a5e891b0dade4c7c8bbe16de9df685e2": {
      "model_module": "@jupyter-widgets/base",
      "model_module_version": "2.0.0",
      "model_name": "LayoutModel",
      "state": {
       "_model_module": "@jupyter-widgets/base",
       "_model_module_version": "2.0.0",
       "_model_name": "LayoutModel",
       "_view_count": null,
       "_view_module": "@jupyter-widgets/base",
       "_view_module_version": "2.0.0",
       "_view_name": "LayoutView",
       "align_content": null,
       "align_items": null,
       "align_self": null,
       "border_bottom": null,
       "border_left": null,
       "border_right": null,
       "border_top": null,
       "bottom": null,
       "display": null,
       "flex": null,
       "flex_flow": null,
       "grid_area": null,
       "grid_auto_columns": null,
       "grid_auto_flow": null,
       "grid_auto_rows": null,
       "grid_column": null,
       "grid_gap": null,
       "grid_row": null,
       "grid_template_areas": null,
       "grid_template_columns": null,
       "grid_template_rows": null,
       "height": null,
       "justify_content": null,
       "justify_items": null,
       "left": null,
       "margin": null,
       "max_height": null,
       "max_width": null,
       "min_height": null,
       "min_width": null,
       "object_fit": null,
       "object_position": null,
       "order": null,
       "overflow": null,
       "padding": null,
       "right": null,
       "top": null,
       "visibility": null,
       "width": null
      }
     },
     "a777ff263a1e455abd762010bc097379": {
      "model_module": "@jupyter-widgets/controls",
      "model_module_version": "2.0.0",
      "model_name": "HBoxModel",
      "state": {
       "_dom_classes": [],
       "_model_module": "@jupyter-widgets/controls",
       "_model_module_version": "2.0.0",
       "_model_name": "HBoxModel",
       "_view_count": null,
       "_view_module": "@jupyter-widgets/controls",
       "_view_module_version": "2.0.0",
       "_view_name": "HBoxView",
       "box_style": "",
       "children": [
        "IPY_MODEL_9b071f0c55e84796b9e4c02760b824ea",
        "IPY_MODEL_5dfbc225cbeb4ba9be99efe440395d4b",
        "IPY_MODEL_0b69cc067e5048108e1b813c89eb4609"
       ],
       "layout": "IPY_MODEL_ae452d0fe1ca4ee2836f2dbb38797451",
       "tabbable": null,
       "tooltip": null
      }
     },
     "a87490f1aee14562ac1d5573c5b25e24": {
      "model_module": "@jupyter-widgets/controls",
      "model_module_version": "2.0.0",
      "model_name": "HTMLModel",
      "state": {
       "_dom_classes": [],
       "_model_module": "@jupyter-widgets/controls",
       "_model_module_version": "2.0.0",
       "_model_name": "HTMLModel",
       "_view_count": null,
       "_view_module": "@jupyter-widgets/controls",
       "_view_module_version": "2.0.0",
       "_view_name": "HTMLView",
       "description": "",
       "description_allow_html": false,
       "layout": "IPY_MODEL_c665c9d1cc264512bff12f003ce4b4ab",
       "placeholder": "​",
       "style": "IPY_MODEL_a926580cec5543e2a7d4665e0b0b0aa7",
       "tabbable": null,
       "tooltip": null,
       "value": "Map: 100%"
      }
     },
     "a8856b85824c402ea0247efbf02c63a6": {
      "model_module": "@jupyter-widgets/controls",
      "model_module_version": "2.0.0",
      "model_name": "HTMLModel",
      "state": {
       "_dom_classes": [],
       "_model_module": "@jupyter-widgets/controls",
       "_model_module_version": "2.0.0",
       "_model_name": "HTMLModel",
       "_view_count": null,
       "_view_module": "@jupyter-widgets/controls",
       "_view_module_version": "2.0.0",
       "_view_name": "HTMLView",
       "description": "",
       "description_allow_html": false,
       "layout": "IPY_MODEL_7cced25036254ff58969aad3b2e5fc47",
       "placeholder": "​",
       "style": "IPY_MODEL_6a6997af07464bc3b23ad9d06175678c",
       "tabbable": null,
       "tooltip": null,
       "value": "vocab.json: 100%"
      }
     },
     "a926580cec5543e2a7d4665e0b0b0aa7": {
      "model_module": "@jupyter-widgets/controls",
      "model_module_version": "2.0.0",
      "model_name": "HTMLStyleModel",
      "state": {
       "_model_module": "@jupyter-widgets/controls",
       "_model_module_version": "2.0.0",
       "_model_name": "HTMLStyleModel",
       "_view_count": null,
       "_view_module": "@jupyter-widgets/base",
       "_view_module_version": "2.0.0",
       "_view_name": "StyleView",
       "background": null,
       "description_width": "",
       "font_size": null,
       "text_color": null
      }
     },
     "a9a57bddc29e40309f2aa70a2dcf5662": {
      "model_module": "@jupyter-widgets/base",
      "model_module_version": "2.0.0",
      "model_name": "LayoutModel",
      "state": {
       "_model_module": "@jupyter-widgets/base",
       "_model_module_version": "2.0.0",
       "_model_name": "LayoutModel",
       "_view_count": null,
       "_view_module": "@jupyter-widgets/base",
       "_view_module_version": "2.0.0",
       "_view_name": "LayoutView",
       "align_content": null,
       "align_items": null,
       "align_self": null,
       "border_bottom": null,
       "border_left": null,
       "border_right": null,
       "border_top": null,
       "bottom": null,
       "display": null,
       "flex": null,
       "flex_flow": null,
       "grid_area": null,
       "grid_auto_columns": null,
       "grid_auto_flow": null,
       "grid_auto_rows": null,
       "grid_column": null,
       "grid_gap": null,
       "grid_row": null,
       "grid_template_areas": null,
       "grid_template_columns": null,
       "grid_template_rows": null,
       "height": null,
       "justify_content": null,
       "justify_items": null,
       "left": null,
       "margin": null,
       "max_height": null,
       "max_width": null,
       "min_height": null,
       "min_width": null,
       "object_fit": null,
       "object_position": null,
       "order": null,
       "overflow": null,
       "padding": null,
       "right": null,
       "top": null,
       "visibility": null,
       "width": null
      }
     },
     "aa93290b9112411c92d75d2fdf38b242": {
      "model_module": "@jupyter-widgets/controls",
      "model_module_version": "2.0.0",
      "model_name": "HTMLStyleModel",
      "state": {
       "_model_module": "@jupyter-widgets/controls",
       "_model_module_version": "2.0.0",
       "_model_name": "HTMLStyleModel",
       "_view_count": null,
       "_view_module": "@jupyter-widgets/base",
       "_view_module_version": "2.0.0",
       "_view_name": "StyleView",
       "background": null,
       "description_width": "",
       "font_size": null,
       "text_color": null
      }
     },
     "ae452d0fe1ca4ee2836f2dbb38797451": {
      "model_module": "@jupyter-widgets/base",
      "model_module_version": "2.0.0",
      "model_name": "LayoutModel",
      "state": {
       "_model_module": "@jupyter-widgets/base",
       "_model_module_version": "2.0.0",
       "_model_name": "LayoutModel",
       "_view_count": null,
       "_view_module": "@jupyter-widgets/base",
       "_view_module_version": "2.0.0",
       "_view_name": "LayoutView",
       "align_content": null,
       "align_items": null,
       "align_self": null,
       "border_bottom": null,
       "border_left": null,
       "border_right": null,
       "border_top": null,
       "bottom": null,
       "display": null,
       "flex": null,
       "flex_flow": null,
       "grid_area": null,
       "grid_auto_columns": null,
       "grid_auto_flow": null,
       "grid_auto_rows": null,
       "grid_column": null,
       "grid_gap": null,
       "grid_row": null,
       "grid_template_areas": null,
       "grid_template_columns": null,
       "grid_template_rows": null,
       "height": null,
       "justify_content": null,
       "justify_items": null,
       "left": null,
       "margin": null,
       "max_height": null,
       "max_width": null,
       "min_height": null,
       "min_width": null,
       "object_fit": null,
       "object_position": null,
       "order": null,
       "overflow": null,
       "padding": null,
       "right": null,
       "top": null,
       "visibility": null,
       "width": null
      }
     },
     "ae742ae9154447a3a4d85b8da42ee58b": {
      "model_module": "@jupyter-widgets/base",
      "model_module_version": "2.0.0",
      "model_name": "LayoutModel",
      "state": {
       "_model_module": "@jupyter-widgets/base",
       "_model_module_version": "2.0.0",
       "_model_name": "LayoutModel",
       "_view_count": null,
       "_view_module": "@jupyter-widgets/base",
       "_view_module_version": "2.0.0",
       "_view_name": "LayoutView",
       "align_content": null,
       "align_items": null,
       "align_self": null,
       "border_bottom": null,
       "border_left": null,
       "border_right": null,
       "border_top": null,
       "bottom": null,
       "display": null,
       "flex": null,
       "flex_flow": null,
       "grid_area": null,
       "grid_auto_columns": null,
       "grid_auto_flow": null,
       "grid_auto_rows": null,
       "grid_column": null,
       "grid_gap": null,
       "grid_row": null,
       "grid_template_areas": null,
       "grid_template_columns": null,
       "grid_template_rows": null,
       "height": null,
       "justify_content": null,
       "justify_items": null,
       "left": null,
       "margin": null,
       "max_height": null,
       "max_width": null,
       "min_height": null,
       "min_width": null,
       "object_fit": null,
       "object_position": null,
       "order": null,
       "overflow": null,
       "padding": null,
       "right": null,
       "top": null,
       "visibility": null,
       "width": null
      }
     },
     "af81a74e15bc457e9e9426a3df0d4b5d": {
      "model_module": "@jupyter-widgets/controls",
      "model_module_version": "2.0.0",
      "model_name": "HTMLModel",
      "state": {
       "_dom_classes": [],
       "_model_module": "@jupyter-widgets/controls",
       "_model_module_version": "2.0.0",
       "_model_name": "HTMLModel",
       "_view_count": null,
       "_view_module": "@jupyter-widgets/controls",
       "_view_module_version": "2.0.0",
       "_view_name": "HTMLView",
       "description": "",
       "description_allow_html": false,
       "layout": "IPY_MODEL_5a85fa6536a3493f81ef8b91bee95d62",
       "placeholder": "​",
       "style": "IPY_MODEL_be9e92b854d34cf28e3a05725af505e5",
       "tabbable": null,
       "tooltip": null,
       "value": "special_tokens_map.json: 100%"
      }
     },
     "b5249ab1a12f45b39b9b7a7bab99b9bc": {
      "model_module": "@jupyter-widgets/controls",
      "model_module_version": "2.0.0",
      "model_name": "HTMLModel",
      "state": {
       "_dom_classes": [],
       "_model_module": "@jupyter-widgets/controls",
       "_model_module_version": "2.0.0",
       "_model_name": "HTMLModel",
       "_view_count": null,
       "_view_module": "@jupyter-widgets/controls",
       "_view_module_version": "2.0.0",
       "_view_name": "HTMLView",
       "description": "",
       "description_allow_html": false,
       "layout": "IPY_MODEL_1a0b0eea51ec479c824b35b08489bc35",
       "placeholder": "​",
       "style": "IPY_MODEL_ed2967b5c30749829d771410b16eccb1",
       "tabbable": null,
       "tooltip": null,
       "value": " 85.0/85.0 [00:00&lt;00:00, 10.9kB/s]"
      }
     },
     "b6d43ff54d894558b78ba37426d5fcb5": {
      "model_module": "@jupyter-widgets/base",
      "model_module_version": "2.0.0",
      "model_name": "LayoutModel",
      "state": {
       "_model_module": "@jupyter-widgets/base",
       "_model_module_version": "2.0.0",
       "_model_name": "LayoutModel",
       "_view_count": null,
       "_view_module": "@jupyter-widgets/base",
       "_view_module_version": "2.0.0",
       "_view_name": "LayoutView",
       "align_content": null,
       "align_items": null,
       "align_self": null,
       "border_bottom": null,
       "border_left": null,
       "border_right": null,
       "border_top": null,
       "bottom": null,
       "display": null,
       "flex": null,
       "flex_flow": null,
       "grid_area": null,
       "grid_auto_columns": null,
       "grid_auto_flow": null,
       "grid_auto_rows": null,
       "grid_column": null,
       "grid_gap": null,
       "grid_row": null,
       "grid_template_areas": null,
       "grid_template_columns": null,
       "grid_template_rows": null,
       "height": null,
       "justify_content": null,
       "justify_items": null,
       "left": null,
       "margin": null,
       "max_height": null,
       "max_width": null,
       "min_height": null,
       "min_width": null,
       "object_fit": null,
       "object_position": null,
       "order": null,
       "overflow": null,
       "padding": null,
       "right": null,
       "top": null,
       "visibility": null,
       "width": null
      }
     },
     "b8d84571682c4b9fa1ba5d4ddbd56438": {
      "model_module": "@jupyter-widgets/base",
      "model_module_version": "2.0.0",
      "model_name": "LayoutModel",
      "state": {
       "_model_module": "@jupyter-widgets/base",
       "_model_module_version": "2.0.0",
       "_model_name": "LayoutModel",
       "_view_count": null,
       "_view_module": "@jupyter-widgets/base",
       "_view_module_version": "2.0.0",
       "_view_name": "LayoutView",
       "align_content": null,
       "align_items": null,
       "align_self": null,
       "border_bottom": null,
       "border_left": null,
       "border_right": null,
       "border_top": null,
       "bottom": null,
       "display": null,
       "flex": null,
       "flex_flow": null,
       "grid_area": null,
       "grid_auto_columns": null,
       "grid_auto_flow": null,
       "grid_auto_rows": null,
       "grid_column": null,
       "grid_gap": null,
       "grid_row": null,
       "grid_template_areas": null,
       "grid_template_columns": null,
       "grid_template_rows": null,
       "height": null,
       "justify_content": null,
       "justify_items": null,
       "left": null,
       "margin": null,
       "max_height": null,
       "max_width": null,
       "min_height": null,
       "min_width": null,
       "object_fit": null,
       "object_position": null,
       "order": null,
       "overflow": null,
       "padding": null,
       "right": null,
       "top": null,
       "visibility": null,
       "width": null
      }
     },
     "b9b3bcb421e14a98a8e26004422dbddb": {
      "model_module": "@jupyter-widgets/controls",
      "model_module_version": "2.0.0",
      "model_name": "FloatProgressModel",
      "state": {
       "_dom_classes": [],
       "_model_module": "@jupyter-widgets/controls",
       "_model_module_version": "2.0.0",
       "_model_name": "FloatProgressModel",
       "_view_count": null,
       "_view_module": "@jupyter-widgets/controls",
       "_view_module_version": "2.0.0",
       "_view_name": "ProgressView",
       "bar_style": "success",
       "description": "",
       "description_allow_html": false,
       "layout": "IPY_MODEL_f9bc04eefd19405f9550e3fc653b9ee3",
       "max": 1114.0,
       "min": 0.0,
       "orientation": "horizontal",
       "style": "IPY_MODEL_4443cfb12d174ad9ae971c4e58d34c4c",
       "tabbable": null,
       "tooltip": null,
       "value": 1114.0
      }
     },
     "bbe53978bcd34fc5ad88a34119e82fa0": {
      "model_module": "@jupyter-widgets/controls",
      "model_module_version": "2.0.0",
      "model_name": "HTMLModel",
      "state": {
       "_dom_classes": [],
       "_model_module": "@jupyter-widgets/controls",
       "_model_module_version": "2.0.0",
       "_model_name": "HTMLModel",
       "_view_count": null,
       "_view_module": "@jupyter-widgets/controls",
       "_view_module_version": "2.0.0",
       "_view_name": "HTMLView",
       "description": "",
       "description_allow_html": false,
       "layout": "IPY_MODEL_1a0d5665b638487cb68ca3a508fd80b0",
       "placeholder": "​",
       "style": "IPY_MODEL_6d285da243414f7193346a72350a9484",
       "tabbable": null,
       "tooltip": null,
       "value": "config.json: 100%"
      }
     },
     "bbf18aacb0924df1ba091fb366cc9306": {
      "model_module": "@jupyter-widgets/controls",
      "model_module_version": "2.0.0",
      "model_name": "HTMLStyleModel",
      "state": {
       "_model_module": "@jupyter-widgets/controls",
       "_model_module_version": "2.0.0",
       "_model_name": "HTMLStyleModel",
       "_view_count": null,
       "_view_module": "@jupyter-widgets/base",
       "_view_module_version": "2.0.0",
       "_view_name": "StyleView",
       "background": null,
       "description_width": "",
       "font_size": null,
       "text_color": null
      }
     },
     "bd031bedaeb8479bb888d2b59dcff7df": {
      "model_module": "@jupyter-widgets/controls",
      "model_module_version": "2.0.0",
      "model_name": "HTMLModel",
      "state": {
       "_dom_classes": [],
       "_model_module": "@jupyter-widgets/controls",
       "_model_module_version": "2.0.0",
       "_model_name": "HTMLModel",
       "_view_count": null,
       "_view_module": "@jupyter-widgets/controls",
       "_view_module_version": "2.0.0",
       "_view_name": "HTMLView",
       "description": "",
       "description_allow_html": false,
       "layout": "IPY_MODEL_63a629f1e15c44b29ce94e9ad2ea95ac",
       "placeholder": "​",
       "style": "IPY_MODEL_699eecf74f9a46d3a0fa490b2792c080",
       "tabbable": null,
       "tooltip": null,
       "value": " 378M/378M [00:02&lt;00:00, 154MB/s]"
      }
     },
     "be9e92b854d34cf28e3a05725af505e5": {
      "model_module": "@jupyter-widgets/controls",
      "model_module_version": "2.0.0",
      "model_name": "HTMLStyleModel",
      "state": {
       "_model_module": "@jupyter-widgets/controls",
       "_model_module_version": "2.0.0",
       "_model_name": "HTMLStyleModel",
       "_view_count": null,
       "_view_module": "@jupyter-widgets/base",
       "_view_module_version": "2.0.0",
       "_view_name": "StyleView",
       "background": null,
       "description_width": "",
       "font_size": null,
       "text_color": null
      }
     },
     "c16b3afa0b2b4dc39aba2918b03803c6": {
      "model_module": "@jupyter-widgets/base",
      "model_module_version": "2.0.0",
      "model_name": "LayoutModel",
      "state": {
       "_model_module": "@jupyter-widgets/base",
       "_model_module_version": "2.0.0",
       "_model_name": "LayoutModel",
       "_view_count": null,
       "_view_module": "@jupyter-widgets/base",
       "_view_module_version": "2.0.0",
       "_view_name": "LayoutView",
       "align_content": null,
       "align_items": null,
       "align_self": null,
       "border_bottom": null,
       "border_left": null,
       "border_right": null,
       "border_top": null,
       "bottom": null,
       "display": null,
       "flex": null,
       "flex_flow": null,
       "grid_area": null,
       "grid_auto_columns": null,
       "grid_auto_flow": null,
       "grid_auto_rows": null,
       "grid_column": null,
       "grid_gap": null,
       "grid_row": null,
       "grid_template_areas": null,
       "grid_template_columns": null,
       "grid_template_rows": null,
       "height": null,
       "justify_content": null,
       "justify_items": null,
       "left": null,
       "margin": null,
       "max_height": null,
       "max_width": null,
       "min_height": null,
       "min_width": null,
       "object_fit": null,
       "object_position": null,
       "order": null,
       "overflow": null,
       "padding": null,
       "right": null,
       "top": null,
       "visibility": null,
       "width": null
      }
     },
     "c665c9d1cc264512bff12f003ce4b4ab": {
      "model_module": "@jupyter-widgets/base",
      "model_module_version": "2.0.0",
      "model_name": "LayoutModel",
      "state": {
       "_model_module": "@jupyter-widgets/base",
       "_model_module_version": "2.0.0",
       "_model_name": "LayoutModel",
       "_view_count": null,
       "_view_module": "@jupyter-widgets/base",
       "_view_module_version": "2.0.0",
       "_view_name": "LayoutView",
       "align_content": null,
       "align_items": null,
       "align_self": null,
       "border_bottom": null,
       "border_left": null,
       "border_right": null,
       "border_top": null,
       "bottom": null,
       "display": null,
       "flex": null,
       "flex_flow": null,
       "grid_area": null,
       "grid_auto_columns": null,
       "grid_auto_flow": null,
       "grid_auto_rows": null,
       "grid_column": null,
       "grid_gap": null,
       "grid_row": null,
       "grid_template_areas": null,
       "grid_template_columns": null,
       "grid_template_rows": null,
       "height": null,
       "justify_content": null,
       "justify_items": null,
       "left": null,
       "margin": null,
       "max_height": null,
       "max_width": null,
       "min_height": null,
       "min_width": null,
       "object_fit": null,
       "object_position": null,
       "order": null,
       "overflow": null,
       "padding": null,
       "right": null,
       "top": null,
       "visibility": null,
       "width": null
      }
     },
     "d347fad0d53e4e04b5c61628baed18d9": {
      "model_module": "@jupyter-widgets/controls",
      "model_module_version": "2.0.0",
      "model_name": "ProgressStyleModel",
      "state": {
       "_model_module": "@jupyter-widgets/controls",
       "_model_module_version": "2.0.0",
       "_model_name": "ProgressStyleModel",
       "_view_count": null,
       "_view_module": "@jupyter-widgets/base",
       "_view_module_version": "2.0.0",
       "_view_name": "StyleView",
       "bar_color": null,
       "description_width": ""
      }
     },
     "d954c158d7e84eb3a389ba513b02d396": {
      "model_module": "@jupyter-widgets/base",
      "model_module_version": "2.0.0",
      "model_name": "LayoutModel",
      "state": {
       "_model_module": "@jupyter-widgets/base",
       "_model_module_version": "2.0.0",
       "_model_name": "LayoutModel",
       "_view_count": null,
       "_view_module": "@jupyter-widgets/base",
       "_view_module_version": "2.0.0",
       "_view_name": "LayoutView",
       "align_content": null,
       "align_items": null,
       "align_self": null,
       "border_bottom": null,
       "border_left": null,
       "border_right": null,
       "border_top": null,
       "bottom": null,
       "display": null,
       "flex": null,
       "flex_flow": null,
       "grid_area": null,
       "grid_auto_columns": null,
       "grid_auto_flow": null,
       "grid_auto_rows": null,
       "grid_column": null,
       "grid_gap": null,
       "grid_row": null,
       "grid_template_areas": null,
       "grid_template_columns": null,
       "grid_template_rows": null,
       "height": null,
       "justify_content": null,
       "justify_items": null,
       "left": null,
       "margin": null,
       "max_height": null,
       "max_width": null,
       "min_height": null,
       "min_width": null,
       "object_fit": null,
       "object_position": null,
       "order": null,
       "overflow": null,
       "padding": null,
       "right": null,
       "top": null,
       "visibility": null,
       "width": null
      }
     },
     "d956270f0d2a44de82654dfc26ee0fbf": {
      "model_module": "@jupyter-widgets/controls",
      "model_module_version": "2.0.0",
      "model_name": "HBoxModel",
      "state": {
       "_dom_classes": [],
       "_model_module": "@jupyter-widgets/controls",
       "_model_module_version": "2.0.0",
       "_model_name": "HBoxModel",
       "_view_count": null,
       "_view_module": "@jupyter-widgets/controls",
       "_view_module_version": "2.0.0",
       "_view_name": "HBoxView",
       "box_style": "",
       "children": [
        "IPY_MODEL_a8856b85824c402ea0247efbf02c63a6",
        "IPY_MODEL_b9b3bcb421e14a98a8e26004422dbddb",
        "IPY_MODEL_41ebfed530a5453683f486bc23d643a9"
       ],
       "layout": "IPY_MODEL_31b5fc213ac64e9d8c5888af92aa4c9b",
       "tabbable": null,
       "tooltip": null
      }
     },
     "db7c757112d94ac688657489b5f2f5ad": {
      "model_module": "@jupyter-widgets/controls",
      "model_module_version": "2.0.0",
      "model_name": "HBoxModel",
      "state": {
       "_dom_classes": [],
       "_model_module": "@jupyter-widgets/controls",
       "_model_module_version": "2.0.0",
       "_model_name": "HBoxModel",
       "_view_count": null,
       "_view_module": "@jupyter-widgets/controls",
       "_view_module_version": "2.0.0",
       "_view_name": "HBoxView",
       "box_style": "",
       "children": [
        "IPY_MODEL_bbe53978bcd34fc5ad88a34119e82fa0",
        "IPY_MODEL_1d14a0a15903482f977685a507dca81f",
        "IPY_MODEL_f50386c0bedb4101b5a6930e1cfde892"
       ],
       "layout": "IPY_MODEL_39d97b0bb4c845368a25b1b8c055bc16",
       "tabbable": null,
       "tooltip": null
      }
     },
     "dbdc4e8427694f9091a55315ccdc46d7": {
      "model_module": "@jupyter-widgets/controls",
      "model_module_version": "2.0.0",
      "model_name": "HTMLModel",
      "state": {
       "_dom_classes": [],
       "_model_module": "@jupyter-widgets/controls",
       "_model_module_version": "2.0.0",
       "_model_name": "HTMLModel",
       "_view_count": null,
       "_view_module": "@jupyter-widgets/controls",
       "_view_module_version": "2.0.0",
       "_view_name": "HTMLView",
       "description": "",
       "description_allow_html": false,
       "layout": "IPY_MODEL_b6d43ff54d894558b78ba37426d5fcb5",
       "placeholder": "​",
       "style": "IPY_MODEL_4fec3fad133642efb0161d16a155f6e5",
       "tabbable": null,
       "tooltip": null,
       "value": "Map: 100%"
      }
     },
     "dd23adcbd33c46aeb97b702b104083c1": {
      "model_module": "@jupyter-widgets/base",
      "model_module_version": "2.0.0",
      "model_name": "LayoutModel",
      "state": {
       "_model_module": "@jupyter-widgets/base",
       "_model_module_version": "2.0.0",
       "_model_name": "LayoutModel",
       "_view_count": null,
       "_view_module": "@jupyter-widgets/base",
       "_view_module_version": "2.0.0",
       "_view_name": "LayoutView",
       "align_content": null,
       "align_items": null,
       "align_self": null,
       "border_bottom": null,
       "border_left": null,
       "border_right": null,
       "border_top": null,
       "bottom": null,
       "display": null,
       "flex": null,
       "flex_flow": null,
       "grid_area": null,
       "grid_auto_columns": null,
       "grid_auto_flow": null,
       "grid_auto_rows": null,
       "grid_column": null,
       "grid_gap": null,
       "grid_row": null,
       "grid_template_areas": null,
       "grid_template_columns": null,
       "grid_template_rows": null,
       "height": null,
       "justify_content": null,
       "justify_items": null,
       "left": null,
       "margin": null,
       "max_height": null,
       "max_width": null,
       "min_height": null,
       "min_width": null,
       "object_fit": null,
       "object_position": null,
       "order": null,
       "overflow": null,
       "padding": null,
       "right": null,
       "top": null,
       "visibility": null,
       "width": null
      }
     },
     "dddfae3419744d62a3a0b142c85cd8e8": {
      "model_module": "@jupyter-widgets/controls",
      "model_module_version": "2.0.0",
      "model_name": "HTMLStyleModel",
      "state": {
       "_model_module": "@jupyter-widgets/controls",
       "_model_module_version": "2.0.0",
       "_model_name": "HTMLStyleModel",
       "_view_count": null,
       "_view_module": "@jupyter-widgets/base",
       "_view_module_version": "2.0.0",
       "_view_name": "StyleView",
       "background": null,
       "description_width": "",
       "font_size": null,
       "text_color": null
      }
     },
     "e0e5a6a01dde4a498696da283be38be1": {
      "model_module": "@jupyter-widgets/base",
      "model_module_version": "2.0.0",
      "model_name": "LayoutModel",
      "state": {
       "_model_module": "@jupyter-widgets/base",
       "_model_module_version": "2.0.0",
       "_model_name": "LayoutModel",
       "_view_count": null,
       "_view_module": "@jupyter-widgets/base",
       "_view_module_version": "2.0.0",
       "_view_name": "LayoutView",
       "align_content": null,
       "align_items": null,
       "align_self": null,
       "border_bottom": null,
       "border_left": null,
       "border_right": null,
       "border_top": null,
       "bottom": null,
       "display": null,
       "flex": null,
       "flex_flow": null,
       "grid_area": null,
       "grid_auto_columns": null,
       "grid_auto_flow": null,
       "grid_auto_rows": null,
       "grid_column": null,
       "grid_gap": null,
       "grid_row": null,
       "grid_template_areas": null,
       "grid_template_columns": null,
       "grid_template_rows": null,
       "height": null,
       "justify_content": null,
       "justify_items": null,
       "left": null,
       "margin": null,
       "max_height": null,
       "max_width": null,
       "min_height": null,
       "min_width": null,
       "object_fit": null,
       "object_position": null,
       "order": null,
       "overflow": null,
       "padding": null,
       "right": null,
       "top": null,
       "visibility": null,
       "width": null
      }
     },
     "e2febde4e17142dc903861d41af9933f": {
      "model_module": "@jupyter-widgets/controls",
      "model_module_version": "2.0.0",
      "model_name": "HTMLStyleModel",
      "state": {
       "_model_module": "@jupyter-widgets/controls",
       "_model_module_version": "2.0.0",
       "_model_name": "HTMLStyleModel",
       "_view_count": null,
       "_view_module": "@jupyter-widgets/base",
       "_view_module_version": "2.0.0",
       "_view_name": "StyleView",
       "background": null,
       "description_width": "",
       "font_size": null,
       "text_color": null
      }
     },
     "e732345f2b9d47e6aa3629dfdc6ba991": {
      "model_module": "@jupyter-widgets/controls",
      "model_module_version": "2.0.0",
      "model_name": "HTMLStyleModel",
      "state": {
       "_model_module": "@jupyter-widgets/controls",
       "_model_module_version": "2.0.0",
       "_model_name": "HTMLStyleModel",
       "_view_count": null,
       "_view_module": "@jupyter-widgets/base",
       "_view_module_version": "2.0.0",
       "_view_name": "StyleView",
       "background": null,
       "description_width": "",
       "font_size": null,
       "text_color": null
      }
     },
     "e8c2b20bd68b401ca6d41b819729e6f1": {
      "model_module": "@jupyter-widgets/controls",
      "model_module_version": "2.0.0",
      "model_name": "HTMLStyleModel",
      "state": {
       "_model_module": "@jupyter-widgets/controls",
       "_model_module_version": "2.0.0",
       "_model_name": "HTMLStyleModel",
       "_view_count": null,
       "_view_module": "@jupyter-widgets/base",
       "_view_module_version": "2.0.0",
       "_view_name": "StyleView",
       "background": null,
       "description_width": "",
       "font_size": null,
       "text_color": null
      }
     },
     "ed2967b5c30749829d771410b16eccb1": {
      "model_module": "@jupyter-widgets/controls",
      "model_module_version": "2.0.0",
      "model_name": "HTMLStyleModel",
      "state": {
       "_model_module": "@jupyter-widgets/controls",
       "_model_module_version": "2.0.0",
       "_model_name": "HTMLStyleModel",
       "_view_count": null,
       "_view_module": "@jupyter-widgets/base",
       "_view_module_version": "2.0.0",
       "_view_name": "StyleView",
       "background": null,
       "description_width": "",
       "font_size": null,
       "text_color": null
      }
     },
     "eff437ac80004367b977ff014e46a569": {
      "model_module": "@jupyter-widgets/controls",
      "model_module_version": "2.0.0",
      "model_name": "ProgressStyleModel",
      "state": {
       "_model_module": "@jupyter-widgets/controls",
       "_model_module_version": "2.0.0",
       "_model_name": "ProgressStyleModel",
       "_view_count": null,
       "_view_module": "@jupyter-widgets/base",
       "_view_module_version": "2.0.0",
       "_view_name": "StyleView",
       "bar_color": null,
       "description_width": ""
      }
     },
     "f1b5ba6ffeb349e1bc7309a4fec6d962": {
      "model_module": "@jupyter-widgets/controls",
      "model_module_version": "2.0.0",
      "model_name": "HTMLModel",
      "state": {
       "_dom_classes": [],
       "_model_module": "@jupyter-widgets/controls",
       "_model_module_version": "2.0.0",
       "_model_name": "HTMLModel",
       "_view_count": null,
       "_view_module": "@jupyter-widgets/controls",
       "_view_module_version": "2.0.0",
       "_view_name": "HTMLView",
       "description": "",
       "description_allow_html": false,
       "layout": "IPY_MODEL_89a4616a74df49b8aa7a00ce540c987f",
       "placeholder": "​",
       "style": "IPY_MODEL_e2febde4e17142dc903861d41af9933f",
       "tabbable": null,
       "tooltip": null,
       "value": "Map: 100%"
      }
     },
     "f2971f29a9784f99ae31a0485785839b": {
      "model_module": "@jupyter-widgets/controls",
      "model_module_version": "2.0.0",
      "model_name": "HTMLModel",
      "state": {
       "_dom_classes": [],
       "_model_module": "@jupyter-widgets/controls",
       "_model_module_version": "2.0.0",
       "_model_name": "HTMLModel",
       "_view_count": null,
       "_view_module": "@jupyter-widgets/controls",
       "_view_module_version": "2.0.0",
       "_view_name": "HTMLView",
       "description": "",
       "description_allow_html": false,
       "layout": "IPY_MODEL_944ad176f72b4b64aabc6b0f2fbce5e6",
       "placeholder": "​",
       "style": "IPY_MODEL_771a519bf8274908bd012ceed867b098",
       "tabbable": null,
       "tooltip": null,
       "value": " 1686/1686 [00:10&lt;00:00, 167.79 examples/s]"
      }
     },
     "f50386c0bedb4101b5a6930e1cfde892": {
      "model_module": "@jupyter-widgets/controls",
      "model_module_version": "2.0.0",
      "model_name": "HTMLModel",
      "state": {
       "_dom_classes": [],
       "_model_module": "@jupyter-widgets/controls",
       "_model_module_version": "2.0.0",
       "_model_name": "HTMLModel",
       "_view_count": null,
       "_view_module": "@jupyter-widgets/controls",
       "_view_module_version": "2.0.0",
       "_view_name": "HTMLView",
       "description": "",
       "description_allow_html": false,
       "layout": "IPY_MODEL_a9a57bddc29e40309f2aa70a2dcf5662",
       "placeholder": "​",
       "style": "IPY_MODEL_e8c2b20bd68b401ca6d41b819729e6f1",
       "tabbable": null,
       "tooltip": null,
       "value": " 1.65k/1.65k [00:00&lt;00:00, 198kB/s]"
      }
     },
     "f579ed5d791b42b69a9c0cce1d3475e7": {
      "model_module": "@jupyter-widgets/base",
      "model_module_version": "2.0.0",
      "model_name": "LayoutModel",
      "state": {
       "_model_module": "@jupyter-widgets/base",
       "_model_module_version": "2.0.0",
       "_model_name": "LayoutModel",
       "_view_count": null,
       "_view_module": "@jupyter-widgets/base",
       "_view_module_version": "2.0.0",
       "_view_name": "LayoutView",
       "align_content": null,
       "align_items": null,
       "align_self": null,
       "border_bottom": null,
       "border_left": null,
       "border_right": null,
       "border_top": null,
       "bottom": null,
       "display": null,
       "flex": null,
       "flex_flow": null,
       "grid_area": null,
       "grid_auto_columns": null,
       "grid_auto_flow": null,
       "grid_auto_rows": null,
       "grid_column": null,
       "grid_gap": null,
       "grid_row": null,
       "grid_template_areas": null,
       "grid_template_columns": null,
       "grid_template_rows": null,
       "height": null,
       "justify_content": null,
       "justify_items": null,
       "left": null,
       "margin": null,
       "max_height": null,
       "max_width": null,
       "min_height": null,
       "min_width": null,
       "object_fit": null,
       "object_position": null,
       "order": null,
       "overflow": null,
       "padding": null,
       "right": null,
       "top": null,
       "visibility": null,
       "width": null
      }
     },
     "f8b20caf9d8f48f4b489bfd314dbbe3c": {
      "model_module": "@jupyter-widgets/controls",
      "model_module_version": "2.0.0",
      "model_name": "ProgressStyleModel",
      "state": {
       "_model_module": "@jupyter-widgets/controls",
       "_model_module_version": "2.0.0",
       "_model_name": "ProgressStyleModel",
       "_view_count": null,
       "_view_module": "@jupyter-widgets/base",
       "_view_module_version": "2.0.0",
       "_view_name": "StyleView",
       "bar_color": null,
       "description_width": ""
      }
     },
     "f9bc04eefd19405f9550e3fc653b9ee3": {
      "model_module": "@jupyter-widgets/base",
      "model_module_version": "2.0.0",
      "model_name": "LayoutModel",
      "state": {
       "_model_module": "@jupyter-widgets/base",
       "_model_module_version": "2.0.0",
       "_model_name": "LayoutModel",
       "_view_count": null,
       "_view_module": "@jupyter-widgets/base",
       "_view_module_version": "2.0.0",
       "_view_name": "LayoutView",
       "align_content": null,
       "align_items": null,
       "align_self": null,
       "border_bottom": null,
       "border_left": null,
       "border_right": null,
       "border_top": null,
       "bottom": null,
       "display": null,
       "flex": null,
       "flex_flow": null,
       "grid_area": null,
       "grid_auto_columns": null,
       "grid_auto_flow": null,
       "grid_auto_rows": null,
       "grid_column": null,
       "grid_gap": null,
       "grid_row": null,
       "grid_template_areas": null,
       "grid_template_columns": null,
       "grid_template_rows": null,
       "height": null,
       "justify_content": null,
       "justify_items": null,
       "left": null,
       "margin": null,
       "max_height": null,
       "max_width": null,
       "min_height": null,
       "min_width": null,
       "object_fit": null,
       "object_position": null,
       "order": null,
       "overflow": null,
       "padding": null,
       "right": null,
       "top": null,
       "visibility": null,
       "width": null
      }
     },
     "fc9f21ebefb949aabf45a956275c0985": {
      "model_module": "@jupyter-widgets/controls",
      "model_module_version": "2.0.0",
      "model_name": "ProgressStyleModel",
      "state": {
       "_model_module": "@jupyter-widgets/controls",
       "_model_module_version": "2.0.0",
       "_model_name": "ProgressStyleModel",
       "_view_count": null,
       "_view_module": "@jupyter-widgets/base",
       "_view_module_version": "2.0.0",
       "_view_name": "StyleView",
       "bar_color": null,
       "description_width": ""
      }
     },
     "fefb604c990e43919afb6d68b21dc2fc": {
      "model_module": "@jupyter-widgets/base",
      "model_module_version": "2.0.0",
      "model_name": "LayoutModel",
      "state": {
       "_model_module": "@jupyter-widgets/base",
       "_model_module_version": "2.0.0",
       "_model_name": "LayoutModel",
       "_view_count": null,
       "_view_module": "@jupyter-widgets/base",
       "_view_module_version": "2.0.0",
       "_view_name": "LayoutView",
       "align_content": null,
       "align_items": null,
       "align_self": null,
       "border_bottom": null,
       "border_left": null,
       "border_right": null,
       "border_top": null,
       "bottom": null,
       "display": null,
       "flex": null,
       "flex_flow": null,
       "grid_area": null,
       "grid_auto_columns": null,
       "grid_auto_flow": null,
       "grid_auto_rows": null,
       "grid_column": null,
       "grid_gap": null,
       "grid_row": null,
       "grid_template_areas": null,
       "grid_template_columns": null,
       "grid_template_rows": null,
       "height": null,
       "justify_content": null,
       "justify_items": null,
       "left": null,
       "margin": null,
       "max_height": null,
       "max_width": null,
       "min_height": null,
       "min_width": null,
       "object_fit": null,
       "object_position": null,
       "order": null,
       "overflow": null,
       "padding": null,
       "right": null,
       "top": null,
       "visibility": null,
       "width": null
      }
     }
    },
    "version_major": 2,
    "version_minor": 0
   }
  }
 },
 "nbformat": 4,
 "nbformat_minor": 5
}
